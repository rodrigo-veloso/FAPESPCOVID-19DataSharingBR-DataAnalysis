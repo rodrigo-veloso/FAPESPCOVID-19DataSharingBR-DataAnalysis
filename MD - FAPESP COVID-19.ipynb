{
 "cells": [
  {
   "cell_type": "code",
   "execution_count": 253,
   "metadata": {
    "executionInfo": {
     "elapsed": 1279,
     "status": "ok",
     "timestamp": 1606156684694,
     "user": {
      "displayName": "Leonardo Thurler",
      "photoUrl": "https://lh3.googleusercontent.com/a-/AOh14GhsXo-6tUwaShHAHh9mhAKCPxko9amceCKxJCpFkg=s64",
      "userId": "06725283277410010839"
     },
     "user_tz": 180
    },
    "id": "MaaJi_8mtT0O"
   },
   "outputs": [],
   "source": [
    "import numpy as np\n",
    "import pandas as pd\n",
    "import seaborn as sns\n",
    "import matplotlib as mpl\n",
    "import matplotlib.pyplot as plt\n",
    "import random"
   ]
  },
  {
   "cell_type": "markdown",
   "metadata": {
    "id": "8pAbXfFz4H-l"
   },
   "source": [
    "#Transformação de dados#"
   ]
  },
  {
   "cell_type": "markdown",
   "metadata": {
    "id": "5uRa1W8p2E2K"
   },
   "source": [
    "##Base Desfechos##"
   ]
  },
  {
   "cell_type": "markdown",
   "metadata": {
    "id": "Ax5X6WyfEY40"
   },
   "source": [
    "Leitura da base"
   ]
  },
  {
   "cell_type": "code",
   "execution_count": 41,
   "metadata": {
    "executionInfo": {
     "elapsed": 1329,
     "status": "ok",
     "timestamp": 1606156843873,
     "user": {
      "displayName": "Leonardo Thurler",
      "photoUrl": "https://lh3.googleusercontent.com/a-/AOh14GhsXo-6tUwaShHAHh9mhAKCPxko9amceCKxJCpFkg=s64",
      "userId": "06725283277410010839"
     },
     "user_tz": 180
    },
    "id": "MXFpJc5uEV6a"
   },
   "outputs": [],
   "source": [
    "df=pd.read_csv('HSL_Desfechos_2.csv',sep='|')"
   ]
  },
  {
   "cell_type": "markdown",
   "metadata": {
    "id": "TbkctQ1PEeV8"
   },
   "source": [
    "Como o ID da clínica e do atendimento não tem relação nenhuma com as doenças, foram descartadas"
   ]
  },
  {
   "cell_type": "code",
   "execution_count": 42,
   "metadata": {
    "colab": {
     "base_uri": "https://localhost:8080/",
     "height": 0
    },
    "executionInfo": {
     "elapsed": 1979,
     "status": "ok",
     "timestamp": 1606156844540,
     "user": {
      "displayName": "Leonardo Thurler",
      "photoUrl": "https://lh3.googleusercontent.com/a-/AOh14GhsXo-6tUwaShHAHh9mhAKCPxko9amceCKxJCpFkg=s64",
      "userId": "06725283277410010839"
     },
     "user_tz": 180
    },
    "id": "Lz7NJyByorrM",
    "outputId": "891bcf64-44f1-4413-c6be-ecaaa7f33df2"
   },
   "outputs": [
    {
     "data": {
      "text/html": [
       "<div>\n",
       "<style scoped>\n",
       "    .dataframe tbody tr th:only-of-type {\n",
       "        vertical-align: middle;\n",
       "    }\n",
       "\n",
       "    .dataframe tbody tr th {\n",
       "        vertical-align: top;\n",
       "    }\n",
       "\n",
       "    .dataframe thead th {\n",
       "        text-align: right;\n",
       "    }\n",
       "</style>\n",
       "<table border=\"1\" class=\"dataframe\">\n",
       "  <thead>\n",
       "    <tr style=\"text-align: right;\">\n",
       "      <th></th>\n",
       "      <th>id_paciente</th>\n",
       "      <th>id_atendimento</th>\n",
       "      <th>dt_atendimento</th>\n",
       "      <th>de_tipo_atendimento</th>\n",
       "      <th>id_clinica</th>\n",
       "      <th>de_clinica</th>\n",
       "      <th>dt_desfecho</th>\n",
       "      <th>de_desfecho</th>\n",
       "    </tr>\n",
       "  </thead>\n",
       "  <tbody>\n",
       "    <tr>\n",
       "      <th>0</th>\n",
       "      <td>3487791F44C34B421C932DC8616A8437</td>\n",
       "      <td>33277D918111011E48FABCD6FC09012B</td>\n",
       "      <td>2020-07-08</td>\n",
       "      <td>Pronto Atendimento</td>\n",
       "      <td>6</td>\n",
       "      <td>Ortopedia</td>\n",
       "      <td>2020-07-08</td>\n",
       "      <td>Alta médica melhorado</td>\n",
       "    </tr>\n",
       "    <tr>\n",
       "      <th>1</th>\n",
       "      <td>3487791F44C34B421C932DC8616A8437</td>\n",
       "      <td>2DF164AD7E51B0A2F52B6DB58F904A22</td>\n",
       "      <td>2020-05-08</td>\n",
       "      <td>Externo</td>\n",
       "      <td>20</td>\n",
       "      <td>Procedimentos</td>\n",
       "      <td>2020-05-08</td>\n",
       "      <td>Alta Administrativa</td>\n",
       "    </tr>\n",
       "    <tr>\n",
       "      <th>2</th>\n",
       "      <td>3487791F44C34B421C932DC8616A8437</td>\n",
       "      <td>11676CFEEF6A4CDD49B0A74D3F3A85EC</td>\n",
       "      <td>2020-05-25</td>\n",
       "      <td>Externo</td>\n",
       "      <td>20</td>\n",
       "      <td>Procedimentos</td>\n",
       "      <td>2020-05-25</td>\n",
       "      <td>Alta Administrativa</td>\n",
       "    </tr>\n",
       "    <tr>\n",
       "      <th>3</th>\n",
       "      <td>0AD1FFA4419472256666A3445414F1F9</td>\n",
       "      <td>70A834FEFF3562FCBA3888D592DA2609</td>\n",
       "      <td>2020-03-16</td>\n",
       "      <td>Externo</td>\n",
       "      <td>20</td>\n",
       "      <td>Procedimentos</td>\n",
       "      <td>2020-03-16</td>\n",
       "      <td>Alta Administrativa</td>\n",
       "    </tr>\n",
       "    <tr>\n",
       "      <th>4</th>\n",
       "      <td>3487791F44C34B421C932DC8616A8437</td>\n",
       "      <td>A3F017D035922D728E06B744511A6797</td>\n",
       "      <td>2020-05-11</td>\n",
       "      <td>Pronto Atendimento</td>\n",
       "      <td>42</td>\n",
       "      <td>CL Médica Síndromes Virais</td>\n",
       "      <td>2020-05-11</td>\n",
       "      <td>Alta médica melhorado</td>\n",
       "    </tr>\n",
       "  </tbody>\n",
       "</table>\n",
       "</div>"
      ],
      "text/plain": [
       "                        id_paciente  ...            de_desfecho\n",
       "0  3487791F44C34B421C932DC8616A8437  ...  Alta médica melhorado\n",
       "1  3487791F44C34B421C932DC8616A8437  ...    Alta Administrativa\n",
       "2  3487791F44C34B421C932DC8616A8437  ...    Alta Administrativa\n",
       "3  0AD1FFA4419472256666A3445414F1F9  ...    Alta Administrativa\n",
       "4  3487791F44C34B421C932DC8616A8437  ...  Alta médica melhorado\n",
       "\n",
       "[5 rows x 8 columns]"
      ]
     },
     "execution_count": 42,
     "metadata": {
      "tags": []
     },
     "output_type": "execute_result"
    }
   ],
   "source": [
    "df.head()"
   ]
  },
  {
   "cell_type": "code",
   "execution_count": 43,
   "metadata": {
    "colab": {
     "base_uri": "https://localhost:8080/"
    },
    "executionInfo": {
     "elapsed": 1968,
     "status": "ok",
     "timestamp": 1606156844541,
     "user": {
      "displayName": "Leonardo Thurler",
      "photoUrl": "https://lh3.googleusercontent.com/a-/AOh14GhsXo-6tUwaShHAHh9mhAKCPxko9amceCKxJCpFkg=s64",
      "userId": "06725283277410010839"
     },
     "user_tz": 180
    },
    "id": "HOnG7FbTCaGA",
    "outputId": "93ebe93f-9d15-483a-d3e7-f9649e8d6aab"
   },
   "outputs": [
    {
     "data": {
      "text/plain": [
       "array(['Alta médica melhorado', 'Alta Administrativa', nan,\n",
       "       'Alta a pedido', 'Desistência do atendimento',\n",
       "       'Alta médica Inalterado',\n",
       "       'Óbito após 48hs de internação sem necrópsia',\n",
       "       'Alta médica curado',\n",
       "       'Transferência Inter-Hospitalar Externa - Serviço de Ambulância',\n",
       "       'Alta por abandono',\n",
       "       'Transferência Inter-Hospitalar Externa - Transporte Próprio',\n",
       "       'Assistência Domiciliar',\n",
       "       'Óbito nas primeiras 48hs de internação sem necrópsia não agônico'],\n",
       "      dtype=object)"
      ]
     },
     "execution_count": 43,
     "metadata": {
      "tags": []
     },
     "output_type": "execute_result"
    }
   ],
   "source": [
    "df['de_desfecho'].unique()"
   ]
  },
  {
   "cell_type": "code",
   "execution_count": 44,
   "metadata": {
    "executionInfo": {
     "elapsed": 1961,
     "status": "ok",
     "timestamp": 1606156844543,
     "user": {
      "displayName": "Leonardo Thurler",
      "photoUrl": "https://lh3.googleusercontent.com/a-/AOh14GhsXo-6tUwaShHAHh9mhAKCPxko9amceCKxJCpFkg=s64",
      "userId": "06725283277410010839"
     },
     "user_tz": 180
    },
    "id": "pD8GFbvXEqi5"
   },
   "outputs": [],
   "source": [
    "desfechos = df.drop(['id_clinica','id_atendimento'],axis=1)"
   ]
  },
  {
   "cell_type": "markdown",
   "metadata": {
    "id": "nlZUuww8FWik"
   },
   "source": [
    "Para facilitar iremos considerar apenas dois desfechos, óbito e alta. Para isso, descartamos os demais tipos"
   ]
  },
  {
   "cell_type": "code",
   "execution_count": 45,
   "metadata": {
    "executionInfo": {
     "elapsed": 1953,
     "status": "ok",
     "timestamp": 1606156844545,
     "user": {
      "displayName": "Leonardo Thurler",
      "photoUrl": "https://lh3.googleusercontent.com/a-/AOh14GhsXo-6tUwaShHAHh9mhAKCPxko9amceCKxJCpFkg=s64",
      "userId": "06725283277410010839"
     },
     "user_tz": 180
    },
    "id": "RM_5lggzFjUx"
   },
   "outputs": [],
   "source": [
    "desfechos=desfechos[desfechos['de_desfecho']!='Transferência Inter-Hospitalar Externa - Serviço de Ambulância']\n",
    "desfechos=desfechos[desfechos['de_desfecho']!='Transferência Inter-Hospitalar Externa - Transporte Próprio']\n",
    "desfechos=desfechos[desfechos['de_desfecho']!='Desistência do atendimento']\n",
    "desfechos=desfechos[desfechos['de_desfecho']!='Assistência Domiciliar']\n",
    "desfechos=desfechos[desfechos['de_desfecho']!='Alta por abandono']\n",
    "desfechos=desfechos[desfechos['de_desfecho']!='Alta a pedido']"
   ]
  },
  {
   "cell_type": "markdown",
   "metadata": {
    "id": "fatxyykPE7ou"
   },
   "source": [
    "Visualização dos desfechos restantes"
   ]
  },
  {
   "cell_type": "code",
   "execution_count": 46,
   "metadata": {
    "colab": {
     "base_uri": "https://localhost:8080/"
    },
    "executionInfo": {
     "elapsed": 1943,
     "status": "ok",
     "timestamp": 1606156844546,
     "user": {
      "displayName": "Leonardo Thurler",
      "photoUrl": "https://lh3.googleusercontent.com/a-/AOh14GhsXo-6tUwaShHAHh9mhAKCPxko9amceCKxJCpFkg=s64",
      "userId": "06725283277410010839"
     },
     "user_tz": 180
    },
    "id": "8XAYxDYNE5Uv",
    "outputId": "8cdd8201-9eeb-458c-8009-d3faf31eae17"
   },
   "outputs": [
    {
     "data": {
      "text/plain": [
       "Index(['Alta Administrativa', 'Alta médica Inalterado', 'Alta médica curado',\n",
       "       'Alta médica melhorado', 'Óbito após 48hs de internação sem necrópsia',\n",
       "       'Óbito nas primeiras 48hs de internação sem necrópsia não agônico'],\n",
       "      dtype='object')"
      ]
     },
     "execution_count": 46,
     "metadata": {
      "tags": []
     },
     "output_type": "execute_result"
    }
   ],
   "source": [
    "desfechos['de_desfecho'].astype('category').cat.categories"
   ]
  },
  {
   "cell_type": "markdown",
   "metadata": {
    "id": "ijrNkGi7FIp2"
   },
   "source": [
    "Junção dos tipos de óbito em um único tipo"
   ]
  },
  {
   "cell_type": "code",
   "execution_count": 47,
   "metadata": {
    "colab": {
     "base_uri": "https://localhost:8080/"
    },
    "executionInfo": {
     "elapsed": 1934,
     "status": "ok",
     "timestamp": 1606156844547,
     "user": {
      "displayName": "Leonardo Thurler",
      "photoUrl": "https://lh3.googleusercontent.com/a-/AOh14GhsXo-6tUwaShHAHh9mhAKCPxko9amceCKxJCpFkg=s64",
      "userId": "06725283277410010839"
     },
     "user_tz": 180
    },
    "id": "IdoSQFn1FGci",
    "outputId": "f49c5e85-70ea-4bde-99b3-8b4549cfaf3b"
   },
   "outputs": [
    {
     "name": "stderr",
     "output_type": "stream",
     "text": [
      "/usr/local/lib/python3.6/dist-packages/ipykernel_launcher.py:6: SettingWithCopyWarning: \n",
      "A value is trying to be set on a copy of a slice from a DataFrame.\n",
      "Try using .loc[row_indexer,col_indexer] = value instead\n",
      "\n",
      "See the caveats in the documentation: https://pandas.pydata.org/pandas-docs/stable/user_guide/indexing.html#returning-a-view-versus-a-copy\n",
      "  \n"
     ]
    }
   ],
   "source": [
    "o1 = 'Óbito após 48hs de internação sem necrópsia'\n",
    "o2 = 'Óbito nas primeiras 48hs de internação sem necrópsia não agônico'\n",
    "t1=desfechos['de_desfecho']==o1\n",
    "t2=desfechos['de_desfecho']==o2\n",
    "d1=desfechos[t1|t2]\n",
    "d1['de_desfecho']='O'"
   ]
  },
  {
   "cell_type": "markdown",
   "metadata": {
    "id": "DcIlwjwuFx25"
   },
   "source": [
    "Junção dos tipos de alta em um único tipo"
   ]
  },
  {
   "cell_type": "code",
   "execution_count": 48,
   "metadata": {
    "colab": {
     "base_uri": "https://localhost:8080/"
    },
    "executionInfo": {
     "elapsed": 2450,
     "status": "ok",
     "timestamp": 1606156845073,
     "user": {
      "displayName": "Leonardo Thurler",
      "photoUrl": "https://lh3.googleusercontent.com/a-/AOh14GhsXo-6tUwaShHAHh9mhAKCPxko9amceCKxJCpFkg=s64",
      "userId": "06725283277410010839"
     },
     "user_tz": 180
    },
    "id": "vyPMg20EFv7C",
    "outputId": "9d2fb393-4eee-45bf-d9de-03c2db5cf762"
   },
   "outputs": [
    {
     "name": "stderr",
     "output_type": "stream",
     "text": [
      "/usr/local/lib/python3.6/dist-packages/ipykernel_launcher.py:6: SettingWithCopyWarning: \n",
      "A value is trying to be set on a copy of a slice from a DataFrame.\n",
      "Try using .loc[row_indexer,col_indexer] = value instead\n",
      "\n",
      "See the caveats in the documentation: https://pandas.pydata.org/pandas-docs/stable/user_guide/indexing.html#returning-a-view-versus-a-copy\n",
      "  \n"
     ]
    }
   ],
   "source": [
    "o1 = 'Óbito após 48hs de internação sem necrópsia'\n",
    "o2 = 'Óbito nas primeiras 48hs de internação sem necrópsia não agônico'\n",
    "t1=desfechos['de_desfecho']!=o1\n",
    "t2=desfechos['de_desfecho']!=o2\n",
    "d2=desfechos[t1&t2]\n",
    "d2['de_desfecho']='A'\n",
    "desfechos=pd.concat([d1,d2])"
   ]
  },
  {
   "cell_type": "markdown",
   "metadata": {
    "id": "9ZVEVKKPF-x8"
   },
   "source": [
    "Temos então apenas dois tipos de desfechos"
   ]
  },
  {
   "cell_type": "code",
   "execution_count": 49,
   "metadata": {
    "colab": {
     "base_uri": "https://localhost:8080/"
    },
    "executionInfo": {
     "elapsed": 2441,
     "status": "ok",
     "timestamp": 1606156845073,
     "user": {
      "displayName": "Leonardo Thurler",
      "photoUrl": "https://lh3.googleusercontent.com/a-/AOh14GhsXo-6tUwaShHAHh9mhAKCPxko9amceCKxJCpFkg=s64",
      "userId": "06725283277410010839"
     },
     "user_tz": 180
    },
    "id": "0HqhB_ljGEeG",
    "outputId": "bb4b4785-cfc9-4ee9-d02d-93f26c272582"
   },
   "outputs": [
    {
     "data": {
      "text/plain": [
       "Index(['A', 'O'], dtype='object')"
      ]
     },
     "execution_count": 49,
     "metadata": {
      "tags": []
     },
     "output_type": "execute_result"
    }
   ],
   "source": [
    "desfechos['de_desfecho'].astype('category').cat.categories"
   ]
  },
  {
   "cell_type": "markdown",
   "metadata": {
    "id": "VGmmZ9mKGYnZ"
   },
   "source": [
    "Transformação das datas dos atendimentos em dias contando do início do ano"
   ]
  },
  {
   "cell_type": "code",
   "execution_count": 50,
   "metadata": {
    "executionInfo": {
     "elapsed": 3942,
     "status": "ok",
     "timestamp": 1606156846584,
     "user": {
      "displayName": "Leonardo Thurler",
      "photoUrl": "https://lh3.googleusercontent.com/a-/AOh14GhsXo-6tUwaShHAHh9mhAKCPxko9amceCKxJCpFkg=s64",
      "userId": "06725283277410010839"
     },
     "user_tz": 180
    },
    "id": "3d_x7RdmGgfw"
   },
   "outputs": [],
   "source": [
    "lista=[]\n",
    "for data in desfechos.iloc:\n",
    "    split = data[1].split('-')\n",
    "    dias = (int(split[1])-1)*30+int(split[2])\n",
    "    lista.append(dias)\n",
    "desfechos['dt_atendimento']=lista"
   ]
  },
  {
   "cell_type": "markdown",
   "metadata": {
    "id": "Y2xbcZPWGmIh"
   },
   "source": [
    "Removendo missing values"
   ]
  },
  {
   "cell_type": "code",
   "execution_count": 51,
   "metadata": {
    "executionInfo": {
     "elapsed": 3933,
     "status": "ok",
     "timestamp": 1606156846585,
     "user": {
      "displayName": "Leonardo Thurler",
      "photoUrl": "https://lh3.googleusercontent.com/a-/AOh14GhsXo-6tUwaShHAHh9mhAKCPxko9amceCKxJCpFkg=s64",
      "userId": "06725283277410010839"
     },
     "user_tz": 180
    },
    "id": "xJuYs4cYGseO"
   },
   "outputs": [],
   "source": [
    "desfechos = desfechos[desfechos['dt_desfecho']==desfechos['dt_desfecho']]"
   ]
  },
  {
   "cell_type": "markdown",
   "metadata": {
    "id": "-X9il7KDG1dE"
   },
   "source": [
    "Transformação das datas dos desfechos em dias contando do início do ano"
   ]
  },
  {
   "cell_type": "code",
   "execution_count": 52,
   "metadata": {
    "executionInfo": {
     "elapsed": 6277,
     "status": "ok",
     "timestamp": 1606156848938,
     "user": {
      "displayName": "Leonardo Thurler",
      "photoUrl": "https://lh3.googleusercontent.com/a-/AOh14GhsXo-6tUwaShHAHh9mhAKCPxko9amceCKxJCpFkg=s64",
      "userId": "06725283277410010839"
     },
     "user_tz": 180
    },
    "id": "TCVXwrJXG3Mp"
   },
   "outputs": [],
   "source": [
    "lista=[]\n",
    "for data in desfechos.iloc:\n",
    "    split = data[4].split('-')\n",
    "    dias = (int(split[1])-1)*30+int(split[2])\n",
    "    lista.append(dias)\n",
    "desfechos['dt_desfecho']=lista"
   ]
  },
  {
   "cell_type": "markdown",
   "metadata": {
    "id": "l5Q-JKF_ITqh"
   },
   "source": [
    "Criação de uma coluna para o número de total de atendimentos, inicialmente = 0"
   ]
  },
  {
   "cell_type": "code",
   "execution_count": 53,
   "metadata": {
    "executionInfo": {
     "elapsed": 6267,
     "status": "ok",
     "timestamp": 1606156848939,
     "user": {
      "displayName": "Leonardo Thurler",
      "photoUrl": "https://lh3.googleusercontent.com/a-/AOh14GhsXo-6tUwaShHAHh9mhAKCPxko9amceCKxJCpFkg=s64",
      "userId": "06725283277410010839"
     },
     "user_tz": 180
    },
    "id": "lic319SxIZFB"
   },
   "outputs": [],
   "source": [
    "desfechos['n_atendimentos']=0"
   ]
  },
  {
   "cell_type": "markdown",
   "metadata": {
    "id": "A5ubaaJRHJmd"
   },
   "source": [
    "Criação de uma lista com o ID de cada paciente"
   ]
  },
  {
   "cell_type": "code",
   "execution_count": 54,
   "metadata": {
    "executionInfo": {
     "elapsed": 6258,
     "status": "ok",
     "timestamp": 1606156848939,
     "user": {
      "displayName": "Leonardo Thurler",
      "photoUrl": "https://lh3.googleusercontent.com/a-/AOh14GhsXo-6tUwaShHAHh9mhAKCPxko9amceCKxJCpFkg=s64",
      "userId": "06725283277410010839"
     },
     "user_tz": 180
    },
    "id": "s3QZPVjqHKFE"
   },
   "outputs": [],
   "source": [
    "desfechos_juntos = desfechos.drop_duplicates('id_paciente')\n",
    "unique=desfechos_juntos['id_paciente']"
   ]
  },
  {
   "cell_type": "markdown",
   "metadata": {
    "id": "WRYEpp5rHXIc"
   },
   "source": [
    "Código para juntar as informações de todos os atendimentos de um mesmo ID em uma mesma linha e calcular o número total de atendimentos"
   ]
  },
  {
   "cell_type": "code",
   "execution_count": 55,
   "metadata": {
    "colab": {
     "base_uri": "https://localhost:8080/"
    },
    "executionInfo": {
     "elapsed": 9506,
     "status": "ok",
     "timestamp": 1606156852198,
     "user": {
      "displayName": "Leonardo Thurler",
      "photoUrl": "https://lh3.googleusercontent.com/a-/AOh14GhsXo-6tUwaShHAHh9mhAKCPxko9amceCKxJCpFkg=s64",
      "userId": "06725283277410010839"
     },
     "user_tz": 180
    },
    "id": "mRuOmee5Hczi",
    "outputId": "ed8751b9-d0d7-4154-d4fc-a5a370a8f080"
   },
   "outputs": [
    {
     "name": "stderr",
     "output_type": "stream",
     "text": [
      "/usr/local/lib/python3.6/dist-packages/pandas/core/indexing.py:1743: SettingWithCopyWarning: \n",
      "A value is trying to be set on a copy of a slice from a DataFrame.\n",
      "Try using .loc[row_indexer,col_indexer] = value instead\n",
      "\n",
      "See the caveats in the documentation: https://pandas.pydata.org/pandas-docs/stable/user_guide/indexing.html#returning-a-view-versus-a-copy\n",
      "  isetter(ilocs[0], value)\n"
     ]
    }
   ],
   "source": [
    "dic={}\n",
    "for i,id in enumerate(unique):\n",
    "    dic[id]=i\n",
    "dt_atendimento = ['']*len(unique)\n",
    "total_atendimento = [0]*len(unique)\n",
    "de_tipo_atendimento = ['']*len(unique)\n",
    "de_clinica = ['']*len(unique)\n",
    "dt_desfecho = ['']*len(unique)\n",
    "de_desfecho = ['']*len(unique)\n",
    "for data in desfechos.iloc:\n",
    "    if data[0] in dic:\n",
    "        total_atendimento[dic[data[0]]] += 1\n",
    "        if dt_atendimento[dic[data[0]]] == '':\n",
    "            dt_atendimento[dic[data[0]]]+=str(data[1])\n",
    "            de_tipo_atendimento[dic[data[0]]]+=str(data[2])\n",
    "            de_clinica[dic[data[0]]]+=str(data[3])\n",
    "            dt_desfecho[dic[data[0]]]+=str(data[4])\n",
    "            de_desfecho[dic[data[0]]]+=str(data[5])\n",
    "        else:\n",
    "            dt_atendimento[dic[data[0]]]+=','+str(data[1])\n",
    "            de_tipo_atendimento[dic[data[0]]]+=','+str(data[2])\n",
    "            de_clinica[dic[data[0]]]+=','+str(data[3])\n",
    "            dt_desfecho[dic[data[0]]]+=','+str(data[4])\n",
    "            de_desfecho[dic[data[0]]]+=','+str(data[5])\n",
    "desfechos_juntos.iloc[:,-1]=total_atendimento\n",
    "desfechos_juntos.iloc[:,1]=dt_atendimento\n",
    "desfechos_juntos.iloc[:,2]=de_tipo_atendimento\n",
    "desfechos_juntos.iloc[:,3]=de_clinica\n",
    "desfechos_juntos.iloc[:,4]=dt_desfecho\n",
    "desfechos_juntos.iloc[:,5]=de_desfecho"
   ]
  },
  {
   "cell_type": "markdown",
   "metadata": {
    "id": "PTNQAyoBH2am"
   },
   "source": [
    "visualização do novo dataframe"
   ]
  },
  {
   "cell_type": "code",
   "execution_count": 56,
   "metadata": {
    "executionInfo": {
     "elapsed": 9497,
     "status": "ok",
     "timestamp": 1606156852200,
     "user": {
      "displayName": "Leonardo Thurler",
      "photoUrl": "https://lh3.googleusercontent.com/a-/AOh14GhsXo-6tUwaShHAHh9mhAKCPxko9amceCKxJCpFkg=s64",
      "userId": "06725283277410010839"
     },
     "user_tz": 180
    },
    "id": "hborklWELANm"
   },
   "outputs": [],
   "source": [
    "desfechos_juntos = desfechos_juntos.drop(columns=['de_clinica'])"
   ]
  },
  {
   "cell_type": "code",
   "execution_count": 57,
   "metadata": {
    "colab": {
     "base_uri": "https://localhost:8080/",
     "height": 0
    },
    "executionInfo": {
     "elapsed": 9490,
     "status": "ok",
     "timestamp": 1606156852203,
     "user": {
      "displayName": "Leonardo Thurler",
      "photoUrl": "https://lh3.googleusercontent.com/a-/AOh14GhsXo-6tUwaShHAHh9mhAKCPxko9amceCKxJCpFkg=s64",
      "userId": "06725283277410010839"
     },
     "user_tz": 180
    },
    "id": "tNrlwz71H5gZ",
    "outputId": "0cfc3f30-c6e5-4fa4-efdc-0571ad46634e"
   },
   "outputs": [
    {
     "data": {
      "text/html": [
       "<div>\n",
       "<style scoped>\n",
       "    .dataframe tbody tr th:only-of-type {\n",
       "        vertical-align: middle;\n",
       "    }\n",
       "\n",
       "    .dataframe tbody tr th {\n",
       "        vertical-align: top;\n",
       "    }\n",
       "\n",
       "    .dataframe thead th {\n",
       "        text-align: right;\n",
       "    }\n",
       "</style>\n",
       "<table border=\"1\" class=\"dataframe\">\n",
       "  <thead>\n",
       "    <tr style=\"text-align: right;\">\n",
       "      <th></th>\n",
       "      <th>id_paciente</th>\n",
       "      <th>dt_atendimento</th>\n",
       "      <th>de_tipo_atendimento</th>\n",
       "      <th>dt_desfecho</th>\n",
       "      <th>de_desfecho</th>\n",
       "      <th>n_atendimentos</th>\n",
       "    </tr>\n",
       "  </thead>\n",
       "  <tbody>\n",
       "    <tr>\n",
       "      <th>400</th>\n",
       "      <td>BA74194B979B086198794D1470107709</td>\n",
       "      <td>194</td>\n",
       "      <td>Internado</td>\n",
       "      <td>204</td>\n",
       "      <td>O</td>\n",
       "      <td>1</td>\n",
       "    </tr>\n",
       "    <tr>\n",
       "      <th>511</th>\n",
       "      <td>8D265EED52D2877EC2F75B60FEEC4065</td>\n",
       "      <td>90</td>\n",
       "      <td>Internado</td>\n",
       "      <td>99</td>\n",
       "      <td>O</td>\n",
       "      <td>1</td>\n",
       "    </tr>\n",
       "    <tr>\n",
       "      <th>1070</th>\n",
       "      <td>7B03A278AD0026D4E34D0D84453A3548</td>\n",
       "      <td>103,70</td>\n",
       "      <td>Internado,Externo</td>\n",
       "      <td>131,70</td>\n",
       "      <td>O,A</td>\n",
       "      <td>2</td>\n",
       "    </tr>\n",
       "    <tr>\n",
       "      <th>1373</th>\n",
       "      <td>DE791245DF4FD631AD71B2B307F7835D</td>\n",
       "      <td>121,121</td>\n",
       "      <td>Internado,Pronto Atendimento</td>\n",
       "      <td>132,121</td>\n",
       "      <td>O,A</td>\n",
       "      <td>2</td>\n",
       "    </tr>\n",
       "    <tr>\n",
       "      <th>1803</th>\n",
       "      <td>44DA670729D76F0264E6066E2E42CF45</td>\n",
       "      <td>80,80</td>\n",
       "      <td>Internado,Pronto Atendimento</td>\n",
       "      <td>142,82</td>\n",
       "      <td>O,A</td>\n",
       "      <td>2</td>\n",
       "    </tr>\n",
       "  </tbody>\n",
       "</table>\n",
       "</div>"
      ],
      "text/plain": [
       "                           id_paciente  ... n_atendimentos\n",
       "400   BA74194B979B086198794D1470107709  ...              1\n",
       "511   8D265EED52D2877EC2F75B60FEEC4065  ...              1\n",
       "1070  7B03A278AD0026D4E34D0D84453A3548  ...              2\n",
       "1373  DE791245DF4FD631AD71B2B307F7835D  ...              2\n",
       "1803  44DA670729D76F0264E6066E2E42CF45  ...              2\n",
       "\n",
       "[5 rows x 6 columns]"
      ]
     },
     "execution_count": 57,
     "metadata": {
      "tags": []
     },
     "output_type": "execute_result"
    }
   ],
   "source": [
    "desfechos_juntos.head()"
   ]
  },
  {
   "cell_type": "markdown",
   "metadata": {
    "id": "9LAM8qH6I33s"
   },
   "source": [
    "Criação de uma coluna para o tempo total que que um ID foi atendido"
   ]
  },
  {
   "cell_type": "code",
   "execution_count": 58,
   "metadata": {
    "executionInfo": {
     "elapsed": 9972,
     "status": "ok",
     "timestamp": 1606156852697,
     "user": {
      "displayName": "Leonardo Thurler",
      "photoUrl": "https://lh3.googleusercontent.com/a-/AOh14GhsXo-6tUwaShHAHh9mhAKCPxko9amceCKxJCpFkg=s64",
      "userId": "06725283277410010839"
     },
     "user_tz": 180
    },
    "id": "HLRas2ANI9gS"
   },
   "outputs": [],
   "source": [
    "tempo_atendimento = []\n",
    "for data in desfechos_juntos.iloc:\n",
    "    #print(data[1].split(','))\n",
    "    total = 0\n",
    "    for number1,number2 in zip(data[1].split(','),data[3].split(',')):\n",
    "        total += int(number2) - int(number1) + 1\n",
    "    tempo_atendimento.append(total)\n",
    "desfechos_juntos['t_atendimento'] = tempo_atendimento"
   ]
  },
  {
   "cell_type": "markdown",
   "metadata": {
    "id": "oTPrMWCKJFjT"
   },
   "source": [
    "Com essa informação da duração total, os dias em que os atendimentos foram iniciados e os dias dos desfechos não são mais importantes"
   ]
  },
  {
   "cell_type": "code",
   "execution_count": 59,
   "metadata": {
    "executionInfo": {
     "elapsed": 9962,
     "status": "ok",
     "timestamp": 1606156852698,
     "user": {
      "displayName": "Leonardo Thurler",
      "photoUrl": "https://lh3.googleusercontent.com/a-/AOh14GhsXo-6tUwaShHAHh9mhAKCPxko9amceCKxJCpFkg=s64",
      "userId": "06725283277410010839"
     },
     "user_tz": 180
    },
    "id": "FgPnTB6wJT-e"
   },
   "outputs": [],
   "source": [
    "desfechos_juntos=desfechos_juntos.drop(columns=['dt_atendimento','dt_desfecho'])"
   ]
  },
  {
   "cell_type": "code",
   "execution_count": 60,
   "metadata": {
    "colab": {
     "base_uri": "https://localhost:8080/",
     "height": 0
    },
    "executionInfo": {
     "elapsed": 9952,
     "status": "ok",
     "timestamp": 1606156852699,
     "user": {
      "displayName": "Leonardo Thurler",
      "photoUrl": "https://lh3.googleusercontent.com/a-/AOh14GhsXo-6tUwaShHAHh9mhAKCPxko9amceCKxJCpFkg=s64",
      "userId": "06725283277410010839"
     },
     "user_tz": 180
    },
    "id": "S5diqlcB05kL",
    "outputId": "098747fb-1ee3-43ce-bc7f-110e31356974"
   },
   "outputs": [
    {
     "data": {
      "text/html": [
       "<div>\n",
       "<style scoped>\n",
       "    .dataframe tbody tr th:only-of-type {\n",
       "        vertical-align: middle;\n",
       "    }\n",
       "\n",
       "    .dataframe tbody tr th {\n",
       "        vertical-align: top;\n",
       "    }\n",
       "\n",
       "    .dataframe thead th {\n",
       "        text-align: right;\n",
       "    }\n",
       "</style>\n",
       "<table border=\"1\" class=\"dataframe\">\n",
       "  <thead>\n",
       "    <tr style=\"text-align: right;\">\n",
       "      <th></th>\n",
       "      <th>id_paciente</th>\n",
       "      <th>de_tipo_atendimento</th>\n",
       "      <th>de_desfecho</th>\n",
       "      <th>n_atendimentos</th>\n",
       "      <th>t_atendimento</th>\n",
       "    </tr>\n",
       "  </thead>\n",
       "  <tbody>\n",
       "    <tr>\n",
       "      <th>400</th>\n",
       "      <td>BA74194B979B086198794D1470107709</td>\n",
       "      <td>Internado</td>\n",
       "      <td>O</td>\n",
       "      <td>1</td>\n",
       "      <td>11</td>\n",
       "    </tr>\n",
       "    <tr>\n",
       "      <th>511</th>\n",
       "      <td>8D265EED52D2877EC2F75B60FEEC4065</td>\n",
       "      <td>Internado</td>\n",
       "      <td>O</td>\n",
       "      <td>1</td>\n",
       "      <td>10</td>\n",
       "    </tr>\n",
       "    <tr>\n",
       "      <th>1070</th>\n",
       "      <td>7B03A278AD0026D4E34D0D84453A3548</td>\n",
       "      <td>Internado,Externo</td>\n",
       "      <td>O,A</td>\n",
       "      <td>2</td>\n",
       "      <td>30</td>\n",
       "    </tr>\n",
       "    <tr>\n",
       "      <th>1373</th>\n",
       "      <td>DE791245DF4FD631AD71B2B307F7835D</td>\n",
       "      <td>Internado,Pronto Atendimento</td>\n",
       "      <td>O,A</td>\n",
       "      <td>2</td>\n",
       "      <td>13</td>\n",
       "    </tr>\n",
       "    <tr>\n",
       "      <th>1803</th>\n",
       "      <td>44DA670729D76F0264E6066E2E42CF45</td>\n",
       "      <td>Internado,Pronto Atendimento</td>\n",
       "      <td>O,A</td>\n",
       "      <td>2</td>\n",
       "      <td>66</td>\n",
       "    </tr>\n",
       "    <tr>\n",
       "      <th>...</th>\n",
       "      <td>...</td>\n",
       "      <td>...</td>\n",
       "      <td>...</td>\n",
       "      <td>...</td>\n",
       "      <td>...</td>\n",
       "    </tr>\n",
       "    <tr>\n",
       "      <th>16939</th>\n",
       "      <td>A29ADDE51D11887EABFF9CC70E5F9A72</td>\n",
       "      <td>Pronto Atendimento</td>\n",
       "      <td>A</td>\n",
       "      <td>1</td>\n",
       "      <td>1</td>\n",
       "    </tr>\n",
       "    <tr>\n",
       "      <th>16940</th>\n",
       "      <td>50061499481B4B35DB108EB436A05500</td>\n",
       "      <td>Externo,Externo</td>\n",
       "      <td>A,A</td>\n",
       "      <td>2</td>\n",
       "      <td>2</td>\n",
       "    </tr>\n",
       "    <tr>\n",
       "      <th>16942</th>\n",
       "      <td>74CC17F4F6DDAB860A70F7CCC2F8CF82</td>\n",
       "      <td>Ambulatorial,Ambulatorial,Ambulatorial,Ambulat...</td>\n",
       "      <td>A,A,A,A,A</td>\n",
       "      <td>5</td>\n",
       "      <td>5</td>\n",
       "    </tr>\n",
       "    <tr>\n",
       "      <th>16947</th>\n",
       "      <td>1F382C34C14A2CC6DDD05825801EF68E</td>\n",
       "      <td>Pronto Atendimento,Pronto Atendimento,Pronto A...</td>\n",
       "      <td>A,A,A,A,A,A</td>\n",
       "      <td>6</td>\n",
       "      <td>6</td>\n",
       "    </tr>\n",
       "    <tr>\n",
       "      <th>16948</th>\n",
       "      <td>885F6BBB7D21E0534D3661DF90A95EE7</td>\n",
       "      <td>Pronto Atendimento,Pronto Atendimento,Pronto A...</td>\n",
       "      <td>A,A,A,A</td>\n",
       "      <td>4</td>\n",
       "      <td>4</td>\n",
       "    </tr>\n",
       "  </tbody>\n",
       "</table>\n",
       "<p>4193 rows × 5 columns</p>\n",
       "</div>"
      ],
      "text/plain": [
       "                            id_paciente  ... t_atendimento\n",
       "400    BA74194B979B086198794D1470107709  ...            11\n",
       "511    8D265EED52D2877EC2F75B60FEEC4065  ...            10\n",
       "1070   7B03A278AD0026D4E34D0D84453A3548  ...            30\n",
       "1373   DE791245DF4FD631AD71B2B307F7835D  ...            13\n",
       "1803   44DA670729D76F0264E6066E2E42CF45  ...            66\n",
       "...                                 ...  ...           ...\n",
       "16939  A29ADDE51D11887EABFF9CC70E5F9A72  ...             1\n",
       "16940  50061499481B4B35DB108EB436A05500  ...             2\n",
       "16942  74CC17F4F6DDAB860A70F7CCC2F8CF82  ...             5\n",
       "16947  1F382C34C14A2CC6DDD05825801EF68E  ...             6\n",
       "16948  885F6BBB7D21E0534D3661DF90A95EE7  ...             4\n",
       "\n",
       "[4193 rows x 5 columns]"
      ]
     },
     "execution_count": 60,
     "metadata": {
      "tags": []
     },
     "output_type": "execute_result"
    }
   ],
   "source": [
    "desfechos_juntos"
   ]
  },
  {
   "cell_type": "markdown",
   "metadata": {
    "id": "5zfP8A9AJbBE"
   },
   "source": [
    "Junção das sequências de alta e óbito em um único desfecho"
   ]
  },
  {
   "cell_type": "code",
   "execution_count": 61,
   "metadata": {
    "executionInfo": {
     "elapsed": 10617,
     "status": "ok",
     "timestamp": 1606156853376,
     "user": {
      "displayName": "Leonardo Thurler",
      "photoUrl": "https://lh3.googleusercontent.com/a-/AOh14GhsXo-6tUwaShHAHh9mhAKCPxko9amceCKxJCpFkg=s64",
      "userId": "06725283277410010839"
     },
     "user_tz": 180
    },
    "id": "Sk5EPl-QJjcW"
   },
   "outputs": [],
   "source": [
    "de_desfecho = []\n",
    "for data in desfechos_juntos.iloc:\n",
    "    app = False\n",
    "    for desfecho in data[2].split(','):\n",
    "        if desfecho == 'O':\n",
    "            app = True\n",
    "            de_desfecho.append('O')\n",
    "            break\n",
    "    if not app:\n",
    "        de_desfecho.append('A')\n",
    "desfechos_juntos['de_desfecho'] = de_desfecho"
   ]
  },
  {
   "cell_type": "markdown",
   "metadata": {
    "id": "32JjLK88Jste"
   },
   "source": [
    "Junção dos tipos de atendimento considerando o pior caso"
   ]
  },
  {
   "cell_type": "code",
   "execution_count": 62,
   "metadata": {
    "executionInfo": {
     "elapsed": 11132,
     "status": "ok",
     "timestamp": 1606156853904,
     "user": {
      "displayName": "Leonardo Thurler",
      "photoUrl": "https://lh3.googleusercontent.com/a-/AOh14GhsXo-6tUwaShHAHh9mhAKCPxko9amceCKxJCpFkg=s64",
      "userId": "06725283277410010839"
     },
     "user_tz": 180
    },
    "id": "oeZ9zoO0JwPG"
   },
   "outputs": [],
   "source": [
    "de_tipo_atendimento = []\n",
    "for data in desfechos_juntos.iloc:\n",
    "    p = 4\n",
    "    for desfecho in data[1].split(','):\n",
    "        if desfecho == 'Internado':\n",
    "            tipo = desfecho\n",
    "            p = 1\n",
    "        elif desfecho == 'Pronto Atendimento':\n",
    "            if p > 2:\n",
    "                tipo = desfecho\n",
    "                p = 2\n",
    "        else:\n",
    "            if p > 3:\n",
    "                tipo = desfecho\n",
    "                p = 3\n",
    "    de_tipo_atendimento.append(tipo)\n",
    "desfechos_juntos['de_tipo_atendimento']=de_tipo_atendimento"
   ]
  },
  {
   "cell_type": "markdown",
   "metadata": {
    "id": "-NXPd_KEJ87Y"
   },
   "source": [
    "Considerei que a descrição da clínica não é um atributo relevante"
   ]
  },
  {
   "cell_type": "markdown",
   "metadata": {
    "id": "CyfLFXDqKK-o"
   },
   "source": [
    "Visualização do dataframe final"
   ]
  },
  {
   "cell_type": "code",
   "execution_count": 63,
   "metadata": {
    "colab": {
     "base_uri": "https://localhost:8080/",
     "height": 0
    },
    "executionInfo": {
     "elapsed": 11123,
     "status": "ok",
     "timestamp": 1606156853905,
     "user": {
      "displayName": "Leonardo Thurler",
      "photoUrl": "https://lh3.googleusercontent.com/a-/AOh14GhsXo-6tUwaShHAHh9mhAKCPxko9amceCKxJCpFkg=s64",
      "userId": "06725283277410010839"
     },
     "user_tz": 180
    },
    "id": "bkUIEBR3KNV3",
    "outputId": "7f42f236-2ac0-4ffa-b1a0-e60bd99ff04d"
   },
   "outputs": [
    {
     "data": {
      "text/html": [
       "<div>\n",
       "<style scoped>\n",
       "    .dataframe tbody tr th:only-of-type {\n",
       "        vertical-align: middle;\n",
       "    }\n",
       "\n",
       "    .dataframe tbody tr th {\n",
       "        vertical-align: top;\n",
       "    }\n",
       "\n",
       "    .dataframe thead th {\n",
       "        text-align: right;\n",
       "    }\n",
       "</style>\n",
       "<table border=\"1\" class=\"dataframe\">\n",
       "  <thead>\n",
       "    <tr style=\"text-align: right;\">\n",
       "      <th></th>\n",
       "      <th>id_paciente</th>\n",
       "      <th>de_tipo_atendimento</th>\n",
       "      <th>de_desfecho</th>\n",
       "      <th>n_atendimentos</th>\n",
       "      <th>t_atendimento</th>\n",
       "    </tr>\n",
       "  </thead>\n",
       "  <tbody>\n",
       "    <tr>\n",
       "      <th>400</th>\n",
       "      <td>BA74194B979B086198794D1470107709</td>\n",
       "      <td>Internado</td>\n",
       "      <td>O</td>\n",
       "      <td>1</td>\n",
       "      <td>11</td>\n",
       "    </tr>\n",
       "    <tr>\n",
       "      <th>511</th>\n",
       "      <td>8D265EED52D2877EC2F75B60FEEC4065</td>\n",
       "      <td>Internado</td>\n",
       "      <td>O</td>\n",
       "      <td>1</td>\n",
       "      <td>10</td>\n",
       "    </tr>\n",
       "    <tr>\n",
       "      <th>1070</th>\n",
       "      <td>7B03A278AD0026D4E34D0D84453A3548</td>\n",
       "      <td>Internado</td>\n",
       "      <td>O</td>\n",
       "      <td>2</td>\n",
       "      <td>30</td>\n",
       "    </tr>\n",
       "    <tr>\n",
       "      <th>1373</th>\n",
       "      <td>DE791245DF4FD631AD71B2B307F7835D</td>\n",
       "      <td>Internado</td>\n",
       "      <td>O</td>\n",
       "      <td>2</td>\n",
       "      <td>13</td>\n",
       "    </tr>\n",
       "    <tr>\n",
       "      <th>1803</th>\n",
       "      <td>44DA670729D76F0264E6066E2E42CF45</td>\n",
       "      <td>Internado</td>\n",
       "      <td>O</td>\n",
       "      <td>2</td>\n",
       "      <td>66</td>\n",
       "    </tr>\n",
       "  </tbody>\n",
       "</table>\n",
       "</div>"
      ],
      "text/plain": [
       "                           id_paciente  ... t_atendimento\n",
       "400   BA74194B979B086198794D1470107709  ...            11\n",
       "511   8D265EED52D2877EC2F75B60FEEC4065  ...            10\n",
       "1070  7B03A278AD0026D4E34D0D84453A3548  ...            30\n",
       "1373  DE791245DF4FD631AD71B2B307F7835D  ...            13\n",
       "1803  44DA670729D76F0264E6066E2E42CF45  ...            66\n",
       "\n",
       "[5 rows x 5 columns]"
      ]
     },
     "execution_count": 63,
     "metadata": {
      "tags": []
     },
     "output_type": "execute_result"
    }
   ],
   "source": [
    "desfechos_juntos.head()"
   ]
  },
  {
   "cell_type": "code",
   "execution_count": 64,
   "metadata": {
    "colab": {
     "base_uri": "https://localhost:8080/",
     "height": 0
    },
    "executionInfo": {
     "elapsed": 12733,
     "status": "ok",
     "timestamp": 1606156855530,
     "user": {
      "displayName": "Leonardo Thurler",
      "photoUrl": "https://lh3.googleusercontent.com/a-/AOh14GhsXo-6tUwaShHAHh9mhAKCPxko9amceCKxJCpFkg=s64",
      "userId": "06725283277410010839"
     },
     "user_tz": 180
    },
    "id": "sjBtDxU8tC6V",
    "outputId": "0b763a31-773d-4c1f-8395-68ad57fb4a81"
   },
   "outputs": [
    {
     "data": {
      "image/png": "[encoded data removed]",
      "text/plain": [
       "<Figure size 360x360 with 1 Axes>"
      ]
     },
     "metadata": {
      "tags": []
     },
     "output_type": "display_data"
    }
   ],
   "source": [
    "sns.set(font_scale = 1.2)\n",
    "#sns.set_theme(style=\"ticks\")\n",
    "#sns.set_xticks([1, 5, 10, 50, 100, 200])\n",
    "sns_plot = sns.displot(desfechos_juntos['t_atendimento'],kde=True)\n",
    "sns_plot.set(xlim=[1,40])\n",
    "#sns.set_xticks([1, 5, 10, 50, 100, 200])\n",
    "sns_plot.savefig(\"tempo_dist.png\")"
   ]
  },
  {
   "cell_type": "markdown",
   "metadata": {
    "id": "2MNizrN42NiU"
   },
   "source": [
    "##Base Exames##"
   ]
  },
  {
   "cell_type": "markdown",
   "metadata": {
    "id": "GPaBdakP2eiT"
   },
   "source": [
    "Importar a base"
   ]
  },
  {
   "cell_type": "code",
   "execution_count": 65,
   "metadata": {
    "executionInfo": {
     "elapsed": 13585,
     "status": "ok",
     "timestamp": 1606156856393,
     "user": {
      "displayName": "Leonardo Thurler",
      "photoUrl": "https://lh3.googleusercontent.com/a-/AOh14GhsXo-6tUwaShHAHh9mhAKCPxko9amceCKxJCpFkg=s64",
      "userId": "06725283277410010839"
     },
     "user_tz": 180
    },
    "id": "nXCTCXDy2dT7"
   },
   "outputs": [],
   "source": [
    "df=pd.read_csv('HSL_Exames_2.csv',sep='|')"
   ]
  },
  {
   "cell_type": "code",
   "execution_count": 66,
   "metadata": {
    "colab": {
     "base_uri": "https://localhost:8080/",
     "height": 0
    },
    "executionInfo": {
     "elapsed": 13585,
     "status": "ok",
     "timestamp": 1606156856405,
     "user": {
      "displayName": "Leonardo Thurler",
      "photoUrl": "https://lh3.googleusercontent.com/a-/AOh14GhsXo-6tUwaShHAHh9mhAKCPxko9amceCKxJCpFkg=s64",
      "userId": "06725283277410010839"
     },
     "user_tz": 180
    },
    "id": "VaKBc2pQ3hJj",
    "outputId": "3ae6e6eb-ca02-475e-8b1a-911e283abe62"
   },
   "outputs": [
    {
     "data": {
      "text/html": [
       "<div>\n",
       "<style scoped>\n",
       "    .dataframe tbody tr th:only-of-type {\n",
       "        vertical-align: middle;\n",
       "    }\n",
       "\n",
       "    .dataframe tbody tr th {\n",
       "        vertical-align: top;\n",
       "    }\n",
       "\n",
       "    .dataframe thead th {\n",
       "        text-align: right;\n",
       "    }\n",
       "</style>\n",
       "<table border=\"1\" class=\"dataframe\">\n",
       "  <thead>\n",
       "    <tr style=\"text-align: right;\">\n",
       "      <th></th>\n",
       "      <th>ID_PACIENTE</th>\n",
       "      <th>ID_ATENDIMENTO</th>\n",
       "      <th>DT_COLETA</th>\n",
       "      <th>DE_ORIGEM</th>\n",
       "      <th>DE_EXAME</th>\n",
       "      <th>DE_ANALITO</th>\n",
       "      <th>DE_RESULTADO</th>\n",
       "      <th>CD_UNIDADE</th>\n",
       "      <th>DE_VALOR_REFERENCIA</th>\n",
       "    </tr>\n",
       "  </thead>\n",
       "  <tbody>\n",
       "    <tr>\n",
       "      <th>0</th>\n",
       "      <td>3487791F44C34B421C932DC8616A8437</td>\n",
       "      <td>F924F6CEA1539FEFDCE7C252DFA5AF99</td>\n",
       "      <td>2020-05-14</td>\n",
       "      <td>Pronto Socorro</td>\n",
       "      <td>Fosfatase Alcalina</td>\n",
       "      <td>Fosfatase Alcalina</td>\n",
       "      <td>106</td>\n",
       "      <td>U/L</td>\n",
       "      <td>40 - 129</td>\n",
       "    </tr>\n",
       "    <tr>\n",
       "      <th>1</th>\n",
       "      <td>3487791F44C34B421C932DC8616A8437</td>\n",
       "      <td>F924F6CEA1539FEFDCE7C252DFA5AF99</td>\n",
       "      <td>2020-05-14</td>\n",
       "      <td>Pronto Socorro</td>\n",
       "      <td>Gama Gt</td>\n",
       "      <td>Gama-GT</td>\n",
       "      <td>33</td>\n",
       "      <td>U/L</td>\n",
       "      <td>12 a 73</td>\n",
       "    </tr>\n",
       "    <tr>\n",
       "      <th>2</th>\n",
       "      <td>3487791F44C34B421C932DC8616A8437</td>\n",
       "      <td>F924F6CEA1539FEFDCE7C252DFA5AF99</td>\n",
       "      <td>2020-05-14</td>\n",
       "      <td>Pronto Socorro</td>\n",
       "      <td>Tgp</td>\n",
       "      <td>ALT (TGP)</td>\n",
       "      <td>51</td>\n",
       "      <td>U/L</td>\n",
       "      <td>Até 41</td>\n",
       "    </tr>\n",
       "    <tr>\n",
       "      <th>3</th>\n",
       "      <td>3487791F44C34B421C932DC8616A8437</td>\n",
       "      <td>F924F6CEA1539FEFDCE7C252DFA5AF99</td>\n",
       "      <td>2020-05-14</td>\n",
       "      <td>Pronto Socorro</td>\n",
       "      <td>Desidrogenase Lática (DHL/L)</td>\n",
       "      <td>DHL</td>\n",
       "      <td>530</td>\n",
       "      <td>U/L</td>\n",
       "      <td>240 a 480</td>\n",
       "    </tr>\n",
       "    <tr>\n",
       "      <th>4</th>\n",
       "      <td>3487791F44C34B421C932DC8616A8437</td>\n",
       "      <td>F924F6CEA1539FEFDCE7C252DFA5AF99</td>\n",
       "      <td>2020-05-14</td>\n",
       "      <td>Pronto Socorro</td>\n",
       "      <td>Proteína C Reativa, plasma</td>\n",
       "      <td>Proteína C-Reativa</td>\n",
       "      <td>1,84</td>\n",
       "      <td>mg/dL</td>\n",
       "      <td>Ver resultado tradicional</td>\n",
       "    </tr>\n",
       "  </tbody>\n",
       "</table>\n",
       "</div>"
      ],
      "text/plain": [
       "                        ID_PACIENTE  ...        DE_VALOR_REFERENCIA\n",
       "0  3487791F44C34B421C932DC8616A8437  ...                   40 - 129\n",
       "1  3487791F44C34B421C932DC8616A8437  ...                    12 a 73\n",
       "2  3487791F44C34B421C932DC8616A8437  ...                     Até 41\n",
       "3  3487791F44C34B421C932DC8616A8437  ...                  240 a 480\n",
       "4  3487791F44C34B421C932DC8616A8437  ...  Ver resultado tradicional\n",
       "\n",
       "[5 rows x 9 columns]"
      ]
     },
     "execution_count": 66,
     "metadata": {
      "tags": []
     },
     "output_type": "execute_result"
    }
   ],
   "source": [
    "df.head()"
   ]
  },
  {
   "cell_type": "code",
   "execution_count": 67,
   "metadata": {
    "colab": {
     "base_uri": "https://localhost:8080/",
     "height": 0
    },
    "executionInfo": {
     "elapsed": 13575,
     "status": "ok",
     "timestamp": 1606156856406,
     "user": {
      "displayName": "Leonardo Thurler",
      "photoUrl": "https://lh3.googleusercontent.com/a-/AOh14GhsXo-6tUwaShHAHh9mhAKCPxko9amceCKxJCpFkg=s64",
      "userId": "06725283277410010839"
     },
     "user_tz": 180
    },
    "id": "uirxNP8m66Io",
    "outputId": "8fe2d9c6-511d-45a3-9681-8bd0e1c9878f"
   },
   "outputs": [
    {
     "data": {
      "text/html": [
       "<div>\n",
       "<style scoped>\n",
       "    .dataframe tbody tr th:only-of-type {\n",
       "        vertical-align: middle;\n",
       "    }\n",
       "\n",
       "    .dataframe tbody tr th {\n",
       "        vertical-align: top;\n",
       "    }\n",
       "\n",
       "    .dataframe thead th {\n",
       "        text-align: right;\n",
       "    }\n",
       "</style>\n",
       "<table border=\"1\" class=\"dataframe\">\n",
       "  <thead>\n",
       "    <tr style=\"text-align: right;\">\n",
       "      <th></th>\n",
       "      <th>ID_PACIENTE</th>\n",
       "      <th>DE_EXAME</th>\n",
       "      <th>DE_ANALITO</th>\n",
       "      <th>DE_RESULTADO</th>\n",
       "      <th>DE_VALOR_REFERENCIA</th>\n",
       "    </tr>\n",
       "  </thead>\n",
       "  <tbody>\n",
       "    <tr>\n",
       "      <th>0</th>\n",
       "      <td>3487791F44C34B421C932DC8616A8437</td>\n",
       "      <td>Fosfatase Alcalina</td>\n",
       "      <td>Fosfatase Alcalina</td>\n",
       "      <td>106</td>\n",
       "      <td>40 - 129</td>\n",
       "    </tr>\n",
       "    <tr>\n",
       "      <th>1</th>\n",
       "      <td>3487791F44C34B421C932DC8616A8437</td>\n",
       "      <td>Gama Gt</td>\n",
       "      <td>Gama-GT</td>\n",
       "      <td>33</td>\n",
       "      <td>12 a 73</td>\n",
       "    </tr>\n",
       "    <tr>\n",
       "      <th>2</th>\n",
       "      <td>3487791F44C34B421C932DC8616A8437</td>\n",
       "      <td>Tgp</td>\n",
       "      <td>ALT (TGP)</td>\n",
       "      <td>51</td>\n",
       "      <td>Até 41</td>\n",
       "    </tr>\n",
       "    <tr>\n",
       "      <th>3</th>\n",
       "      <td>3487791F44C34B421C932DC8616A8437</td>\n",
       "      <td>Desidrogenase Lática (DHL/L)</td>\n",
       "      <td>DHL</td>\n",
       "      <td>530</td>\n",
       "      <td>240 a 480</td>\n",
       "    </tr>\n",
       "    <tr>\n",
       "      <th>4</th>\n",
       "      <td>3487791F44C34B421C932DC8616A8437</td>\n",
       "      <td>Proteína C Reativa, plasma</td>\n",
       "      <td>Proteína C-Reativa</td>\n",
       "      <td>1,84</td>\n",
       "      <td>Ver resultado tradicional</td>\n",
       "    </tr>\n",
       "  </tbody>\n",
       "</table>\n",
       "</div>"
      ],
      "text/plain": [
       "                        ID_PACIENTE  ...        DE_VALOR_REFERENCIA\n",
       "0  3487791F44C34B421C932DC8616A8437  ...                   40 - 129\n",
       "1  3487791F44C34B421C932DC8616A8437  ...                    12 a 73\n",
       "2  3487791F44C34B421C932DC8616A8437  ...                     Até 41\n",
       "3  3487791F44C34B421C932DC8616A8437  ...                  240 a 480\n",
       "4  3487791F44C34B421C932DC8616A8437  ...  Ver resultado tradicional\n",
       "\n",
       "[5 rows x 5 columns]"
      ]
     },
     "execution_count": 67,
     "metadata": {
      "tags": []
     },
     "output_type": "execute_result"
    }
   ],
   "source": [
    "df.drop(columns=['DE_ORIGEM','DT_COLETA','CD_UNIDADE','ID_ATENDIMENTO']).head()"
   ]
  },
  {
   "cell_type": "markdown",
   "metadata": {
    "id": "wNu2Miry27KJ"
   },
   "source": [
    "Removendo missing values"
   ]
  },
  {
   "cell_type": "code",
   "execution_count": 68,
   "metadata": {
    "executionInfo": {
     "elapsed": 13565,
     "status": "ok",
     "timestamp": 1606156856407,
     "user": {
      "displayName": "Leonardo Thurler",
      "photoUrl": "https://lh3.googleusercontent.com/a-/AOh14GhsXo-6tUwaShHAHh9mhAKCPxko9amceCKxJCpFkg=s64",
      "userId": "06725283277410010839"
     },
     "user_tz": 180
    },
    "id": "2_lu3Pcg2vZn"
   },
   "outputs": [],
   "source": [
    "df = df[np.logical_not(df['DE_VALOR_REFERENCIA'].isna())]"
   ]
  },
  {
   "cell_type": "markdown",
   "metadata": {
    "id": "eGNihuuQ3Ef_"
   },
   "source": [
    "Removendo tuplas com valor de referencia = ver resultado tradicional"
   ]
  },
  {
   "cell_type": "code",
   "execution_count": 69,
   "metadata": {
    "executionInfo": {
     "elapsed": 13555,
     "status": "ok",
     "timestamp": 1606156856407,
     "user": {
      "displayName": "Leonardo Thurler",
      "photoUrl": "https://lh3.googleusercontent.com/a-/AOh14GhsXo-6tUwaShHAHh9mhAKCPxko9amceCKxJCpFkg=s64",
      "userId": "06725283277410010839"
     },
     "user_tz": 180
    },
    "id": "G-4SHVnA3NCh"
   },
   "outputs": [],
   "source": [
    "df = df[df['DE_VALOR_REFERENCIA']!='Ver resultado tradicional']"
   ]
  },
  {
   "cell_type": "markdown",
   "metadata": {
    "id": "fvFVkp8z3oHJ"
   },
   "source": [
    "Removendo atributos não importantes"
   ]
  },
  {
   "cell_type": "code",
   "execution_count": 70,
   "metadata": {
    "executionInfo": {
     "elapsed": 14184,
     "status": "ok",
     "timestamp": 1606156857047,
     "user": {
      "displayName": "Leonardo Thurler",
      "photoUrl": "https://lh3.googleusercontent.com/a-/AOh14GhsXo-6tUwaShHAHh9mhAKCPxko9amceCKxJCpFkg=s64",
      "userId": "06725283277410010839"
     },
     "user_tz": 180
    },
    "id": "3waJIdq_3qfM"
   },
   "outputs": [],
   "source": [
    "df = df.drop(columns=['DE_ORIGEM','DT_COLETA','CD_UNIDADE'])"
   ]
  },
  {
   "cell_type": "markdown",
   "metadata": {
    "id": "j2eBAi-b3u7_"
   },
   "source": [
    "Código para checar se o resultado do exame foi regular ou não"
   ]
  },
  {
   "cell_type": "code",
   "execution_count": 71,
   "metadata": {
    "executionInfo": {
     "elapsed": 60002,
     "status": "ok",
     "timestamp": 1606156902874,
     "user": {
      "displayName": "Leonardo Thurler",
      "photoUrl": "https://lh3.googleusercontent.com/a-/AOh14GhsXo-6tUwaShHAHh9mhAKCPxko9amceCKxJCpFkg=s64",
      "userId": "06725283277410010839"
     },
     "user_tz": 180
    },
    "id": "8_O00_6B3zAx"
   },
   "outputs": [],
   "source": [
    "lista = []\n",
    "for data in df.iloc:\n",
    "    referencia_ = data[5].replace(',','.')\n",
    "    referencia_ = referencia_.replace('/mL','')\n",
    "    referencia = referencia_.split()\n",
    "    resultado = data[4].replace(',','.')\n",
    "    try:\n",
    "        resultado = float(resultado)\n",
    "        if len(referencia) == 1:\n",
    "            if resultado == float(referencia[0]):\n",
    "                lista.append('Regular')\n",
    "            else:\n",
    "                lista.append('Iregular')\n",
    "        elif (referencia[0] == 'Até' or referencia[0] == 'até'):\n",
    "            if resultado < float(referencia[1]):\n",
    "                lista.append('Regular')\n",
    "            else:\n",
    "                lista.append('Iregular')\n",
    "        elif referencia[1] == 'a' and referencia[0].lower()!='inferior' and referencia[0].lower()!='superior':\n",
    "            if resultado > float(referencia[0]) and resultado < float(referencia[2]):\n",
    "                lista.append('Regular')\n",
    "            else:\n",
    "                lista.append('Iregular')\n",
    "        elif referencia[1] == '-':\n",
    "            if resultado > float(referencia[0]) and resultado < float(referencia[2]):\n",
    "                lista.append('Regular')\n",
    "            else:\n",
    "                lista.append('Iregular')\n",
    "        elif referencia[0] == 'Acima':\n",
    "            if resultado > float(referencia[2]):\n",
    "                lista.append('Regular')\n",
    "            else:\n",
    "                lista.append('Iregular')\n",
    "        elif referencia[0] == '>':\n",
    "            if resultado > float(referencia[1]):\n",
    "                lista.append('Regular')\n",
    "            else:\n",
    "                lista.append('Iregular')\n",
    "        elif referencia[0] == '<':\n",
    "            if resultado < float(referencia[1]):\n",
    "                lista.append('Regular')\n",
    "            else:\n",
    "                lista.append('Iregular')\n",
    "        elif referencia[0] == 'De':\n",
    "            if resultado > float(referencia[1]) and resultado < float(referencia[3]):\n",
    "                lista.append('Regular')\n",
    "            else:\n",
    "                lista.append('Iregular')\n",
    "        elif referencia[0] == 'Homens:' and referencia[2] == 'a':\n",
    "            if resultado > float(referencia[1]) and resultado < float(referencia[3]):\n",
    "                lista.append('Regular')\n",
    "            else:\n",
    "                lista.append('Iregular')\n",
    "        elif referencia[0] == 'Mulheres:':\n",
    "            if resultado < float(referencia[3]):\n",
    "                lista.append('Regular')\n",
    "            else:\n",
    "                lista.append('Iregular')\n",
    "        elif (referencia[0] == 'Maior' or referencia[0] == 'maior') and referencia[1] == 'ou':\n",
    "            if resultado >= float(referencia[4]):\n",
    "                lista.append('Regular')\n",
    "            else:\n",
    "                lista.append('Iregular')\n",
    "        elif (referencia[0] == 'Maior' or referencia[0] == 'maior') and referencia[1] == 'que':\n",
    "            if referencia[2] != 'a':\n",
    "                if resultado > float(referencia[2]):\n",
    "                    lista.append('Regular')\n",
    "                else:\n",
    "                    lista.append('Iregular')\n",
    "            else:\n",
    "                if resultado > float(referencia[3]):\n",
    "                    lista.append('Regular')\n",
    "                else:\n",
    "                    lista.append('Iregular')\n",
    "        elif (referencia[0] == 'Menor' or referencia[0] == 'menor') and referencia[1] == 'ou':\n",
    "            if resultado <= float(referencia[4]):\n",
    "                lista.append('Regular')\n",
    "            else:\n",
    "                lista.append('Iregular')\n",
    "        elif (referencia[0] == 'Menor' or referencia[0] == 'menor') and referencia[1] == 'que':\n",
    "            if resultado < float(referencia[2]):\n",
    "                lista.append('Regular')\n",
    "            else:\n",
    "                lista.append('Iregular')\n",
    "        elif (referencia[0] == 'Inferior' or referencia[0] == 'inferior') and referencia[1] == 'a':\n",
    "            if resultado < float(referencia[2]):\n",
    "                lista.append('Regular')\n",
    "            else:\n",
    "                lista.append('Iregular')\n",
    "        elif referencia[0] == 'Superior' and referencia[1] == 'a':\n",
    "            if resultado > float(referencia[2]):\n",
    "                lista.append('Regular')\n",
    "            else:\n",
    "                lista.append('Iregular')\n",
    "        elif referencia[0] == 'Baixa':\n",
    "            if resultado < float(referencia[-1]):\n",
    "                lista.append('Regular')\n",
    "            else:\n",
    "                lista.append('Iregular')\n",
    "        elif referencia[0] == 'Normal:':\n",
    "            if resultado < float(referencia[-1]):\n",
    "                lista.append('Regular')\n",
    "            else:\n",
    "                lista.append('Iregular')\n",
    "        elif referencia[0] == 'Não':\n",
    "            if resultado < float(referencia[-1]):\n",
    "                lista.append('Regular')\n",
    "            else:\n",
    "                lista.append('Iregular')\n",
    "        elif referencia[0] == 'Nível':\n",
    "            if resultado > float(referencia[2]) and resultado < float(referencia[4]) :\n",
    "                lista.append('Regular')\n",
    "            else:\n",
    "                lista.append('Iregular')\n",
    "        else:\n",
    "            lista.append('Nao classificado')\n",
    "    except ValueError:\n",
    "        if not isinstance(resultado,float):\n",
    "            if resultado.lower() == referencia_.lower():\n",
    "                lista.append('Regular')\n",
    "            elif resultado.lower() == 'não reagente':\n",
    "                lista.append('Regular')\n",
    "            elif resultado == 'NÃO DETECTADO (NEGATIVO)':\n",
    "                lista.append('Regular')\n",
    "            else:\n",
    "                lista.append('Iregular')\n",
    "        else:\n",
    "            lista.append('erro')"
   ]
  },
  {
   "cell_type": "markdown",
   "metadata": {
    "id": "R6yw8xbA4F1s"
   },
   "source": [
    "Inclusão desse resultado na tabela"
   ]
  },
  {
   "cell_type": "code",
   "execution_count": 72,
   "metadata": {
    "executionInfo": {
     "elapsed": 59993,
     "status": "ok",
     "timestamp": 1606156902875,
     "user": {
      "displayName": "Leonardo Thurler",
      "photoUrl": "https://lh3.googleusercontent.com/a-/AOh14GhsXo-6tUwaShHAHh9mhAKCPxko9amceCKxJCpFkg=s64",
      "userId": "06725283277410010839"
     },
     "user_tz": 180
    },
    "id": "ypXYVnyK4JLW"
   },
   "outputs": [],
   "source": [
    "df['RESULTADO'] = lista\n",
    "df = df[df['RESULTADO']!='erro']"
   ]
  },
  {
   "cell_type": "code",
   "execution_count": 73,
   "metadata": {
    "colab": {
     "base_uri": "https://localhost:8080/",
     "height": 0
    },
    "executionInfo": {
     "elapsed": 59982,
     "status": "ok",
     "timestamp": 1606156902877,
     "user": {
      "displayName": "Leonardo Thurler",
      "photoUrl": "https://lh3.googleusercontent.com/a-/AOh14GhsXo-6tUwaShHAHh9mhAKCPxko9amceCKxJCpFkg=s64",
      "userId": "06725283277410010839"
     },
     "user_tz": 180
    },
    "id": "p5UBe4Op83jA",
    "outputId": "072f3ee3-9f50-4623-bcd5-ffd707d49788"
   },
   "outputs": [
    {
     "data": {
      "text/html": [
       "<div>\n",
       "<style scoped>\n",
       "    .dataframe tbody tr th:only-of-type {\n",
       "        vertical-align: middle;\n",
       "    }\n",
       "\n",
       "    .dataframe tbody tr th {\n",
       "        vertical-align: top;\n",
       "    }\n",
       "\n",
       "    .dataframe thead th {\n",
       "        text-align: right;\n",
       "    }\n",
       "</style>\n",
       "<table border=\"1\" class=\"dataframe\">\n",
       "  <thead>\n",
       "    <tr style=\"text-align: right;\">\n",
       "      <th></th>\n",
       "      <th>ID_PACIENTE</th>\n",
       "      <th>ID_ATENDIMENTO</th>\n",
       "      <th>DE_EXAME</th>\n",
       "      <th>DE_ANALITO</th>\n",
       "      <th>DE_RESULTADO</th>\n",
       "      <th>DE_VALOR_REFERENCIA</th>\n",
       "      <th>RESULTADO</th>\n",
       "    </tr>\n",
       "  </thead>\n",
       "  <tbody>\n",
       "    <tr>\n",
       "      <th>0</th>\n",
       "      <td>3487791F44C34B421C932DC8616A8437</td>\n",
       "      <td>F924F6CEA1539FEFDCE7C252DFA5AF99</td>\n",
       "      <td>Fosfatase Alcalina</td>\n",
       "      <td>Fosfatase Alcalina</td>\n",
       "      <td>106</td>\n",
       "      <td>40 - 129</td>\n",
       "      <td>Regular</td>\n",
       "    </tr>\n",
       "    <tr>\n",
       "      <th>1</th>\n",
       "      <td>3487791F44C34B421C932DC8616A8437</td>\n",
       "      <td>F924F6CEA1539FEFDCE7C252DFA5AF99</td>\n",
       "      <td>Gama Gt</td>\n",
       "      <td>Gama-GT</td>\n",
       "      <td>33</td>\n",
       "      <td>12 a 73</td>\n",
       "      <td>Regular</td>\n",
       "    </tr>\n",
       "    <tr>\n",
       "      <th>2</th>\n",
       "      <td>3487791F44C34B421C932DC8616A8437</td>\n",
       "      <td>F924F6CEA1539FEFDCE7C252DFA5AF99</td>\n",
       "      <td>Tgp</td>\n",
       "      <td>ALT (TGP)</td>\n",
       "      <td>51</td>\n",
       "      <td>Até 41</td>\n",
       "      <td>Iregular</td>\n",
       "    </tr>\n",
       "    <tr>\n",
       "      <th>3</th>\n",
       "      <td>3487791F44C34B421C932DC8616A8437</td>\n",
       "      <td>F924F6CEA1539FEFDCE7C252DFA5AF99</td>\n",
       "      <td>Desidrogenase Lática (DHL/L)</td>\n",
       "      <td>DHL</td>\n",
       "      <td>530</td>\n",
       "      <td>240 a 480</td>\n",
       "      <td>Iregular</td>\n",
       "    </tr>\n",
       "    <tr>\n",
       "      <th>5</th>\n",
       "      <td>3487791F44C34B421C932DC8616A8437</td>\n",
       "      <td>F924F6CEA1539FEFDCE7C252DFA5AF99</td>\n",
       "      <td>Tgo</td>\n",
       "      <td>AST (TGO)</td>\n",
       "      <td>35</td>\n",
       "      <td>Até 40</td>\n",
       "      <td>Regular</td>\n",
       "    </tr>\n",
       "    <tr>\n",
       "      <th>...</th>\n",
       "      <td>...</td>\n",
       "      <td>...</td>\n",
       "      <td>...</td>\n",
       "      <td>...</td>\n",
       "      <td>...</td>\n",
       "      <td>...</td>\n",
       "      <td>...</td>\n",
       "    </tr>\n",
       "    <tr>\n",
       "      <th>631346</th>\n",
       "      <td>885F6BBB7D21E0534D3661DF90A95EE7</td>\n",
       "      <td>2DA3DDF67951688C614BBDB6F40F0A87</td>\n",
       "      <td>D. Dimeros(Dimeros De Fibrina)</td>\n",
       "      <td>Dimeros D, quant</td>\n",
       "      <td>856</td>\n",
       "      <td>Até 500</td>\n",
       "      <td>Iregular</td>\n",
       "    </tr>\n",
       "    <tr>\n",
       "      <th>631347</th>\n",
       "      <td>885F6BBB7D21E0534D3661DF90A95EE7</td>\n",
       "      <td>2DA3DDF67951688C614BBDB6F40F0A87</td>\n",
       "      <td>Tempo E Ativid. Protrombina (Tp)</td>\n",
       "      <td>TP/INR</td>\n",
       "      <td>1,1</td>\n",
       "      <td>0,9 a 1,1</td>\n",
       "      <td>Iregular</td>\n",
       "    </tr>\n",
       "    <tr>\n",
       "      <th>631348</th>\n",
       "      <td>885F6BBB7D21E0534D3661DF90A95EE7</td>\n",
       "      <td>2DA3DDF67951688C614BBDB6F40F0A87</td>\n",
       "      <td>Tempo E Ativid. Protrombina (Tp)</td>\n",
       "      <td>Tempo de Protrombina</td>\n",
       "      <td>12,6</td>\n",
       "      <td>10,1 a 12,8</td>\n",
       "      <td>Regular</td>\n",
       "    </tr>\n",
       "    <tr>\n",
       "      <th>631349</th>\n",
       "      <td>885F6BBB7D21E0534D3661DF90A95EE7</td>\n",
       "      <td>2DA3DDF67951688C614BBDB6F40F0A87</td>\n",
       "      <td>Tempo Tromb.Parcial Ativada</td>\n",
       "      <td>TTPA</td>\n",
       "      <td>29,6</td>\n",
       "      <td>25,4 a 33,4</td>\n",
       "      <td>Regular</td>\n",
       "    </tr>\n",
       "    <tr>\n",
       "      <th>631350</th>\n",
       "      <td>885F6BBB7D21E0534D3661DF90A95EE7</td>\n",
       "      <td>2DA3DDF67951688C614BBDB6F40F0A87</td>\n",
       "      <td>Tempo Tromb.Parcial Ativada</td>\n",
       "      <td>TTPA - Paciente/Normal</td>\n",
       "      <td>1,03</td>\n",
       "      <td>0,91 a 1,20</td>\n",
       "      <td>Regular</td>\n",
       "    </tr>\n",
       "  </tbody>\n",
       "</table>\n",
       "<p>495157 rows × 7 columns</p>\n",
       "</div>"
      ],
      "text/plain": [
       "                             ID_PACIENTE  ... RESULTADO\n",
       "0       3487791F44C34B421C932DC8616A8437  ...   Regular\n",
       "1       3487791F44C34B421C932DC8616A8437  ...   Regular\n",
       "2       3487791F44C34B421C932DC8616A8437  ...  Iregular\n",
       "3       3487791F44C34B421C932DC8616A8437  ...  Iregular\n",
       "5       3487791F44C34B421C932DC8616A8437  ...   Regular\n",
       "...                                  ...  ...       ...\n",
       "631346  885F6BBB7D21E0534D3661DF90A95EE7  ...  Iregular\n",
       "631347  885F6BBB7D21E0534D3661DF90A95EE7  ...  Iregular\n",
       "631348  885F6BBB7D21E0534D3661DF90A95EE7  ...   Regular\n",
       "631349  885F6BBB7D21E0534D3661DF90A95EE7  ...   Regular\n",
       "631350  885F6BBB7D21E0534D3661DF90A95EE7  ...   Regular\n",
       "\n",
       "[495157 rows x 7 columns]"
      ]
     },
     "execution_count": 73,
     "metadata": {
      "tags": []
     },
     "output_type": "execute_result"
    }
   ],
   "source": [
    "df"
   ]
  },
  {
   "cell_type": "markdown",
   "metadata": {
    "id": "a7jRlkou4qR6"
   },
   "source": [
    "Código para diminuir número de tipos de exames"
   ]
  },
  {
   "cell_type": "code",
   "execution_count": 74,
   "metadata": {
    "executionInfo": {
     "elapsed": 117289,
     "status": "ok",
     "timestamp": 1606156960197,
     "user": {
      "displayName": "Leonardo Thurler",
      "photoUrl": "https://lh3.googleusercontent.com/a-/AOh14GhsXo-6tUwaShHAHh9mhAKCPxko9amceCKxJCpFkg=s64",
      "userId": "06725283277410010839"
     },
     "user_tz": 180
    },
    "id": "aJPl91Dj4vdK"
   },
   "outputs": [],
   "source": [
    "lista = []\n",
    "for i, data in enumerate(df.iloc):\n",
    "    split = data[2].split()\n",
    "    if split[0] == 'Sódio' or split[0] == 'Sódio,':\n",
    "        df.iloc[i,2] = 'Sódio'\n",
    "    if split[0] == 'Testosterona':\n",
    "        df.iloc[i,2] = 'Testosterona' \n",
    "    if split[0] == 'Triglicerídeos' or split[0] == 'Triglicérides':\n",
    "        df.iloc[i,2] = 'Testosterona'\n",
    "    if split[0] == 'Urina' or split[0] == 'Urina,':\n",
    "        df.iloc[i,2] = 'Urina'\n",
    "    if split[0] == 'Ácido' and (split[1] == 'Úrico' or split[1] == 'Úrico,'):\n",
    "        df.iloc[i,2] = 'Urina'\n",
    "    if split[0] == 'Rast':\n",
    "        df.iloc[i,2] = 'Rast'\n",
    "    if split[0] == 'Reticulócitos,':\n",
    "        df.iloc[i,2] = 'Reticulócitos'\n",
    "    if split[0] == 'Proteínas':\n",
    "        df.iloc[i,2] = 'Proteínas'\n",
    "    if split[0] == 'Potássio':\n",
    "        df.iloc[i,2] = 'Potássio'\n",
    "    if split[0] == 'Plaquetas,':\n",
    "        df.iloc[i,2] = 'Plaquetas'\n",
    "    if split[0] == 'Paratormonio' or split[0] == 'Paratormonio,':\n",
    "        df.iloc[i,2] = 'Paratormonio'\n",
    "    if split[0] == 'Linfócitos' or split[0] == 'Linfocitos':\n",
    "        df.iloc[i,2] = 'Linfócitos'\n",
    "    if split[0] == 'Imunoglobulina' or split[0] == 'Imunoglobulinas':\n",
    "        df.iloc[i,2] = 'Imunoglobulina'\n",
    "    if split[0] == 'Hepat.B':\n",
    "        df.iloc[i,2] = 'Hepat.B'\n",
    "    if split[0] == 'Glicemia':\n",
    "        df.iloc[i,2] = 'Glicemia'\n",
    "    if split[0] == 'Fostase':\n",
    "        df.iloc[i,2] = 'Fostase'\n",
    "    if split[0] == 'Dengue,':\n",
    "        df.iloc[i,2] = 'Dengue'\n",
    "    if split[0] == 'Cálcio':\n",
    "        df.iloc[i,2] = 'Cálcio'\n",
    "    if split[0] == 'Creatinina':\n",
    "        df.iloc[i,2] = 'Creatinina'\n",
    "    if split[0] == 'Colesterol':\n",
    "        df.iloc[i,2] = 'Colesterol'\n",
    "    if split[0] == 'Citomegalovírus' or split[0] == 'Citomegalovírus,':\n",
    "        df.iloc[i,2] = 'Citomegalovírus'\n",
    "    if split[0][:5] == 'COVID' or data[2] == 'Sorologia - Coronavírus, IgA' or data[2] == 'Sorologia - Coronavírus, IgG':\n",
    "        df.iloc[i,2] = 'COVID'\n",
    "    if data[2] == 'Detecção de Coronavírus (NCoV-2019) POR PCR (Anatomia Patológica)':\n",
    "        df.iloc[i,2] = 'COVID'\n",
    "    if split[0] == 'Mioglobina':\n",
    "        df.iloc[i,2] = 'Mioglobina'\n",
    "    if split[0] == 'Lactato':\n",
    "        df.iloc[i,2] = 'Lactato'\n",
    "    if split[0] == 'Fosfatase':\n",
    "        df.iloc[i,2] = 'Fosfatase'\n",
    "    if split[0] == 'Fósforo' and split[0] == 'Fósforo,':\n",
    "        df.iloc[i,2] = 'Lactato'\n",
    "    if split[0][:5] == 'Fezes':\n",
    "        df.iloc[i,2] = 'Fezes'\n",
    "    if split[0] == 'Ferro':\n",
    "        df.iloc[i,2] = 'Ferro'\n",
    "    if split[0] == 'Complemento' or split[0] == 'Complemento/O':\n",
    "        df.iloc[i,2] = 'Complemento C'\n",
    "    if split[0] == 'Cloro' and split[0] == 'Cloro,':\n",
    "        df.iloc[i,2] = 'Cloro'"
   ]
  },
  {
   "cell_type": "code",
   "execution_count": 75,
   "metadata": {
    "colab": {
     "base_uri": "https://localhost:8080/",
     "height": 0
    },
    "executionInfo": {
     "elapsed": 117279,
     "status": "ok",
     "timestamp": 1606156960199,
     "user": {
      "displayName": "Leonardo Thurler",
      "photoUrl": "https://lh3.googleusercontent.com/a-/AOh14GhsXo-6tUwaShHAHh9mhAKCPxko9amceCKxJCpFkg=s64",
      "userId": "06725283277410010839"
     },
     "user_tz": 180
    },
    "id": "PN96G3559KWg",
    "outputId": "678e7983-3ba7-46c2-9e10-b8b12f563ea7"
   },
   "outputs": [
    {
     "data": {
      "text/html": [
       "<div>\n",
       "<style scoped>\n",
       "    .dataframe tbody tr th:only-of-type {\n",
       "        vertical-align: middle;\n",
       "    }\n",
       "\n",
       "    .dataframe tbody tr th {\n",
       "        vertical-align: top;\n",
       "    }\n",
       "\n",
       "    .dataframe thead th {\n",
       "        text-align: right;\n",
       "    }\n",
       "</style>\n",
       "<table border=\"1\" class=\"dataframe\">\n",
       "  <thead>\n",
       "    <tr style=\"text-align: right;\">\n",
       "      <th></th>\n",
       "      <th>ID_PACIENTE</th>\n",
       "      <th>ID_ATENDIMENTO</th>\n",
       "      <th>DE_EXAME</th>\n",
       "      <th>DE_ANALITO</th>\n",
       "      <th>DE_RESULTADO</th>\n",
       "      <th>DE_VALOR_REFERENCIA</th>\n",
       "      <th>RESULTADO</th>\n",
       "    </tr>\n",
       "  </thead>\n",
       "  <tbody>\n",
       "    <tr>\n",
       "      <th>0</th>\n",
       "      <td>3487791F44C34B421C932DC8616A8437</td>\n",
       "      <td>F924F6CEA1539FEFDCE7C252DFA5AF99</td>\n",
       "      <td>Fosfatase</td>\n",
       "      <td>Fosfatase Alcalina</td>\n",
       "      <td>106</td>\n",
       "      <td>40 - 129</td>\n",
       "      <td>Regular</td>\n",
       "    </tr>\n",
       "    <tr>\n",
       "      <th>1</th>\n",
       "      <td>3487791F44C34B421C932DC8616A8437</td>\n",
       "      <td>F924F6CEA1539FEFDCE7C252DFA5AF99</td>\n",
       "      <td>Gama Gt</td>\n",
       "      <td>Gama-GT</td>\n",
       "      <td>33</td>\n",
       "      <td>12 a 73</td>\n",
       "      <td>Regular</td>\n",
       "    </tr>\n",
       "    <tr>\n",
       "      <th>2</th>\n",
       "      <td>3487791F44C34B421C932DC8616A8437</td>\n",
       "      <td>F924F6CEA1539FEFDCE7C252DFA5AF99</td>\n",
       "      <td>Tgp</td>\n",
       "      <td>ALT (TGP)</td>\n",
       "      <td>51</td>\n",
       "      <td>Até 41</td>\n",
       "      <td>Iregular</td>\n",
       "    </tr>\n",
       "    <tr>\n",
       "      <th>3</th>\n",
       "      <td>3487791F44C34B421C932DC8616A8437</td>\n",
       "      <td>F924F6CEA1539FEFDCE7C252DFA5AF99</td>\n",
       "      <td>Desidrogenase Lática (DHL/L)</td>\n",
       "      <td>DHL</td>\n",
       "      <td>530</td>\n",
       "      <td>240 a 480</td>\n",
       "      <td>Iregular</td>\n",
       "    </tr>\n",
       "    <tr>\n",
       "      <th>5</th>\n",
       "      <td>3487791F44C34B421C932DC8616A8437</td>\n",
       "      <td>F924F6CEA1539FEFDCE7C252DFA5AF99</td>\n",
       "      <td>Tgo</td>\n",
       "      <td>AST (TGO)</td>\n",
       "      <td>35</td>\n",
       "      <td>Até 40</td>\n",
       "      <td>Regular</td>\n",
       "    </tr>\n",
       "    <tr>\n",
       "      <th>...</th>\n",
       "      <td>...</td>\n",
       "      <td>...</td>\n",
       "      <td>...</td>\n",
       "      <td>...</td>\n",
       "      <td>...</td>\n",
       "      <td>...</td>\n",
       "      <td>...</td>\n",
       "    </tr>\n",
       "    <tr>\n",
       "      <th>631346</th>\n",
       "      <td>885F6BBB7D21E0534D3661DF90A95EE7</td>\n",
       "      <td>2DA3DDF67951688C614BBDB6F40F0A87</td>\n",
       "      <td>D. Dimeros(Dimeros De Fibrina)</td>\n",
       "      <td>Dimeros D, quant</td>\n",
       "      <td>856</td>\n",
       "      <td>Até 500</td>\n",
       "      <td>Iregular</td>\n",
       "    </tr>\n",
       "    <tr>\n",
       "      <th>631347</th>\n",
       "      <td>885F6BBB7D21E0534D3661DF90A95EE7</td>\n",
       "      <td>2DA3DDF67951688C614BBDB6F40F0A87</td>\n",
       "      <td>Tempo E Ativid. Protrombina (Tp)</td>\n",
       "      <td>TP/INR</td>\n",
       "      <td>1,1</td>\n",
       "      <td>0,9 a 1,1</td>\n",
       "      <td>Iregular</td>\n",
       "    </tr>\n",
       "    <tr>\n",
       "      <th>631348</th>\n",
       "      <td>885F6BBB7D21E0534D3661DF90A95EE7</td>\n",
       "      <td>2DA3DDF67951688C614BBDB6F40F0A87</td>\n",
       "      <td>Tempo E Ativid. Protrombina (Tp)</td>\n",
       "      <td>Tempo de Protrombina</td>\n",
       "      <td>12,6</td>\n",
       "      <td>10,1 a 12,8</td>\n",
       "      <td>Regular</td>\n",
       "    </tr>\n",
       "    <tr>\n",
       "      <th>631349</th>\n",
       "      <td>885F6BBB7D21E0534D3661DF90A95EE7</td>\n",
       "      <td>2DA3DDF67951688C614BBDB6F40F0A87</td>\n",
       "      <td>Tempo Tromb.Parcial Ativada</td>\n",
       "      <td>TTPA</td>\n",
       "      <td>29,6</td>\n",
       "      <td>25,4 a 33,4</td>\n",
       "      <td>Regular</td>\n",
       "    </tr>\n",
       "    <tr>\n",
       "      <th>631350</th>\n",
       "      <td>885F6BBB7D21E0534D3661DF90A95EE7</td>\n",
       "      <td>2DA3DDF67951688C614BBDB6F40F0A87</td>\n",
       "      <td>Tempo Tromb.Parcial Ativada</td>\n",
       "      <td>TTPA - Paciente/Normal</td>\n",
       "      <td>1,03</td>\n",
       "      <td>0,91 a 1,20</td>\n",
       "      <td>Regular</td>\n",
       "    </tr>\n",
       "  </tbody>\n",
       "</table>\n",
       "<p>495157 rows × 7 columns</p>\n",
       "</div>"
      ],
      "text/plain": [
       "                             ID_PACIENTE  ... RESULTADO\n",
       "0       3487791F44C34B421C932DC8616A8437  ...   Regular\n",
       "1       3487791F44C34B421C932DC8616A8437  ...   Regular\n",
       "2       3487791F44C34B421C932DC8616A8437  ...  Iregular\n",
       "3       3487791F44C34B421C932DC8616A8437  ...  Iregular\n",
       "5       3487791F44C34B421C932DC8616A8437  ...   Regular\n",
       "...                                  ...  ...       ...\n",
       "631346  885F6BBB7D21E0534D3661DF90A95EE7  ...  Iregular\n",
       "631347  885F6BBB7D21E0534D3661DF90A95EE7  ...  Iregular\n",
       "631348  885F6BBB7D21E0534D3661DF90A95EE7  ...   Regular\n",
       "631349  885F6BBB7D21E0534D3661DF90A95EE7  ...   Regular\n",
       "631350  885F6BBB7D21E0534D3661DF90A95EE7  ...   Regular\n",
       "\n",
       "[495157 rows x 7 columns]"
      ]
     },
     "execution_count": 75,
     "metadata": {
      "tags": []
     },
     "output_type": "execute_result"
    }
   ],
   "source": [
    "df"
   ]
  },
  {
   "cell_type": "code",
   "execution_count": 76,
   "metadata": {
    "colab": {
     "base_uri": "https://localhost:8080/"
    },
    "executionInfo": {
     "elapsed": 117266,
     "status": "ok",
     "timestamp": 1606156960199,
     "user": {
      "displayName": "Leonardo Thurler",
      "photoUrl": "https://lh3.googleusercontent.com/a-/AOh14GhsXo-6tUwaShHAHh9mhAKCPxko9amceCKxJCpFkg=s64",
      "userId": "06725283277410010839"
     },
     "user_tz": 180
    },
    "id": "MUpxSZnI7pR-",
    "outputId": "6da8ff06-2677-4e74-e415-3388ef196246"
   },
   "outputs": [
    {
     "data": {
      "text/plain": [
       "308"
      ]
     },
     "execution_count": 76,
     "metadata": {
      "tags": []
     },
     "output_type": "execute_result"
    }
   ],
   "source": [
    "len(df['DE_EXAME'].unique())"
   ]
  },
  {
   "cell_type": "markdown",
   "metadata": {
    "id": "yROcvnRo4z-5"
   },
   "source": [
    "Removendo vírgulas"
   ]
  },
  {
   "cell_type": "code",
   "execution_count": 77,
   "metadata": {
    "executionInfo": {
     "elapsed": 248858,
     "status": "ok",
     "timestamp": 1606157091803,
     "user": {
      "displayName": "Leonardo Thurler",
      "photoUrl": "https://lh3.googleusercontent.com/a-/AOh14GhsXo-6tUwaShHAHh9mhAKCPxko9amceCKxJCpFkg=s64",
      "userId": "06725283277410010839"
     },
     "user_tz": 180
    },
    "id": "OHajyG7U42uD"
   },
   "outputs": [],
   "source": [
    "for i, data in enumerate(df.iloc):\n",
    "    df.iloc[i,2] = df.iloc[i,2].replace(',','')"
   ]
  },
  {
   "cell_type": "code",
   "execution_count": 78,
   "metadata": {
    "colab": {
     "base_uri": "https://localhost:8080/",
     "height": 0
    },
    "executionInfo": {
     "elapsed": 248847,
     "status": "ok",
     "timestamp": 1606157091804,
     "user": {
      "displayName": "Leonardo Thurler",
      "photoUrl": "https://lh3.googleusercontent.com/a-/AOh14GhsXo-6tUwaShHAHh9mhAKCPxko9amceCKxJCpFkg=s64",
      "userId": "06725283277410010839"
     },
     "user_tz": 180
    },
    "id": "3xePyOpaCG5W",
    "outputId": "2b7ce935-5c49-444e-f523-69bd60d6fd44"
   },
   "outputs": [
    {
     "data": {
      "text/html": [
       "<div>\n",
       "<style scoped>\n",
       "    .dataframe tbody tr th:only-of-type {\n",
       "        vertical-align: middle;\n",
       "    }\n",
       "\n",
       "    .dataframe tbody tr th {\n",
       "        vertical-align: top;\n",
       "    }\n",
       "\n",
       "    .dataframe thead th {\n",
       "        text-align: right;\n",
       "    }\n",
       "</style>\n",
       "<table border=\"1\" class=\"dataframe\">\n",
       "  <thead>\n",
       "    <tr style=\"text-align: right;\">\n",
       "      <th></th>\n",
       "      <th>ID_PACIENTE</th>\n",
       "      <th>ID_ATENDIMENTO</th>\n",
       "      <th>DE_EXAME</th>\n",
       "      <th>DE_ANALITO</th>\n",
       "      <th>DE_RESULTADO</th>\n",
       "      <th>DE_VALOR_REFERENCIA</th>\n",
       "      <th>RESULTADO</th>\n",
       "    </tr>\n",
       "  </thead>\n",
       "  <tbody>\n",
       "    <tr>\n",
       "      <th>0</th>\n",
       "      <td>3487791F44C34B421C932DC8616A8437</td>\n",
       "      <td>F924F6CEA1539FEFDCE7C252DFA5AF99</td>\n",
       "      <td>Fosfatase</td>\n",
       "      <td>Fosfatase Alcalina</td>\n",
       "      <td>106</td>\n",
       "      <td>40 - 129</td>\n",
       "      <td>Regular</td>\n",
       "    </tr>\n",
       "    <tr>\n",
       "      <th>1</th>\n",
       "      <td>3487791F44C34B421C932DC8616A8437</td>\n",
       "      <td>F924F6CEA1539FEFDCE7C252DFA5AF99</td>\n",
       "      <td>Gama Gt</td>\n",
       "      <td>Gama-GT</td>\n",
       "      <td>33</td>\n",
       "      <td>12 a 73</td>\n",
       "      <td>Regular</td>\n",
       "    </tr>\n",
       "    <tr>\n",
       "      <th>2</th>\n",
       "      <td>3487791F44C34B421C932DC8616A8437</td>\n",
       "      <td>F924F6CEA1539FEFDCE7C252DFA5AF99</td>\n",
       "      <td>Tgp</td>\n",
       "      <td>ALT (TGP)</td>\n",
       "      <td>51</td>\n",
       "      <td>Até 41</td>\n",
       "      <td>Iregular</td>\n",
       "    </tr>\n",
       "    <tr>\n",
       "      <th>3</th>\n",
       "      <td>3487791F44C34B421C932DC8616A8437</td>\n",
       "      <td>F924F6CEA1539FEFDCE7C252DFA5AF99</td>\n",
       "      <td>Desidrogenase Lática (DHL/L)</td>\n",
       "      <td>DHL</td>\n",
       "      <td>530</td>\n",
       "      <td>240 a 480</td>\n",
       "      <td>Iregular</td>\n",
       "    </tr>\n",
       "    <tr>\n",
       "      <th>5</th>\n",
       "      <td>3487791F44C34B421C932DC8616A8437</td>\n",
       "      <td>F924F6CEA1539FEFDCE7C252DFA5AF99</td>\n",
       "      <td>Tgo</td>\n",
       "      <td>AST (TGO)</td>\n",
       "      <td>35</td>\n",
       "      <td>Até 40</td>\n",
       "      <td>Regular</td>\n",
       "    </tr>\n",
       "    <tr>\n",
       "      <th>...</th>\n",
       "      <td>...</td>\n",
       "      <td>...</td>\n",
       "      <td>...</td>\n",
       "      <td>...</td>\n",
       "      <td>...</td>\n",
       "      <td>...</td>\n",
       "      <td>...</td>\n",
       "    </tr>\n",
       "    <tr>\n",
       "      <th>631346</th>\n",
       "      <td>885F6BBB7D21E0534D3661DF90A95EE7</td>\n",
       "      <td>2DA3DDF67951688C614BBDB6F40F0A87</td>\n",
       "      <td>D. Dimeros(Dimeros De Fibrina)</td>\n",
       "      <td>Dimeros D, quant</td>\n",
       "      <td>856</td>\n",
       "      <td>Até 500</td>\n",
       "      <td>Iregular</td>\n",
       "    </tr>\n",
       "    <tr>\n",
       "      <th>631347</th>\n",
       "      <td>885F6BBB7D21E0534D3661DF90A95EE7</td>\n",
       "      <td>2DA3DDF67951688C614BBDB6F40F0A87</td>\n",
       "      <td>Tempo E Ativid. Protrombina (Tp)</td>\n",
       "      <td>TP/INR</td>\n",
       "      <td>1,1</td>\n",
       "      <td>0,9 a 1,1</td>\n",
       "      <td>Iregular</td>\n",
       "    </tr>\n",
       "    <tr>\n",
       "      <th>631348</th>\n",
       "      <td>885F6BBB7D21E0534D3661DF90A95EE7</td>\n",
       "      <td>2DA3DDF67951688C614BBDB6F40F0A87</td>\n",
       "      <td>Tempo E Ativid. Protrombina (Tp)</td>\n",
       "      <td>Tempo de Protrombina</td>\n",
       "      <td>12,6</td>\n",
       "      <td>10,1 a 12,8</td>\n",
       "      <td>Regular</td>\n",
       "    </tr>\n",
       "    <tr>\n",
       "      <th>631349</th>\n",
       "      <td>885F6BBB7D21E0534D3661DF90A95EE7</td>\n",
       "      <td>2DA3DDF67951688C614BBDB6F40F0A87</td>\n",
       "      <td>Tempo Tromb.Parcial Ativada</td>\n",
       "      <td>TTPA</td>\n",
       "      <td>29,6</td>\n",
       "      <td>25,4 a 33,4</td>\n",
       "      <td>Regular</td>\n",
       "    </tr>\n",
       "    <tr>\n",
       "      <th>631350</th>\n",
       "      <td>885F6BBB7D21E0534D3661DF90A95EE7</td>\n",
       "      <td>2DA3DDF67951688C614BBDB6F40F0A87</td>\n",
       "      <td>Tempo Tromb.Parcial Ativada</td>\n",
       "      <td>TTPA - Paciente/Normal</td>\n",
       "      <td>1,03</td>\n",
       "      <td>0,91 a 1,20</td>\n",
       "      <td>Regular</td>\n",
       "    </tr>\n",
       "  </tbody>\n",
       "</table>\n",
       "<p>495157 rows × 7 columns</p>\n",
       "</div>"
      ],
      "text/plain": [
       "                             ID_PACIENTE  ... RESULTADO\n",
       "0       3487791F44C34B421C932DC8616A8437  ...   Regular\n",
       "1       3487791F44C34B421C932DC8616A8437  ...   Regular\n",
       "2       3487791F44C34B421C932DC8616A8437  ...  Iregular\n",
       "3       3487791F44C34B421C932DC8616A8437  ...  Iregular\n",
       "5       3487791F44C34B421C932DC8616A8437  ...   Regular\n",
       "...                                  ...  ...       ...\n",
       "631346  885F6BBB7D21E0534D3661DF90A95EE7  ...  Iregular\n",
       "631347  885F6BBB7D21E0534D3661DF90A95EE7  ...  Iregular\n",
       "631348  885F6BBB7D21E0534D3661DF90A95EE7  ...   Regular\n",
       "631349  885F6BBB7D21E0534D3661DF90A95EE7  ...   Regular\n",
       "631350  885F6BBB7D21E0534D3661DF90A95EE7  ...   Regular\n",
       "\n",
       "[495157 rows x 7 columns]"
      ]
     },
     "execution_count": 78,
     "metadata": {
      "tags": []
     },
     "output_type": "execute_result"
    }
   ],
   "source": [
    "df"
   ]
  },
  {
   "cell_type": "markdown",
   "metadata": {
    "id": "dQopsViz48pn"
   },
   "source": [
    "Removendo mais atributos não relevantes"
   ]
  },
  {
   "cell_type": "code",
   "execution_count": 79,
   "metadata": {
    "executionInfo": {
     "elapsed": 248839,
     "status": "ok",
     "timestamp": 1606157091805,
     "user": {
      "displayName": "Leonardo Thurler",
      "photoUrl": "https://lh3.googleusercontent.com/a-/AOh14GhsXo-6tUwaShHAHh9mhAKCPxko9amceCKxJCpFkg=s64",
      "userId": "06725283277410010839"
     },
     "user_tz": 180
    },
    "id": "A30wf1wj49Ig"
   },
   "outputs": [],
   "source": [
    "df = df.drop(['DE_RESULTADO','DE_VALOR_REFERENCIA'],axis=1)\n",
    "df = df.drop(['ID_ATENDIMENTO'],axis=1)"
   ]
  },
  {
   "cell_type": "markdown",
   "metadata": {
    "id": "UR4cMDAG5FRI"
   },
   "source": [
    "Visualização do novo dataframe"
   ]
  },
  {
   "cell_type": "code",
   "execution_count": 80,
   "metadata": {
    "colab": {
     "base_uri": "https://localhost:8080/",
     "height": 0
    },
    "executionInfo": {
     "elapsed": 248831,
     "status": "ok",
     "timestamp": 1606157091806,
     "user": {
      "displayName": "Leonardo Thurler",
      "photoUrl": "https://lh3.googleusercontent.com/a-/AOh14GhsXo-6tUwaShHAHh9mhAKCPxko9amceCKxJCpFkg=s64",
      "userId": "06725283277410010839"
     },
     "user_tz": 180
    },
    "id": "K1l00dVV5KRZ",
    "outputId": "fc796a4c-32c1-455a-f103-8cccac6980c6"
   },
   "outputs": [
    {
     "data": {
      "text/html": [
       "<div>\n",
       "<style scoped>\n",
       "    .dataframe tbody tr th:only-of-type {\n",
       "        vertical-align: middle;\n",
       "    }\n",
       "\n",
       "    .dataframe tbody tr th {\n",
       "        vertical-align: top;\n",
       "    }\n",
       "\n",
       "    .dataframe thead th {\n",
       "        text-align: right;\n",
       "    }\n",
       "</style>\n",
       "<table border=\"1\" class=\"dataframe\">\n",
       "  <thead>\n",
       "    <tr style=\"text-align: right;\">\n",
       "      <th></th>\n",
       "      <th>ID_PACIENTE</th>\n",
       "      <th>DE_EXAME</th>\n",
       "      <th>DE_ANALITO</th>\n",
       "      <th>RESULTADO</th>\n",
       "    </tr>\n",
       "  </thead>\n",
       "  <tbody>\n",
       "    <tr>\n",
       "      <th>0</th>\n",
       "      <td>3487791F44C34B421C932DC8616A8437</td>\n",
       "      <td>Fosfatase</td>\n",
       "      <td>Fosfatase Alcalina</td>\n",
       "      <td>Regular</td>\n",
       "    </tr>\n",
       "    <tr>\n",
       "      <th>1</th>\n",
       "      <td>3487791F44C34B421C932DC8616A8437</td>\n",
       "      <td>Gama Gt</td>\n",
       "      <td>Gama-GT</td>\n",
       "      <td>Regular</td>\n",
       "    </tr>\n",
       "    <tr>\n",
       "      <th>2</th>\n",
       "      <td>3487791F44C34B421C932DC8616A8437</td>\n",
       "      <td>Tgp</td>\n",
       "      <td>ALT (TGP)</td>\n",
       "      <td>Iregular</td>\n",
       "    </tr>\n",
       "    <tr>\n",
       "      <th>3</th>\n",
       "      <td>3487791F44C34B421C932DC8616A8437</td>\n",
       "      <td>Desidrogenase Lática (DHL/L)</td>\n",
       "      <td>DHL</td>\n",
       "      <td>Iregular</td>\n",
       "    </tr>\n",
       "    <tr>\n",
       "      <th>5</th>\n",
       "      <td>3487791F44C34B421C932DC8616A8437</td>\n",
       "      <td>Tgo</td>\n",
       "      <td>AST (TGO)</td>\n",
       "      <td>Regular</td>\n",
       "    </tr>\n",
       "    <tr>\n",
       "      <th>...</th>\n",
       "      <td>...</td>\n",
       "      <td>...</td>\n",
       "      <td>...</td>\n",
       "      <td>...</td>\n",
       "    </tr>\n",
       "    <tr>\n",
       "      <th>631346</th>\n",
       "      <td>885F6BBB7D21E0534D3661DF90A95EE7</td>\n",
       "      <td>D. Dimeros(Dimeros De Fibrina)</td>\n",
       "      <td>Dimeros D, quant</td>\n",
       "      <td>Iregular</td>\n",
       "    </tr>\n",
       "    <tr>\n",
       "      <th>631347</th>\n",
       "      <td>885F6BBB7D21E0534D3661DF90A95EE7</td>\n",
       "      <td>Tempo E Ativid. Protrombina (Tp)</td>\n",
       "      <td>TP/INR</td>\n",
       "      <td>Iregular</td>\n",
       "    </tr>\n",
       "    <tr>\n",
       "      <th>631348</th>\n",
       "      <td>885F6BBB7D21E0534D3661DF90A95EE7</td>\n",
       "      <td>Tempo E Ativid. Protrombina (Tp)</td>\n",
       "      <td>Tempo de Protrombina</td>\n",
       "      <td>Regular</td>\n",
       "    </tr>\n",
       "    <tr>\n",
       "      <th>631349</th>\n",
       "      <td>885F6BBB7D21E0534D3661DF90A95EE7</td>\n",
       "      <td>Tempo Tromb.Parcial Ativada</td>\n",
       "      <td>TTPA</td>\n",
       "      <td>Regular</td>\n",
       "    </tr>\n",
       "    <tr>\n",
       "      <th>631350</th>\n",
       "      <td>885F6BBB7D21E0534D3661DF90A95EE7</td>\n",
       "      <td>Tempo Tromb.Parcial Ativada</td>\n",
       "      <td>TTPA - Paciente/Normal</td>\n",
       "      <td>Regular</td>\n",
       "    </tr>\n",
       "  </tbody>\n",
       "</table>\n",
       "<p>495157 rows × 4 columns</p>\n",
       "</div>"
      ],
      "text/plain": [
       "                             ID_PACIENTE  ... RESULTADO\n",
       "0       3487791F44C34B421C932DC8616A8437  ...   Regular\n",
       "1       3487791F44C34B421C932DC8616A8437  ...   Regular\n",
       "2       3487791F44C34B421C932DC8616A8437  ...  Iregular\n",
       "3       3487791F44C34B421C932DC8616A8437  ...  Iregular\n",
       "5       3487791F44C34B421C932DC8616A8437  ...   Regular\n",
       "...                                  ...  ...       ...\n",
       "631346  885F6BBB7D21E0534D3661DF90A95EE7  ...  Iregular\n",
       "631347  885F6BBB7D21E0534D3661DF90A95EE7  ...  Iregular\n",
       "631348  885F6BBB7D21E0534D3661DF90A95EE7  ...   Regular\n",
       "631349  885F6BBB7D21E0534D3661DF90A95EE7  ...   Regular\n",
       "631350  885F6BBB7D21E0534D3661DF90A95EE7  ...   Regular\n",
       "\n",
       "[495157 rows x 4 columns]"
      ]
     },
     "execution_count": 80,
     "metadata": {
      "tags": []
     },
     "output_type": "execute_result"
    }
   ],
   "source": [
    "df"
   ]
  },
  {
   "cell_type": "markdown",
   "metadata": {
    "id": "-fHOxJPi6HB1"
   },
   "source": [
    "Deletando duplicatas"
   ]
  },
  {
   "cell_type": "code",
   "execution_count": 81,
   "metadata": {
    "executionInfo": {
     "elapsed": 248822,
     "status": "ok",
     "timestamp": 1606157091807,
     "user": {
      "displayName": "Leonardo Thurler",
      "photoUrl": "https://lh3.googleusercontent.com/a-/AOh14GhsXo-6tUwaShHAHh9mhAKCPxko9amceCKxJCpFkg=s64",
      "userId": "06725283277410010839"
     },
     "user_tz": 180
    },
    "id": "0apkyXuC6KMz"
   },
   "outputs": [],
   "source": [
    "df_juntos = df.drop_duplicates('ID_PACIENTE')"
   ]
  },
  {
   "cell_type": "markdown",
   "metadata": {
    "id": "GDsH8g6B6U2o"
   },
   "source": [
    "Coletando os diferentes IDs"
   ]
  },
  {
   "cell_type": "code",
   "execution_count": 82,
   "metadata": {
    "executionInfo": {
     "elapsed": 248814,
     "status": "ok",
     "timestamp": 1606157091808,
     "user": {
      "displayName": "Leonardo Thurler",
      "photoUrl": "https://lh3.googleusercontent.com/a-/AOh14GhsXo-6tUwaShHAHh9mhAKCPxko9amceCKxJCpFkg=s64",
      "userId": "06725283277410010839"
     },
     "user_tz": 180
    },
    "id": "ujHY-7M56Z6T"
   },
   "outputs": [],
   "source": [
    "unique=df_juntos['ID_PACIENTE']"
   ]
  },
  {
   "cell_type": "markdown",
   "metadata": {
    "id": "SGnawyG26heL"
   },
   "source": [
    "Código para unir os exames e resultados em um único ID"
   ]
  },
  {
   "cell_type": "code",
   "execution_count": 83,
   "metadata": {
    "colab": {
     "base_uri": "https://localhost:8080/"
    },
    "executionInfo": {
     "elapsed": 299521,
     "status": "ok",
     "timestamp": 1606157142524,
     "user": {
      "displayName": "Leonardo Thurler",
      "photoUrl": "https://lh3.googleusercontent.com/a-/AOh14GhsXo-6tUwaShHAHh9mhAKCPxko9amceCKxJCpFkg=s64",
      "userId": "06725283277410010839"
     },
     "user_tz": 180
    },
    "id": "HWCX9FFB7At-",
    "outputId": "ae6d69ed-707d-4ba0-c105-dbbd19645b81"
   },
   "outputs": [
    {
     "name": "stderr",
     "output_type": "stream",
     "text": [
      "/usr/local/lib/python3.6/dist-packages/ipykernel_launcher.py:22: SettingWithCopyWarning: \n",
      "A value is trying to be set on a copy of a slice from a DataFrame.\n",
      "Try using .loc[row_indexer,col_indexer] = value instead\n",
      "\n",
      "See the caveats in the documentation: https://pandas.pydata.org/pandas-docs/stable/user_guide/indexing.html#returning-a-view-versus-a-copy\n",
      "/usr/local/lib/python3.6/dist-packages/ipykernel_launcher.py:23: SettingWithCopyWarning: \n",
      "A value is trying to be set on a copy of a slice from a DataFrame.\n",
      "Try using .loc[row_indexer,col_indexer] = value instead\n",
      "\n",
      "See the caveats in the documentation: https://pandas.pydata.org/pandas-docs/stable/user_guide/indexing.html#returning-a-view-versus-a-copy\n",
      "/usr/local/lib/python3.6/dist-packages/ipykernel_launcher.py:24: SettingWithCopyWarning: \n",
      "A value is trying to be set on a copy of a slice from a DataFrame.\n",
      "Try using .loc[row_indexer,col_indexer] = value instead\n",
      "\n",
      "See the caveats in the documentation: https://pandas.pydata.org/pandas-docs/stable/user_guide/indexing.html#returning-a-view-versus-a-copy\n",
      "/usr/local/lib/python3.6/dist-packages/ipykernel_launcher.py:25: SettingWithCopyWarning: \n",
      "A value is trying to be set on a copy of a slice from a DataFrame.\n",
      "Try using .loc[row_indexer,col_indexer] = value instead\n",
      "\n",
      "See the caveats in the documentation: https://pandas.pydata.org/pandas-docs/stable/user_guide/indexing.html#returning-a-view-versus-a-copy\n"
     ]
    }
   ],
   "source": [
    "dic={}\n",
    "for i,id in enumerate(unique):\n",
    "    dic[id]=i\n",
    "exames = ['']*len(unique)\n",
    "problemas = ['']*len(unique)\n",
    "resultado = ['']*len(unique)\n",
    "total_exames = [0]*len(unique)\n",
    "total_problemas = [0]*len(unique)\n",
    "for data in df.iloc:\n",
    "    if data[0] in dic:\n",
    "        total_exames[dic[data[0]]] += 1\n",
    "        if exames[dic[data[0]]] == '':\n",
    "            exames[dic[data[0]]]+=str(data[1])\n",
    "        else:\n",
    "            exames[dic[data[0]]]+=','+str(data[1])\n",
    "        if data[3] == 'Iregular':\n",
    "            total_problemas[dic[data[0]]] += 1\n",
    "            if problemas[dic[data[0]]] == '':\n",
    "                problemas[dic[data[0]]]+=str(data[1])\n",
    "            else:\n",
    "                problemas[dic[data[0]]]+=','+str(data[1])\n",
    "df_juntos['exames'] = exames\n",
    "df_juntos['problemas'] = problemas\n",
    "df_juntos['total_exames'] = total_exames\n",
    "df_juntos['total_problemas'] = total_problemas"
   ]
  },
  {
   "cell_type": "markdown",
   "metadata": {
    "id": "qAMn-hd37LRb"
   },
   "source": [
    "Removendo mais atributos não ncessários"
   ]
  },
  {
   "cell_type": "code",
   "execution_count": 84,
   "metadata": {
    "colab": {
     "base_uri": "https://localhost:8080/",
     "height": 0
    },
    "executionInfo": {
     "elapsed": 299512,
     "status": "ok",
     "timestamp": 1606157142526,
     "user": {
      "displayName": "Leonardo Thurler",
      "photoUrl": "https://lh3.googleusercontent.com/a-/AOh14GhsXo-6tUwaShHAHh9mhAKCPxko9amceCKxJCpFkg=s64",
      "userId": "06725283277410010839"
     },
     "user_tz": 180
    },
    "id": "3Xo8_vRBADTc",
    "outputId": "3196963f-3077-456c-c1e6-33c97c74c826"
   },
   "outputs": [
    {
     "data": {
      "text/html": [
       "<div>\n",
       "<style scoped>\n",
       "    .dataframe tbody tr th:only-of-type {\n",
       "        vertical-align: middle;\n",
       "    }\n",
       "\n",
       "    .dataframe tbody tr th {\n",
       "        vertical-align: top;\n",
       "    }\n",
       "\n",
       "    .dataframe thead th {\n",
       "        text-align: right;\n",
       "    }\n",
       "</style>\n",
       "<table border=\"1\" class=\"dataframe\">\n",
       "  <thead>\n",
       "    <tr style=\"text-align: right;\">\n",
       "      <th></th>\n",
       "      <th>ID_PACIENTE</th>\n",
       "      <th>DE_EXAME</th>\n",
       "      <th>DE_ANALITO</th>\n",
       "      <th>RESULTADO</th>\n",
       "      <th>exames</th>\n",
       "      <th>problemas</th>\n",
       "      <th>total_exames</th>\n",
       "      <th>total_problemas</th>\n",
       "    </tr>\n",
       "  </thead>\n",
       "  <tbody>\n",
       "    <tr>\n",
       "      <th>0</th>\n",
       "      <td>3487791F44C34B421C932DC8616A8437</td>\n",
       "      <td>Fosfatase</td>\n",
       "      <td>Fosfatase Alcalina</td>\n",
       "      <td>Regular</td>\n",
       "      <td>Fosfatase,Gama Gt,Tgp,Desidrogenase Lática (DH...</td>\n",
       "      <td>Tgp,Desidrogenase Lática (DHL/L),Fibrinogênio ...</td>\n",
       "      <td>109</td>\n",
       "      <td>38</td>\n",
       "    </tr>\n",
       "    <tr>\n",
       "      <th>149</th>\n",
       "      <td>0AD1FFA4419472256666A3445414F1F9</td>\n",
       "      <td>COVID</td>\n",
       "      <td>Coronavírus (2019-nCoV)</td>\n",
       "      <td>Iregular</td>\n",
       "      <td>COVID</td>\n",
       "      <td>COVID</td>\n",
       "      <td>1</td>\n",
       "      <td>1</td>\n",
       "    </tr>\n",
       "    <tr>\n",
       "      <th>151</th>\n",
       "      <td>B8A474D172DDB5BAD11F088BDA20BE96</td>\n",
       "      <td>Interleucina 6 soro</td>\n",
       "      <td>Interleucina 6</td>\n",
       "      <td>Iregular</td>\n",
       "      <td>Interleucina 6 soro,Urina,Urina,Urina,Urina,Ur...</td>\n",
       "      <td>Interleucina 6 soro,Urina,Urina,Urina,Urina,Ur...</td>\n",
       "      <td>155</td>\n",
       "      <td>70</td>\n",
       "    </tr>\n",
       "    <tr>\n",
       "      <th>348</th>\n",
       "      <td>FD6F18D3E9DA3ADD5179E6B3EA21ABB2</td>\n",
       "      <td>COVID</td>\n",
       "      <td>Coronavírus (2019-nCoV)</td>\n",
       "      <td>Iregular</td>\n",
       "      <td>COVID</td>\n",
       "      <td>COVID</td>\n",
       "      <td>1</td>\n",
       "      <td>1</td>\n",
       "    </tr>\n",
       "    <tr>\n",
       "      <th>350</th>\n",
       "      <td>3B9836D0E92704BFAB0B2E691D0A3BAE</td>\n",
       "      <td>Antígeno Influenza Teste Rápido (AGINFLU)</td>\n",
       "      <td>Influenza A e B - teste rápido</td>\n",
       "      <td>Regular</td>\n",
       "      <td>Antígeno Influenza Teste Rápido (AGINFLU),COVI...</td>\n",
       "      <td>COVID</td>\n",
       "      <td>4</td>\n",
       "      <td>1</td>\n",
       "    </tr>\n",
       "    <tr>\n",
       "      <th>...</th>\n",
       "      <td>...</td>\n",
       "      <td>...</td>\n",
       "      <td>...</td>\n",
       "      <td>...</td>\n",
       "      <td>...</td>\n",
       "      <td>...</td>\n",
       "      <td>...</td>\n",
       "      <td>...</td>\n",
       "    </tr>\n",
       "    <tr>\n",
       "      <th>631197</th>\n",
       "      <td>782656BA1BADE181CC5B4DE5792C91BE</td>\n",
       "      <td>COVID</td>\n",
       "      <td>Detecção de Coronavírus (NCoV-2019) POR PCR (A...</td>\n",
       "      <td>Iregular</td>\n",
       "      <td>COVID,Hemograma,Hemograma,Hemograma,Hemograma,...</td>\n",
       "      <td>COVID,Hemograma,Hemograma,Hemograma,Hemograma,...</td>\n",
       "      <td>75</td>\n",
       "      <td>26</td>\n",
       "    </tr>\n",
       "    <tr>\n",
       "      <th>631295</th>\n",
       "      <td>74CC17F4F6DDAB860A70F7CCC2F8CF82</td>\n",
       "      <td>COVID</td>\n",
       "      <td>Coronavírus (2019-nCoV)</td>\n",
       "      <td>Iregular</td>\n",
       "      <td>COVID,Antígeno Influenza Teste Rápido (AGINFLU)</td>\n",
       "      <td>COVID</td>\n",
       "      <td>2</td>\n",
       "      <td>1</td>\n",
       "    </tr>\n",
       "    <tr>\n",
       "      <th>631298</th>\n",
       "      <td>50061499481B4B35DB108EB436A05500</td>\n",
       "      <td>COVID</td>\n",
       "      <td>Coronavírus (2019-nCoV)</td>\n",
       "      <td>Iregular</td>\n",
       "      <td>COVID</td>\n",
       "      <td>COVID</td>\n",
       "      <td>1</td>\n",
       "      <td>1</td>\n",
       "    </tr>\n",
       "    <tr>\n",
       "      <th>631300</th>\n",
       "      <td>1F382C34C14A2CC6DDD05825801EF68E</td>\n",
       "      <td>COVID</td>\n",
       "      <td>Coronavírus (2019-nCoV)</td>\n",
       "      <td>Iregular</td>\n",
       "      <td>COVID</td>\n",
       "      <td>COVID</td>\n",
       "      <td>1</td>\n",
       "      <td>1</td>\n",
       "    </tr>\n",
       "    <tr>\n",
       "      <th>631301</th>\n",
       "      <td>885F6BBB7D21E0534D3661DF90A95EE7</td>\n",
       "      <td>Calculo da Estimativa da Taxa de Filtracao Glo...</td>\n",
       "      <td>Creatinina</td>\n",
       "      <td>Regular</td>\n",
       "      <td>Calculo da Estimativa da Taxa de Filtracao Glo...</td>\n",
       "      <td>Calculo da Estimativa da Taxa de Filtracao Glo...</td>\n",
       "      <td>41</td>\n",
       "      <td>11</td>\n",
       "    </tr>\n",
       "  </tbody>\n",
       "</table>\n",
       "<p>4218 rows × 8 columns</p>\n",
       "</div>"
      ],
      "text/plain": [
       "                             ID_PACIENTE  ... total_problemas\n",
       "0       3487791F44C34B421C932DC8616A8437  ...              38\n",
       "149     0AD1FFA4419472256666A3445414F1F9  ...               1\n",
       "151     B8A474D172DDB5BAD11F088BDA20BE96  ...              70\n",
       "348     FD6F18D3E9DA3ADD5179E6B3EA21ABB2  ...               1\n",
       "350     3B9836D0E92704BFAB0B2E691D0A3BAE  ...               1\n",
       "...                                  ...  ...             ...\n",
       "631197  782656BA1BADE181CC5B4DE5792C91BE  ...              26\n",
       "631295  74CC17F4F6DDAB860A70F7CCC2F8CF82  ...               1\n",
       "631298  50061499481B4B35DB108EB436A05500  ...               1\n",
       "631300  1F382C34C14A2CC6DDD05825801EF68E  ...               1\n",
       "631301  885F6BBB7D21E0534D3661DF90A95EE7  ...              11\n",
       "\n",
       "[4218 rows x 8 columns]"
      ]
     },
     "execution_count": 84,
     "metadata": {
      "tags": []
     },
     "output_type": "execute_result"
    }
   ],
   "source": [
    "df_juntos"
   ]
  },
  {
   "cell_type": "code",
   "execution_count": 85,
   "metadata": {
    "executionInfo": {
     "elapsed": 299474,
     "status": "ok",
     "timestamp": 1606157142528,
     "user": {
      "displayName": "Leonardo Thurler",
      "photoUrl": "https://lh3.googleusercontent.com/a-/AOh14GhsXo-6tUwaShHAHh9mhAKCPxko9amceCKxJCpFkg=s64",
      "userId": "06725283277410010839"
     },
     "user_tz": 180
    },
    "id": "kD5kV1kX7KWL"
   },
   "outputs": [],
   "source": [
    "df_juntos = df_juntos.drop(['DE_EXAME','DE_ANALITO','RESULTADO'],axis=1)"
   ]
  },
  {
   "cell_type": "markdown",
   "metadata": {
    "id": "U9S0cIK57UA6"
   },
   "source": [
    "Visualização do dataframe junto"
   ]
  },
  {
   "cell_type": "code",
   "execution_count": 86,
   "metadata": {
    "colab": {
     "base_uri": "https://localhost:8080/",
     "height": 0
    },
    "executionInfo": {
     "elapsed": 299465,
     "status": "ok",
     "timestamp": 1606157142532,
     "user": {
      "displayName": "Leonardo Thurler",
      "photoUrl": "https://lh3.googleusercontent.com/a-/AOh14GhsXo-6tUwaShHAHh9mhAKCPxko9amceCKxJCpFkg=s64",
      "userId": "06725283277410010839"
     },
     "user_tz": 180
    },
    "id": "4694w9Zk7Xet",
    "outputId": "2cebde9e-239d-4612-ec47-181a77b07752"
   },
   "outputs": [
    {
     "data": {
      "text/html": [
       "<div>\n",
       "<style scoped>\n",
       "    .dataframe tbody tr th:only-of-type {\n",
       "        vertical-align: middle;\n",
       "    }\n",
       "\n",
       "    .dataframe tbody tr th {\n",
       "        vertical-align: top;\n",
       "    }\n",
       "\n",
       "    .dataframe thead th {\n",
       "        text-align: right;\n",
       "    }\n",
       "</style>\n",
       "<table border=\"1\" class=\"dataframe\">\n",
       "  <thead>\n",
       "    <tr style=\"text-align: right;\">\n",
       "      <th></th>\n",
       "      <th>ID_PACIENTE</th>\n",
       "      <th>exames</th>\n",
       "      <th>problemas</th>\n",
       "      <th>total_exames</th>\n",
       "      <th>total_problemas</th>\n",
       "    </tr>\n",
       "  </thead>\n",
       "  <tbody>\n",
       "    <tr>\n",
       "      <th>0</th>\n",
       "      <td>3487791F44C34B421C932DC8616A8437</td>\n",
       "      <td>Fosfatase,Gama Gt,Tgp,Desidrogenase Lática (DH...</td>\n",
       "      <td>Tgp,Desidrogenase Lática (DHL/L),Fibrinogênio ...</td>\n",
       "      <td>109</td>\n",
       "      <td>38</td>\n",
       "    </tr>\n",
       "    <tr>\n",
       "      <th>149</th>\n",
       "      <td>0AD1FFA4419472256666A3445414F1F9</td>\n",
       "      <td>COVID</td>\n",
       "      <td>COVID</td>\n",
       "      <td>1</td>\n",
       "      <td>1</td>\n",
       "    </tr>\n",
       "    <tr>\n",
       "      <th>151</th>\n",
       "      <td>B8A474D172DDB5BAD11F088BDA20BE96</td>\n",
       "      <td>Interleucina 6 soro,Urina,Urina,Urina,Urina,Ur...</td>\n",
       "      <td>Interleucina 6 soro,Urina,Urina,Urina,Urina,Ur...</td>\n",
       "      <td>155</td>\n",
       "      <td>70</td>\n",
       "    </tr>\n",
       "    <tr>\n",
       "      <th>348</th>\n",
       "      <td>FD6F18D3E9DA3ADD5179E6B3EA21ABB2</td>\n",
       "      <td>COVID</td>\n",
       "      <td>COVID</td>\n",
       "      <td>1</td>\n",
       "      <td>1</td>\n",
       "    </tr>\n",
       "    <tr>\n",
       "      <th>350</th>\n",
       "      <td>3B9836D0E92704BFAB0B2E691D0A3BAE</td>\n",
       "      <td>Antígeno Influenza Teste Rápido (AGINFLU),COVI...</td>\n",
       "      <td>COVID</td>\n",
       "      <td>4</td>\n",
       "      <td>1</td>\n",
       "    </tr>\n",
       "  </tbody>\n",
       "</table>\n",
       "</div>"
      ],
      "text/plain": [
       "                          ID_PACIENTE  ... total_problemas\n",
       "0    3487791F44C34B421C932DC8616A8437  ...              38\n",
       "149  0AD1FFA4419472256666A3445414F1F9  ...               1\n",
       "151  B8A474D172DDB5BAD11F088BDA20BE96  ...              70\n",
       "348  FD6F18D3E9DA3ADD5179E6B3EA21ABB2  ...               1\n",
       "350  3B9836D0E92704BFAB0B2E691D0A3BAE  ...               1\n",
       "\n",
       "[5 rows x 5 columns]"
      ]
     },
     "execution_count": 86,
     "metadata": {
      "tags": []
     },
     "output_type": "execute_result"
    }
   ],
   "source": [
    "df_juntos.head()"
   ]
  },
  {
   "cell_type": "markdown",
   "metadata": {
    "id": "FO5R6GskNOJS"
   },
   "source": [
    "##Base Pacientes##"
   ]
  },
  {
   "cell_type": "markdown",
   "metadata": {
    "id": "z1SWRUjkNXXx"
   },
   "source": [
    "Importar a base de dados"
   ]
  },
  {
   "cell_type": "code",
   "execution_count": 87,
   "metadata": {
    "executionInfo": {
     "elapsed": 299456,
     "status": "ok",
     "timestamp": 1606157142534,
     "user": {
      "displayName": "Leonardo Thurler",
      "photoUrl": "https://lh3.googleusercontent.com/a-/AOh14GhsXo-6tUwaShHAHh9mhAKCPxko9amceCKxJCpFkg=s64",
      "userId": "06725283277410010839"
     },
     "user_tz": 180
    },
    "id": "Q6BoUzZyNULt"
   },
   "outputs": [],
   "source": [
    "pacientes = pd.read_csv('HSL_Pacientes_2.csv',sep='|')"
   ]
  },
  {
   "cell_type": "code",
   "execution_count": 88,
   "metadata": {
    "colab": {
     "base_uri": "https://localhost:8080/",
     "height": 0
    },
    "executionInfo": {
     "elapsed": 299445,
     "status": "ok",
     "timestamp": 1606157142536,
     "user": {
      "displayName": "Leonardo Thurler",
      "photoUrl": "https://lh3.googleusercontent.com/a-/AOh14GhsXo-6tUwaShHAHh9mhAKCPxko9amceCKxJCpFkg=s64",
      "userId": "06725283277410010839"
     },
     "user_tz": 180
    },
    "id": "Pun9Tio2J5eP",
    "outputId": "329c1d27-7113-4b7f-a30b-b818211a6e79"
   },
   "outputs": [
    {
     "data": {
      "text/html": [
       "<div>\n",
       "<style scoped>\n",
       "    .dataframe tbody tr th:only-of-type {\n",
       "        vertical-align: middle;\n",
       "    }\n",
       "\n",
       "    .dataframe tbody tr th {\n",
       "        vertical-align: top;\n",
       "    }\n",
       "\n",
       "    .dataframe thead th {\n",
       "        text-align: right;\n",
       "    }\n",
       "</style>\n",
       "<table border=\"1\" class=\"dataframe\">\n",
       "  <thead>\n",
       "    <tr style=\"text-align: right;\">\n",
       "      <th></th>\n",
       "      <th>ID_PACIENTE</th>\n",
       "      <th>IC_SEXO</th>\n",
       "      <th>AA_NASCIMENTO</th>\n",
       "      <th>CD_PAIS</th>\n",
       "      <th>CD_UF</th>\n",
       "      <th>CD_MUNICIPIO</th>\n",
       "      <th>CD_CEPREDUZIDO</th>\n",
       "    </tr>\n",
       "  </thead>\n",
       "  <tbody>\n",
       "    <tr>\n",
       "      <th>0</th>\n",
       "      <td>3487791F44C34B421C932DC8616A8437</td>\n",
       "      <td>M</td>\n",
       "      <td>1963</td>\n",
       "      <td>BR</td>\n",
       "      <td>SP</td>\n",
       "      <td>MMMM</td>\n",
       "      <td>CCCC</td>\n",
       "    </tr>\n",
       "    <tr>\n",
       "      <th>1</th>\n",
       "      <td>0AD1FFA4419472256666A3445414F1F9</td>\n",
       "      <td>M</td>\n",
       "      <td>1969</td>\n",
       "      <td>BR</td>\n",
       "      <td>SP</td>\n",
       "      <td>SAO PAULO</td>\n",
       "      <td>CCCC</td>\n",
       "    </tr>\n",
       "    <tr>\n",
       "      <th>2</th>\n",
       "      <td>BE35D08CF3EF6F114E9935F6D72C49FA</td>\n",
       "      <td>M</td>\n",
       "      <td>1964</td>\n",
       "      <td>BR</td>\n",
       "      <td>SP</td>\n",
       "      <td>SAO PAULO</td>\n",
       "      <td>CCCC</td>\n",
       "    </tr>\n",
       "    <tr>\n",
       "      <th>3</th>\n",
       "      <td>962F4020D456AAB602B356E57238EF42</td>\n",
       "      <td>F</td>\n",
       "      <td>1959</td>\n",
       "      <td>BR</td>\n",
       "      <td>SP</td>\n",
       "      <td>SAO PAULO</td>\n",
       "      <td>CCCC</td>\n",
       "    </tr>\n",
       "    <tr>\n",
       "      <th>4</th>\n",
       "      <td>F983089DAC62E42124227C856AE3444C</td>\n",
       "      <td>M</td>\n",
       "      <td>1947</td>\n",
       "      <td>BR</td>\n",
       "      <td>SP</td>\n",
       "      <td>MMMM</td>\n",
       "      <td>CCCC</td>\n",
       "    </tr>\n",
       "  </tbody>\n",
       "</table>\n",
       "</div>"
      ],
      "text/plain": [
       "                        ID_PACIENTE IC_SEXO  ... CD_MUNICIPIO CD_CEPREDUZIDO\n",
       "0  3487791F44C34B421C932DC8616A8437       M  ...         MMMM           CCCC\n",
       "1  0AD1FFA4419472256666A3445414F1F9       M  ...    SAO PAULO           CCCC\n",
       "2  BE35D08CF3EF6F114E9935F6D72C49FA       M  ...    SAO PAULO           CCCC\n",
       "3  962F4020D456AAB602B356E57238EF42       F  ...    SAO PAULO           CCCC\n",
       "4  F983089DAC62E42124227C856AE3444C       M  ...         MMMM           CCCC\n",
       "\n",
       "[5 rows x 7 columns]"
      ]
     },
     "execution_count": 88,
     "metadata": {
      "tags": []
     },
     "output_type": "execute_result"
    }
   ],
   "source": [
    "pacientes.head()"
   ]
  },
  {
   "cell_type": "code",
   "execution_count": 89,
   "metadata": {
    "colab": {
     "base_uri": "https://localhost:8080/"
    },
    "executionInfo": {
     "elapsed": 299440,
     "status": "ok",
     "timestamp": 1606157142541,
     "user": {
      "displayName": "Leonardo Thurler",
      "photoUrl": "https://lh3.googleusercontent.com/a-/AOh14GhsXo-6tUwaShHAHh9mhAKCPxko9amceCKxJCpFkg=s64",
      "userId": "06725283277410010839"
     },
     "user_tz": 180
    },
    "id": "51N23bquhwts",
    "outputId": "4b6fe419-dd7f-4550-ae48-334183b49800"
   },
   "outputs": [
    {
     "data": {
      "text/plain": [
       "array(['BR', 'XX'], dtype=object)"
      ]
     },
     "execution_count": 89,
     "metadata": {
      "tags": []
     },
     "output_type": "execute_result"
    }
   ],
   "source": [
    "pacientes['CD_PAIS'].unique()"
   ]
  },
  {
   "cell_type": "markdown",
   "metadata": {
    "id": "E2tG2HUbNg5H"
   },
   "source": [
    "Removendo atributos irrelevantes"
   ]
  },
  {
   "cell_type": "code",
   "execution_count": 90,
   "metadata": {
    "executionInfo": {
     "elapsed": 299430,
     "status": "ok",
     "timestamp": 1606157142542,
     "user": {
      "displayName": "Leonardo Thurler",
      "photoUrl": "https://lh3.googleusercontent.com/a-/AOh14GhsXo-6tUwaShHAHh9mhAKCPxko9amceCKxJCpFkg=s64",
      "userId": "06725283277410010839"
     },
     "user_tz": 180
    },
    "id": "FLF_ZLhbNaKr"
   },
   "outputs": [],
   "source": [
    "pacientes = pacientes.drop(['CD_PAIS','CD_UF','CD_MUNICIPIO','CD_CEPREDUZIDO'],axis=1)"
   ]
  },
  {
   "cell_type": "markdown",
   "metadata": {
    "id": "zA59_wfoNqc2"
   },
   "source": [
    "Removendo missing values"
   ]
  },
  {
   "cell_type": "code",
   "execution_count": 91,
   "metadata": {
    "executionInfo": {
     "elapsed": 299422,
     "status": "ok",
     "timestamp": 1606157142543,
     "user": {
      "displayName": "Leonardo Thurler",
      "photoUrl": "https://lh3.googleusercontent.com/a-/AOh14GhsXo-6tUwaShHAHh9mhAKCPxko9amceCKxJCpFkg=s64",
      "userId": "06725283277410010839"
     },
     "user_tz": 180
    },
    "id": "z2lFfvTrNsno"
   },
   "outputs": [],
   "source": [
    "pacientes = pacientes[pacientes['AA_NASCIMENTO']!='AAAA']\n",
    "pacientes = pacientes[pacientes['AA_NASCIMENTO']!='YYYY']"
   ]
  },
  {
   "cell_type": "markdown",
   "metadata": {
    "id": "j9-vY4X8N7kd"
   },
   "source": [
    "Transformação do ano de nascimento em idade"
   ]
  },
  {
   "cell_type": "code",
   "execution_count": 92,
   "metadata": {
    "executionInfo": {
     "elapsed": 299413,
     "status": "ok",
     "timestamp": 1606157142544,
     "user": {
      "displayName": "Leonardo Thurler",
      "photoUrl": "https://lh3.googleusercontent.com/a-/AOh14GhsXo-6tUwaShHAHh9mhAKCPxko9amceCKxJCpFkg=s64",
      "userId": "06725283277410010839"
     },
     "user_tz": 180
    },
    "id": "PSk09DbyNwSb"
   },
   "outputs": [],
   "source": [
    "idade = []\n",
    "for data in pacientes.iloc:\n",
    "    idade.append(2020 - int(data[2]))\n",
    "pacientes['idade'] = idade"
   ]
  },
  {
   "cell_type": "markdown",
   "metadata": {
    "id": "Z9AMI0CBOE9i"
   },
   "source": [
    "Visualização da distribuição de idade"
   ]
  },
  {
   "cell_type": "code",
   "execution_count": 93,
   "metadata": {
    "colab": {
     "base_uri": "https://localhost:8080/",
     "height": 0
    },
    "executionInfo": {
     "elapsed": 300698,
     "status": "ok",
     "timestamp": 1606157143838,
     "user": {
      "displayName": "Leonardo Thurler",
      "photoUrl": "https://lh3.googleusercontent.com/a-/AOh14GhsXo-6tUwaShHAHh9mhAKCPxko9amceCKxJCpFkg=s64",
      "userId": "06725283277410010839"
     },
     "user_tz": 180
    },
    "id": "EHlpa0jYOHsa",
    "outputId": "c551de53-b810-4cd1-cc1c-cd1e8d20ee98"
   },
   "outputs": [
    {
     "data": {
      "image/png": "[encoded data removed]",
      "text/plain": [
       "<Figure size 360x360 with 1 Axes>"
      ]
     },
     "metadata": {
      "tags": []
     },
     "output_type": "display_data"
    }
   ],
   "source": [
    "sns.set(font_scale = 1.2)\n",
    "sns_plot = sns.displot(pacientes,x=\"idade\",kde=True)\n",
    "sns_plot.savefig(\"idade_dist.png\")"
   ]
  },
  {
   "cell_type": "code",
   "execution_count": 94,
   "metadata": {
    "colab": {
     "base_uri": "https://localhost:8080/"
    },
    "executionInfo": {
     "elapsed": 300689,
     "status": "ok",
     "timestamp": 1606157143839,
     "user": {
      "displayName": "Leonardo Thurler",
      "photoUrl": "https://lh3.googleusercontent.com/a-/AOh14GhsXo-6tUwaShHAHh9mhAKCPxko9amceCKxJCpFkg=s64",
      "userId": "06725283277410010839"
     },
     "user_tz": 180
    },
    "id": "G9gWsjoklhMI",
    "outputId": "49435056-23c3-42cf-ee9d-f1792c25426d"
   },
   "outputs": [
    {
     "data": {
      "text/plain": [
       "count    4141.000000\n",
       "mean       43.504468\n",
       "std        15.273807\n",
       "min         1.000000\n",
       "25%        33.000000\n",
       "50%        41.000000\n",
       "75%        52.000000\n",
       "max        89.000000\n",
       "Name: idade, dtype: float64"
      ]
     },
     "execution_count": 94,
     "metadata": {
      "tags": []
     },
     "output_type": "execute_result"
    }
   ],
   "source": [
    "pacientes['idade'].describe()"
   ]
  },
  {
   "cell_type": "markdown",
   "metadata": {
    "id": "PymOoPsNOSJf"
   },
   "source": [
    "Deletando ano de nascimento"
   ]
  },
  {
   "cell_type": "code",
   "execution_count": 95,
   "metadata": {
    "executionInfo": {
     "elapsed": 300682,
     "status": "ok",
     "timestamp": 1606157143841,
     "user": {
      "displayName": "Leonardo Thurler",
      "photoUrl": "https://lh3.googleusercontent.com/a-/AOh14GhsXo-6tUwaShHAHh9mhAKCPxko9amceCKxJCpFkg=s64",
      "userId": "06725283277410010839"
     },
     "user_tz": 180
    },
    "id": "1vG9xHeZOSq4"
   },
   "outputs": [],
   "source": [
    "pacientes = pacientes.drop(['AA_NASCIMENTO'],axis=1)"
   ]
  },
  {
   "cell_type": "markdown",
   "metadata": {
    "id": "QhBM6-VdR7A_"
   },
   "source": [
    "##União das bases##"
   ]
  },
  {
   "cell_type": "markdown",
   "metadata": {
    "id": "E_D4SpsUOgO5"
   },
   "source": [
    "Unindo pacientes com desfechos em um dataframe"
   ]
  },
  {
   "cell_type": "code",
   "execution_count": 96,
   "metadata": {
    "executionInfo": {
     "elapsed": 300674,
     "status": "ok",
     "timestamp": 1606157143843,
     "user": {
      "displayName": "Leonardo Thurler",
      "photoUrl": "https://lh3.googleusercontent.com/a-/AOh14GhsXo-6tUwaShHAHh9mhAKCPxko9amceCKxJCpFkg=s64",
      "userId": "06725283277410010839"
     },
     "user_tz": 180
    },
    "id": "Lxpl6f9SOtQj"
   },
   "outputs": [],
   "source": [
    "desfechos_juntos = desfechos_juntos.rename(columns={\"id_paciente\": \"ID_PACIENTE\"})\n",
    "desfecho_pacientes = desfechos_juntos.merge(pacientes,how='left')"
   ]
  },
  {
   "cell_type": "markdown",
   "metadata": {
    "id": "kHG0UL9SQDIz"
   },
   "source": [
    "Inserindo missing values"
   ]
  },
  {
   "cell_type": "code",
   "execution_count": 97,
   "metadata": {
    "colab": {
     "base_uri": "https://localhost:8080/",
     "height": 0
    },
    "executionInfo": {
     "elapsed": 300666,
     "status": "ok",
     "timestamp": 1606157143844,
     "user": {
      "displayName": "Leonardo Thurler",
      "photoUrl": "https://lh3.googleusercontent.com/a-/AOh14GhsXo-6tUwaShHAHh9mhAKCPxko9amceCKxJCpFkg=s64",
      "userId": "06725283277410010839"
     },
     "user_tz": 180
    },
    "id": "X399-0FhVLWm",
    "outputId": "24971e77-9f2b-4eaa-900d-7a55fbda68d6"
   },
   "outputs": [
    {
     "data": {
      "text/html": [
       "<div>\n",
       "<style scoped>\n",
       "    .dataframe tbody tr th:only-of-type {\n",
       "        vertical-align: middle;\n",
       "    }\n",
       "\n",
       "    .dataframe tbody tr th {\n",
       "        vertical-align: top;\n",
       "    }\n",
       "\n",
       "    .dataframe thead th {\n",
       "        text-align: right;\n",
       "    }\n",
       "</style>\n",
       "<table border=\"1\" class=\"dataframe\">\n",
       "  <thead>\n",
       "    <tr style=\"text-align: right;\">\n",
       "      <th></th>\n",
       "      <th>ID_PACIENTE</th>\n",
       "      <th>de_tipo_atendimento</th>\n",
       "      <th>de_desfecho</th>\n",
       "      <th>n_atendimentos</th>\n",
       "      <th>t_atendimento</th>\n",
       "      <th>IC_SEXO</th>\n",
       "      <th>idade</th>\n",
       "    </tr>\n",
       "  </thead>\n",
       "  <tbody>\n",
       "    <tr>\n",
       "      <th>2</th>\n",
       "      <td>7B03A278AD0026D4E34D0D84453A3548</td>\n",
       "      <td>Internado</td>\n",
       "      <td>O</td>\n",
       "      <td>2</td>\n",
       "      <td>30</td>\n",
       "      <td>M</td>\n",
       "      <td>84.0</td>\n",
       "    </tr>\n",
       "    <tr>\n",
       "      <th>3</th>\n",
       "      <td>DE791245DF4FD631AD71B2B307F7835D</td>\n",
       "      <td>Internado</td>\n",
       "      <td>O</td>\n",
       "      <td>2</td>\n",
       "      <td>13</td>\n",
       "      <td>M</td>\n",
       "      <td>78.0</td>\n",
       "    </tr>\n",
       "    <tr>\n",
       "      <th>7</th>\n",
       "      <td>BB7523C235A6582C309BB3E4F8C93698</td>\n",
       "      <td>Internado</td>\n",
       "      <td>O</td>\n",
       "      <td>2</td>\n",
       "      <td>20</td>\n",
       "      <td>M</td>\n",
       "      <td>87.0</td>\n",
       "    </tr>\n",
       "    <tr>\n",
       "      <th>8</th>\n",
       "      <td>D831A012023DCACDE4E8B9483AD5A438</td>\n",
       "      <td>Internado</td>\n",
       "      <td>O</td>\n",
       "      <td>15</td>\n",
       "      <td>171</td>\n",
       "      <td>M</td>\n",
       "      <td>79.0</td>\n",
       "    </tr>\n",
       "    <tr>\n",
       "      <th>10</th>\n",
       "      <td>F115058FEF0C6CE66E32EF72AB785F48</td>\n",
       "      <td>Internado</td>\n",
       "      <td>O</td>\n",
       "      <td>1</td>\n",
       "      <td>27</td>\n",
       "      <td>M</td>\n",
       "      <td>81.0</td>\n",
       "    </tr>\n",
       "    <tr>\n",
       "      <th>...</th>\n",
       "      <td>...</td>\n",
       "      <td>...</td>\n",
       "      <td>...</td>\n",
       "      <td>...</td>\n",
       "      <td>...</td>\n",
       "      <td>...</td>\n",
       "      <td>...</td>\n",
       "    </tr>\n",
       "    <tr>\n",
       "      <th>4188</th>\n",
       "      <td>A29ADDE51D11887EABFF9CC70E5F9A72</td>\n",
       "      <td>Pronto Atendimento</td>\n",
       "      <td>A</td>\n",
       "      <td>1</td>\n",
       "      <td>1</td>\n",
       "      <td>M</td>\n",
       "      <td>21.0</td>\n",
       "    </tr>\n",
       "    <tr>\n",
       "      <th>4189</th>\n",
       "      <td>50061499481B4B35DB108EB436A05500</td>\n",
       "      <td>Externo</td>\n",
       "      <td>A</td>\n",
       "      <td>2</td>\n",
       "      <td>2</td>\n",
       "      <td>M</td>\n",
       "      <td>28.0</td>\n",
       "    </tr>\n",
       "    <tr>\n",
       "      <th>4190</th>\n",
       "      <td>74CC17F4F6DDAB860A70F7CCC2F8CF82</td>\n",
       "      <td>Ambulatorial</td>\n",
       "      <td>A</td>\n",
       "      <td>5</td>\n",
       "      <td>5</td>\n",
       "      <td>F</td>\n",
       "      <td>26.0</td>\n",
       "    </tr>\n",
       "    <tr>\n",
       "      <th>4191</th>\n",
       "      <td>1F382C34C14A2CC6DDD05825801EF68E</td>\n",
       "      <td>Pronto Atendimento</td>\n",
       "      <td>A</td>\n",
       "      <td>6</td>\n",
       "      <td>6</td>\n",
       "      <td>F</td>\n",
       "      <td>27.0</td>\n",
       "    </tr>\n",
       "    <tr>\n",
       "      <th>4192</th>\n",
       "      <td>885F6BBB7D21E0534D3661DF90A95EE7</td>\n",
       "      <td>Pronto Atendimento</td>\n",
       "      <td>A</td>\n",
       "      <td>4</td>\n",
       "      <td>4</td>\n",
       "      <td>M</td>\n",
       "      <td>52.0</td>\n",
       "    </tr>\n",
       "  </tbody>\n",
       "</table>\n",
       "<p>4065 rows × 7 columns</p>\n",
       "</div>"
      ],
      "text/plain": [
       "                           ID_PACIENTE de_tipo_atendimento  ... IC_SEXO  idade\n",
       "2     7B03A278AD0026D4E34D0D84453A3548           Internado  ...       M   84.0\n",
       "3     DE791245DF4FD631AD71B2B307F7835D           Internado  ...       M   78.0\n",
       "7     BB7523C235A6582C309BB3E4F8C93698           Internado  ...       M   87.0\n",
       "8     D831A012023DCACDE4E8B9483AD5A438           Internado  ...       M   79.0\n",
       "10    F115058FEF0C6CE66E32EF72AB785F48           Internado  ...       M   81.0\n",
       "...                                ...                 ...  ...     ...    ...\n",
       "4188  A29ADDE51D11887EABFF9CC70E5F9A72  Pronto Atendimento  ...       M   21.0\n",
       "4189  50061499481B4B35DB108EB436A05500             Externo  ...       M   28.0\n",
       "4190  74CC17F4F6DDAB860A70F7CCC2F8CF82        Ambulatorial  ...       F   26.0\n",
       "4191  1F382C34C14A2CC6DDD05825801EF68E  Pronto Atendimento  ...       F   27.0\n",
       "4192  885F6BBB7D21E0534D3661DF90A95EE7  Pronto Atendimento  ...       M   52.0\n",
       "\n",
       "[4065 rows x 7 columns]"
      ]
     },
     "execution_count": 97,
     "metadata": {
      "tags": []
     },
     "output_type": "execute_result"
    }
   ],
   "source": [
    "desfecho_pacientes[np.logical_not(desfecho_pacientes['idade'].isna())]"
   ]
  },
  {
   "cell_type": "code",
   "execution_count": 98,
   "metadata": {
    "executionInfo": {
     "elapsed": 300657,
     "status": "ok",
     "timestamp": 1606157143845,
     "user": {
      "displayName": "Leonardo Thurler",
      "photoUrl": "https://lh3.googleusercontent.com/a-/AOh14GhsXo-6tUwaShHAHh9mhAKCPxko9amceCKxJCpFkg=s64",
      "userId": "06725283277410010839"
     },
     "user_tz": 180
    },
    "id": "j9oUKRJ1QBwy"
   },
   "outputs": [],
   "source": [
    "# Dados retirados da base\n",
    "desfecho_pacientes.iloc[0,-2] = 'M'\n",
    "desfecho_pacientes.iloc[1,-2] = 'M'\n",
    "desfecho_pacientes.iloc[4,-2] = 'M'\n",
    "desfecho_pacientes.iloc[5,-2] = 'M'\n",
    "desfecho_pacientes.iloc[6,-2] = 'M'\n",
    "desfecho_pacientes.iloc[9,-2] = 'M' \n",
    "desfecho_pacientes.iloc[14,-2] = 'M'\n",
    "desfecho_pacientes.iloc[20,-2] = 'F'\n",
    "desfecho_pacientes.iloc[21,-2] = 'M'\n",
    "desfecho_pacientes.iloc[27,-2] = 'M'\n",
    "desfecho_pacientes.iloc[30,-2] = 'F'\n",
    "desfecho_pacientes.iloc[31,-2] = 'F'\n",
    "desfecho_pacientes.iloc[33,-2] = 'F'\n",
    "desfecho_pacientes.iloc[36,-2] = 'F'\n",
    "desfecho_pacientes.iloc[40,-2] = 'F'\n",
    "desfecho_pacientes.iloc[42,-2] = 'F'\n",
    "\n",
    "# Dados estimados para completar o estudo\n",
    "desfecho_pacientes.iloc[0,-1] = int(random.gauss(76.931034,10.443491))\n",
    "desfecho_pacientes.iloc[1,-1] = int(random.gauss(76.931034,10.443491))\n",
    "desfecho_pacientes.iloc[4,-1] = int(random.gauss(76.931034,10.443491))\n",
    "desfecho_pacientes.iloc[5,-1] = int(random.gauss(76.931034,10.443491))\n",
    "desfecho_pacientes.iloc[6,-1] = int(random.gauss(76.931034,10.443491))\n",
    "desfecho_pacientes.iloc[9,-1] = int(random.gauss(76.931034,10.443491))\n",
    "desfecho_pacientes.iloc[14,-1] = int(random.gauss(76.931034,10.443491))\n",
    "desfecho_pacientes.iloc[20,-1] = int(random.gauss(76.931034,10.443491))\n",
    "desfecho_pacientes.iloc[21,-1] = int(random.gauss(76.931034,10.443491))\n",
    "desfecho_pacientes.iloc[27,-1] = int(random.gauss(76.931034,10.443491))\n",
    "desfecho_pacientes.iloc[30,-1] = int(random.gauss(76.931034,10.443491))\n",
    "desfecho_pacientes.iloc[31,-1] = int(random.gauss(76.931034,10.443491))\n",
    "desfecho_pacientes.iloc[33,-1] = int(random.gauss(76.931034,10.443491))\n",
    "desfecho_pacientes.iloc[36,-1] = int(random.gauss(76.931034,10.443491))\n",
    "desfecho_pacientes.iloc[40,-1] = int(random.gauss(76.931034,10.443491))\n",
    "desfecho_pacientes.iloc[42,-1] = int(random.gauss(76.931034,10.443491))"
   ]
  },
  {
   "cell_type": "markdown",
   "metadata": {
    "id": "XQoDrvULQUiD"
   },
   "source": [
    "Unindo todos os dataframes"
   ]
  },
  {
   "cell_type": "code",
   "execution_count": 99,
   "metadata": {
    "executionInfo": {
     "elapsed": 300649,
     "status": "ok",
     "timestamp": 1606157143846,
     "user": {
      "displayName": "Leonardo Thurler",
      "photoUrl": "https://lh3.googleusercontent.com/a-/AOh14GhsXo-6tUwaShHAHh9mhAKCPxko9amceCKxJCpFkg=s64",
      "userId": "06725283277410010839"
     },
     "user_tz": 180
    },
    "id": "xJPYu6ROQRTd"
   },
   "outputs": [],
   "source": [
    "df = desfecho_pacientes.merge(df_juntos,how='left')"
   ]
  },
  {
   "cell_type": "markdown",
   "metadata": {
    "id": "atO63C9jQfqH"
   },
   "source": [
    "Removendo missing values"
   ]
  },
  {
   "cell_type": "code",
   "execution_count": 100,
   "metadata": {
    "executionInfo": {
     "elapsed": 300641,
     "status": "ok",
     "timestamp": 1606157143847,
     "user": {
      "displayName": "Leonardo Thurler",
      "photoUrl": "https://lh3.googleusercontent.com/a-/AOh14GhsXo-6tUwaShHAHh9mhAKCPxko9amceCKxJCpFkg=s64",
      "userId": "06725283277410010839"
     },
     "user_tz": 180
    },
    "id": "Cf1So11nQh0Z"
   },
   "outputs": [],
   "source": [
    "df = df[np.logical_not(df['total_exames'].isna())]"
   ]
  },
  {
   "cell_type": "markdown",
   "metadata": {
    "id": "jifQpiCOQmPL"
   },
   "source": [
    "Exclusão de problemas e exames iguais e contagem apenas de problemas diferentes"
   ]
  },
  {
   "cell_type": "code",
   "execution_count": 101,
   "metadata": {
    "colab": {
     "base_uri": "https://localhost:8080/",
     "height": 0
    },
    "executionInfo": {
     "elapsed": 300631,
     "status": "ok",
     "timestamp": 1606157143848,
     "user": {
      "displayName": "Leonardo Thurler",
      "photoUrl": "https://lh3.googleusercontent.com/a-/AOh14GhsXo-6tUwaShHAHh9mhAKCPxko9amceCKxJCpFkg=s64",
      "userId": "06725283277410010839"
     },
     "user_tz": 180
    },
    "id": "nCRKuHPH8gyg",
    "outputId": "bd54f754-b81e-42e8-f804-9b3cb4c174db"
   },
   "outputs": [
    {
     "data": {
      "text/html": [
       "<div>\n",
       "<style scoped>\n",
       "    .dataframe tbody tr th:only-of-type {\n",
       "        vertical-align: middle;\n",
       "    }\n",
       "\n",
       "    .dataframe tbody tr th {\n",
       "        vertical-align: top;\n",
       "    }\n",
       "\n",
       "    .dataframe thead th {\n",
       "        text-align: right;\n",
       "    }\n",
       "</style>\n",
       "<table border=\"1\" class=\"dataframe\">\n",
       "  <thead>\n",
       "    <tr style=\"text-align: right;\">\n",
       "      <th></th>\n",
       "      <th>ID_PACIENTE</th>\n",
       "      <th>de_tipo_atendimento</th>\n",
       "      <th>de_desfecho</th>\n",
       "      <th>n_atendimentos</th>\n",
       "      <th>t_atendimento</th>\n",
       "      <th>IC_SEXO</th>\n",
       "      <th>idade</th>\n",
       "      <th>exames</th>\n",
       "      <th>problemas</th>\n",
       "      <th>total_exames</th>\n",
       "      <th>total_problemas</th>\n",
       "    </tr>\n",
       "  </thead>\n",
       "  <tbody>\n",
       "    <tr>\n",
       "      <th>0</th>\n",
       "      <td>BA74194B979B086198794D1470107709</td>\n",
       "      <td>Internado</td>\n",
       "      <td>O</td>\n",
       "      <td>1</td>\n",
       "      <td>11</td>\n",
       "      <td>M</td>\n",
       "      <td>70.0</td>\n",
       "      <td>Ferritina Dosagem,D. Dimeros(Dimeros De Fibrin...</td>\n",
       "      <td>Ferritina Dosagem,D. Dimeros(Dimeros De Fibrin...</td>\n",
       "      <td>523.0</td>\n",
       "      <td>301.0</td>\n",
       "    </tr>\n",
       "    <tr>\n",
       "      <th>2</th>\n",
       "      <td>7B03A278AD0026D4E34D0D84453A3548</td>\n",
       "      <td>Internado</td>\n",
       "      <td>O</td>\n",
       "      <td>2</td>\n",
       "      <td>30</td>\n",
       "      <td>M</td>\n",
       "      <td>84.0</td>\n",
       "      <td>Lactato,Desidrogenase Lática (DHL/L),Sódio,Cre...</td>\n",
       "      <td>Lactato,Desidrogenase Lática (DHL/L),Sódio,Cre...</td>\n",
       "      <td>1123.0</td>\n",
       "      <td>689.0</td>\n",
       "    </tr>\n",
       "    <tr>\n",
       "      <th>3</th>\n",
       "      <td>DE791245DF4FD631AD71B2B307F7835D</td>\n",
       "      <td>Internado</td>\n",
       "      <td>O</td>\n",
       "      <td>2</td>\n",
       "      <td>13</td>\n",
       "      <td>M</td>\n",
       "      <td>78.0</td>\n",
       "      <td>Cálcio,Hemograma,Hemograma,Hemograma,Hemograma...</td>\n",
       "      <td>Hemograma,Hemograma,Hemograma,Hemograma,Hemogr...</td>\n",
       "      <td>318.0</td>\n",
       "      <td>130.0</td>\n",
       "    </tr>\n",
       "    <tr>\n",
       "      <th>4</th>\n",
       "      <td>44DA670729D76F0264E6066E2E42CF45</td>\n",
       "      <td>Internado</td>\n",
       "      <td>O</td>\n",
       "      <td>2</td>\n",
       "      <td>66</td>\n",
       "      <td>M</td>\n",
       "      <td>67.0</td>\n",
       "      <td>Hepat.B,Hepatite C Anti-Hcv Sorologia,Hepat.B,...</td>\n",
       "      <td>COVID,Gasometria Arterial,Gasometria Arterial,...</td>\n",
       "      <td>3097.0</td>\n",
       "      <td>1835.0</td>\n",
       "    </tr>\n",
       "    <tr>\n",
       "      <th>5</th>\n",
       "      <td>A6567EA4CB76E002B7BEADD005279297</td>\n",
       "      <td>Internado</td>\n",
       "      <td>O</td>\n",
       "      <td>1</td>\n",
       "      <td>34</td>\n",
       "      <td>M</td>\n",
       "      <td>70.0</td>\n",
       "      <td>Fósforo,Calculo da Estimativa da Taxa de Filtr...</td>\n",
       "      <td>Fósforo,Calculo da Estimativa da Taxa de Filtr...</td>\n",
       "      <td>1431.0</td>\n",
       "      <td>900.0</td>\n",
       "    </tr>\n",
       "    <tr>\n",
       "      <th>...</th>\n",
       "      <td>...</td>\n",
       "      <td>...</td>\n",
       "      <td>...</td>\n",
       "      <td>...</td>\n",
       "      <td>...</td>\n",
       "      <td>...</td>\n",
       "      <td>...</td>\n",
       "      <td>...</td>\n",
       "      <td>...</td>\n",
       "      <td>...</td>\n",
       "      <td>...</td>\n",
       "    </tr>\n",
       "    <tr>\n",
       "      <th>4187</th>\n",
       "      <td>782656BA1BADE181CC5B4DE5792C91BE</td>\n",
       "      <td>Pronto Atendimento</td>\n",
       "      <td>A</td>\n",
       "      <td>1</td>\n",
       "      <td>5</td>\n",
       "      <td>F</td>\n",
       "      <td>89.0</td>\n",
       "      <td>COVID,Hemograma,Hemograma,Hemograma,Hemograma,...</td>\n",
       "      <td>COVID,Hemograma,Hemograma,Hemograma,Hemograma,...</td>\n",
       "      <td>75.0</td>\n",
       "      <td>26.0</td>\n",
       "    </tr>\n",
       "    <tr>\n",
       "      <th>4189</th>\n",
       "      <td>50061499481B4B35DB108EB436A05500</td>\n",
       "      <td>Externo</td>\n",
       "      <td>A</td>\n",
       "      <td>2</td>\n",
       "      <td>2</td>\n",
       "      <td>M</td>\n",
       "      <td>28.0</td>\n",
       "      <td>COVID</td>\n",
       "      <td>COVID</td>\n",
       "      <td>1.0</td>\n",
       "      <td>1.0</td>\n",
       "    </tr>\n",
       "    <tr>\n",
       "      <th>4190</th>\n",
       "      <td>74CC17F4F6DDAB860A70F7CCC2F8CF82</td>\n",
       "      <td>Ambulatorial</td>\n",
       "      <td>A</td>\n",
       "      <td>5</td>\n",
       "      <td>5</td>\n",
       "      <td>F</td>\n",
       "      <td>26.0</td>\n",
       "      <td>COVID,Antígeno Influenza Teste Rápido (AGINFLU)</td>\n",
       "      <td>COVID</td>\n",
       "      <td>2.0</td>\n",
       "      <td>1.0</td>\n",
       "    </tr>\n",
       "    <tr>\n",
       "      <th>4191</th>\n",
       "      <td>1F382C34C14A2CC6DDD05825801EF68E</td>\n",
       "      <td>Pronto Atendimento</td>\n",
       "      <td>A</td>\n",
       "      <td>6</td>\n",
       "      <td>6</td>\n",
       "      <td>F</td>\n",
       "      <td>27.0</td>\n",
       "      <td>COVID</td>\n",
       "      <td>COVID</td>\n",
       "      <td>1.0</td>\n",
       "      <td>1.0</td>\n",
       "    </tr>\n",
       "    <tr>\n",
       "      <th>4192</th>\n",
       "      <td>885F6BBB7D21E0534D3661DF90A95EE7</td>\n",
       "      <td>Pronto Atendimento</td>\n",
       "      <td>A</td>\n",
       "      <td>4</td>\n",
       "      <td>4</td>\n",
       "      <td>M</td>\n",
       "      <td>52.0</td>\n",
       "      <td>Calculo da Estimativa da Taxa de Filtracao Glo...</td>\n",
       "      <td>Calculo da Estimativa da Taxa de Filtracao Glo...</td>\n",
       "      <td>41.0</td>\n",
       "      <td>11.0</td>\n",
       "    </tr>\n",
       "  </tbody>\n",
       "</table>\n",
       "<p>4138 rows × 11 columns</p>\n",
       "</div>"
      ],
      "text/plain": [
       "                           ID_PACIENTE  ... total_problemas\n",
       "0     BA74194B979B086198794D1470107709  ...           301.0\n",
       "2     7B03A278AD0026D4E34D0D84453A3548  ...           689.0\n",
       "3     DE791245DF4FD631AD71B2B307F7835D  ...           130.0\n",
       "4     44DA670729D76F0264E6066E2E42CF45  ...          1835.0\n",
       "5     A6567EA4CB76E002B7BEADD005279297  ...           900.0\n",
       "...                                ...  ...             ...\n",
       "4187  782656BA1BADE181CC5B4DE5792C91BE  ...            26.0\n",
       "4189  50061499481B4B35DB108EB436A05500  ...             1.0\n",
       "4190  74CC17F4F6DDAB860A70F7CCC2F8CF82  ...             1.0\n",
       "4191  1F382C34C14A2CC6DDD05825801EF68E  ...             1.0\n",
       "4192  885F6BBB7D21E0534D3661DF90A95EE7  ...            11.0\n",
       "\n",
       "[4138 rows x 11 columns]"
      ]
     },
     "execution_count": 101,
     "metadata": {
      "tags": []
     },
     "output_type": "execute_result"
    }
   ],
   "source": [
    "df"
   ]
  },
  {
   "cell_type": "code",
   "execution_count": 102,
   "metadata": {
    "executionInfo": {
     "elapsed": 301721,
     "status": "ok",
     "timestamp": 1606157144948,
     "user": {
      "displayName": "Leonardo Thurler",
      "photoUrl": "https://lh3.googleusercontent.com/a-/AOh14GhsXo-6tUwaShHAHh9mhAKCPxko9amceCKxJCpFkg=s64",
      "userId": "06725283277410010839"
     },
     "user_tz": 180
    },
    "id": "Hqwcr2-xQob_"
   },
   "outputs": [],
   "source": [
    "problemas = []\n",
    "exames = []\n",
    "total_problemas = []\n",
    "for i,data in enumerate(df.iloc):\n",
    "    vetor = data[-3].split(',')\n",
    "    vetor = list(set(vetor))\n",
    "    total_problemas.append(len(vetor))\n",
    "    problemas.append(','.join(vetor))\n",
    "    vetor_exames = data[-4].split(',')\n",
    "    vetor_exames = list(set(vetor_exames))\n",
    "    exames.append(','.join(vetor_exames))\n",
    "df['total_problemas'] = total_problemas\n",
    "df['problemas'] = problemas\n",
    "df['exames'] = exames"
   ]
  },
  {
   "cell_type": "markdown",
   "metadata": {
    "id": "kD2uQy5-8np7"
   },
   "source": [
    "Removendo missing values"
   ]
  },
  {
   "cell_type": "code",
   "execution_count": 103,
   "metadata": {
    "executionInfo": {
     "elapsed": 301719,
     "status": "ok",
     "timestamp": 1606157144956,
     "user": {
      "displayName": "Leonardo Thurler",
      "photoUrl": "https://lh3.googleusercontent.com/a-/AOh14GhsXo-6tUwaShHAHh9mhAKCPxko9amceCKxJCpFkg=s64",
      "userId": "06725283277410010839"
     },
     "user_tz": 180
    },
    "id": "mJdl6gAw8gu9"
   },
   "outputs": [],
   "source": [
    "df = df[np.logical_not(df['idade'].isna())]"
   ]
  },
  {
   "cell_type": "markdown",
   "metadata": {
    "id": "sZBjiy7MQ6dk"
   },
   "source": [
    "Visualização do dataframe final"
   ]
  },
  {
   "cell_type": "code",
   "execution_count": 104,
   "metadata": {
    "colab": {
     "base_uri": "https://localhost:8080/",
     "height": 0
    },
    "executionInfo": {
     "elapsed": 301711,
     "status": "ok",
     "timestamp": 1606157144957,
     "user": {
      "displayName": "Leonardo Thurler",
      "photoUrl": "https://lh3.googleusercontent.com/a-/AOh14GhsXo-6tUwaShHAHh9mhAKCPxko9amceCKxJCpFkg=s64",
      "userId": "06725283277410010839"
     },
     "user_tz": 180
    },
    "id": "wfwqvzzQQ3Fd",
    "outputId": "fc4a6556-5e51-4678-8ab9-64a1a13c9e68"
   },
   "outputs": [
    {
     "data": {
      "text/html": [
       "<div>\n",
       "<style scoped>\n",
       "    .dataframe tbody tr th:only-of-type {\n",
       "        vertical-align: middle;\n",
       "    }\n",
       "\n",
       "    .dataframe tbody tr th {\n",
       "        vertical-align: top;\n",
       "    }\n",
       "\n",
       "    .dataframe thead th {\n",
       "        text-align: right;\n",
       "    }\n",
       "</style>\n",
       "<table border=\"1\" class=\"dataframe\">\n",
       "  <thead>\n",
       "    <tr style=\"text-align: right;\">\n",
       "      <th></th>\n",
       "      <th>ID_PACIENTE</th>\n",
       "      <th>de_tipo_atendimento</th>\n",
       "      <th>de_desfecho</th>\n",
       "      <th>n_atendimentos</th>\n",
       "      <th>t_atendimento</th>\n",
       "      <th>IC_SEXO</th>\n",
       "      <th>idade</th>\n",
       "      <th>exames</th>\n",
       "      <th>problemas</th>\n",
       "      <th>total_exames</th>\n",
       "      <th>total_problemas</th>\n",
       "    </tr>\n",
       "  </thead>\n",
       "  <tbody>\n",
       "    <tr>\n",
       "      <th>0</th>\n",
       "      <td>BA74194B979B086198794D1470107709</td>\n",
       "      <td>Internado</td>\n",
       "      <td>O</td>\n",
       "      <td>1</td>\n",
       "      <td>11</td>\n",
       "      <td>M</td>\n",
       "      <td>70.0</td>\n",
       "      <td>Tgp,Bilirrubinas Total E Fracoes,Tempo Tromb.P...</td>\n",
       "      <td>Bilirrubinas Total E Fracoes,Tempo Tromb.Parci...</td>\n",
       "      <td>523.0</td>\n",
       "      <td>31</td>\n",
       "    </tr>\n",
       "    <tr>\n",
       "      <th>2</th>\n",
       "      <td>7B03A278AD0026D4E34D0D84453A3548</td>\n",
       "      <td>Internado</td>\n",
       "      <td>O</td>\n",
       "      <td>2</td>\n",
       "      <td>30</td>\n",
       "      <td>M</td>\n",
       "      <td>84.0</td>\n",
       "      <td>Hepatite C Anti-Hcv Sorologia,Tgp,Bilirrubinas...</td>\n",
       "      <td>Tgp,Bilirrubinas Total E Fracoes,Fator II Ativ...</td>\n",
       "      <td>1123.0</td>\n",
       "      <td>40</td>\n",
       "    </tr>\n",
       "    <tr>\n",
       "      <th>3</th>\n",
       "      <td>DE791245DF4FD631AD71B2B307F7835D</td>\n",
       "      <td>Internado</td>\n",
       "      <td>O</td>\n",
       "      <td>2</td>\n",
       "      <td>13</td>\n",
       "      <td>M</td>\n",
       "      <td>78.0</td>\n",
       "      <td>Tgp,Bilirrubinas Total E Fracoes,Tempo Tromb.P...</td>\n",
       "      <td>Bilirrubinas Total E Fracoes,Tempo Tromb.Parci...</td>\n",
       "      <td>318.0</td>\n",
       "      <td>21</td>\n",
       "    </tr>\n",
       "    <tr>\n",
       "      <th>4</th>\n",
       "      <td>44DA670729D76F0264E6066E2E42CF45</td>\n",
       "      <td>Internado</td>\n",
       "      <td>O</td>\n",
       "      <td>2</td>\n",
       "      <td>66</td>\n",
       "      <td>M</td>\n",
       "      <td>67.0</td>\n",
       "      <td>Hepatite C Anti-Hcv Sorologia,Tgp,Bilirrubinas...</td>\n",
       "      <td>Tgp,Bilirrubinas Total E Fracoes,Tempo Tromb.P...</td>\n",
       "      <td>3097.0</td>\n",
       "      <td>42</td>\n",
       "    </tr>\n",
       "    <tr>\n",
       "      <th>5</th>\n",
       "      <td>A6567EA4CB76E002B7BEADD005279297</td>\n",
       "      <td>Internado</td>\n",
       "      <td>O</td>\n",
       "      <td>1</td>\n",
       "      <td>34</td>\n",
       "      <td>M</td>\n",
       "      <td>70.0</td>\n",
       "      <td>Tgp,Bilirrubinas Total E Fracoes,Tempo Tromb.P...</td>\n",
       "      <td>Bilirrubinas Total E Fracoes,D. Dimeros(Dimero...</td>\n",
       "      <td>1431.0</td>\n",
       "      <td>27</td>\n",
       "    </tr>\n",
       "    <tr>\n",
       "      <th>...</th>\n",
       "      <td>...</td>\n",
       "      <td>...</td>\n",
       "      <td>...</td>\n",
       "      <td>...</td>\n",
       "      <td>...</td>\n",
       "      <td>...</td>\n",
       "      <td>...</td>\n",
       "      <td>...</td>\n",
       "      <td>...</td>\n",
       "      <td>...</td>\n",
       "      <td>...</td>\n",
       "    </tr>\n",
       "    <tr>\n",
       "      <th>4187</th>\n",
       "      <td>782656BA1BADE181CC5B4DE5792C91BE</td>\n",
       "      <td>Pronto Atendimento</td>\n",
       "      <td>A</td>\n",
       "      <td>1</td>\n",
       "      <td>5</td>\n",
       "      <td>F</td>\n",
       "      <td>89.0</td>\n",
       "      <td>COVID,Tgp,Uréia,Cálcio,Sódio,Potássio,D. Dimer...</td>\n",
       "      <td>Potássio,D. Dimeros(Dimeros De Fibrina),Tgo,CO...</td>\n",
       "      <td>75.0</td>\n",
       "      <td>7</td>\n",
       "    </tr>\n",
       "    <tr>\n",
       "      <th>4189</th>\n",
       "      <td>50061499481B4B35DB108EB436A05500</td>\n",
       "      <td>Externo</td>\n",
       "      <td>A</td>\n",
       "      <td>2</td>\n",
       "      <td>2</td>\n",
       "      <td>M</td>\n",
       "      <td>28.0</td>\n",
       "      <td>COVID</td>\n",
       "      <td>COVID</td>\n",
       "      <td>1.0</td>\n",
       "      <td>1</td>\n",
       "    </tr>\n",
       "    <tr>\n",
       "      <th>4190</th>\n",
       "      <td>74CC17F4F6DDAB860A70F7CCC2F8CF82</td>\n",
       "      <td>Ambulatorial</td>\n",
       "      <td>A</td>\n",
       "      <td>5</td>\n",
       "      <td>5</td>\n",
       "      <td>F</td>\n",
       "      <td>26.0</td>\n",
       "      <td>Antígeno Influenza Teste Rápido (AGINFLU),COVID</td>\n",
       "      <td>COVID</td>\n",
       "      <td>2.0</td>\n",
       "      <td>1</td>\n",
       "    </tr>\n",
       "    <tr>\n",
       "      <th>4191</th>\n",
       "      <td>1F382C34C14A2CC6DDD05825801EF68E</td>\n",
       "      <td>Pronto Atendimento</td>\n",
       "      <td>A</td>\n",
       "      <td>6</td>\n",
       "      <td>6</td>\n",
       "      <td>F</td>\n",
       "      <td>27.0</td>\n",
       "      <td>COVID</td>\n",
       "      <td>COVID</td>\n",
       "      <td>1.0</td>\n",
       "      <td>1</td>\n",
       "    </tr>\n",
       "    <tr>\n",
       "      <th>4192</th>\n",
       "      <td>885F6BBB7D21E0534D3661DF90A95EE7</td>\n",
       "      <td>Pronto Atendimento</td>\n",
       "      <td>A</td>\n",
       "      <td>4</td>\n",
       "      <td>4</td>\n",
       "      <td>M</td>\n",
       "      <td>52.0</td>\n",
       "      <td>COVID,Tgp,Gama Gt,Desidrogenase Lática (DHL/L)...</td>\n",
       "      <td>Tgp,Tempo E Ativid. Protrombina (Tp),D. Dimero...</td>\n",
       "      <td>41.0</td>\n",
       "      <td>6</td>\n",
       "    </tr>\n",
       "  </tbody>\n",
       "</table>\n",
       "<p>4030 rows × 11 columns</p>\n",
       "</div>"
      ],
      "text/plain": [
       "                           ID_PACIENTE  ... total_problemas\n",
       "0     BA74194B979B086198794D1470107709  ...              31\n",
       "2     7B03A278AD0026D4E34D0D84453A3548  ...              40\n",
       "3     DE791245DF4FD631AD71B2B307F7835D  ...              21\n",
       "4     44DA670729D76F0264E6066E2E42CF45  ...              42\n",
       "5     A6567EA4CB76E002B7BEADD005279297  ...              27\n",
       "...                                ...  ...             ...\n",
       "4187  782656BA1BADE181CC5B4DE5792C91BE  ...               7\n",
       "4189  50061499481B4B35DB108EB436A05500  ...               1\n",
       "4190  74CC17F4F6DDAB860A70F7CCC2F8CF82  ...               1\n",
       "4191  1F382C34C14A2CC6DDD05825801EF68E  ...               1\n",
       "4192  885F6BBB7D21E0534D3661DF90A95EE7  ...               6\n",
       "\n",
       "[4030 rows x 11 columns]"
      ]
     },
     "execution_count": 104,
     "metadata": {
      "tags": []
     },
     "output_type": "execute_result"
    }
   ],
   "source": [
    "df"
   ]
  },
  {
   "cell_type": "markdown",
   "metadata": {
    "id": "9ntyyibH5d-j"
   },
   "source": [
    "Salvando o dataframe final"
   ]
  },
  {
   "cell_type": "code",
   "execution_count": 105,
   "metadata": {
    "executionInfo": {
     "elapsed": 301703,
     "status": "ok",
     "timestamp": 1606157144959,
     "user": {
      "displayName": "Leonardo Thurler",
      "photoUrl": "https://lh3.googleusercontent.com/a-/AOh14GhsXo-6tUwaShHAHh9mhAKCPxko9amceCKxJCpFkg=s64",
      "userId": "06725283277410010839"
     },
     "user_tz": 180
    },
    "id": "jeMkz7N65awn"
   },
   "outputs": [],
   "source": [
    "df.to_csv('HSL_idade.csv')"
   ]
  },
  {
   "cell_type": "markdown",
   "metadata": {
    "id": "lHxle2t-ik2t"
   },
   "source": [
    "#Regras de Associação#"
   ]
  },
  {
   "cell_type": "markdown",
   "metadata": {
    "id": "3AwMNsCT6W_h"
   },
   "source": [
    "##Transformação para o apriori##"
   ]
  },
  {
   "cell_type": "markdown",
   "metadata": {
    "id": "LwzIEQgr6A7v"
   },
   "source": [
    "Importando o dataframe já transformado"
   ]
  },
  {
   "cell_type": "code",
   "execution_count": null,
   "metadata": {
    "id": "vKpdzRKp6E0u"
   },
   "outputs": [],
   "source": [
    "df=pd.read_csv('HSL.csv',sep=',')"
   ]
  },
  {
   "cell_type": "markdown",
   "metadata": {
    "id": "kHynPeWa_lRm"
   },
   "source": [
    "Removendo coluna Unnamed"
   ]
  },
  {
   "cell_type": "code",
   "execution_count": null,
   "metadata": {
    "id": "jmDf2pqE-tIx"
   },
   "outputs": [],
   "source": [
    "df = df.drop('Unnamed: 0',axis=1)"
   ]
  },
  {
   "cell_type": "markdown",
   "metadata": {
    "id": "rTIIVwO_Cc-N"
   },
   "source": [
    "Dando suporte aos pacientes que tem nenhum problema"
   ]
  },
  {
   "cell_type": "code",
   "execution_count": null,
   "metadata": {
    "colab": {
     "base_uri": "https://localhost:8080/"
    },
    "executionInfo": {
     "elapsed": 795,
     "status": "ok",
     "timestamp": 1605970090985,
     "user": {
      "displayName": "Rodrigo Veloso",
      "photoUrl": "https://lh3.googleusercontent.com/a-/AOh14Gj_Ta1_WqpgFBbio5qhoHqovB6aWW3OfNb38JIWqw=s64",
      "userId": "05542034347069006538"
     },
     "user_tz": 180
    },
    "id": "IkpgytasA4xp",
    "outputId": "4ee3fb5e-f657-4ff5-8603-830e6fc8ff14"
   },
   "outputs": [
    {
     "data": {
      "text/plain": [
       "nan"
      ]
     },
     "execution_count": 10,
     "metadata": {
      "tags": []
     },
     "output_type": "execute_result"
    }
   ],
   "source": [
    "df['problemas'].iloc[204]# = 'sem problemas'\n",
    "#df['problemas'].iloc[3057]# = 'sem problemas'"
   ]
  },
  {
   "cell_type": "markdown",
   "metadata": {
    "id": "QaRNBGFt_tm-"
   },
   "source": [
    "Para usar o apriori o dataset precisa estar no formato lista de listas"
   ]
  },
  {
   "cell_type": "code",
   "execution_count": null,
   "metadata": {
    "colab": {
     "base_uri": "https://localhost:8080/"
    },
    "executionInfo": {
     "elapsed": 779,
     "status": "ok",
     "timestamp": 1605970091790,
     "user": {
      "displayName": "Rodrigo Veloso",
      "photoUrl": "https://lh3.googleusercontent.com/a-/AOh14Gj_Ta1_WqpgFBbio5qhoHqovB6aWW3OfNb38JIWqw=s64",
      "userId": "05542034347069006538"
     },
     "user_tz": 180
    },
    "id": "9UHMfIiKEvUE",
    "outputId": "8d253f6e-26da-4ca1-f330-6ace05165ef6"
   },
   "outputs": [
    {
     "data": {
      "text/html": [
       "<div>\n",
       "<style scoped>\n",
       "    .dataframe tbody tr th:only-of-type {\n",
       "        vertical-align: middle;\n",
       "    }\n",
       "\n",
       "    .dataframe tbody tr th {\n",
       "        vertical-align: top;\n",
       "    }\n",
       "\n",
       "    .dataframe thead th {\n",
       "        text-align: right;\n",
       "    }\n",
       "</style>\n",
       "<table border=\"1\" class=\"dataframe\">\n",
       "  <thead>\n",
       "    <tr style=\"text-align: right;\">\n",
       "      <th></th>\n",
       "      <th>ID_PACIENTE</th>\n",
       "      <th>de_tipo_atendimento</th>\n",
       "      <th>de_desfecho</th>\n",
       "      <th>n_atendimentos</th>\n",
       "      <th>t_atendimento</th>\n",
       "      <th>IC_SEXO</th>\n",
       "      <th>idade</th>\n",
       "      <th>exames</th>\n",
       "      <th>problemas</th>\n",
       "      <th>total_exames</th>\n",
       "      <th>total_problemas</th>\n",
       "    </tr>\n",
       "  </thead>\n",
       "  <tbody>\n",
       "    <tr>\n",
       "      <th>0</th>\n",
       "      <td>BA74194B979B086198794D1470107709</td>\n",
       "      <td>Internado</td>\n",
       "      <td>O</td>\n",
       "      <td>1</td>\n",
       "      <td>11</td>\n",
       "      <td>M</td>\n",
       "      <td>70.0</td>\n",
       "      <td>Tempo E Ativid. Protrombina (Tp),Tsh - Hormoni...</td>\n",
       "      <td>Tempo E Ativid. Protrombina (Tp),Desidrogenase...</td>\n",
       "      <td>523.0</td>\n",
       "      <td>31</td>\n",
       "    </tr>\n",
       "    <tr>\n",
       "      <th>1</th>\n",
       "      <td>7B03A278AD0026D4E34D0D84453A3548</td>\n",
       "      <td>Internado</td>\n",
       "      <td>O</td>\n",
       "      <td>2</td>\n",
       "      <td>30</td>\n",
       "      <td>M</td>\n",
       "      <td>84.0</td>\n",
       "      <td>Urina,Tempo E Ativid. Protrombina (Tp),Tsh - H...</td>\n",
       "      <td>Urina,Tempo E Ativid. Protrombina (Tp),Acido F...</td>\n",
       "      <td>1123.0</td>\n",
       "      <td>40</td>\n",
       "    </tr>\n",
       "    <tr>\n",
       "      <th>2</th>\n",
       "      <td>DE791245DF4FD631AD71B2B307F7835D</td>\n",
       "      <td>Internado</td>\n",
       "      <td>O</td>\n",
       "      <td>2</td>\n",
       "      <td>13</td>\n",
       "      <td>M</td>\n",
       "      <td>78.0</td>\n",
       "      <td>Urina,Tempo E Ativid. Protrombina (Tp),Tsh - H...</td>\n",
       "      <td>Urina,Tempo E Ativid. Protrombina (Tp),Desidro...</td>\n",
       "      <td>318.0</td>\n",
       "      <td>21</td>\n",
       "    </tr>\n",
       "    <tr>\n",
       "      <th>3</th>\n",
       "      <td>44DA670729D76F0264E6066E2E42CF45</td>\n",
       "      <td>Internado</td>\n",
       "      <td>O</td>\n",
       "      <td>2</td>\n",
       "      <td>66</td>\n",
       "      <td>M</td>\n",
       "      <td>85.0</td>\n",
       "      <td>Urina,Tempo E Ativid. Protrombina (Tp),Tsh - H...</td>\n",
       "      <td>Urina,Tempo E Ativid. Protrombina (Tp),Tsh - H...</td>\n",
       "      <td>3097.0</td>\n",
       "      <td>42</td>\n",
       "    </tr>\n",
       "    <tr>\n",
       "      <th>4</th>\n",
       "      <td>A6567EA4CB76E002B7BEADD005279297</td>\n",
       "      <td>Internado</td>\n",
       "      <td>O</td>\n",
       "      <td>1</td>\n",
       "      <td>34</td>\n",
       "      <td>M</td>\n",
       "      <td>84.0</td>\n",
       "      <td>Urina,Tempo E Ativid. Protrombina (Tp),Tsh - H...</td>\n",
       "      <td>Urina,Tempo E Ativid. Protrombina (Tp),Desidro...</td>\n",
       "      <td>1431.0</td>\n",
       "      <td>27</td>\n",
       "    </tr>\n",
       "    <tr>\n",
       "      <th>...</th>\n",
       "      <td>...</td>\n",
       "      <td>...</td>\n",
       "      <td>...</td>\n",
       "      <td>...</td>\n",
       "      <td>...</td>\n",
       "      <td>...</td>\n",
       "      <td>...</td>\n",
       "      <td>...</td>\n",
       "      <td>...</td>\n",
       "      <td>...</td>\n",
       "      <td>...</td>\n",
       "    </tr>\n",
       "    <tr>\n",
       "      <th>4133</th>\n",
       "      <td>782656BA1BADE181CC5B4DE5792C91BE</td>\n",
       "      <td>Pronto Atendimento</td>\n",
       "      <td>A</td>\n",
       "      <td>1</td>\n",
       "      <td>5</td>\n",
       "      <td>F</td>\n",
       "      <td>89.0</td>\n",
       "      <td>Calculo da Estimativa da Taxa de Filtracao Glo...</td>\n",
       "      <td>Calculo da Estimativa da Taxa de Filtracao Glo...</td>\n",
       "      <td>75.0</td>\n",
       "      <td>7</td>\n",
       "    </tr>\n",
       "    <tr>\n",
       "      <th>4134</th>\n",
       "      <td>50061499481B4B35DB108EB436A05500</td>\n",
       "      <td>Externo</td>\n",
       "      <td>A</td>\n",
       "      <td>2</td>\n",
       "      <td>2</td>\n",
       "      <td>M</td>\n",
       "      <td>28.0</td>\n",
       "      <td>COVID</td>\n",
       "      <td>COVID</td>\n",
       "      <td>1.0</td>\n",
       "      <td>1</td>\n",
       "    </tr>\n",
       "    <tr>\n",
       "      <th>4135</th>\n",
       "      <td>74CC17F4F6DDAB860A70F7CCC2F8CF82</td>\n",
       "      <td>Ambulatorial</td>\n",
       "      <td>A</td>\n",
       "      <td>5</td>\n",
       "      <td>5</td>\n",
       "      <td>F</td>\n",
       "      <td>26.0</td>\n",
       "      <td>Antígeno Influenza Teste Rápido (AGINFLU),COVID</td>\n",
       "      <td>COVID</td>\n",
       "      <td>2.0</td>\n",
       "      <td>1</td>\n",
       "    </tr>\n",
       "    <tr>\n",
       "      <th>4136</th>\n",
       "      <td>1F382C34C14A2CC6DDD05825801EF68E</td>\n",
       "      <td>Pronto Atendimento</td>\n",
       "      <td>A</td>\n",
       "      <td>6</td>\n",
       "      <td>6</td>\n",
       "      <td>F</td>\n",
       "      <td>27.0</td>\n",
       "      <td>COVID</td>\n",
       "      <td>COVID</td>\n",
       "      <td>1.0</td>\n",
       "      <td>1</td>\n",
       "    </tr>\n",
       "    <tr>\n",
       "      <th>4137</th>\n",
       "      <td>885F6BBB7D21E0534D3661DF90A95EE7</td>\n",
       "      <td>Pronto Atendimento</td>\n",
       "      <td>A</td>\n",
       "      <td>4</td>\n",
       "      <td>4</td>\n",
       "      <td>M</td>\n",
       "      <td>52.0</td>\n",
       "      <td>Calculo da Estimativa da Taxa de Filtracao Glo...</td>\n",
       "      <td>Calculo da Estimativa da Taxa de Filtracao Glo...</td>\n",
       "      <td>41.0</td>\n",
       "      <td>6</td>\n",
       "    </tr>\n",
       "  </tbody>\n",
       "</table>\n",
       "<p>4138 rows × 11 columns</p>\n",
       "</div>"
      ],
      "text/plain": [
       "                           ID_PACIENTE  ... total_problemas\n",
       "0     BA74194B979B086198794D1470107709  ...              31\n",
       "1     7B03A278AD0026D4E34D0D84453A3548  ...              40\n",
       "2     DE791245DF4FD631AD71B2B307F7835D  ...              21\n",
       "3     44DA670729D76F0264E6066E2E42CF45  ...              42\n",
       "4     A6567EA4CB76E002B7BEADD005279297  ...              27\n",
       "...                                ...  ...             ...\n",
       "4133  782656BA1BADE181CC5B4DE5792C91BE  ...               7\n",
       "4134  50061499481B4B35DB108EB436A05500  ...               1\n",
       "4135  74CC17F4F6DDAB860A70F7CCC2F8CF82  ...               1\n",
       "4136  1F382C34C14A2CC6DDD05825801EF68E  ...               1\n",
       "4137  885F6BBB7D21E0534D3661DF90A95EE7  ...               6\n",
       "\n",
       "[4138 rows x 11 columns]"
      ]
     },
     "execution_count": 11,
     "metadata": {
      "tags": []
     },
     "output_type": "execute_result"
    }
   ],
   "source": [
    "df"
   ]
  },
  {
   "cell_type": "code",
   "execution_count": null,
   "metadata": {
    "id": "xXFbQTO1E7UL"
   },
   "outputs": [],
   "source": [
    "df=df[np.logical_not(df['problemas'].isna())]"
   ]
  },
  {
   "cell_type": "code",
   "execution_count": null,
   "metadata": {
    "colab": {
     "base_uri": "https://localhost:8080/"
    },
    "executionInfo": {
     "elapsed": 780,
     "status": "ok",
     "timestamp": 1605970096456,
     "user": {
      "displayName": "Rodrigo Veloso",
      "photoUrl": "https://lh3.googleusercontent.com/a-/AOh14Gj_Ta1_WqpgFBbio5qhoHqovB6aWW3OfNb38JIWqw=s64",
      "userId": "05542034347069006538"
     },
     "user_tz": 180
    },
    "id": "47UhzA1iMise",
    "outputId": "03d7b6f7-16c5-410b-c8e0-dacde219fa73"
   },
   "outputs": [
    {
     "name": "stderr",
     "output_type": "stream",
     "text": [
      "/usr/local/lib/python3.6/dist-packages/ipykernel_launcher.py:1: SettingWithCopyWarning: \n",
      "A value is trying to be set on a copy of a slice from a DataFrame.\n",
      "Try using .loc[row_indexer,col_indexer] = value instead\n",
      "\n",
      "See the caveats in the documentation: https://pandas.pydata.org/pandas-docs/stable/user_guide/indexing.html#returning-a-view-versus-a-copy\n",
      "  \"\"\"Entry point for launching an IPython kernel.\n"
     ]
    }
   ],
   "source": [
    "df['t_atendimento']=df['t_atendimento'].apply(lambda x: 'ACIMA' if x > 30 else 'ABAIXO')"
   ]
  },
  {
   "cell_type": "code",
   "execution_count": null,
   "metadata": {
    "colab": {
     "base_uri": "https://localhost:8080/"
    },
    "executionInfo": {
     "elapsed": 544,
     "status": "ok",
     "timestamp": 1605970101612,
     "user": {
      "displayName": "Rodrigo Veloso",
      "photoUrl": "https://lh3.googleusercontent.com/a-/AOh14Gj_Ta1_WqpgFBbio5qhoHqovB6aWW3OfNb38JIWqw=s64",
      "userId": "05542034347069006538"
     },
     "user_tz": 180
    },
    "id": "QEW_1ITgONhg",
    "outputId": "99b39d4c-d26c-4528-ffeb-ba154b61116a"
   },
   "outputs": [
    {
     "data": {
      "text/html": [
       "<div>\n",
       "<style scoped>\n",
       "    .dataframe tbody tr th:only-of-type {\n",
       "        vertical-align: middle;\n",
       "    }\n",
       "\n",
       "    .dataframe tbody tr th {\n",
       "        vertical-align: top;\n",
       "    }\n",
       "\n",
       "    .dataframe thead th {\n",
       "        text-align: right;\n",
       "    }\n",
       "</style>\n",
       "<table border=\"1\" class=\"dataframe\">\n",
       "  <thead>\n",
       "    <tr style=\"text-align: right;\">\n",
       "      <th></th>\n",
       "      <th>ID_PACIENTE</th>\n",
       "      <th>de_tipo_atendimento</th>\n",
       "      <th>de_desfecho</th>\n",
       "      <th>n_atendimentos</th>\n",
       "      <th>t_atendimento</th>\n",
       "      <th>IC_SEXO</th>\n",
       "      <th>idade</th>\n",
       "      <th>exames</th>\n",
       "      <th>problemas</th>\n",
       "      <th>total_exames</th>\n",
       "      <th>total_problemas</th>\n",
       "    </tr>\n",
       "  </thead>\n",
       "  <tbody>\n",
       "    <tr>\n",
       "      <th>0</th>\n",
       "      <td>BA74194B979B086198794D1470107709</td>\n",
       "      <td>Internado</td>\n",
       "      <td>O</td>\n",
       "      <td>1</td>\n",
       "      <td>ABAIXO</td>\n",
       "      <td>M</td>\n",
       "      <td>70.0</td>\n",
       "      <td>Tempo E Ativid. Protrombina (Tp),Tsh - Hormoni...</td>\n",
       "      <td>Tempo E Ativid. Protrombina (Tp),Desidrogenase...</td>\n",
       "      <td>523.0</td>\n",
       "      <td>31</td>\n",
       "    </tr>\n",
       "    <tr>\n",
       "      <th>1</th>\n",
       "      <td>7B03A278AD0026D4E34D0D84453A3548</td>\n",
       "      <td>Internado</td>\n",
       "      <td>O</td>\n",
       "      <td>2</td>\n",
       "      <td>ABAIXO</td>\n",
       "      <td>M</td>\n",
       "      <td>84.0</td>\n",
       "      <td>Urina,Tempo E Ativid. Protrombina (Tp),Tsh - H...</td>\n",
       "      <td>Urina,Tempo E Ativid. Protrombina (Tp),Acido F...</td>\n",
       "      <td>1123.0</td>\n",
       "      <td>40</td>\n",
       "    </tr>\n",
       "    <tr>\n",
       "      <th>2</th>\n",
       "      <td>DE791245DF4FD631AD71B2B307F7835D</td>\n",
       "      <td>Internado</td>\n",
       "      <td>O</td>\n",
       "      <td>2</td>\n",
       "      <td>ABAIXO</td>\n",
       "      <td>M</td>\n",
       "      <td>78.0</td>\n",
       "      <td>Urina,Tempo E Ativid. Protrombina (Tp),Tsh - H...</td>\n",
       "      <td>Urina,Tempo E Ativid. Protrombina (Tp),Desidro...</td>\n",
       "      <td>318.0</td>\n",
       "      <td>21</td>\n",
       "    </tr>\n",
       "    <tr>\n",
       "      <th>3</th>\n",
       "      <td>44DA670729D76F0264E6066E2E42CF45</td>\n",
       "      <td>Internado</td>\n",
       "      <td>O</td>\n",
       "      <td>2</td>\n",
       "      <td>ACIMA</td>\n",
       "      <td>M</td>\n",
       "      <td>85.0</td>\n",
       "      <td>Urina,Tempo E Ativid. Protrombina (Tp),Tsh - H...</td>\n",
       "      <td>Urina,Tempo E Ativid. Protrombina (Tp),Tsh - H...</td>\n",
       "      <td>3097.0</td>\n",
       "      <td>42</td>\n",
       "    </tr>\n",
       "    <tr>\n",
       "      <th>4</th>\n",
       "      <td>A6567EA4CB76E002B7BEADD005279297</td>\n",
       "      <td>Internado</td>\n",
       "      <td>O</td>\n",
       "      <td>1</td>\n",
       "      <td>ACIMA</td>\n",
       "      <td>M</td>\n",
       "      <td>84.0</td>\n",
       "      <td>Urina,Tempo E Ativid. Protrombina (Tp),Tsh - H...</td>\n",
       "      <td>Urina,Tempo E Ativid. Protrombina (Tp),Desidro...</td>\n",
       "      <td>1431.0</td>\n",
       "      <td>27</td>\n",
       "    </tr>\n",
       "    <tr>\n",
       "      <th>...</th>\n",
       "      <td>...</td>\n",
       "      <td>...</td>\n",
       "      <td>...</td>\n",
       "      <td>...</td>\n",
       "      <td>...</td>\n",
       "      <td>...</td>\n",
       "      <td>...</td>\n",
       "      <td>...</td>\n",
       "      <td>...</td>\n",
       "      <td>...</td>\n",
       "      <td>...</td>\n",
       "    </tr>\n",
       "    <tr>\n",
       "      <th>4133</th>\n",
       "      <td>782656BA1BADE181CC5B4DE5792C91BE</td>\n",
       "      <td>Pronto Atendimento</td>\n",
       "      <td>A</td>\n",
       "      <td>1</td>\n",
       "      <td>ABAIXO</td>\n",
       "      <td>F</td>\n",
       "      <td>89.0</td>\n",
       "      <td>Calculo da Estimativa da Taxa de Filtracao Glo...</td>\n",
       "      <td>Calculo da Estimativa da Taxa de Filtracao Glo...</td>\n",
       "      <td>75.0</td>\n",
       "      <td>7</td>\n",
       "    </tr>\n",
       "    <tr>\n",
       "      <th>4134</th>\n",
       "      <td>50061499481B4B35DB108EB436A05500</td>\n",
       "      <td>Externo</td>\n",
       "      <td>A</td>\n",
       "      <td>2</td>\n",
       "      <td>ABAIXO</td>\n",
       "      <td>M</td>\n",
       "      <td>28.0</td>\n",
       "      <td>COVID</td>\n",
       "      <td>COVID</td>\n",
       "      <td>1.0</td>\n",
       "      <td>1</td>\n",
       "    </tr>\n",
       "    <tr>\n",
       "      <th>4135</th>\n",
       "      <td>74CC17F4F6DDAB860A70F7CCC2F8CF82</td>\n",
       "      <td>Ambulatorial</td>\n",
       "      <td>A</td>\n",
       "      <td>5</td>\n",
       "      <td>ABAIXO</td>\n",
       "      <td>F</td>\n",
       "      <td>26.0</td>\n",
       "      <td>Antígeno Influenza Teste Rápido (AGINFLU),COVID</td>\n",
       "      <td>COVID</td>\n",
       "      <td>2.0</td>\n",
       "      <td>1</td>\n",
       "    </tr>\n",
       "    <tr>\n",
       "      <th>4136</th>\n",
       "      <td>1F382C34C14A2CC6DDD05825801EF68E</td>\n",
       "      <td>Pronto Atendimento</td>\n",
       "      <td>A</td>\n",
       "      <td>6</td>\n",
       "      <td>ABAIXO</td>\n",
       "      <td>F</td>\n",
       "      <td>27.0</td>\n",
       "      <td>COVID</td>\n",
       "      <td>COVID</td>\n",
       "      <td>1.0</td>\n",
       "      <td>1</td>\n",
       "    </tr>\n",
       "    <tr>\n",
       "      <th>4137</th>\n",
       "      <td>885F6BBB7D21E0534D3661DF90A95EE7</td>\n",
       "      <td>Pronto Atendimento</td>\n",
       "      <td>A</td>\n",
       "      <td>4</td>\n",
       "      <td>ABAIXO</td>\n",
       "      <td>M</td>\n",
       "      <td>52.0</td>\n",
       "      <td>Calculo da Estimativa da Taxa de Filtracao Glo...</td>\n",
       "      <td>Calculo da Estimativa da Taxa de Filtracao Glo...</td>\n",
       "      <td>41.0</td>\n",
       "      <td>6</td>\n",
       "    </tr>\n",
       "  </tbody>\n",
       "</table>\n",
       "<p>4136 rows × 11 columns</p>\n",
       "</div>"
      ],
      "text/plain": [
       "                           ID_PACIENTE  ... total_problemas\n",
       "0     BA74194B979B086198794D1470107709  ...              31\n",
       "1     7B03A278AD0026D4E34D0D84453A3548  ...              40\n",
       "2     DE791245DF4FD631AD71B2B307F7835D  ...              21\n",
       "3     44DA670729D76F0264E6066E2E42CF45  ...              42\n",
       "4     A6567EA4CB76E002B7BEADD005279297  ...              27\n",
       "...                                ...  ...             ...\n",
       "4133  782656BA1BADE181CC5B4DE5792C91BE  ...               7\n",
       "4134  50061499481B4B35DB108EB436A05500  ...               1\n",
       "4135  74CC17F4F6DDAB860A70F7CCC2F8CF82  ...               1\n",
       "4136  1F382C34C14A2CC6DDD05825801EF68E  ...               1\n",
       "4137  885F6BBB7D21E0534D3661DF90A95EE7  ...               6\n",
       "\n",
       "[4136 rows x 11 columns]"
      ]
     },
     "execution_count": 14,
     "metadata": {
      "tags": []
     },
     "output_type": "execute_result"
    }
   ],
   "source": [
    "df"
   ]
  },
  {
   "cell_type": "code",
   "execution_count": null,
   "metadata": {
    "id": "fw6rCYtb_G84"
   },
   "outputs": [],
   "source": [
    "registros_exames = []\n",
    "registros_problemas = []\n",
    "for data in df['exames'].iloc:\n",
    "  registros_exames.append(data.split(','))\n",
    "for data in df['problemas'].iloc:\n",
    "  registros_problemas.append(data.split(','))\n",
    "for i,data in enumerate(registros_problemas):\n",
    "   data.append(df['de_tipo_atendimento'].iloc[i])"
   ]
  },
  {
   "cell_type": "markdown",
   "metadata": {
    "id": "BgW0O9WaCwn0"
   },
   "source": [
    "Importando o a apriori"
   ]
  },
  {
   "cell_type": "code",
   "execution_count": null,
   "metadata": {
    "colab": {
     "base_uri": "https://localhost:8080/"
    },
    "executionInfo": {
     "elapsed": 5804,
     "status": "ok",
     "timestamp": 1605970112549,
     "user": {
      "displayName": "Rodrigo Veloso",
      "photoUrl": "https://lh3.googleusercontent.com/a-/AOh14Gj_Ta1_WqpgFBbio5qhoHqovB6aWW3OfNb38JIWqw=s64",
      "userId": "05542034347069006538"
     },
     "user_tz": 180
    },
    "id": "PAermu_aAhZu",
    "outputId": "1c9c0cd0-e569-4d01-f5c5-636731df1c1e"
   },
   "outputs": [
    {
     "name": "stdout",
     "output_type": "stream",
     "text": [
      "Requirement already satisfied: apyori in /usr/local/lib/python3.6/dist-packages (1.1.2)\n",
      "Requirement already satisfied: mlxtend in /usr/local/lib/python3.6/dist-packages (0.14.0)\n",
      "Requirement already satisfied: numpy>=1.10.4 in /usr/local/lib/python3.6/dist-packages (from mlxtend) (1.18.5)\n",
      "Requirement already satisfied: pandas>=0.17.1 in /usr/local/lib/python3.6/dist-packages (from mlxtend) (1.1.4)\n",
      "Requirement already satisfied: matplotlib>=1.5.1 in /usr/local/lib/python3.6/dist-packages (from mlxtend) (3.2.2)\n",
      "Requirement already satisfied: scipy>=0.17 in /usr/local/lib/python3.6/dist-packages (from mlxtend) (1.4.1)\n",
      "Requirement already satisfied: setuptools in /usr/local/lib/python3.6/dist-packages (from mlxtend) (50.3.2)\n",
      "Requirement already satisfied: scikit-learn>=0.18 in /usr/local/lib/python3.6/dist-packages (from mlxtend) (0.22.2.post1)\n",
      "Requirement already satisfied: python-dateutil>=2.7.3 in /usr/local/lib/python3.6/dist-packages (from pandas>=0.17.1->mlxtend) (2.8.1)\n",
      "Requirement already satisfied: pytz>=2017.2 in /usr/local/lib/python3.6/dist-packages (from pandas>=0.17.1->mlxtend) (2018.9)\n",
      "Requirement already satisfied: cycler>=0.10 in /usr/local/lib/python3.6/dist-packages (from matplotlib>=1.5.1->mlxtend) (0.10.0)\n",
      "Requirement already satisfied: pyparsing!=2.0.4,!=2.1.2,!=2.1.6,>=2.0.1 in /usr/local/lib/python3.6/dist-packages (from matplotlib>=1.5.1->mlxtend) (2.4.7)\n",
      "Requirement already satisfied: kiwisolver>=1.0.1 in /usr/local/lib/python3.6/dist-packages (from matplotlib>=1.5.1->mlxtend) (1.3.1)\n",
      "Requirement already satisfied: joblib>=0.11 in /usr/local/lib/python3.6/dist-packages (from scikit-learn>=0.18->mlxtend) (0.17.0)\n",
      "Requirement already satisfied: six>=1.5 in /usr/local/lib/python3.6/dist-packages (from python-dateutil>=2.7.3->pandas>=0.17.1->mlxtend) (1.15.0)\n"
     ]
    }
   ],
   "source": [
    "!pip install apyori\n",
    "!pip install mlxtend \n",
    "from apyori import apriori\n",
    "from mlxtend.preprocessing import TransactionEncoder\n",
    "from mlxtend.frequent_patterns import apriori\n",
    "from mlxtend.frequent_patterns import association_rules"
   ]
  },
  {
   "cell_type": "markdown",
   "metadata": {
    "id": "QscjeM_BO8hJ"
   },
   "source": [
    "Modificando o formato e gerando conjuntos de itens frequentes"
   ]
  },
  {
   "cell_type": "code",
   "execution_count": null,
   "metadata": {
    "colab": {
     "base_uri": "https://localhost:8080/"
    },
    "executionInfo": {
     "elapsed": 27501,
     "status": "ok",
     "timestamp": 1605970137386,
     "user": {
      "displayName": "Rodrigo Veloso",
      "photoUrl": "https://lh3.googleusercontent.com/a-/AOh14Gj_Ta1_WqpgFBbio5qhoHqovB6aWW3OfNb38JIWqw=s64",
      "userId": "05542034347069006538"
     },
     "user_tz": 180
    },
    "id": "XwzyG833JkK8",
    "outputId": "c0d96e26-b557-4a64-b692-ddb06d7be217"
   },
   "outputs": [
    {
     "data": {
      "text/html": [
       "<div>\n",
       "<style scoped>\n",
       "    .dataframe tbody tr th:only-of-type {\n",
       "        vertical-align: middle;\n",
       "    }\n",
       "\n",
       "    .dataframe tbody tr th {\n",
       "        vertical-align: top;\n",
       "    }\n",
       "\n",
       "    .dataframe thead th {\n",
       "        text-align: right;\n",
       "    }\n",
       "</style>\n",
       "<table border=\"1\" class=\"dataframe\">\n",
       "  <thead>\n",
       "    <tr style=\"text-align: right;\">\n",
       "      <th></th>\n",
       "      <th>support</th>\n",
       "      <th>itemsets</th>\n",
       "    </tr>\n",
       "  </thead>\n",
       "  <tbody>\n",
       "    <tr>\n",
       "      <th>0</th>\n",
       "      <td>0.040135</td>\n",
       "      <td>(Albumina)</td>\n",
       "    </tr>\n",
       "    <tr>\n",
       "      <th>1</th>\n",
       "      <td>0.190039</td>\n",
       "      <td>(Ambulatorial)</td>\n",
       "    </tr>\n",
       "    <tr>\n",
       "      <th>2</th>\n",
       "      <td>0.182785</td>\n",
       "      <td>(Bilirrubinas Total E Fracoes)</td>\n",
       "    </tr>\n",
       "    <tr>\n",
       "      <th>3</th>\n",
       "      <td>0.992747</td>\n",
       "      <td>(COVID)</td>\n",
       "    </tr>\n",
       "    <tr>\n",
       "      <th>4</th>\n",
       "      <td>0.361702</td>\n",
       "      <td>(Calculo da Estimativa da Taxa de Filtracao Gl...</td>\n",
       "    </tr>\n",
       "    <tr>\n",
       "      <th>...</th>\n",
       "      <td>...</td>\n",
       "      <td>...</td>\n",
       "    </tr>\n",
       "    <tr>\n",
       "      <th>110512</th>\n",
       "      <td>0.030222</td>\n",
       "      <td>(D. Dimeros(Dimeros De Fibrina), Gasometria Ve...</td>\n",
       "    </tr>\n",
       "    <tr>\n",
       "      <th>110513</th>\n",
       "      <td>0.031673</td>\n",
       "      <td>(D. Dimeros(Dimeros De Fibrina), Gasometria Ve...</td>\n",
       "    </tr>\n",
       "    <tr>\n",
       "      <th>110514</th>\n",
       "      <td>0.031190</td>\n",
       "      <td>(D. Dimeros(Dimeros De Fibrina), Gasometria Ve...</td>\n",
       "    </tr>\n",
       "    <tr>\n",
       "      <th>110515</th>\n",
       "      <td>0.030222</td>\n",
       "      <td>(D. Dimeros(Dimeros De Fibrina), Gasometria Ve...</td>\n",
       "    </tr>\n",
       "    <tr>\n",
       "      <th>110516</th>\n",
       "      <td>0.030948</td>\n",
       "      <td>(D. Dimeros(Dimeros De Fibrina), Gasometria Ve...</td>\n",
       "    </tr>\n",
       "  </tbody>\n",
       "</table>\n",
       "<p>110517 rows × 2 columns</p>\n",
       "</div>"
      ],
      "text/plain": [
       "         support                                           itemsets\n",
       "0       0.040135                                         (Albumina)\n",
       "1       0.190039                                     (Ambulatorial)\n",
       "2       0.182785                     (Bilirrubinas Total E Fracoes)\n",
       "3       0.992747                                            (COVID)\n",
       "4       0.361702  (Calculo da Estimativa da Taxa de Filtracao Gl...\n",
       "...          ...                                                ...\n",
       "110512  0.030222  (D. Dimeros(Dimeros De Fibrina), Gasometria Ve...\n",
       "110513  0.031673  (D. Dimeros(Dimeros De Fibrina), Gasometria Ve...\n",
       "110514  0.031190  (D. Dimeros(Dimeros De Fibrina), Gasometria Ve...\n",
       "110515  0.030222  (D. Dimeros(Dimeros De Fibrina), Gasometria Ve...\n",
       "110516  0.030948  (D. Dimeros(Dimeros De Fibrina), Gasometria Ve...\n",
       "\n",
       "[110517 rows x 2 columns]"
      ]
     },
     "execution_count": 17,
     "metadata": {
      "tags": []
     },
     "output_type": "execute_result"
    }
   ],
   "source": [
    "dataset = registros_problemas\n",
    "te = TransactionEncoder()\n",
    "te_ary = te.fit(dataset).transform(dataset)\n",
    "df = pd.DataFrame(te_ary, columns=te.columns_)\n",
    "\n",
    "frequent_itemsets = apriori(df, min_support=0.03, use_colnames=True)\n",
    "\n",
    "frequent_itemsets"
   ]
  },
  {
   "cell_type": "markdown",
   "metadata": {
    "id": "lpQpUO5ci7P8"
   },
   "source": [
    "Gerando um dataframe com as regras e suas métricas"
   ]
  },
  {
   "cell_type": "code",
   "execution_count": null,
   "metadata": {
    "colab": {
     "base_uri": "https://localhost:8080/"
    },
    "executionInfo": {
     "elapsed": 66372,
     "status": "error",
     "timestamp": 1605970212672,
     "user": {
      "displayName": "Rodrigo Veloso",
      "photoUrl": "https://lh3.googleusercontent.com/a-/AOh14Gj_Ta1_WqpgFBbio5qhoHqovB6aWW3OfNb38JIWqw=s64",
      "userId": "05542034347069006538"
     },
     "user_tz": 180
    },
    "id": "nP5V7Yz4Jyi8",
    "outputId": "6ab53d1c-ea4e-41c0-879a-c501696f4c93"
   },
   "outputs": [
    {
     "ename": "KeyboardInterrupt",
     "evalue": "ignored",
     "output_type": "error",
     "traceback": [
      "\u001b[0;31m---------------------------------------------------------------------------\u001b[0m",
      "\u001b[0;31mKeyboardInterrupt\u001b[0m                         Traceback (most recent call last)",
      "\u001b[0;32m<ipython-input-18-7ec2d99f737c>\u001b[0m in \u001b[0;36m<module>\u001b[0;34m()\u001b[0m\n\u001b[0;32m----> 1\u001b[0;31m \u001b[0mdf\u001b[0m \u001b[0;34m=\u001b[0m \u001b[0massociation_rules\u001b[0m\u001b[0;34m(\u001b[0m\u001b[0mfrequent_itemsets\u001b[0m\u001b[0;34m,\u001b[0m \u001b[0mmetric\u001b[0m\u001b[0;34m=\u001b[0m\u001b[0;34m\"confidence\"\u001b[0m\u001b[0;34m,\u001b[0m \u001b[0mmin_threshold\u001b[0m\u001b[0;34m=\u001b[0m\u001b[0;36m0.2\u001b[0m\u001b[0;34m)\u001b[0m\u001b[0;34m\u001b[0m\u001b[0;34m\u001b[0m\u001b[0m\n\u001b[0m",
      "\u001b[0;32m/usr/local/lib/python3.6/dist-packages/mlxtend/frequent_patterns/association_rules.py\u001b[0m in \u001b[0;36massociation_rules\u001b[0;34m(df, metric, min_threshold, support_only)\u001b[0m\n\u001b[1;32m    142\u001b[0m             \u001b[0;32mfor\u001b[0m \u001b[0mc\u001b[0m \u001b[0;32min\u001b[0m \u001b[0mcombinations\u001b[0m\u001b[0;34m(\u001b[0m\u001b[0mk\u001b[0m\u001b[0;34m,\u001b[0m \u001b[0mr\u001b[0m\u001b[0;34m=\u001b[0m\u001b[0midx\u001b[0m\u001b[0;34m)\u001b[0m\u001b[0;34m:\u001b[0m\u001b[0;34m\u001b[0m\u001b[0;34m\u001b[0m\u001b[0m\n\u001b[1;32m    143\u001b[0m                 \u001b[0mantecedent\u001b[0m \u001b[0;34m=\u001b[0m \u001b[0mfrozenset\u001b[0m\u001b[0;34m(\u001b[0m\u001b[0mc\u001b[0m\u001b[0;34m)\u001b[0m\u001b[0;34m\u001b[0m\u001b[0;34m\u001b[0m\u001b[0m\n\u001b[0;32m--> 144\u001b[0;31m                 \u001b[0mconsequent\u001b[0m \u001b[0;34m=\u001b[0m \u001b[0mk\u001b[0m\u001b[0;34m.\u001b[0m\u001b[0mdifference\u001b[0m\u001b[0;34m(\u001b[0m\u001b[0mantecedent\u001b[0m\u001b[0;34m)\u001b[0m\u001b[0;34m\u001b[0m\u001b[0;34m\u001b[0m\u001b[0m\n\u001b[0m\u001b[1;32m    145\u001b[0m \u001b[0;34m\u001b[0m\u001b[0m\n\u001b[1;32m    146\u001b[0m                 \u001b[0;32mif\u001b[0m \u001b[0msupport_only\u001b[0m\u001b[0;34m:\u001b[0m\u001b[0;34m\u001b[0m\u001b[0;34m\u001b[0m\u001b[0m\n",
      "\u001b[0;31mKeyboardInterrupt\u001b[0m: "
     ]
    }
   ],
   "source": [
    "df = association_rules(frequent_itemsets, metric=\"confidence\", min_threshold=0.2)"
   ]
  },
  {
   "cell_type": "code",
   "execution_count": null,
   "metadata": {
    "id": "o_NsW8EhTfGo"
   },
   "outputs": [],
   "source": [
    "df"
   ]
  },
  {
   "cell_type": "markdown",
   "metadata": {
    "id": "ycp-o8PvjDiH"
   },
   "source": [
    "Filtro para COVID no consequente"
   ]
  },
  {
   "cell_type": "code",
   "execution_count": null,
   "metadata": {
    "id": "k-Z89HJQPks7"
   },
   "outputs": [],
   "source": [
    "covid_consequent = df[df['consequents'].apply(lambda x: 'COVID' in (x) and len(x) == 1)]"
   ]
  },
  {
   "cell_type": "markdown",
   "metadata": {
    "id": "ksk_o3UdjHgX"
   },
   "source": [
    "Filtro para COVID no antecedente"
   ]
  },
  {
   "cell_type": "code",
   "execution_count": null,
   "metadata": {
    "id": "S7OZb_dJRhxh"
   },
   "outputs": [],
   "source": [
    "covid_antecedent = df[df['antecedents'].apply(lambda x: 'COVID' in (x) and len(x) == 1)]"
   ]
  },
  {
   "cell_type": "code",
   "execution_count": null,
   "metadata": {
    "colab": {
     "base_uri": "https://localhost:8080/"
    },
    "executionInfo": {
     "elapsed": 651,
     "status": "error",
     "timestamp": 1605970019283,
     "user": {
      "displayName": "Rodrigo Veloso",
      "photoUrl": "https://lh3.googleusercontent.com/a-/AOh14Gj_Ta1_WqpgFBbio5qhoHqovB6aWW3OfNb38JIWqw=s64",
      "userId": "05542034347069006538"
     },
     "user_tz": 180
    },
    "id": "mYRxsDpYQhzI",
    "outputId": "6704dea4-ad06-47cf-9ca0-56456ae20908"
   },
   "outputs": [
    {
     "ename": "NameError",
     "evalue": "ignored",
     "output_type": "error",
     "traceback": [
      "\u001b[0;31m---------------------------------------------------------------------------\u001b[0m",
      "\u001b[0;31mNameError\u001b[0m                                 Traceback (most recent call last)",
      "\u001b[0;32m<ipython-input-1-986e9550ead0>\u001b[0m in \u001b[0;36m<module>\u001b[0;34m()\u001b[0m\n\u001b[0;32m----> 1\u001b[0;31m \u001b[0mconsequent\u001b[0m \u001b[0;34m=\u001b[0m \u001b[0mdf\u001b[0m\u001b[0;34m[\u001b[0m\u001b[0mdf\u001b[0m\u001b[0;34m[\u001b[0m\u001b[0;34m'consequents'\u001b[0m\u001b[0;34m]\u001b[0m\u001b[0;34m.\u001b[0m\u001b[0mapply\u001b[0m\u001b[0;34m(\u001b[0m\u001b[0;32mlambda\u001b[0m \u001b[0mx\u001b[0m\u001b[0;34m:\u001b[0m \u001b[0;34m'Internado'\u001b[0m \u001b[0;32min\u001b[0m \u001b[0;34m(\u001b[0m\u001b[0mx\u001b[0m\u001b[0;34m)\u001b[0m \u001b[0;32mand\u001b[0m \u001b[0mlen\u001b[0m\u001b[0;34m(\u001b[0m\u001b[0mx\u001b[0m\u001b[0;34m)\u001b[0m \u001b[0;34m==\u001b[0m \u001b[0;36m1\u001b[0m\u001b[0;34m)\u001b[0m\u001b[0;34m]\u001b[0m\u001b[0;34m\u001b[0m\u001b[0;34m\u001b[0m\u001b[0m\n\u001b[0m",
      "\u001b[0;31mNameError\u001b[0m: name 'df' is not defined"
     ]
    }
   ],
   "source": [
    "consequent = df[df['consequents'].apply(lambda x: 'Internado' in (x) and len(x) == 1)]"
   ]
  },
  {
   "cell_type": "code",
   "execution_count": null,
   "metadata": {
    "colab": {
     "base_uri": "https://localhost:8080/"
    },
    "executionInfo": {
     "elapsed": 979,
     "status": "ok",
     "timestamp": 1605969858729,
     "user": {
      "displayName": "Rodrigo Veloso",
      "photoUrl": "https://lh3.googleusercontent.com/a-/AOh14Gj_Ta1_WqpgFBbio5qhoHqovB6aWW3OfNb38JIWqw=s64",
      "userId": "05542034347069006538"
     },
     "user_tz": 180
    },
    "id": "BXLIF4LGQqJt",
    "outputId": "5e6d253b-998f-4db5-d0b0-e25d1e201434"
   },
   "outputs": [
    {
     "data": {
      "text/html": [
       "<div>\n",
       "<style scoped>\n",
       "    .dataframe tbody tr th:only-of-type {\n",
       "        vertical-align: middle;\n",
       "    }\n",
       "\n",
       "    .dataframe tbody tr th {\n",
       "        vertical-align: top;\n",
       "    }\n",
       "\n",
       "    .dataframe thead th {\n",
       "        text-align: right;\n",
       "    }\n",
       "</style>\n",
       "<table border=\"1\" class=\"dataframe\">\n",
       "  <thead>\n",
       "    <tr style=\"text-align: right;\">\n",
       "      <th></th>\n",
       "      <th>antecedents</th>\n",
       "      <th>consequents</th>\n",
       "      <th>antecedent support</th>\n",
       "      <th>consequent support</th>\n",
       "      <th>support</th>\n",
       "      <th>confidence</th>\n",
       "      <th>lift</th>\n",
       "      <th>leverage</th>\n",
       "      <th>conviction</th>\n",
       "    </tr>\n",
       "  </thead>\n",
       "  <tbody>\n",
       "    <tr>\n",
       "      <th>35</th>\n",
       "      <td>(Creatinina)</td>\n",
       "      <td>(ACIMA)</td>\n",
       "      <td>0.127418</td>\n",
       "      <td>0.05972</td>\n",
       "      <td>0.030948</td>\n",
       "      <td>0.242884</td>\n",
       "      <td>4.067082</td>\n",
       "      <td>0.023338</td>\n",
       "      <td>1.241924</td>\n",
       "    </tr>\n",
       "    <tr>\n",
       "      <th>1688</th>\n",
       "      <td>(Creatinina, Hemograma)</td>\n",
       "      <td>(ACIMA)</td>\n",
       "      <td>0.126692</td>\n",
       "      <td>0.05972</td>\n",
       "      <td>0.030948</td>\n",
       "      <td>0.244275</td>\n",
       "      <td>4.090367</td>\n",
       "      <td>0.023382</td>\n",
       "      <td>1.244210</td>\n",
       "    </tr>\n",
       "  </tbody>\n",
       "</table>\n",
       "</div>"
      ],
      "text/plain": [
       "                  antecedents consequents  ...  leverage  conviction\n",
       "35               (Creatinina)     (ACIMA)  ...  0.023338    1.241924\n",
       "1688  (Creatinina, Hemograma)     (ACIMA)  ...  0.023382    1.244210\n",
       "\n",
       "[2 rows x 9 columns]"
      ]
     },
     "execution_count": 60,
     "metadata": {
      "tags": []
     },
     "output_type": "execute_result"
    }
   ],
   "source": [
    "consequent[consequent['lift']>1.5]"
   ]
  },
  {
   "cell_type": "markdown",
   "metadata": {
    "id": "I91k-gnKjNe3"
   },
   "source": [
    "Filtro para regras com Lift > 15"
   ]
  },
  {
   "cell_type": "code",
   "execution_count": null,
   "metadata": {
    "colab": {
     "base_uri": "https://localhost:8080/"
    },
    "executionInfo": {
     "elapsed": 608,
     "status": "ok",
     "timestamp": 1605969803325,
     "user": {
      "displayName": "Rodrigo Veloso",
      "photoUrl": "https://lh3.googleusercontent.com/a-/AOh14Gj_Ta1_WqpgFBbio5qhoHqovB6aWW3OfNb38JIWqw=s64",
      "userId": "05542034347069006538"
     },
     "user_tz": 180
    },
    "id": "TGJjQQL1Ua-_",
    "outputId": "f9c2b147-099c-47f1-96a5-c9e35996dbce"
   },
   "outputs": [
    {
     "data": {
      "text/html": [
       "<div>\n",
       "<style scoped>\n",
       "    .dataframe tbody tr th:only-of-type {\n",
       "        vertical-align: middle;\n",
       "    }\n",
       "\n",
       "    .dataframe tbody tr th {\n",
       "        vertical-align: top;\n",
       "    }\n",
       "\n",
       "    .dataframe thead th {\n",
       "        text-align: right;\n",
       "    }\n",
       "</style>\n",
       "<table border=\"1\" class=\"dataframe\">\n",
       "  <thead>\n",
       "    <tr style=\"text-align: right;\">\n",
       "      <th></th>\n",
       "      <th>antecedents</th>\n",
       "      <th>consequents</th>\n",
       "      <th>antecedent support</th>\n",
       "      <th>consequent support</th>\n",
       "      <th>support</th>\n",
       "      <th>confidence</th>\n",
       "      <th>lift</th>\n",
       "      <th>leverage</th>\n",
       "      <th>conviction</th>\n",
       "    </tr>\n",
       "  </thead>\n",
       "  <tbody>\n",
       "    <tr>\n",
       "      <th>1586243</th>\n",
       "      <td>(Uréia, Fósforo, Tempo E Ativid. Protrombina (...</td>\n",
       "      <td>(Lactato, Potássio, Tempo Tromb.Parcial Ativada)</td>\n",
       "      <td>0.040377</td>\n",
       "      <td>0.041103</td>\n",
       "      <td>0.030222</td>\n",
       "      <td>0.748503</td>\n",
       "      <td>18.210638</td>\n",
       "      <td>0.028563</td>\n",
       "      <td>3.812759</td>\n",
       "    </tr>\n",
       "    <tr>\n",
       "      <th>1586252</th>\n",
       "      <td>(Lactato, Potássio, Tempo Tromb.Parcial Ativada)</td>\n",
       "      <td>(Uréia, Fósforo, Tempo E Ativid. Protrombina (...</td>\n",
       "      <td>0.041103</td>\n",
       "      <td>0.040377</td>\n",
       "      <td>0.030222</td>\n",
       "      <td>0.735294</td>\n",
       "      <td>18.210638</td>\n",
       "      <td>0.028563</td>\n",
       "      <td>3.625242</td>\n",
       "    </tr>\n",
       "    <tr>\n",
       "      <th>3595228</th>\n",
       "      <td>(Uréia, Lactato, Tempo E Ativid. Protrombina (...</td>\n",
       "      <td>(Fósforo, Tempo Tromb.Parcial Ativada)</td>\n",
       "      <td>0.039652</td>\n",
       "      <td>0.042311</td>\n",
       "      <td>0.030222</td>\n",
       "      <td>0.762195</td>\n",
       "      <td>18.013937</td>\n",
       "      <td>0.028545</td>\n",
       "      <td>4.027203</td>\n",
       "    </tr>\n",
       "    <tr>\n",
       "      <th>3595247</th>\n",
       "      <td>(Lactato, Uréia, Tempo E Ativid. Protrombina (...</td>\n",
       "      <td>(Fósforo, Potássio, Tempo Tromb.Parcial Ativada)</td>\n",
       "      <td>0.041586</td>\n",
       "      <td>0.040135</td>\n",
       "      <td>0.030222</td>\n",
       "      <td>0.726744</td>\n",
       "      <td>18.107313</td>\n",
       "      <td>0.028553</td>\n",
       "      <td>3.512696</td>\n",
       "    </tr>\n",
       "    <tr>\n",
       "      <th>3595253</th>\n",
       "      <td>(Lactato, Uréia, Tempo E Ativid. Protrombina (...</td>\n",
       "      <td>(Fósforo, Gasometria Venosa, Tempo Tromb.Parci...</td>\n",
       "      <td>0.039894</td>\n",
       "      <td>0.041586</td>\n",
       "      <td>0.030222</td>\n",
       "      <td>0.757576</td>\n",
       "      <td>18.217054</td>\n",
       "      <td>0.028563</td>\n",
       "      <td>3.953457</td>\n",
       "    </tr>\n",
       "    <tr>\n",
       "      <th>3595258</th>\n",
       "      <td>(Uréia, Fósforo, Tempo E Ativid. Protrombina (...</td>\n",
       "      <td>(Lactato, Potássio, Tempo Tromb.Parcial Ativada)</td>\n",
       "      <td>0.040135</td>\n",
       "      <td>0.041103</td>\n",
       "      <td>0.030222</td>\n",
       "      <td>0.753012</td>\n",
       "      <td>18.320340</td>\n",
       "      <td>0.028573</td>\n",
       "      <td>3.882365</td>\n",
       "    </tr>\n",
       "    <tr>\n",
       "      <th>3595271</th>\n",
       "      <td>(Lactato, Potássio, Gasometria Venosa, Tempo T...</td>\n",
       "      <td>(Uréia, Fósforo, Tempo E Ativid. Protrombina (...</td>\n",
       "      <td>0.041103</td>\n",
       "      <td>0.040377</td>\n",
       "      <td>0.030222</td>\n",
       "      <td>0.735294</td>\n",
       "      <td>18.210638</td>\n",
       "      <td>0.028563</td>\n",
       "      <td>3.625242</td>\n",
       "    </tr>\n",
       "    <tr>\n",
       "      <th>3595280</th>\n",
       "      <td>(Potássio, Fósforo, Gasometria Venosa, Tempo T...</td>\n",
       "      <td>(Lactato, Uréia, Tempo E Ativid. Protrombina (...</td>\n",
       "      <td>0.039652</td>\n",
       "      <td>0.042070</td>\n",
       "      <td>0.030222</td>\n",
       "      <td>0.762195</td>\n",
       "      <td>18.117466</td>\n",
       "      <td>0.028554</td>\n",
       "      <td>4.028220</td>\n",
       "    </tr>\n",
       "    <tr>\n",
       "      <th>3595283</th>\n",
       "      <td>(Lactato, Uréia, Tempo E Ativid. Protrombina (...</td>\n",
       "      <td>(Potássio, Fósforo, Gasometria Venosa, Tempo T...</td>\n",
       "      <td>0.042070</td>\n",
       "      <td>0.039652</td>\n",
       "      <td>0.030222</td>\n",
       "      <td>0.718391</td>\n",
       "      <td>18.117466</td>\n",
       "      <td>0.028554</td>\n",
       "      <td>3.410216</td>\n",
       "    </tr>\n",
       "    <tr>\n",
       "      <th>3595292</th>\n",
       "      <td>(Uréia, Fósforo, Tempo E Ativid. Protrombina (...</td>\n",
       "      <td>(Lactato, Potássio, Gasometria Venosa, Tempo T...</td>\n",
       "      <td>0.040377</td>\n",
       "      <td>0.041103</td>\n",
       "      <td>0.030222</td>\n",
       "      <td>0.748503</td>\n",
       "      <td>18.210638</td>\n",
       "      <td>0.028563</td>\n",
       "      <td>3.812759</td>\n",
       "    </tr>\n",
       "    <tr>\n",
       "      <th>3595305</th>\n",
       "      <td>(Lactato, Potássio, Tempo Tromb.Parcial Ativada)</td>\n",
       "      <td>(Uréia, Fósforo, Tempo E Ativid. Protrombina (...</td>\n",
       "      <td>0.041103</td>\n",
       "      <td>0.040135</td>\n",
       "      <td>0.030222</td>\n",
       "      <td>0.735294</td>\n",
       "      <td>18.320340</td>\n",
       "      <td>0.028573</td>\n",
       "      <td>3.626155</td>\n",
       "    </tr>\n",
       "    <tr>\n",
       "      <th>3595310</th>\n",
       "      <td>(Fósforo, Gasometria Venosa, Tempo Tromb.Parci...</td>\n",
       "      <td>(Lactato, Uréia, Tempo E Ativid. Protrombina (...</td>\n",
       "      <td>0.041586</td>\n",
       "      <td>0.039894</td>\n",
       "      <td>0.030222</td>\n",
       "      <td>0.726744</td>\n",
       "      <td>18.217054</td>\n",
       "      <td>0.028563</td>\n",
       "      <td>3.513581</td>\n",
       "    </tr>\n",
       "    <tr>\n",
       "      <th>3595316</th>\n",
       "      <td>(Fósforo, Potássio, Tempo Tromb.Parcial Ativada)</td>\n",
       "      <td>(Lactato, Uréia, Tempo E Ativid. Protrombina (...</td>\n",
       "      <td>0.040135</td>\n",
       "      <td>0.041586</td>\n",
       "      <td>0.030222</td>\n",
       "      <td>0.753012</td>\n",
       "      <td>18.107313</td>\n",
       "      <td>0.028553</td>\n",
       "      <td>3.880408</td>\n",
       "    </tr>\n",
       "    <tr>\n",
       "      <th>3595335</th>\n",
       "      <td>(Fósforo, Tempo Tromb.Parcial Ativada)</td>\n",
       "      <td>(Uréia, Lactato, Tempo E Ativid. Protrombina (...</td>\n",
       "      <td>0.042311</td>\n",
       "      <td>0.039652</td>\n",
       "      <td>0.030222</td>\n",
       "      <td>0.714286</td>\n",
       "      <td>18.013937</td>\n",
       "      <td>0.028545</td>\n",
       "      <td>3.361219</td>\n",
       "    </tr>\n",
       "    <tr>\n",
       "      <th>3596119</th>\n",
       "      <td>(Uréia, Fósforo, Tempo E Ativid. Protrombina (...</td>\n",
       "      <td>(Lactato, Potássio, Tempo Tromb.Parcial Ativada)</td>\n",
       "      <td>0.040377</td>\n",
       "      <td>0.041103</td>\n",
       "      <td>0.030222</td>\n",
       "      <td>0.748503</td>\n",
       "      <td>18.210638</td>\n",
       "      <td>0.028563</td>\n",
       "      <td>3.812759</td>\n",
       "    </tr>\n",
       "    <tr>\n",
       "      <th>3596135</th>\n",
       "      <td>(Lactato, Potássio, Hemograma, Tempo Tromb.Par...</td>\n",
       "      <td>(Uréia, Fósforo, Tempo E Ativid. Protrombina (...</td>\n",
       "      <td>0.041103</td>\n",
       "      <td>0.040377</td>\n",
       "      <td>0.030222</td>\n",
       "      <td>0.735294</td>\n",
       "      <td>18.210638</td>\n",
       "      <td>0.028563</td>\n",
       "      <td>3.625242</td>\n",
       "    </tr>\n",
       "    <tr>\n",
       "      <th>3596150</th>\n",
       "      <td>(Uréia, Fósforo, Tempo E Ativid. Protrombina (...</td>\n",
       "      <td>(Lactato, Potássio, Hemograma, Tempo Tromb.Par...</td>\n",
       "      <td>0.040377</td>\n",
       "      <td>0.041103</td>\n",
       "      <td>0.030222</td>\n",
       "      <td>0.748503</td>\n",
       "      <td>18.210638</td>\n",
       "      <td>0.028563</td>\n",
       "      <td>3.812759</td>\n",
       "    </tr>\n",
       "    <tr>\n",
       "      <th>3596166</th>\n",
       "      <td>(Lactato, Potássio, Tempo Tromb.Parcial Ativada)</td>\n",
       "      <td>(Uréia, Fósforo, Tempo E Ativid. Protrombina (...</td>\n",
       "      <td>0.041103</td>\n",
       "      <td>0.040377</td>\n",
       "      <td>0.030222</td>\n",
       "      <td>0.735294</td>\n",
       "      <td>18.210638</td>\n",
       "      <td>0.028563</td>\n",
       "      <td>3.625242</td>\n",
       "    </tr>\n",
       "    <tr>\n",
       "      <th>5950598</th>\n",
       "      <td>(Uréia, Lactato, Tempo E Ativid. Protrombina (...</td>\n",
       "      <td>(Fósforo, Tempo Tromb.Parcial Ativada)</td>\n",
       "      <td>0.039652</td>\n",
       "      <td>0.042311</td>\n",
       "      <td>0.030222</td>\n",
       "      <td>0.762195</td>\n",
       "      <td>18.013937</td>\n",
       "      <td>0.028545</td>\n",
       "      <td>4.027203</td>\n",
       "    </tr>\n",
       "    <tr>\n",
       "      <th>5950623</th>\n",
       "      <td>(Uréia, Lactato, Tempo E Ativid. Protrombina (...</td>\n",
       "      <td>(Fósforo, Gasometria Venosa, Tempo Tromb.Parci...</td>\n",
       "      <td>0.039894</td>\n",
       "      <td>0.041586</td>\n",
       "      <td>0.030222</td>\n",
       "      <td>0.757576</td>\n",
       "      <td>18.217054</td>\n",
       "      <td>0.028563</td>\n",
       "      <td>3.953457</td>\n",
       "    </tr>\n",
       "    <tr>\n",
       "      <th>5950625</th>\n",
       "      <td>(Uréia, Lactato, Tempo E Ativid. Protrombina (...</td>\n",
       "      <td>(Fósforo, Potássio, Tempo Tromb.Parcial Ativada)</td>\n",
       "      <td>0.041586</td>\n",
       "      <td>0.040135</td>\n",
       "      <td>0.030222</td>\n",
       "      <td>0.726744</td>\n",
       "      <td>18.107313</td>\n",
       "      <td>0.028553</td>\n",
       "      <td>3.512696</td>\n",
       "    </tr>\n",
       "    <tr>\n",
       "      <th>5950630</th>\n",
       "      <td>(Uréia, Lactato, Tempo E Ativid. Protrombina (...</td>\n",
       "      <td>(Fósforo, Hemograma, Tempo Tromb.Parcial Ativada)</td>\n",
       "      <td>0.039652</td>\n",
       "      <td>0.042311</td>\n",
       "      <td>0.030222</td>\n",
       "      <td>0.762195</td>\n",
       "      <td>18.013937</td>\n",
       "      <td>0.028545</td>\n",
       "      <td>4.027203</td>\n",
       "    </tr>\n",
       "    <tr>\n",
       "      <th>5950647</th>\n",
       "      <td>(Uréia, Tempo E Ativid. Protrombina (Tp), Hemo...</td>\n",
       "      <td>(Lactato, Potássio, Tempo Tromb.Parcial Ativada)</td>\n",
       "      <td>0.040135</td>\n",
       "      <td>0.041103</td>\n",
       "      <td>0.030222</td>\n",
       "      <td>0.753012</td>\n",
       "      <td>18.320340</td>\n",
       "      <td>0.028573</td>\n",
       "      <td>3.882365</td>\n",
       "    </tr>\n",
       "    <tr>\n",
       "      <th>5950668</th>\n",
       "      <td>(Lactato, Hemograma, Tempo Tromb.Parcial Ativa...</td>\n",
       "      <td>(Uréia, Fósforo, Tempo E Ativid. Protrombina (...</td>\n",
       "      <td>0.041103</td>\n",
       "      <td>0.040377</td>\n",
       "      <td>0.030222</td>\n",
       "      <td>0.735294</td>\n",
       "      <td>18.210638</td>\n",
       "      <td>0.028563</td>\n",
       "      <td>3.625242</td>\n",
       "    </tr>\n",
       "    <tr>\n",
       "      <th>5950677</th>\n",
       "      <td>(Hemograma, Tempo Tromb.Parcial Ativada, Fósfo...</td>\n",
       "      <td>(Lactato, Uréia, Tempo E Ativid. Protrombina (...</td>\n",
       "      <td>0.039652</td>\n",
       "      <td>0.042070</td>\n",
       "      <td>0.030222</td>\n",
       "      <td>0.762195</td>\n",
       "      <td>18.117466</td>\n",
       "      <td>0.028554</td>\n",
       "      <td>4.028220</td>\n",
       "    </tr>\n",
       "    <tr>\n",
       "      <th>5950678</th>\n",
       "      <td>(Lactato, Uréia, Tempo E Ativid. Protrombina (...</td>\n",
       "      <td>(Gasometria Venosa, Fósforo, Potássio, Tempo T...</td>\n",
       "      <td>0.042070</td>\n",
       "      <td>0.039652</td>\n",
       "      <td>0.030222</td>\n",
       "      <td>0.718391</td>\n",
       "      <td>18.117466</td>\n",
       "      <td>0.028554</td>\n",
       "      <td>3.410216</td>\n",
       "    </tr>\n",
       "    <tr>\n",
       "      <th>5950680</th>\n",
       "      <td>(Lactato, Uréia, Tempo E Ativid. Protrombina (...</td>\n",
       "      <td>(Gasometria Venosa, Fósforo, Hemograma, Tempo ...</td>\n",
       "      <td>0.039894</td>\n",
       "      <td>0.041586</td>\n",
       "      <td>0.030222</td>\n",
       "      <td>0.757576</td>\n",
       "      <td>18.217054</td>\n",
       "      <td>0.028563</td>\n",
       "      <td>3.953457</td>\n",
       "    </tr>\n",
       "    <tr>\n",
       "      <th>5950682</th>\n",
       "      <td>(Lactato, Uréia, Tempo E Ativid. Protrombina (...</td>\n",
       "      <td>(Potássio, Fósforo, Hemograma, Tempo Tromb.Par...</td>\n",
       "      <td>0.041586</td>\n",
       "      <td>0.040135</td>\n",
       "      <td>0.030222</td>\n",
       "      <td>0.726744</td>\n",
       "      <td>18.107313</td>\n",
       "      <td>0.028553</td>\n",
       "      <td>3.512696</td>\n",
       "    </tr>\n",
       "    <tr>\n",
       "      <th>5950695</th>\n",
       "      <td>(Uréia, Fósforo, Tempo E Ativid. Protrombina (...</td>\n",
       "      <td>(Lactato, Gasometria Venosa, Potássio, Tempo T...</td>\n",
       "      <td>0.040377</td>\n",
       "      <td>0.041103</td>\n",
       "      <td>0.030222</td>\n",
       "      <td>0.748503</td>\n",
       "      <td>18.210638</td>\n",
       "      <td>0.028563</td>\n",
       "      <td>3.812759</td>\n",
       "    </tr>\n",
       "    <tr>\n",
       "      <th>5950702</th>\n",
       "      <td>(Uréia, Fósforo, Tempo E Ativid. Protrombina (...</td>\n",
       "      <td>(Lactato, Potássio, Hemograma, Tempo Tromb.Par...</td>\n",
       "      <td>0.040135</td>\n",
       "      <td>0.041103</td>\n",
       "      <td>0.030222</td>\n",
       "      <td>0.753012</td>\n",
       "      <td>18.320340</td>\n",
       "      <td>0.028573</td>\n",
       "      <td>3.882365</td>\n",
       "    </tr>\n",
       "    <tr>\n",
       "      <th>5950723</th>\n",
       "      <td>(Lactato, Potássio, Hemograma, Tempo Tromb.Par...</td>\n",
       "      <td>(Uréia, Fósforo, Tempo E Ativid. Protrombina (...</td>\n",
       "      <td>0.041103</td>\n",
       "      <td>0.040135</td>\n",
       "      <td>0.030222</td>\n",
       "      <td>0.735294</td>\n",
       "      <td>18.320340</td>\n",
       "      <td>0.028573</td>\n",
       "      <td>3.626155</td>\n",
       "    </tr>\n",
       "    <tr>\n",
       "      <th>5950730</th>\n",
       "      <td>(Lactato, Gasometria Venosa, Potássio, Tempo T...</td>\n",
       "      <td>(Uréia, Fósforo, Tempo E Ativid. Protrombina (...</td>\n",
       "      <td>0.041103</td>\n",
       "      <td>0.040377</td>\n",
       "      <td>0.030222</td>\n",
       "      <td>0.735294</td>\n",
       "      <td>18.210638</td>\n",
       "      <td>0.028563</td>\n",
       "      <td>3.625242</td>\n",
       "    </tr>\n",
       "    <tr>\n",
       "      <th>5950743</th>\n",
       "      <td>(Potássio, Fósforo, Hemograma, Tempo Tromb.Par...</td>\n",
       "      <td>(Lactato, Uréia, Tempo E Ativid. Protrombina (...</td>\n",
       "      <td>0.040135</td>\n",
       "      <td>0.041586</td>\n",
       "      <td>0.030222</td>\n",
       "      <td>0.753012</td>\n",
       "      <td>18.107313</td>\n",
       "      <td>0.028553</td>\n",
       "      <td>3.880408</td>\n",
       "    </tr>\n",
       "    <tr>\n",
       "      <th>5950745</th>\n",
       "      <td>(Gasometria Venosa, Fósforo, Hemograma, Tempo ...</td>\n",
       "      <td>(Lactato, Uréia, Tempo E Ativid. Protrombina (...</td>\n",
       "      <td>0.041586</td>\n",
       "      <td>0.039894</td>\n",
       "      <td>0.030222</td>\n",
       "      <td>0.726744</td>\n",
       "      <td>18.217054</td>\n",
       "      <td>0.028563</td>\n",
       "      <td>3.513581</td>\n",
       "    </tr>\n",
       "    <tr>\n",
       "      <th>5950747</th>\n",
       "      <td>(Gasometria Venosa, Fósforo, Potássio, Tempo T...</td>\n",
       "      <td>(Lactato, Uréia, Tempo E Ativid. Protrombina (...</td>\n",
       "      <td>0.039652</td>\n",
       "      <td>0.042070</td>\n",
       "      <td>0.030222</td>\n",
       "      <td>0.762195</td>\n",
       "      <td>18.117466</td>\n",
       "      <td>0.028554</td>\n",
       "      <td>4.028220</td>\n",
       "    </tr>\n",
       "    <tr>\n",
       "      <th>5950748</th>\n",
       "      <td>(Lactato, Uréia, Tempo E Ativid. Protrombina (...</td>\n",
       "      <td>(Hemograma, Tempo Tromb.Parcial Ativada, Fósfo...</td>\n",
       "      <td>0.042070</td>\n",
       "      <td>0.039652</td>\n",
       "      <td>0.030222</td>\n",
       "      <td>0.718391</td>\n",
       "      <td>18.117466</td>\n",
       "      <td>0.028554</td>\n",
       "      <td>3.410216</td>\n",
       "    </tr>\n",
       "    <tr>\n",
       "      <th>5950757</th>\n",
       "      <td>(Uréia, Fósforo, Tempo E Ativid. Protrombina (...</td>\n",
       "      <td>(Lactato, Hemograma, Tempo Tromb.Parcial Ativa...</td>\n",
       "      <td>0.040377</td>\n",
       "      <td>0.041103</td>\n",
       "      <td>0.030222</td>\n",
       "      <td>0.748503</td>\n",
       "      <td>18.210638</td>\n",
       "      <td>0.028563</td>\n",
       "      <td>3.812759</td>\n",
       "    </tr>\n",
       "    <tr>\n",
       "      <th>5950778</th>\n",
       "      <td>(Lactato, Potássio, Tempo Tromb.Parcial Ativada)</td>\n",
       "      <td>(Uréia, Tempo E Ativid. Protrombina (Tp), Hemo...</td>\n",
       "      <td>0.041103</td>\n",
       "      <td>0.040135</td>\n",
       "      <td>0.030222</td>\n",
       "      <td>0.735294</td>\n",
       "      <td>18.320340</td>\n",
       "      <td>0.028573</td>\n",
       "      <td>3.626155</td>\n",
       "    </tr>\n",
       "    <tr>\n",
       "      <th>5950795</th>\n",
       "      <td>(Fósforo, Hemograma, Tempo Tromb.Parcial Ativada)</td>\n",
       "      <td>(Uréia, Lactato, Tempo E Ativid. Protrombina (...</td>\n",
       "      <td>0.042311</td>\n",
       "      <td>0.039652</td>\n",
       "      <td>0.030222</td>\n",
       "      <td>0.714286</td>\n",
       "      <td>18.013937</td>\n",
       "      <td>0.028545</td>\n",
       "      <td>3.361219</td>\n",
       "    </tr>\n",
       "    <tr>\n",
       "      <th>5950800</th>\n",
       "      <td>(Fósforo, Potássio, Tempo Tromb.Parcial Ativada)</td>\n",
       "      <td>(Uréia, Lactato, Tempo E Ativid. Protrombina (...</td>\n",
       "      <td>0.040135</td>\n",
       "      <td>0.041586</td>\n",
       "      <td>0.030222</td>\n",
       "      <td>0.753012</td>\n",
       "      <td>18.107313</td>\n",
       "      <td>0.028553</td>\n",
       "      <td>3.880408</td>\n",
       "    </tr>\n",
       "    <tr>\n",
       "      <th>5950802</th>\n",
       "      <td>(Fósforo, Gasometria Venosa, Tempo Tromb.Parci...</td>\n",
       "      <td>(Uréia, Lactato, Tempo E Ativid. Protrombina (...</td>\n",
       "      <td>0.041586</td>\n",
       "      <td>0.039894</td>\n",
       "      <td>0.030222</td>\n",
       "      <td>0.726744</td>\n",
       "      <td>18.217054</td>\n",
       "      <td>0.028563</td>\n",
       "      <td>3.513581</td>\n",
       "    </tr>\n",
       "    <tr>\n",
       "      <th>5950826</th>\n",
       "      <td>(Fósforo, Tempo Tromb.Parcial Ativada)</td>\n",
       "      <td>(Uréia, Lactato, Tempo E Ativid. Protrombina (...</td>\n",
       "      <td>0.042311</td>\n",
       "      <td>0.039652</td>\n",
       "      <td>0.030222</td>\n",
       "      <td>0.714286</td>\n",
       "      <td>18.013937</td>\n",
       "      <td>0.028545</td>\n",
       "      <td>3.361219</td>\n",
       "    </tr>\n",
       "    <tr>\n",
       "      <th>7672631</th>\n",
       "      <td>(Creatinina, Tempo Tromb.Parcial Ativada, Gaso...</td>\n",
       "      <td>(Uréia, Fósforo, Tempo E Ativid. Protrombina (...</td>\n",
       "      <td>0.044487</td>\n",
       "      <td>0.037959</td>\n",
       "      <td>0.030464</td>\n",
       "      <td>0.684783</td>\n",
       "      <td>18.039878</td>\n",
       "      <td>0.028776</td>\n",
       "      <td>3.051991</td>\n",
       "    </tr>\n",
       "    <tr>\n",
       "      <th>7672686</th>\n",
       "      <td>(Uréia, Fósforo, Tempo E Ativid. Protrombina (...</td>\n",
       "      <td>(Creatinina, Tempo Tromb.Parcial Ativada, Gaso...</td>\n",
       "      <td>0.037959</td>\n",
       "      <td>0.044487</td>\n",
       "      <td>0.030464</td>\n",
       "      <td>0.802548</td>\n",
       "      <td>18.039878</td>\n",
       "      <td>0.028776</td>\n",
       "      <td>4.839209</td>\n",
       "    </tr>\n",
       "    <tr>\n",
       "      <th>8441208</th>\n",
       "      <td>(Creatinina, Hemograma, Tempo Tromb.Parcial At...</td>\n",
       "      <td>(Uréia, Fósforo, Tempo E Ativid. Protrombina (...</td>\n",
       "      <td>0.044487</td>\n",
       "      <td>0.037959</td>\n",
       "      <td>0.030464</td>\n",
       "      <td>0.684783</td>\n",
       "      <td>18.039878</td>\n",
       "      <td>0.028776</td>\n",
       "      <td>3.051991</td>\n",
       "    </tr>\n",
       "    <tr>\n",
       "      <th>8441317</th>\n",
       "      <td>(Uréia, Sódio, Tempo E Ativid. Protrombina (Tp...</td>\n",
       "      <td>(Creatinina, Tempo Tromb.Parcial Ativada, Gaso...</td>\n",
       "      <td>0.037959</td>\n",
       "      <td>0.044487</td>\n",
       "      <td>0.030464</td>\n",
       "      <td>0.802548</td>\n",
       "      <td>18.039878</td>\n",
       "      <td>0.028776</td>\n",
       "      <td>4.839209</td>\n",
       "    </tr>\n",
       "    <tr>\n",
       "      <th>8441424</th>\n",
       "      <td>(Creatinina, Tempo Tromb.Parcial Ativada, Gaso...</td>\n",
       "      <td>(Uréia, Sódio, Tempo E Ativid. Protrombina (Tp...</td>\n",
       "      <td>0.044487</td>\n",
       "      <td>0.037959</td>\n",
       "      <td>0.030464</td>\n",
       "      <td>0.684783</td>\n",
       "      <td>18.039878</td>\n",
       "      <td>0.028776</td>\n",
       "      <td>3.051991</td>\n",
       "    </tr>\n",
       "    <tr>\n",
       "      <th>8441533</th>\n",
       "      <td>(Uréia, Fósforo, Tempo E Ativid. Protrombina (...</td>\n",
       "      <td>(Creatinina, Hemograma, Tempo Tromb.Parcial At...</td>\n",
       "      <td>0.037959</td>\n",
       "      <td>0.044487</td>\n",
       "      <td>0.030464</td>\n",
       "      <td>0.802548</td>\n",
       "      <td>18.039878</td>\n",
       "      <td>0.028776</td>\n",
       "      <td>4.839209</td>\n",
       "    </tr>\n",
       "  </tbody>\n",
       "</table>\n",
       "</div>"
      ],
      "text/plain": [
       "                                               antecedents  ... conviction\n",
       "1586243  (Uréia, Fósforo, Tempo E Ativid. Protrombina (...  ...   3.812759\n",
       "1586252   (Lactato, Potássio, Tempo Tromb.Parcial Ativada)  ...   3.625242\n",
       "3595228  (Uréia, Lactato, Tempo E Ativid. Protrombina (...  ...   4.027203\n",
       "3595247  (Lactato, Uréia, Tempo E Ativid. Protrombina (...  ...   3.512696\n",
       "3595253  (Lactato, Uréia, Tempo E Ativid. Protrombina (...  ...   3.953457\n",
       "3595258  (Uréia, Fósforo, Tempo E Ativid. Protrombina (...  ...   3.882365\n",
       "3595271  (Lactato, Potássio, Gasometria Venosa, Tempo T...  ...   3.625242\n",
       "3595280  (Potássio, Fósforo, Gasometria Venosa, Tempo T...  ...   4.028220\n",
       "3595283  (Lactato, Uréia, Tempo E Ativid. Protrombina (...  ...   3.410216\n",
       "3595292  (Uréia, Fósforo, Tempo E Ativid. Protrombina (...  ...   3.812759\n",
       "3595305   (Lactato, Potássio, Tempo Tromb.Parcial Ativada)  ...   3.626155\n",
       "3595310  (Fósforo, Gasometria Venosa, Tempo Tromb.Parci...  ...   3.513581\n",
       "3595316   (Fósforo, Potássio, Tempo Tromb.Parcial Ativada)  ...   3.880408\n",
       "3595335             (Fósforo, Tempo Tromb.Parcial Ativada)  ...   3.361219\n",
       "3596119  (Uréia, Fósforo, Tempo E Ativid. Protrombina (...  ...   3.812759\n",
       "3596135  (Lactato, Potássio, Hemograma, Tempo Tromb.Par...  ...   3.625242\n",
       "3596150  (Uréia, Fósforo, Tempo E Ativid. Protrombina (...  ...   3.812759\n",
       "3596166   (Lactato, Potássio, Tempo Tromb.Parcial Ativada)  ...   3.625242\n",
       "5950598  (Uréia, Lactato, Tempo E Ativid. Protrombina (...  ...   4.027203\n",
       "5950623  (Uréia, Lactato, Tempo E Ativid. Protrombina (...  ...   3.953457\n",
       "5950625  (Uréia, Lactato, Tempo E Ativid. Protrombina (...  ...   3.512696\n",
       "5950630  (Uréia, Lactato, Tempo E Ativid. Protrombina (...  ...   4.027203\n",
       "5950647  (Uréia, Tempo E Ativid. Protrombina (Tp), Hemo...  ...   3.882365\n",
       "5950668  (Lactato, Hemograma, Tempo Tromb.Parcial Ativa...  ...   3.625242\n",
       "5950677  (Hemograma, Tempo Tromb.Parcial Ativada, Fósfo...  ...   4.028220\n",
       "5950678  (Lactato, Uréia, Tempo E Ativid. Protrombina (...  ...   3.410216\n",
       "5950680  (Lactato, Uréia, Tempo E Ativid. Protrombina (...  ...   3.953457\n",
       "5950682  (Lactato, Uréia, Tempo E Ativid. Protrombina (...  ...   3.512696\n",
       "5950695  (Uréia, Fósforo, Tempo E Ativid. Protrombina (...  ...   3.812759\n",
       "5950702  (Uréia, Fósforo, Tempo E Ativid. Protrombina (...  ...   3.882365\n",
       "5950723  (Lactato, Potássio, Hemograma, Tempo Tromb.Par...  ...   3.626155\n",
       "5950730  (Lactato, Gasometria Venosa, Potássio, Tempo T...  ...   3.625242\n",
       "5950743  (Potássio, Fósforo, Hemograma, Tempo Tromb.Par...  ...   3.880408\n",
       "5950745  (Gasometria Venosa, Fósforo, Hemograma, Tempo ...  ...   3.513581\n",
       "5950747  (Gasometria Venosa, Fósforo, Potássio, Tempo T...  ...   4.028220\n",
       "5950748  (Lactato, Uréia, Tempo E Ativid. Protrombina (...  ...   3.410216\n",
       "5950757  (Uréia, Fósforo, Tempo E Ativid. Protrombina (...  ...   3.812759\n",
       "5950778   (Lactato, Potássio, Tempo Tromb.Parcial Ativada)  ...   3.626155\n",
       "5950795  (Fósforo, Hemograma, Tempo Tromb.Parcial Ativada)  ...   3.361219\n",
       "5950800   (Fósforo, Potássio, Tempo Tromb.Parcial Ativada)  ...   3.880408\n",
       "5950802  (Fósforo, Gasometria Venosa, Tempo Tromb.Parci...  ...   3.513581\n",
       "5950826             (Fósforo, Tempo Tromb.Parcial Ativada)  ...   3.361219\n",
       "7672631  (Creatinina, Tempo Tromb.Parcial Ativada, Gaso...  ...   3.051991\n",
       "7672686  (Uréia, Fósforo, Tempo E Ativid. Protrombina (...  ...   4.839209\n",
       "8441208  (Creatinina, Hemograma, Tempo Tromb.Parcial At...  ...   3.051991\n",
       "8441317  (Uréia, Sódio, Tempo E Ativid. Protrombina (Tp...  ...   4.839209\n",
       "8441424  (Creatinina, Tempo Tromb.Parcial Ativada, Gaso...  ...   3.051991\n",
       "8441533  (Uréia, Fósforo, Tempo E Ativid. Protrombina (...  ...   4.839209\n",
       "\n",
       "[48 rows x 9 columns]"
      ]
     },
     "execution_count": 58,
     "metadata": {
      "tags": []
     },
     "output_type": "execute_result"
    }
   ],
   "source": [
    "df[df['lift']>18.0]"
   ]
  },
  {
   "cell_type": "code",
   "execution_count": null,
   "metadata": {
    "id": "URFIEf2KUe7p"
   },
   "outputs": [],
   "source": []
  },
  {
   "cell_type": "markdown",
   "metadata": {
    "id": "3LyZvEHw3efb"
   },
   "source": [
    "#Clusterização#"
   ]
  },
  {
   "cell_type": "markdown",
   "metadata": {
    "id": "g14m3asf3ppo"
   },
   "source": [
    "Importando o dataframe já transformado"
   ]
  },
  {
   "cell_type": "code",
   "execution_count": 256,
   "metadata": {
    "id": "c0tOAfRR3iBE"
   },
   "outputs": [],
   "source": [
    "df=pd.read_csv('HSL_idade.csv',sep=',')"
   ]
  },
  {
   "cell_type": "markdown",
   "metadata": {
    "id": "_5cNq2ME3w4p"
   },
   "source": [
    "Remoção de atributos, Unnamed: 0 e ID PACIENTE são removidos pois são identificadores, exames\te problemas são removidospor serem muito particulares e já usados para regras de associação, tipo de atendimento e de_desfecho são removidos por serem possíveis rótulos."
   ]
  },
  {
   "cell_type": "code",
   "execution_count": 257,
   "metadata": {
    "colab": {
     "base_uri": "https://localhost:8080/",
     "height": 813
    },
    "executionInfo": {
     "elapsed": 487,
     "status": "ok",
     "timestamp": 1605987919245,
     "user": {
      "displayName": "Rodrigo Veloso",
      "photoUrl": "https://lh3.googleusercontent.com/a-/AOh14Gj_Ta1_WqpgFBbio5qhoHqovB6aWW3OfNb38JIWqw=s64",
      "userId": "05542034347069006538"
     },
     "user_tz": 180
    },
    "id": "itP4SN1jKhvT",
    "outputId": "83384e8f-c6d3-4c63-c61b-3d5590042bc6"
   },
   "outputs": [
    {
     "data": {
      "text/html": [
       "<div>\n",
       "<style scoped>\n",
       "    .dataframe tbody tr th:only-of-type {\n",
       "        vertical-align: middle;\n",
       "    }\n",
       "\n",
       "    .dataframe tbody tr th {\n",
       "        vertical-align: top;\n",
       "    }\n",
       "\n",
       "    .dataframe thead th {\n",
       "        text-align: right;\n",
       "    }\n",
       "</style>\n",
       "<table border=\"1\" class=\"dataframe\">\n",
       "  <thead>\n",
       "    <tr style=\"text-align: right;\">\n",
       "      <th></th>\n",
       "      <th>Unnamed: 0</th>\n",
       "      <th>ID_PACIENTE</th>\n",
       "      <th>de_tipo_atendimento</th>\n",
       "      <th>de_desfecho</th>\n",
       "      <th>n_atendimentos</th>\n",
       "      <th>t_atendimento</th>\n",
       "      <th>IC_SEXO</th>\n",
       "      <th>idade</th>\n",
       "      <th>exames</th>\n",
       "      <th>problemas</th>\n",
       "      <th>total_exames</th>\n",
       "      <th>total_problemas</th>\n",
       "    </tr>\n",
       "  </thead>\n",
       "  <tbody>\n",
       "    <tr>\n",
       "      <th>0</th>\n",
       "      <td>2</td>\n",
       "      <td>7B03A278AD0026D4E34D0D84453A3548</td>\n",
       "      <td>Internado</td>\n",
       "      <td>O</td>\n",
       "      <td>2</td>\n",
       "      <td>30</td>\n",
       "      <td>M</td>\n",
       "      <td>84.0</td>\n",
       "      <td>Desidrogenase Lática (DHL/L),Bilirrubinas Tota...</td>\n",
       "      <td>Desidrogenase Lática (DHL/L),Bilirrubinas Tota...</td>\n",
       "      <td>1123.0</td>\n",
       "      <td>40</td>\n",
       "    </tr>\n",
       "    <tr>\n",
       "      <th>1</th>\n",
       "      <td>3</td>\n",
       "      <td>DE791245DF4FD631AD71B2B307F7835D</td>\n",
       "      <td>Internado</td>\n",
       "      <td>O</td>\n",
       "      <td>2</td>\n",
       "      <td>13</td>\n",
       "      <td>M</td>\n",
       "      <td>78.0</td>\n",
       "      <td>Desidrogenase Lática (DHL/L),Bilirrubinas Tota...</td>\n",
       "      <td>Desidrogenase Lática (DHL/L),Bilirrubinas Tota...</td>\n",
       "      <td>318.0</td>\n",
       "      <td>21</td>\n",
       "    </tr>\n",
       "    <tr>\n",
       "      <th>2</th>\n",
       "      <td>7</td>\n",
       "      <td>BB7523C235A6582C309BB3E4F8C93698</td>\n",
       "      <td>Internado</td>\n",
       "      <td>O</td>\n",
       "      <td>2</td>\n",
       "      <td>20</td>\n",
       "      <td>M</td>\n",
       "      <td>87.0</td>\n",
       "      <td>Desidrogenase Lática (DHL/L),Bilirrubinas Tota...</td>\n",
       "      <td>Desidrogenase Lática (DHL/L),Bilirrubinas Tota...</td>\n",
       "      <td>552.0</td>\n",
       "      <td>35</td>\n",
       "    </tr>\n",
       "    <tr>\n",
       "      <th>3</th>\n",
       "      <td>8</td>\n",
       "      <td>D831A012023DCACDE4E8B9483AD5A438</td>\n",
       "      <td>Internado</td>\n",
       "      <td>O</td>\n",
       "      <td>15</td>\n",
       "      <td>171</td>\n",
       "      <td>M</td>\n",
       "      <td>79.0</td>\n",
       "      <td>Desidrogenase Lática (DHL/L),Bilirrubinas Tota...</td>\n",
       "      <td>Desidrogenase Lática (DHL/L),Bilirrubinas Tota...</td>\n",
       "      <td>2130.0</td>\n",
       "      <td>40</td>\n",
       "    </tr>\n",
       "    <tr>\n",
       "      <th>4</th>\n",
       "      <td>10</td>\n",
       "      <td>F115058FEF0C6CE66E32EF72AB785F48</td>\n",
       "      <td>Internado</td>\n",
       "      <td>O</td>\n",
       "      <td>1</td>\n",
       "      <td>27</td>\n",
       "      <td>M</td>\n",
       "      <td>81.0</td>\n",
       "      <td>Desidrogenase Lática (DHL/L),Bilirrubinas Tota...</td>\n",
       "      <td>Desidrogenase Lática (DHL/L),Bilirrubinas Tota...</td>\n",
       "      <td>2481.0</td>\n",
       "      <td>37</td>\n",
       "    </tr>\n",
       "    <tr>\n",
       "      <th>...</th>\n",
       "      <td>...</td>\n",
       "      <td>...</td>\n",
       "      <td>...</td>\n",
       "      <td>...</td>\n",
       "      <td>...</td>\n",
       "      <td>...</td>\n",
       "      <td>...</td>\n",
       "      <td>...</td>\n",
       "      <td>...</td>\n",
       "      <td>...</td>\n",
       "      <td>...</td>\n",
       "      <td>...</td>\n",
       "    </tr>\n",
       "    <tr>\n",
       "      <th>4010</th>\n",
       "      <td>4187</td>\n",
       "      <td>782656BA1BADE181CC5B4DE5792C91BE</td>\n",
       "      <td>Pronto Atendimento</td>\n",
       "      <td>A</td>\n",
       "      <td>1</td>\n",
       "      <td>5</td>\n",
       "      <td>F</td>\n",
       "      <td>89.0</td>\n",
       "      <td>Calculo da Estimativa da Taxa de Filtracao Glo...</td>\n",
       "      <td>Calculo da Estimativa da Taxa de Filtracao Glo...</td>\n",
       "      <td>75.0</td>\n",
       "      <td>7</td>\n",
       "    </tr>\n",
       "    <tr>\n",
       "      <th>4011</th>\n",
       "      <td>4189</td>\n",
       "      <td>50061499481B4B35DB108EB436A05500</td>\n",
       "      <td>Externo</td>\n",
       "      <td>A</td>\n",
       "      <td>2</td>\n",
       "      <td>2</td>\n",
       "      <td>M</td>\n",
       "      <td>28.0</td>\n",
       "      <td>COVID</td>\n",
       "      <td>COVID</td>\n",
       "      <td>1.0</td>\n",
       "      <td>1</td>\n",
       "    </tr>\n",
       "    <tr>\n",
       "      <th>4012</th>\n",
       "      <td>4190</td>\n",
       "      <td>74CC17F4F6DDAB860A70F7CCC2F8CF82</td>\n",
       "      <td>Ambulatorial</td>\n",
       "      <td>A</td>\n",
       "      <td>5</td>\n",
       "      <td>5</td>\n",
       "      <td>F</td>\n",
       "      <td>26.0</td>\n",
       "      <td>COVID,Antígeno Influenza Teste Rápido (AGINFLU)</td>\n",
       "      <td>COVID</td>\n",
       "      <td>2.0</td>\n",
       "      <td>1</td>\n",
       "    </tr>\n",
       "    <tr>\n",
       "      <th>4013</th>\n",
       "      <td>4191</td>\n",
       "      <td>1F382C34C14A2CC6DDD05825801EF68E</td>\n",
       "      <td>Pronto Atendimento</td>\n",
       "      <td>A</td>\n",
       "      <td>6</td>\n",
       "      <td>6</td>\n",
       "      <td>F</td>\n",
       "      <td>27.0</td>\n",
       "      <td>COVID</td>\n",
       "      <td>COVID</td>\n",
       "      <td>1.0</td>\n",
       "      <td>1</td>\n",
       "    </tr>\n",
       "    <tr>\n",
       "      <th>4014</th>\n",
       "      <td>4192</td>\n",
       "      <td>885F6BBB7D21E0534D3661DF90A95EE7</td>\n",
       "      <td>Pronto Atendimento</td>\n",
       "      <td>A</td>\n",
       "      <td>4</td>\n",
       "      <td>4</td>\n",
       "      <td>M</td>\n",
       "      <td>52.0</td>\n",
       "      <td>Calculo da Estimativa da Taxa de Filtracao Glo...</td>\n",
       "      <td>Calculo da Estimativa da Taxa de Filtracao Glo...</td>\n",
       "      <td>41.0</td>\n",
       "      <td>6</td>\n",
       "    </tr>\n",
       "  </tbody>\n",
       "</table>\n",
       "<p>4015 rows × 12 columns</p>\n",
       "</div>"
      ],
      "text/plain": [
       "      Unnamed: 0                       ID_PACIENTE de_tipo_atendimento  \\\n",
       "0              2  7B03A278AD0026D4E34D0D84453A3548           Internado   \n",
       "1              3  DE791245DF4FD631AD71B2B307F7835D           Internado   \n",
       "2              7  BB7523C235A6582C309BB3E4F8C93698           Internado   \n",
       "3              8  D831A012023DCACDE4E8B9483AD5A438           Internado   \n",
       "4             10  F115058FEF0C6CE66E32EF72AB785F48           Internado   \n",
       "...          ...                               ...                 ...   \n",
       "4010        4187  782656BA1BADE181CC5B4DE5792C91BE  Pronto Atendimento   \n",
       "4011        4189  50061499481B4B35DB108EB436A05500             Externo   \n",
       "4012        4190  74CC17F4F6DDAB860A70F7CCC2F8CF82        Ambulatorial   \n",
       "4013        4191  1F382C34C14A2CC6DDD05825801EF68E  Pronto Atendimento   \n",
       "4014        4192  885F6BBB7D21E0534D3661DF90A95EE7  Pronto Atendimento   \n",
       "\n",
       "     de_desfecho  n_atendimentos  t_atendimento IC_SEXO  idade  \\\n",
       "0              O               2             30       M   84.0   \n",
       "1              O               2             13       M   78.0   \n",
       "2              O               2             20       M   87.0   \n",
       "3              O              15            171       M   79.0   \n",
       "4              O               1             27       M   81.0   \n",
       "...          ...             ...            ...     ...    ...   \n",
       "4010           A               1              5       F   89.0   \n",
       "4011           A               2              2       M   28.0   \n",
       "4012           A               5              5       F   26.0   \n",
       "4013           A               6              6       F   27.0   \n",
       "4014           A               4              4       M   52.0   \n",
       "\n",
       "                                                 exames  \\\n",
       "0     Desidrogenase Lática (DHL/L),Bilirrubinas Tota...   \n",
       "1     Desidrogenase Lática (DHL/L),Bilirrubinas Tota...   \n",
       "2     Desidrogenase Lática (DHL/L),Bilirrubinas Tota...   \n",
       "3     Desidrogenase Lática (DHL/L),Bilirrubinas Tota...   \n",
       "4     Desidrogenase Lática (DHL/L),Bilirrubinas Tota...   \n",
       "...                                                 ...   \n",
       "4010  Calculo da Estimativa da Taxa de Filtracao Glo...   \n",
       "4011                                              COVID   \n",
       "4012    COVID,Antígeno Influenza Teste Rápido (AGINFLU)   \n",
       "4013                                              COVID   \n",
       "4014  Calculo da Estimativa da Taxa de Filtracao Glo...   \n",
       "\n",
       "                                              problemas  total_exames  \\\n",
       "0     Desidrogenase Lática (DHL/L),Bilirrubinas Tota...        1123.0   \n",
       "1     Desidrogenase Lática (DHL/L),Bilirrubinas Tota...         318.0   \n",
       "2     Desidrogenase Lática (DHL/L),Bilirrubinas Tota...         552.0   \n",
       "3     Desidrogenase Lática (DHL/L),Bilirrubinas Tota...        2130.0   \n",
       "4     Desidrogenase Lática (DHL/L),Bilirrubinas Tota...        2481.0   \n",
       "...                                                 ...           ...   \n",
       "4010  Calculo da Estimativa da Taxa de Filtracao Glo...          75.0   \n",
       "4011                                              COVID           1.0   \n",
       "4012                                              COVID           2.0   \n",
       "4013                                              COVID           1.0   \n",
       "4014  Calculo da Estimativa da Taxa de Filtracao Glo...          41.0   \n",
       "\n",
       "      total_problemas  \n",
       "0                  40  \n",
       "1                  21  \n",
       "2                  35  \n",
       "3                  40  \n",
       "4                  37  \n",
       "...               ...  \n",
       "4010                7  \n",
       "4011                1  \n",
       "4012                1  \n",
       "4013                1  \n",
       "4014                6  \n",
       "\n",
       "[4015 rows x 12 columns]"
      ]
     },
     "execution_count": 257,
     "metadata": {},
     "output_type": "execute_result"
    }
   ],
   "source": [
    "df"
   ]
  },
  {
   "cell_type": "code",
   "execution_count": 258,
   "metadata": {
    "id": "pWs9375Y3u6d"
   },
   "outputs": [],
   "source": [
    "df_cluster = df.drop(['de_tipo_atendimento','de_desfecho','ID_PACIENTE','Unnamed: 0','exames','problemas'],axis=1)"
   ]
  },
  {
   "cell_type": "code",
   "execution_count": 259,
   "metadata": {
    "id": "lRJyLfe3NOVV"
   },
   "outputs": [],
   "source": [
    "df_cluster = df_cluster.drop('IC_SEXO',axis=1)"
   ]
  },
  {
   "cell_type": "code",
   "execution_count": 260,
   "metadata": {
    "colab": {
     "base_uri": "https://localhost:8080/",
     "height": 204
    },
    "executionInfo": {
     "elapsed": 581,
     "status": "ok",
     "timestamp": 1606062930455,
     "user": {
      "displayName": "Rodrigo Veloso",
      "photoUrl": "https://lh3.googleusercontent.com/a-/AOh14Gj_Ta1_WqpgFBbio5qhoHqovB6aWW3OfNb38JIWqw=s64",
      "userId": "05542034347069006538"
     },
     "user_tz": 180
    },
    "id": "Xqiac6iCV7C5",
    "outputId": "f26348d4-1af2-44f8-d66f-97bafbc9aae6"
   },
   "outputs": [
    {
     "data": {
      "text/html": [
       "<div>\n",
       "<style scoped>\n",
       "    .dataframe tbody tr th:only-of-type {\n",
       "        vertical-align: middle;\n",
       "    }\n",
       "\n",
       "    .dataframe tbody tr th {\n",
       "        vertical-align: top;\n",
       "    }\n",
       "\n",
       "    .dataframe thead th {\n",
       "        text-align: right;\n",
       "    }\n",
       "</style>\n",
       "<table border=\"1\" class=\"dataframe\">\n",
       "  <thead>\n",
       "    <tr style=\"text-align: right;\">\n",
       "      <th></th>\n",
       "      <th>n_atendimentos</th>\n",
       "      <th>t_atendimento</th>\n",
       "      <th>idade</th>\n",
       "      <th>total_exames</th>\n",
       "      <th>total_problemas</th>\n",
       "    </tr>\n",
       "  </thead>\n",
       "  <tbody>\n",
       "    <tr>\n",
       "      <th>0</th>\n",
       "      <td>2</td>\n",
       "      <td>30</td>\n",
       "      <td>84.0</td>\n",
       "      <td>1123.0</td>\n",
       "      <td>40</td>\n",
       "    </tr>\n",
       "    <tr>\n",
       "      <th>1</th>\n",
       "      <td>2</td>\n",
       "      <td>13</td>\n",
       "      <td>78.0</td>\n",
       "      <td>318.0</td>\n",
       "      <td>21</td>\n",
       "    </tr>\n",
       "    <tr>\n",
       "      <th>2</th>\n",
       "      <td>2</td>\n",
       "      <td>20</td>\n",
       "      <td>87.0</td>\n",
       "      <td>552.0</td>\n",
       "      <td>35</td>\n",
       "    </tr>\n",
       "    <tr>\n",
       "      <th>3</th>\n",
       "      <td>15</td>\n",
       "      <td>171</td>\n",
       "      <td>79.0</td>\n",
       "      <td>2130.0</td>\n",
       "      <td>40</td>\n",
       "    </tr>\n",
       "    <tr>\n",
       "      <th>4</th>\n",
       "      <td>1</td>\n",
       "      <td>27</td>\n",
       "      <td>81.0</td>\n",
       "      <td>2481.0</td>\n",
       "      <td>37</td>\n",
       "    </tr>\n",
       "  </tbody>\n",
       "</table>\n",
       "</div>"
      ],
      "text/plain": [
       "   n_atendimentos  t_atendimento  idade  total_exames  total_problemas\n",
       "0               2             30   84.0        1123.0               40\n",
       "1               2             13   78.0         318.0               21\n",
       "2               2             20   87.0         552.0               35\n",
       "3              15            171   79.0        2130.0               40\n",
       "4               1             27   81.0        2481.0               37"
      ]
     },
     "execution_count": 260,
     "metadata": {},
     "output_type": "execute_result"
    }
   ],
   "source": [
    "df_cluster.head()"
   ]
  },
  {
   "cell_type": "markdown",
   "metadata": {
    "id": "IWOEV9wb5P3V"
   },
   "source": [
    "##k-Means##"
   ]
  },
  {
   "cell_type": "code",
   "execution_count": 261,
   "metadata": {
    "id": "zKqcNMll4x0s"
   },
   "outputs": [],
   "source": [
    "import sklearn\n",
    "from sklearn import cluster"
   ]
  },
  {
   "cell_type": "code",
   "execution_count": 262,
   "metadata": {
    "id": "9zxvs4Rl5wIt"
   },
   "outputs": [],
   "source": [
    "KMeans = cluster.KMeans"
   ]
  },
  {
   "cell_type": "markdown",
   "metadata": {
    "id": "AHfmYqt3Apx5"
   },
   "source": [
    "O melhor a se fazer, quando trabalhamos com atributos normalizados, e os grupos masculinos e femininos tem aproximadamente o mesmo tamanho é deixar o atributo sexo de lado. Por isso removemos este atributo"
   ]
  },
  {
   "cell_type": "code",
   "execution_count": 263,
   "metadata": {
    "id": "bt98qyxDBFdl"
   },
   "outputs": [
    {
     "ename": "KeyError",
     "evalue": "\"['IC_SEXO'] not found in axis\"",
     "output_type": "error",
     "traceback": [
      "\u001b[0;31m---------------------------------------------------------------------------\u001b[0m",
      "\u001b[0;31mKeyError\u001b[0m                                  Traceback (most recent call last)",
      "\u001b[0;32m<ipython-input-263-f0839ca41eb3>\u001b[0m in \u001b[0;36m<module>\u001b[0;34m\u001b[0m\n\u001b[0;32m----> 1\u001b[0;31m \u001b[0mdf_cluster\u001b[0m \u001b[0;34m=\u001b[0m \u001b[0mdf_cluster\u001b[0m\u001b[0;34m.\u001b[0m\u001b[0mdrop\u001b[0m\u001b[0;34m(\u001b[0m\u001b[0;34m[\u001b[0m\u001b[0;34m'IC_SEXO'\u001b[0m\u001b[0;34m]\u001b[0m\u001b[0;34m,\u001b[0m \u001b[0maxis\u001b[0m \u001b[0;34m=\u001b[0m \u001b[0;36m1\u001b[0m\u001b[0;34m)\u001b[0m\u001b[0;34m\u001b[0m\u001b[0;34m\u001b[0m\u001b[0m\n\u001b[0m",
      "\u001b[0;32m~/.local/lib/python3.6/site-packages/pandas/core/frame.py\u001b[0m in \u001b[0;36mdrop\u001b[0;34m(self, labels, axis, index, columns, level, inplace, errors)\u001b[0m\n\u001b[1;32m   3995\u001b[0m             \u001b[0mlevel\u001b[0m\u001b[0;34m=\u001b[0m\u001b[0mlevel\u001b[0m\u001b[0;34m,\u001b[0m\u001b[0;34m\u001b[0m\u001b[0;34m\u001b[0m\u001b[0m\n\u001b[1;32m   3996\u001b[0m             \u001b[0minplace\u001b[0m\u001b[0;34m=\u001b[0m\u001b[0minplace\u001b[0m\u001b[0;34m,\u001b[0m\u001b[0;34m\u001b[0m\u001b[0;34m\u001b[0m\u001b[0m\n\u001b[0;32m-> 3997\u001b[0;31m             \u001b[0merrors\u001b[0m\u001b[0;34m=\u001b[0m\u001b[0merrors\u001b[0m\u001b[0;34m,\u001b[0m\u001b[0;34m\u001b[0m\u001b[0;34m\u001b[0m\u001b[0m\n\u001b[0m\u001b[1;32m   3998\u001b[0m         )\n\u001b[1;32m   3999\u001b[0m \u001b[0;34m\u001b[0m\u001b[0m\n",
      "\u001b[0;32m~/.local/lib/python3.6/site-packages/pandas/core/generic.py\u001b[0m in \u001b[0;36mdrop\u001b[0;34m(self, labels, axis, index, columns, level, inplace, errors)\u001b[0m\n\u001b[1;32m   3934\u001b[0m         \u001b[0;32mfor\u001b[0m \u001b[0maxis\u001b[0m\u001b[0;34m,\u001b[0m \u001b[0mlabels\u001b[0m \u001b[0;32min\u001b[0m \u001b[0maxes\u001b[0m\u001b[0;34m.\u001b[0m\u001b[0mitems\u001b[0m\u001b[0;34m(\u001b[0m\u001b[0;34m)\u001b[0m\u001b[0;34m:\u001b[0m\u001b[0;34m\u001b[0m\u001b[0;34m\u001b[0m\u001b[0m\n\u001b[1;32m   3935\u001b[0m             \u001b[0;32mif\u001b[0m \u001b[0mlabels\u001b[0m \u001b[0;32mis\u001b[0m \u001b[0;32mnot\u001b[0m \u001b[0;32mNone\u001b[0m\u001b[0;34m:\u001b[0m\u001b[0;34m\u001b[0m\u001b[0;34m\u001b[0m\u001b[0m\n\u001b[0;32m-> 3936\u001b[0;31m                 \u001b[0mobj\u001b[0m \u001b[0;34m=\u001b[0m \u001b[0mobj\u001b[0m\u001b[0;34m.\u001b[0m\u001b[0m_drop_axis\u001b[0m\u001b[0;34m(\u001b[0m\u001b[0mlabels\u001b[0m\u001b[0;34m,\u001b[0m \u001b[0maxis\u001b[0m\u001b[0;34m,\u001b[0m \u001b[0mlevel\u001b[0m\u001b[0;34m=\u001b[0m\u001b[0mlevel\u001b[0m\u001b[0;34m,\u001b[0m \u001b[0merrors\u001b[0m\u001b[0;34m=\u001b[0m\u001b[0merrors\u001b[0m\u001b[0;34m)\u001b[0m\u001b[0;34m\u001b[0m\u001b[0;34m\u001b[0m\u001b[0m\n\u001b[0m\u001b[1;32m   3937\u001b[0m \u001b[0;34m\u001b[0m\u001b[0m\n\u001b[1;32m   3938\u001b[0m         \u001b[0;32mif\u001b[0m \u001b[0minplace\u001b[0m\u001b[0;34m:\u001b[0m\u001b[0;34m\u001b[0m\u001b[0;34m\u001b[0m\u001b[0m\n",
      "\u001b[0;32m~/.local/lib/python3.6/site-packages/pandas/core/generic.py\u001b[0m in \u001b[0;36m_drop_axis\u001b[0;34m(self, labels, axis, level, errors)\u001b[0m\n\u001b[1;32m   3968\u001b[0m                 \u001b[0mnew_axis\u001b[0m \u001b[0;34m=\u001b[0m \u001b[0maxis\u001b[0m\u001b[0;34m.\u001b[0m\u001b[0mdrop\u001b[0m\u001b[0;34m(\u001b[0m\u001b[0mlabels\u001b[0m\u001b[0;34m,\u001b[0m \u001b[0mlevel\u001b[0m\u001b[0;34m=\u001b[0m\u001b[0mlevel\u001b[0m\u001b[0;34m,\u001b[0m \u001b[0merrors\u001b[0m\u001b[0;34m=\u001b[0m\u001b[0merrors\u001b[0m\u001b[0;34m)\u001b[0m\u001b[0;34m\u001b[0m\u001b[0;34m\u001b[0m\u001b[0m\n\u001b[1;32m   3969\u001b[0m             \u001b[0;32melse\u001b[0m\u001b[0;34m:\u001b[0m\u001b[0;34m\u001b[0m\u001b[0;34m\u001b[0m\u001b[0m\n\u001b[0;32m-> 3970\u001b[0;31m                 \u001b[0mnew_axis\u001b[0m \u001b[0;34m=\u001b[0m \u001b[0maxis\u001b[0m\u001b[0;34m.\u001b[0m\u001b[0mdrop\u001b[0m\u001b[0;34m(\u001b[0m\u001b[0mlabels\u001b[0m\u001b[0;34m,\u001b[0m \u001b[0merrors\u001b[0m\u001b[0;34m=\u001b[0m\u001b[0merrors\u001b[0m\u001b[0;34m)\u001b[0m\u001b[0;34m\u001b[0m\u001b[0;34m\u001b[0m\u001b[0m\n\u001b[0m\u001b[1;32m   3971\u001b[0m             \u001b[0mresult\u001b[0m \u001b[0;34m=\u001b[0m \u001b[0mself\u001b[0m\u001b[0;34m.\u001b[0m\u001b[0mreindex\u001b[0m\u001b[0;34m(\u001b[0m\u001b[0;34m**\u001b[0m\u001b[0;34m{\u001b[0m\u001b[0maxis_name\u001b[0m\u001b[0;34m:\u001b[0m \u001b[0mnew_axis\u001b[0m\u001b[0;34m}\u001b[0m\u001b[0;34m)\u001b[0m\u001b[0;34m\u001b[0m\u001b[0;34m\u001b[0m\u001b[0m\n\u001b[1;32m   3972\u001b[0m \u001b[0;34m\u001b[0m\u001b[0m\n",
      "\u001b[0;32m~/.local/lib/python3.6/site-packages/pandas/core/indexes/base.py\u001b[0m in \u001b[0;36mdrop\u001b[0;34m(self, labels, errors)\u001b[0m\n\u001b[1;32m   5015\u001b[0m         \u001b[0;32mif\u001b[0m \u001b[0mmask\u001b[0m\u001b[0;34m.\u001b[0m\u001b[0many\u001b[0m\u001b[0;34m(\u001b[0m\u001b[0;34m)\u001b[0m\u001b[0;34m:\u001b[0m\u001b[0;34m\u001b[0m\u001b[0;34m\u001b[0m\u001b[0m\n\u001b[1;32m   5016\u001b[0m             \u001b[0;32mif\u001b[0m \u001b[0merrors\u001b[0m \u001b[0;34m!=\u001b[0m \u001b[0;34m\"ignore\"\u001b[0m\u001b[0;34m:\u001b[0m\u001b[0;34m\u001b[0m\u001b[0;34m\u001b[0m\u001b[0m\n\u001b[0;32m-> 5017\u001b[0;31m                 \u001b[0;32mraise\u001b[0m \u001b[0mKeyError\u001b[0m\u001b[0;34m(\u001b[0m\u001b[0;34mf\"{labels[mask]} not found in axis\"\u001b[0m\u001b[0;34m)\u001b[0m\u001b[0;34m\u001b[0m\u001b[0;34m\u001b[0m\u001b[0m\n\u001b[0m\u001b[1;32m   5018\u001b[0m             \u001b[0mindexer\u001b[0m \u001b[0;34m=\u001b[0m \u001b[0mindexer\u001b[0m\u001b[0;34m[\u001b[0m\u001b[0;34m~\u001b[0m\u001b[0mmask\u001b[0m\u001b[0;34m]\u001b[0m\u001b[0;34m\u001b[0m\u001b[0;34m\u001b[0m\u001b[0m\n\u001b[1;32m   5019\u001b[0m         \u001b[0;32mreturn\u001b[0m \u001b[0mself\u001b[0m\u001b[0;34m.\u001b[0m\u001b[0mdelete\u001b[0m\u001b[0;34m(\u001b[0m\u001b[0mindexer\u001b[0m\u001b[0;34m)\u001b[0m\u001b[0;34m\u001b[0m\u001b[0;34m\u001b[0m\u001b[0m\n",
      "\u001b[0;31mKeyError\u001b[0m: \"['IC_SEXO'] not found in axis\""
     ]
    }
   ],
   "source": [
    "df_cluster = df_cluster.drop(['IC_SEXO'], axis = 1)"
   ]
  },
  {
   "cell_type": "code",
   "execution_count": 264,
   "metadata": {
    "id": "mOWA-uIV6vKV"
   },
   "outputs": [],
   "source": [
    "df_cluster = df_cluster[np.logical_not(df_cluster['idade'].isna())]\n",
    "df = df[np.logical_not(df['idade'].isna())]"
   ]
  },
  {
   "cell_type": "markdown",
   "metadata": {
    "id": "e7Avz9LO-W03"
   },
   "source": [
    "Normalização dos dados"
   ]
  },
  {
   "cell_type": "code",
   "execution_count": 265,
   "metadata": {
    "id": "nzS4R2qu-aF9"
   },
   "outputs": [],
   "source": [
    "from sklearn import preprocessing\n",
    "\n",
    "df_cluster_n = preprocessing.minmax_scale(df_cluster, feature_range=(0,1), axis=0, copy=True)\n",
    "\n",
    "max_list = np.max(df_cluster)\n",
    "min_list = np.min(df_cluster)\n",
    "for i, max in enumerate(max_list):\n",
    "  df_cluster.iloc[:,i] = (df_cluster.iloc[:,i] - min_list[i])/(max - min_list[i])"
   ]
  },
  {
   "cell_type": "code",
   "execution_count": 266,
   "metadata": {
    "colab": {
     "base_uri": "https://localhost:8080/",
     "height": 419
    },
    "executionInfo": {
     "elapsed": 646,
     "status": "ok",
     "timestamp": 1605989599825,
     "user": {
      "displayName": "Rodrigo Veloso",
      "photoUrl": "https://lh3.googleusercontent.com/a-/AOh14Gj_Ta1_WqpgFBbio5qhoHqovB6aWW3OfNb38JIWqw=s64",
      "userId": "05542034347069006538"
     },
     "user_tz": 180
    },
    "id": "-vLl241v-WnZ",
    "outputId": "90d023f4-03dd-4214-9b37-a3802f8cb615"
   },
   "outputs": [
    {
     "data": {
      "text/html": [
       "<div>\n",
       "<style scoped>\n",
       "    .dataframe tbody tr th:only-of-type {\n",
       "        vertical-align: middle;\n",
       "    }\n",
       "\n",
       "    .dataframe tbody tr th {\n",
       "        vertical-align: top;\n",
       "    }\n",
       "\n",
       "    .dataframe thead th {\n",
       "        text-align: right;\n",
       "    }\n",
       "</style>\n",
       "<table border=\"1\" class=\"dataframe\">\n",
       "  <thead>\n",
       "    <tr style=\"text-align: right;\">\n",
       "      <th></th>\n",
       "      <th>n_atendimentos</th>\n",
       "      <th>t_atendimento</th>\n",
       "      <th>idade</th>\n",
       "      <th>total_exames</th>\n",
       "      <th>total_problemas</th>\n",
       "    </tr>\n",
       "  </thead>\n",
       "  <tbody>\n",
       "    <tr>\n",
       "      <th>0</th>\n",
       "      <td>0.013333</td>\n",
       "      <td>0.138095</td>\n",
       "      <td>0.943182</td>\n",
       "      <td>0.233070</td>\n",
       "      <td>0.639344</td>\n",
       "    </tr>\n",
       "    <tr>\n",
       "      <th>1</th>\n",
       "      <td>0.013333</td>\n",
       "      <td>0.057143</td>\n",
       "      <td>0.875000</td>\n",
       "      <td>0.065850</td>\n",
       "      <td>0.327869</td>\n",
       "    </tr>\n",
       "    <tr>\n",
       "      <th>2</th>\n",
       "      <td>0.013333</td>\n",
       "      <td>0.090476</td>\n",
       "      <td>0.977273</td>\n",
       "      <td>0.114458</td>\n",
       "      <td>0.557377</td>\n",
       "    </tr>\n",
       "    <tr>\n",
       "      <th>3</th>\n",
       "      <td>0.186667</td>\n",
       "      <td>0.809524</td>\n",
       "      <td>0.886364</td>\n",
       "      <td>0.442252</td>\n",
       "      <td>0.639344</td>\n",
       "    </tr>\n",
       "    <tr>\n",
       "      <th>4</th>\n",
       "      <td>0.000000</td>\n",
       "      <td>0.123810</td>\n",
       "      <td>0.909091</td>\n",
       "      <td>0.515164</td>\n",
       "      <td>0.590164</td>\n",
       "    </tr>\n",
       "    <tr>\n",
       "      <th>...</th>\n",
       "      <td>...</td>\n",
       "      <td>...</td>\n",
       "      <td>...</td>\n",
       "      <td>...</td>\n",
       "      <td>...</td>\n",
       "    </tr>\n",
       "    <tr>\n",
       "      <th>4010</th>\n",
       "      <td>0.000000</td>\n",
       "      <td>0.019048</td>\n",
       "      <td>1.000000</td>\n",
       "      <td>0.015372</td>\n",
       "      <td>0.098361</td>\n",
       "    </tr>\n",
       "    <tr>\n",
       "      <th>4011</th>\n",
       "      <td>0.013333</td>\n",
       "      <td>0.004762</td>\n",
       "      <td>0.306818</td>\n",
       "      <td>0.000000</td>\n",
       "      <td>0.000000</td>\n",
       "    </tr>\n",
       "    <tr>\n",
       "      <th>4012</th>\n",
       "      <td>0.053333</td>\n",
       "      <td>0.019048</td>\n",
       "      <td>0.284091</td>\n",
       "      <td>0.000208</td>\n",
       "      <td>0.000000</td>\n",
       "    </tr>\n",
       "    <tr>\n",
       "      <th>4013</th>\n",
       "      <td>0.066667</td>\n",
       "      <td>0.023810</td>\n",
       "      <td>0.295455</td>\n",
       "      <td>0.000000</td>\n",
       "      <td>0.000000</td>\n",
       "    </tr>\n",
       "    <tr>\n",
       "      <th>4014</th>\n",
       "      <td>0.040000</td>\n",
       "      <td>0.014286</td>\n",
       "      <td>0.579545</td>\n",
       "      <td>0.008309</td>\n",
       "      <td>0.081967</td>\n",
       "    </tr>\n",
       "  </tbody>\n",
       "</table>\n",
       "<p>4015 rows × 5 columns</p>\n",
       "</div>"
      ],
      "text/plain": [
       "      n_atendimentos  t_atendimento     idade  total_exames  total_problemas\n",
       "0           0.013333       0.138095  0.943182      0.233070         0.639344\n",
       "1           0.013333       0.057143  0.875000      0.065850         0.327869\n",
       "2           0.013333       0.090476  0.977273      0.114458         0.557377\n",
       "3           0.186667       0.809524  0.886364      0.442252         0.639344\n",
       "4           0.000000       0.123810  0.909091      0.515164         0.590164\n",
       "...              ...            ...       ...           ...              ...\n",
       "4010        0.000000       0.019048  1.000000      0.015372         0.098361\n",
       "4011        0.013333       0.004762  0.306818      0.000000         0.000000\n",
       "4012        0.053333       0.019048  0.284091      0.000208         0.000000\n",
       "4013        0.066667       0.023810  0.295455      0.000000         0.000000\n",
       "4014        0.040000       0.014286  0.579545      0.008309         0.081967\n",
       "\n",
       "[4015 rows x 5 columns]"
      ]
     },
     "execution_count": 266,
     "metadata": {},
     "output_type": "execute_result"
    }
   ],
   "source": [
    "df_cluster"
   ]
  },
  {
   "cell_type": "markdown",
   "metadata": {
    "id": "ltahagqn6AC6"
   },
   "source": [
    "Criação dos clusters"
   ]
  },
  {
   "cell_type": "code",
   "execution_count": null,
   "metadata": {
    "colab": {
     "base_uri": "https://localhost:8080/"
    },
    "executionInfo": {
     "elapsed": 5199,
     "status": "ok",
     "timestamp": 1605990076564,
     "user": {
      "displayName": "Rodrigo Veloso",
      "photoUrl": "https://lh3.googleusercontent.com/a-/AOh14Gj_Ta1_WqpgFBbio5qhoHqovB6aWW3OfNb38JIWqw=s64",
      "userId": "05542034347069006538"
     },
     "user_tz": 180
    },
    "id": "foOh0h2HZXfU",
    "outputId": "01d10318-c12f-4d4f-f824-64f5be7cf349"
   },
   "outputs": [
    {
     "name": "stdout",
     "output_type": "stream",
     "text": [
      "Automatically created module for IPython interactive environment\n",
      "For n_clusters = 2 The average silhouette_score is : 0.513998126836653\n",
      "For n_clusters = 3 The average silhouette_score is : 0.40345329658674817\n",
      "For n_clusters = 4 The average silhouette_score is : 0.3335345517433851\n",
      "For n_clusters = 5 The average silhouette_score is : 0.30504792486489546\n",
      "For n_clusters = 6 The average silhouette_score is : 0.3213579099474481\n",
      "For n_clusters = 7 The average silhouette_score is : 0.33581967607982677\n",
      "For n_clusters = 8 The average silhouette_score is : 0.31726914969968295\n",
      "For n_clusters = 9 The average silhouette_score is : 0.3098309540086947\n",
      "For n_clusters = 10 The average silhouette_score is : 0.31933276833879554\n"
     ]
    }
   ],
   "source": [
    "from sklearn.datasets import make_blobs\n",
    "from sklearn.cluster import KMeans\n",
    "from sklearn.metrics import silhouette_samples, silhouette_score\n",
    "\n",
    "import matplotlib.pyplot as plt\n",
    "import matplotlib.cm as cm\n",
    "import numpy as np\n",
    "\n",
    "print(__doc__)\n",
    "\n",
    "# Generating the sample data from make_blobs\n",
    "# This particular setting has one distinct cluster and 3 clusters placed close\n",
    "# together.\n",
    "\n",
    "range_n_clusters = [2, 3, 4, 5, 6, 7, 8, 9, 10]\n",
    "\n",
    "for n_clusters in range_n_clusters:\n",
    "\n",
    "    # Initialize the clusterer with n_clusters value and a random generator\n",
    "    # seed of 10 for reproducibility.\n",
    "    clusterer = KMeans(n_clusters=n_clusters, random_state=10)\n",
    "    cluster_labels = clusterer.fit_predict(df_cluster)\n",
    "\n",
    "    # The silhouette_score gives the average value for all the samples.\n",
    "    # This gives a perspective into the density and separation of the formed\n",
    "    # clusters\n",
    "    silhouette_avg = silhouette_score(df_cluster, cluster_labels)\n",
    "    print(\"For n_clusters =\", n_clusters,\n",
    "          \"The average silhouette_score is :\", silhouette_avg)"
   ]
  },
  {
   "cell_type": "code",
   "execution_count": 267,
   "metadata": {
    "id": "hTstH4R951Kf"
   },
   "outputs": [],
   "source": [
    "kmeans = KMeans(n_clusters=2, random_state=0).fit(df_cluster)"
   ]
  },
  {
   "cell_type": "code",
   "execution_count": 268,
   "metadata": {
    "colab": {
     "base_uri": "https://localhost:8080/"
    },
    "executionInfo": {
     "elapsed": 735,
     "status": "ok",
     "timestamp": 1605994455074,
     "user": {
      "displayName": "Rodrigo Veloso",
      "photoUrl": "https://lh3.googleusercontent.com/a-/AOh14Gj_Ta1_WqpgFBbio5qhoHqovB6aWW3OfNb38JIWqw=s64",
      "userId": "05542034347069006538"
     },
     "user_tz": 180
    },
    "id": "nDlqlxWW9FK_",
    "outputId": "2f45902c-edf0-4cf0-977d-c1cfffc49640"
   },
   "outputs": [
    {
     "data": {
      "text/plain": [
       "4015"
      ]
     },
     "execution_count": 268,
     "metadata": {},
     "output_type": "execute_result"
    }
   ],
   "source": [
    "len(kmeans.labels_)"
   ]
  },
  {
   "cell_type": "code",
   "execution_count": 269,
   "metadata": {
    "id": "syArl_CD9W1E"
   },
   "outputs": [],
   "source": [
    "df['cluster'] = kmeans.labels_"
   ]
  },
  {
   "cell_type": "markdown",
   "metadata": {
    "id": "ODOrM9Wy-kwO"
   },
   "source": [
    "Centróides"
   ]
  },
  {
   "cell_type": "code",
   "execution_count": 270,
   "metadata": {
    "colab": {
     "base_uri": "https://localhost:8080/",
     "height": 419
    },
    "executionInfo": {
     "elapsed": 662,
     "status": "ok",
     "timestamp": 1605992853988,
     "user": {
      "displayName": "Rodrigo Veloso",
      "photoUrl": "https://lh3.googleusercontent.com/a-/AOh14Gj_Ta1_WqpgFBbio5qhoHqovB6aWW3OfNb38JIWqw=s64",
      "userId": "05542034347069006538"
     },
     "user_tz": 180
    },
    "id": "n3w29WO_ohUC",
    "outputId": "ce549f5e-8214-48ee-e48f-79724545aaa4"
   },
   "outputs": [
    {
     "data": {
      "text/html": [
       "<div>\n",
       "<style scoped>\n",
       "    .dataframe tbody tr th:only-of-type {\n",
       "        vertical-align: middle;\n",
       "    }\n",
       "\n",
       "    .dataframe tbody tr th {\n",
       "        vertical-align: top;\n",
       "    }\n",
       "\n",
       "    .dataframe thead th {\n",
       "        text-align: right;\n",
       "    }\n",
       "</style>\n",
       "<table border=\"1\" class=\"dataframe\">\n",
       "  <thead>\n",
       "    <tr style=\"text-align: right;\">\n",
       "      <th></th>\n",
       "      <th>n_atendimentos</th>\n",
       "      <th>t_atendimento</th>\n",
       "      <th>idade</th>\n",
       "      <th>total_exames</th>\n",
       "      <th>total_problemas</th>\n",
       "    </tr>\n",
       "  </thead>\n",
       "  <tbody>\n",
       "    <tr>\n",
       "      <th>0</th>\n",
       "      <td>0.013333</td>\n",
       "      <td>0.138095</td>\n",
       "      <td>0.943182</td>\n",
       "      <td>0.233070</td>\n",
       "      <td>0.639344</td>\n",
       "    </tr>\n",
       "    <tr>\n",
       "      <th>1</th>\n",
       "      <td>0.013333</td>\n",
       "      <td>0.057143</td>\n",
       "      <td>0.875000</td>\n",
       "      <td>0.065850</td>\n",
       "      <td>0.327869</td>\n",
       "    </tr>\n",
       "    <tr>\n",
       "      <th>2</th>\n",
       "      <td>0.013333</td>\n",
       "      <td>0.090476</td>\n",
       "      <td>0.977273</td>\n",
       "      <td>0.114458</td>\n",
       "      <td>0.557377</td>\n",
       "    </tr>\n",
       "    <tr>\n",
       "      <th>3</th>\n",
       "      <td>0.186667</td>\n",
       "      <td>0.809524</td>\n",
       "      <td>0.886364</td>\n",
       "      <td>0.442252</td>\n",
       "      <td>0.639344</td>\n",
       "    </tr>\n",
       "    <tr>\n",
       "      <th>4</th>\n",
       "      <td>0.000000</td>\n",
       "      <td>0.123810</td>\n",
       "      <td>0.909091</td>\n",
       "      <td>0.515164</td>\n",
       "      <td>0.590164</td>\n",
       "    </tr>\n",
       "    <tr>\n",
       "      <th>...</th>\n",
       "      <td>...</td>\n",
       "      <td>...</td>\n",
       "      <td>...</td>\n",
       "      <td>...</td>\n",
       "      <td>...</td>\n",
       "    </tr>\n",
       "    <tr>\n",
       "      <th>4010</th>\n",
       "      <td>0.000000</td>\n",
       "      <td>0.019048</td>\n",
       "      <td>1.000000</td>\n",
       "      <td>0.015372</td>\n",
       "      <td>0.098361</td>\n",
       "    </tr>\n",
       "    <tr>\n",
       "      <th>4011</th>\n",
       "      <td>0.013333</td>\n",
       "      <td>0.004762</td>\n",
       "      <td>0.306818</td>\n",
       "      <td>0.000000</td>\n",
       "      <td>0.000000</td>\n",
       "    </tr>\n",
       "    <tr>\n",
       "      <th>4012</th>\n",
       "      <td>0.053333</td>\n",
       "      <td>0.019048</td>\n",
       "      <td>0.284091</td>\n",
       "      <td>0.000208</td>\n",
       "      <td>0.000000</td>\n",
       "    </tr>\n",
       "    <tr>\n",
       "      <th>4013</th>\n",
       "      <td>0.066667</td>\n",
       "      <td>0.023810</td>\n",
       "      <td>0.295455</td>\n",
       "      <td>0.000000</td>\n",
       "      <td>0.000000</td>\n",
       "    </tr>\n",
       "    <tr>\n",
       "      <th>4014</th>\n",
       "      <td>0.040000</td>\n",
       "      <td>0.014286</td>\n",
       "      <td>0.579545</td>\n",
       "      <td>0.008309</td>\n",
       "      <td>0.081967</td>\n",
       "    </tr>\n",
       "  </tbody>\n",
       "</table>\n",
       "<p>4015 rows × 5 columns</p>\n",
       "</div>"
      ],
      "text/plain": [
       "      n_atendimentos  t_atendimento     idade  total_exames  total_problemas\n",
       "0           0.013333       0.138095  0.943182      0.233070         0.639344\n",
       "1           0.013333       0.057143  0.875000      0.065850         0.327869\n",
       "2           0.013333       0.090476  0.977273      0.114458         0.557377\n",
       "3           0.186667       0.809524  0.886364      0.442252         0.639344\n",
       "4           0.000000       0.123810  0.909091      0.515164         0.590164\n",
       "...              ...            ...       ...           ...              ...\n",
       "4010        0.000000       0.019048  1.000000      0.015372         0.098361\n",
       "4011        0.013333       0.004762  0.306818      0.000000         0.000000\n",
       "4012        0.053333       0.019048  0.284091      0.000208         0.000000\n",
       "4013        0.066667       0.023810  0.295455      0.000000         0.000000\n",
       "4014        0.040000       0.014286  0.579545      0.008309         0.081967\n",
       "\n",
       "[4015 rows x 5 columns]"
      ]
     },
     "execution_count": 270,
     "metadata": {},
     "output_type": "execute_result"
    }
   ],
   "source": [
    "df_cluster"
   ]
  },
  {
   "cell_type": "code",
   "execution_count": 276,
   "metadata": {},
   "outputs": [
    {
     "data": {
      "text/html": [
       "<div>\n",
       "<style scoped>\n",
       "    .dataframe tbody tr th:only-of-type {\n",
       "        vertical-align: middle;\n",
       "    }\n",
       "\n",
       "    .dataframe tbody tr th {\n",
       "        vertical-align: top;\n",
       "    }\n",
       "\n",
       "    .dataframe thead th {\n",
       "        text-align: right;\n",
       "    }\n",
       "</style>\n",
       "<table border=\"1\" class=\"dataframe\">\n",
       "  <thead>\n",
       "    <tr style=\"text-align: right;\">\n",
       "      <th></th>\n",
       "      <th>Unnamed: 0</th>\n",
       "      <th>ID_PACIENTE</th>\n",
       "      <th>de_tipo_atendimento</th>\n",
       "      <th>de_desfecho</th>\n",
       "      <th>n_atendimentos</th>\n",
       "      <th>t_atendimento</th>\n",
       "      <th>IC_SEXO</th>\n",
       "      <th>idade</th>\n",
       "      <th>exames</th>\n",
       "      <th>problemas</th>\n",
       "      <th>total_exames</th>\n",
       "      <th>total_problemas</th>\n",
       "      <th>cluster</th>\n",
       "    </tr>\n",
       "  </thead>\n",
       "  <tbody>\n",
       "    <tr>\n",
       "      <th>0</th>\n",
       "      <td>2</td>\n",
       "      <td>7B03A278AD0026D4E34D0D84453A3548</td>\n",
       "      <td>Internado</td>\n",
       "      <td>O</td>\n",
       "      <td>2</td>\n",
       "      <td>30</td>\n",
       "      <td>M</td>\n",
       "      <td>84.0</td>\n",
       "      <td>Desidrogenase Lática (DHL/L),Bilirrubinas Tota...</td>\n",
       "      <td>Desidrogenase Lática (DHL/L),Bilirrubinas Tota...</td>\n",
       "      <td>1123.0</td>\n",
       "      <td>40</td>\n",
       "      <td>1</td>\n",
       "    </tr>\n",
       "    <tr>\n",
       "      <th>1</th>\n",
       "      <td>3</td>\n",
       "      <td>DE791245DF4FD631AD71B2B307F7835D</td>\n",
       "      <td>Internado</td>\n",
       "      <td>O</td>\n",
       "      <td>2</td>\n",
       "      <td>13</td>\n",
       "      <td>M</td>\n",
       "      <td>78.0</td>\n",
       "      <td>Desidrogenase Lática (DHL/L),Bilirrubinas Tota...</td>\n",
       "      <td>Desidrogenase Lática (DHL/L),Bilirrubinas Tota...</td>\n",
       "      <td>318.0</td>\n",
       "      <td>21</td>\n",
       "      <td>1</td>\n",
       "    </tr>\n",
       "    <tr>\n",
       "      <th>2</th>\n",
       "      <td>7</td>\n",
       "      <td>BB7523C235A6582C309BB3E4F8C93698</td>\n",
       "      <td>Internado</td>\n",
       "      <td>O</td>\n",
       "      <td>2</td>\n",
       "      <td>20</td>\n",
       "      <td>M</td>\n",
       "      <td>87.0</td>\n",
       "      <td>Desidrogenase Lática (DHL/L),Bilirrubinas Tota...</td>\n",
       "      <td>Desidrogenase Lática (DHL/L),Bilirrubinas Tota...</td>\n",
       "      <td>552.0</td>\n",
       "      <td>35</td>\n",
       "      <td>1</td>\n",
       "    </tr>\n",
       "    <tr>\n",
       "      <th>3</th>\n",
       "      <td>8</td>\n",
       "      <td>D831A012023DCACDE4E8B9483AD5A438</td>\n",
       "      <td>Internado</td>\n",
       "      <td>O</td>\n",
       "      <td>15</td>\n",
       "      <td>171</td>\n",
       "      <td>M</td>\n",
       "      <td>79.0</td>\n",
       "      <td>Desidrogenase Lática (DHL/L),Bilirrubinas Tota...</td>\n",
       "      <td>Desidrogenase Lática (DHL/L),Bilirrubinas Tota...</td>\n",
       "      <td>2130.0</td>\n",
       "      <td>40</td>\n",
       "      <td>1</td>\n",
       "    </tr>\n",
       "    <tr>\n",
       "      <th>4</th>\n",
       "      <td>10</td>\n",
       "      <td>F115058FEF0C6CE66E32EF72AB785F48</td>\n",
       "      <td>Internado</td>\n",
       "      <td>O</td>\n",
       "      <td>1</td>\n",
       "      <td>27</td>\n",
       "      <td>M</td>\n",
       "      <td>81.0</td>\n",
       "      <td>Desidrogenase Lática (DHL/L),Bilirrubinas Tota...</td>\n",
       "      <td>Desidrogenase Lática (DHL/L),Bilirrubinas Tota...</td>\n",
       "      <td>2481.0</td>\n",
       "      <td>37</td>\n",
       "      <td>1</td>\n",
       "    </tr>\n",
       "    <tr>\n",
       "      <th>...</th>\n",
       "      <td>...</td>\n",
       "      <td>...</td>\n",
       "      <td>...</td>\n",
       "      <td>...</td>\n",
       "      <td>...</td>\n",
       "      <td>...</td>\n",
       "      <td>...</td>\n",
       "      <td>...</td>\n",
       "      <td>...</td>\n",
       "      <td>...</td>\n",
       "      <td>...</td>\n",
       "      <td>...</td>\n",
       "      <td>...</td>\n",
       "    </tr>\n",
       "    <tr>\n",
       "      <th>3996</th>\n",
       "      <td>4171</td>\n",
       "      <td>47C613AC194445893CBBC996980D04E8</td>\n",
       "      <td>Internado</td>\n",
       "      <td>A</td>\n",
       "      <td>5</td>\n",
       "      <td>16</td>\n",
       "      <td>M</td>\n",
       "      <td>57.0</td>\n",
       "      <td>Desidrogenase Lática (DHL/L),Bilirrubinas Tota...</td>\n",
       "      <td>Urina,Calculo da Estimativa da Taxa de Filtrac...</td>\n",
       "      <td>285.0</td>\n",
       "      <td>15</td>\n",
       "      <td>1</td>\n",
       "    </tr>\n",
       "    <tr>\n",
       "      <th>3997</th>\n",
       "      <td>4173</td>\n",
       "      <td>E7C710BC34CDC2189CE6E59DFA3274C5</td>\n",
       "      <td>Internado</td>\n",
       "      <td>A</td>\n",
       "      <td>1</td>\n",
       "      <td>7</td>\n",
       "      <td>M</td>\n",
       "      <td>76.0</td>\n",
       "      <td>Desidrogenase Lática (DHL/L),Creatinina,Fator ...</td>\n",
       "      <td>D. Dimeros(Dimeros De Fibrina),Hemograma,COVID...</td>\n",
       "      <td>120.0</td>\n",
       "      <td>6</td>\n",
       "      <td>1</td>\n",
       "    </tr>\n",
       "    <tr>\n",
       "      <th>4001</th>\n",
       "      <td>4177</td>\n",
       "      <td>7DC4B107D4CE5B9BC36CE36F8532BD34</td>\n",
       "      <td>Internado</td>\n",
       "      <td>A</td>\n",
       "      <td>1</td>\n",
       "      <td>17</td>\n",
       "      <td>M</td>\n",
       "      <td>67.0</td>\n",
       "      <td>Desidrogenase Lática (DHL/L),Uréia,Cloro urgen...</td>\n",
       "      <td>Desidrogenase Lática (DHL/L),Cloro urgente san...</td>\n",
       "      <td>541.0</td>\n",
       "      <td>32</td>\n",
       "      <td>1</td>\n",
       "    </tr>\n",
       "    <tr>\n",
       "      <th>4006</th>\n",
       "      <td>4182</td>\n",
       "      <td>7BD39A5ECEEA4B3DA1A0F33C280EAA6E</td>\n",
       "      <td>Internado</td>\n",
       "      <td>A</td>\n",
       "      <td>1</td>\n",
       "      <td>8</td>\n",
       "      <td>M</td>\n",
       "      <td>76.0</td>\n",
       "      <td>Desidrogenase Lática (DHL/L),Bilirrubinas Tota...</td>\n",
       "      <td>Calculo da Estimativa da Taxa de Filtracao Glo...</td>\n",
       "      <td>192.0</td>\n",
       "      <td>15</td>\n",
       "      <td>1</td>\n",
       "    </tr>\n",
       "    <tr>\n",
       "      <th>4010</th>\n",
       "      <td>4187</td>\n",
       "      <td>782656BA1BADE181CC5B4DE5792C91BE</td>\n",
       "      <td>Pronto Atendimento</td>\n",
       "      <td>A</td>\n",
       "      <td>1</td>\n",
       "      <td>5</td>\n",
       "      <td>F</td>\n",
       "      <td>89.0</td>\n",
       "      <td>Calculo da Estimativa da Taxa de Filtracao Glo...</td>\n",
       "      <td>Calculo da Estimativa da Taxa de Filtracao Glo...</td>\n",
       "      <td>75.0</td>\n",
       "      <td>7</td>\n",
       "      <td>1</td>\n",
       "    </tr>\n",
       "  </tbody>\n",
       "</table>\n",
       "<p>869 rows × 13 columns</p>\n",
       "</div>"
      ],
      "text/plain": [
       "      Unnamed: 0                       ID_PACIENTE de_tipo_atendimento  \\\n",
       "0              2  7B03A278AD0026D4E34D0D84453A3548           Internado   \n",
       "1              3  DE791245DF4FD631AD71B2B307F7835D           Internado   \n",
       "2              7  BB7523C235A6582C309BB3E4F8C93698           Internado   \n",
       "3              8  D831A012023DCACDE4E8B9483AD5A438           Internado   \n",
       "4             10  F115058FEF0C6CE66E32EF72AB785F48           Internado   \n",
       "...          ...                               ...                 ...   \n",
       "3996        4171  47C613AC194445893CBBC996980D04E8           Internado   \n",
       "3997        4173  E7C710BC34CDC2189CE6E59DFA3274C5           Internado   \n",
       "4001        4177  7DC4B107D4CE5B9BC36CE36F8532BD34           Internado   \n",
       "4006        4182  7BD39A5ECEEA4B3DA1A0F33C280EAA6E           Internado   \n",
       "4010        4187  782656BA1BADE181CC5B4DE5792C91BE  Pronto Atendimento   \n",
       "\n",
       "     de_desfecho  n_atendimentos  t_atendimento IC_SEXO  idade  \\\n",
       "0              O               2             30       M   84.0   \n",
       "1              O               2             13       M   78.0   \n",
       "2              O               2             20       M   87.0   \n",
       "3              O              15            171       M   79.0   \n",
       "4              O               1             27       M   81.0   \n",
       "...          ...             ...            ...     ...    ...   \n",
       "3996           A               5             16       M   57.0   \n",
       "3997           A               1              7       M   76.0   \n",
       "4001           A               1             17       M   67.0   \n",
       "4006           A               1              8       M   76.0   \n",
       "4010           A               1              5       F   89.0   \n",
       "\n",
       "                                                 exames  \\\n",
       "0     Desidrogenase Lática (DHL/L),Bilirrubinas Tota...   \n",
       "1     Desidrogenase Lática (DHL/L),Bilirrubinas Tota...   \n",
       "2     Desidrogenase Lática (DHL/L),Bilirrubinas Tota...   \n",
       "3     Desidrogenase Lática (DHL/L),Bilirrubinas Tota...   \n",
       "4     Desidrogenase Lática (DHL/L),Bilirrubinas Tota...   \n",
       "...                                                 ...   \n",
       "3996  Desidrogenase Lática (DHL/L),Bilirrubinas Tota...   \n",
       "3997  Desidrogenase Lática (DHL/L),Creatinina,Fator ...   \n",
       "4001  Desidrogenase Lática (DHL/L),Uréia,Cloro urgen...   \n",
       "4006  Desidrogenase Lática (DHL/L),Bilirrubinas Tota...   \n",
       "4010  Calculo da Estimativa da Taxa de Filtracao Glo...   \n",
       "\n",
       "                                              problemas  total_exames  \\\n",
       "0     Desidrogenase Lática (DHL/L),Bilirrubinas Tota...        1123.0   \n",
       "1     Desidrogenase Lática (DHL/L),Bilirrubinas Tota...         318.0   \n",
       "2     Desidrogenase Lática (DHL/L),Bilirrubinas Tota...         552.0   \n",
       "3     Desidrogenase Lática (DHL/L),Bilirrubinas Tota...        2130.0   \n",
       "4     Desidrogenase Lática (DHL/L),Bilirrubinas Tota...        2481.0   \n",
       "...                                                 ...           ...   \n",
       "3996  Urina,Calculo da Estimativa da Taxa de Filtrac...         285.0   \n",
       "3997  D. Dimeros(Dimeros De Fibrina),Hemograma,COVID...         120.0   \n",
       "4001  Desidrogenase Lática (DHL/L),Cloro urgente san...         541.0   \n",
       "4006  Calculo da Estimativa da Taxa de Filtracao Glo...         192.0   \n",
       "4010  Calculo da Estimativa da Taxa de Filtracao Glo...          75.0   \n",
       "\n",
       "      total_problemas  cluster  \n",
       "0                  40        1  \n",
       "1                  21        1  \n",
       "2                  35        1  \n",
       "3                  40        1  \n",
       "4                  37        1  \n",
       "...               ...      ...  \n",
       "3996               15        1  \n",
       "3997                6        1  \n",
       "4001               32        1  \n",
       "4006               15        1  \n",
       "4010                7        1  \n",
       "\n",
       "[869 rows x 13 columns]"
      ]
     },
     "execution_count": 276,
     "metadata": {},
     "output_type": "execute_result"
    }
   ],
   "source": [
    "df[df['cluster']==1]"
   ]
  },
  {
   "cell_type": "code",
   "execution_count": null,
   "metadata": {
    "id": "ml98TN7N9OCE"
   },
   "outputs": [],
   "source": [
    "centroides_n = kmeans.cluster_centers_"
   ]
  },
  {
   "cell_type": "code",
   "execution_count": null,
   "metadata": {
    "colab": {
     "base_uri": "https://localhost:8080/"
    },
    "executionInfo": {
     "elapsed": 984,
     "status": "ok",
     "timestamp": 1605992548235,
     "user": {
      "displayName": "Rodrigo Veloso",
      "photoUrl": "https://lh3.googleusercontent.com/a-/AOh14Gj_Ta1_WqpgFBbio5qhoHqovB6aWW3OfNb38JIWqw=s64",
      "userId": "05542034347069006538"
     },
     "user_tz": 180
    },
    "id": "gF7T1kYuG70q",
    "outputId": "9c3ee86c-58ba-4bda-dd4d-2801671c3058"
   },
   "outputs": [
    {
     "data": {
      "text/plain": [
       "array([[0.03788158, 0.03045228, 0.41279574, 0.00534553, 0.03190653],\n",
       "       [0.04310292, 0.0783465 , 0.73078132, 0.07911353, 0.23394651]])"
      ]
     },
     "execution_count": 164,
     "metadata": {
      "tags": []
     },
     "output_type": "execute_result"
    }
   ],
   "source": [
    "centroides_n"
   ]
  },
  {
   "cell_type": "markdown",
   "metadata": {
    "id": "B1BX3ObN-oC_"
   },
   "source": [
    "Centróides não normalizados"
   ]
  },
  {
   "cell_type": "code",
   "execution_count": null,
   "metadata": {
    "id": "pp2-F06N-kEn"
   },
   "outputs": [],
   "source": [
    "centroides = centroides_n.copy()\n",
    "for i,max in enumerate(max_list):\n",
    "  centroides[:,i] = centroides_n[:,i]*(max - min_list[i]) + min_list[i]"
   ]
  },
  {
   "cell_type": "markdown",
   "metadata": {
    "id": "_imbWGroBgyz"
   },
   "source": [
    "Repare que os centroides dividem os pacientes em um grupo com mais exames, mais tempo de atendimento, maior idade, maior número de exames e maior número de problemas e outro com quantidades menores"
   ]
  },
  {
   "cell_type": "code",
   "execution_count": null,
   "metadata": {
    "colab": {
     "base_uri": "https://localhost:8080/"
    },
    "executionInfo": {
     "elapsed": 1084,
     "status": "ok",
     "timestamp": 1605992551718,
     "user": {
      "displayName": "Rodrigo Veloso",
      "photoUrl": "https://lh3.googleusercontent.com/a-/AOh14Gj_Ta1_WqpgFBbio5qhoHqovB6aWW3OfNb38JIWqw=s64",
      "userId": "05542034347069006538"
     },
     "user_tz": 180
    },
    "id": "qm8mJHfs_kJf",
    "outputId": "0717a815-79c8-47c0-ffa2-1c27638cc92a"
   },
   "outputs": [
    {
     "data": {
      "text/plain": [
       "array([[  3.84111853,   7.39497935,  37.32602479,  26.73339689,\n",
       "          2.94629806],\n",
       "       [  4.23271889,  17.45276498,  65.30875576, 381.85253456,\n",
       "         15.27073733]])"
      ]
     },
     "execution_count": 166,
     "metadata": {
      "tags": []
     },
     "output_type": "execute_result"
    }
   ],
   "source": [
    "centroides"
   ]
  },
  {
   "cell_type": "markdown",
   "metadata": {
    "id": "1DzHDH5JB62B"
   },
   "source": [
    "Todos os pacientes que vieram a óbito se encontram no mesmo grupo, e a maioria dos pacientes que tiveram alta se encontram no grupo de menores quantidades"
   ]
  },
  {
   "cell_type": "code",
   "execution_count": null,
   "metadata": {
    "id": "0fLagH0C-LEW"
   },
   "outputs": [],
   "source": [
    "cluster_o = df[df['de_desfecho']=='O']['cluster']"
   ]
  },
  {
   "cell_type": "code",
   "execution_count": null,
   "metadata": {
    "colab": {
     "base_uri": "https://localhost:8080/"
    },
    "executionInfo": {
     "elapsed": 385,
     "status": "ok",
     "timestamp": 1604724756745,
     "user": {
      "displayName": "Rodrigo Veloso",
      "photoUrl": "https://lh3.googleusercontent.com/a-/AOh14Gj_Ta1_WqpgFBbio5qhoHqovB6aWW3OfNb38JIWqw=s64",
      "userId": "05542034347069006538"
     },
     "user_tz": 180
    },
    "id": "BOgs-lnSActU",
    "outputId": "b4caaede-3db2-4f0d-cff0-d951fc8e226e"
   },
   "outputs": [
    {
     "data": {
      "text/plain": [
       "44"
      ]
     },
     "execution_count": 130,
     "metadata": {
      "tags": []
     },
     "output_type": "execute_result"
    }
   ],
   "source": [
    "len(cluster_o[cluster_o == 1])"
   ]
  },
  {
   "cell_type": "code",
   "execution_count": null,
   "metadata": {
    "id": "Z6Ea_QGgDKn9"
   },
   "outputs": [],
   "source": [
    "clusters = []\n",
    "for cluster in np.unique(kmeans.labels_):\n",
    "  clusters.append([cluster,df_cluster[df_cluster['cluster']==cluster].drop(['cluster'],axis=1)])"
   ]
  },
  {
   "cell_type": "code",
   "execution_count": null,
   "metadata": {
    "id": "fGY84h0tDpny"
   },
   "outputs": [],
   "source": [
    "dist_list = []\n",
    "dist_to_others_list = []\n",
    "n_list = []\n",
    "silhouette_list = []\n",
    "for n in range(2,15):  \n",
    "  df_cluster_ = df_cluster.copy()\n",
    "  kmeans = KMeans(n_clusters=n, random_state=10).fit(df_cluster_)\n",
    "\n",
    "  df_cluster_['cluster'] = kmeans.labels_\n",
    "  centroides_n = kmeans.cluster_centers_\n",
    "  clusters = []\n",
    "  for cluster in np.unique(kmeans.labels_):\n",
    "    clusters.append(df_cluster_[df_cluster_['cluster']==cluster].drop(['cluster'],axis=1))\n",
    "  dist = []\n",
    "  for i,cluster in enumerate(clusters):\n",
    "    dist.append(np.sum(np.sqrt(np.sum((clusters[i]-centroides_n[i])**2,axis=1))))\n",
    "  dist_list.append(np.array(dist).sum())\n",
    "  n_list.append(n)\n",
    "\n",
    "for n in range(2,15):\n",
    "  clusterer = KMeans(n_clusters=n, random_state=10)\n",
    "  cluster_labels = clusterer.fit_predict(df_cluster)\n",
    "\n",
    "    # The silhouette_score gives the average value for all the samples.\n",
    "    # This gives a perspective into the density and separation of the formed\n",
    "    # clusters\n",
    "  silhouette_avg = silhouette_score(df_cluster, cluster_labels)\n",
    "  silhouette_list.append(silhouette_avg)"
   ]
  },
  {
   "cell_type": "code",
   "execution_count": null,
   "metadata": {
    "colab": {
     "base_uri": "https://localhost:8080/"
    },
    "executionInfo": {
     "elapsed": 449,
     "status": "ok",
     "timestamp": 1604764340103,
     "user": {
      "displayName": "Rodrigo Veloso",
      "photoUrl": "https://lh3.googleusercontent.com/a-/AOh14Gj_Ta1_WqpgFBbio5qhoHqovB6aWW3OfNb38JIWqw=s64",
      "userId": "05542034347069006538"
     },
     "user_tz": 180
    },
    "id": "6EEo_zD5aIF9",
    "outputId": "222f4287-a4ac-4caf-8580-22b414636da5"
   },
   "outputs": [
    {
     "data": {
      "text/plain": [
       "[402.0915313874957, 207.34262526646637]"
      ]
     },
     "execution_count": 71,
     "metadata": {
      "tags": []
     },
     "output_type": "execute_result"
    }
   ],
   "source": [
    "dist"
   ]
  },
  {
   "cell_type": "code",
   "execution_count": null,
   "metadata": {
    "colab": {
     "base_uri": "https://localhost:8080/",
     "height": 503
    },
    "executionInfo": {
     "elapsed": 1502,
     "status": "ok",
     "timestamp": 1605991777423,
     "user": {
      "displayName": "Rodrigo Veloso",
      "photoUrl": "https://lh3.googleusercontent.com/a-/AOh14Gj_Ta1_WqpgFBbio5qhoHqovB6aWW3OfNb38JIWqw=s64",
      "userId": "05542034347069006538"
     },
     "user_tz": 180
    },
    "id": "SrkqPKeDKc3P",
    "outputId": "7feb9c21-9937-4bc6-9a22-9c24d9ebbfb6"
   },
   "outputs": [
    {
     "data": {
      "image/png": "[encoded data removed]",
      "text/plain": [
       "<Figure size 1296x720 with 2 Axes>"
      ]
     },
     "metadata": {
      "tags": []
     },
     "output_type": "display_data"
    }
   ],
   "source": [
    "import matplotlib.pyplot as plt\n",
    "\n",
    "f, ax = plt.subplots(1, 2,figsize=(18,10))\n",
    "ax[0].plot(n_list,dist_list)\n",
    "ax[0].set_xlabel('k')\n",
    "ax[0].set_ylabel('distância')\n",
    "ax[1].plot(n_list,silhouette_list)\n",
    "ax[1].set_xlabel('k')\n",
    "ax[1].set_ylabel('silhueta')\n",
    "plt.savefig(\"cluster.png\")"
   ]
  },
  {
   "cell_type": "markdown",
   "metadata": {
    "id": "yZZGN2T2SMFc"
   },
   "source": [
    "##DBSCAN##"
   ]
  },
  {
   "cell_type": "code",
   "execution_count": 8,
   "metadata": {
    "id": "C81ngCegSMFe"
   },
   "outputs": [],
   "source": [
    "from sklearn.cluster import DBSCAN"
   ]
  },
  {
   "cell_type": "code",
   "execution_count": 9,
   "metadata": {
    "id": "pyjGc3MySMF0"
   },
   "outputs": [],
   "source": [
    "df_cluster = df_cluster[np.logical_not(df_cluster['idade'].isna())]\n",
    "df = df[np.logical_not(df['idade'].isna())]"
   ]
  },
  {
   "cell_type": "markdown",
   "metadata": {
    "id": "Duy7mdp9SMF4"
   },
   "source": [
    "Normalização dos dados"
   ]
  },
  {
   "cell_type": "code",
   "execution_count": 10,
   "metadata": {
    "id": "neFQ7HLOSMF5"
   },
   "outputs": [],
   "source": [
    "from sklearn import preprocessing\n",
    "\n",
    "df_cluster_n = preprocessing.minmax_scale(df_cluster, feature_range=(0,1), axis=0, copy=True)\n",
    "\n",
    "max_list = np.max(df_cluster)\n",
    "min_list = np.min(df_cluster)\n",
    "for i, max in enumerate(max_list):\n",
    "  df_cluster.iloc[:,i] = (df_cluster.iloc[:,i] - min_list[i])/(max - min_list[i])"
   ]
  },
  {
   "cell_type": "code",
   "execution_count": null,
   "metadata": {
    "colab": {
     "base_uri": "https://localhost:8080/",
     "height": 1000
    },
    "executionInfo": {
     "elapsed": 533,
     "status": "ok",
     "timestamp": 1606062977849,
     "user": {
      "displayName": "Rodrigo Veloso",
      "photoUrl": "https://lh3.googleusercontent.com/a-/AOh14Gj_Ta1_WqpgFBbio5qhoHqovB6aWW3OfNb38JIWqw=s64",
      "userId": "05542034347069006538"
     },
     "user_tz": 180
    },
    "id": "33c3miG4zUJ_",
    "outputId": "ebe81d5d-13a2-4fb2-835b-0aba1e27e4f7"
   },
   "outputs": [
    {
     "data": {
      "text/html": [
       "<div>\n",
       "<style scoped>\n",
       "    .dataframe tbody tr th:only-of-type {\n",
       "        vertical-align: middle;\n",
       "    }\n",
       "\n",
       "    .dataframe tbody tr th {\n",
       "        vertical-align: top;\n",
       "    }\n",
       "\n",
       "    .dataframe thead th {\n",
       "        text-align: right;\n",
       "    }\n",
       "</style>\n",
       "<table border=\"1\" class=\"dataframe\">\n",
       "  <thead>\n",
       "    <tr style=\"text-align: right;\">\n",
       "      <th></th>\n",
       "      <th>Unnamed: 0</th>\n",
       "      <th>ID_PACIENTE</th>\n",
       "      <th>de_tipo_atendimento</th>\n",
       "      <th>de_desfecho</th>\n",
       "      <th>n_atendimentos</th>\n",
       "      <th>t_atendimento</th>\n",
       "      <th>IC_SEXO</th>\n",
       "      <th>idade</th>\n",
       "      <th>exames</th>\n",
       "      <th>problemas</th>\n",
       "      <th>total_exames</th>\n",
       "      <th>total_problemas</th>\n",
       "    </tr>\n",
       "  </thead>\n",
       "  <tbody>\n",
       "    <tr>\n",
       "      <th>0</th>\n",
       "      <td>2</td>\n",
       "      <td>7B03A278AD0026D4E34D0D84453A3548</td>\n",
       "      <td>Internado</td>\n",
       "      <td>O</td>\n",
       "      <td>2</td>\n",
       "      <td>30</td>\n",
       "      <td>M</td>\n",
       "      <td>84.0</td>\n",
       "      <td>Desidrogenase Lática (DHL/L),Bilirrubinas Tota...</td>\n",
       "      <td>Desidrogenase Lática (DHL/L),Bilirrubinas Tota...</td>\n",
       "      <td>1123.0</td>\n",
       "      <td>40</td>\n",
       "    </tr>\n",
       "    <tr>\n",
       "      <th>1</th>\n",
       "      <td>3</td>\n",
       "      <td>DE791245DF4FD631AD71B2B307F7835D</td>\n",
       "      <td>Internado</td>\n",
       "      <td>O</td>\n",
       "      <td>2</td>\n",
       "      <td>13</td>\n",
       "      <td>M</td>\n",
       "      <td>78.0</td>\n",
       "      <td>Desidrogenase Lática (DHL/L),Bilirrubinas Tota...</td>\n",
       "      <td>Desidrogenase Lática (DHL/L),Bilirrubinas Tota...</td>\n",
       "      <td>318.0</td>\n",
       "      <td>21</td>\n",
       "    </tr>\n",
       "    <tr>\n",
       "      <th>2</th>\n",
       "      <td>7</td>\n",
       "      <td>BB7523C235A6582C309BB3E4F8C93698</td>\n",
       "      <td>Internado</td>\n",
       "      <td>O</td>\n",
       "      <td>2</td>\n",
       "      <td>20</td>\n",
       "      <td>M</td>\n",
       "      <td>87.0</td>\n",
       "      <td>Desidrogenase Lática (DHL/L),Bilirrubinas Tota...</td>\n",
       "      <td>Desidrogenase Lática (DHL/L),Bilirrubinas Tota...</td>\n",
       "      <td>552.0</td>\n",
       "      <td>35</td>\n",
       "    </tr>\n",
       "    <tr>\n",
       "      <th>3</th>\n",
       "      <td>8</td>\n",
       "      <td>D831A012023DCACDE4E8B9483AD5A438</td>\n",
       "      <td>Internado</td>\n",
       "      <td>O</td>\n",
       "      <td>15</td>\n",
       "      <td>171</td>\n",
       "      <td>M</td>\n",
       "      <td>79.0</td>\n",
       "      <td>Desidrogenase Lática (DHL/L),Bilirrubinas Tota...</td>\n",
       "      <td>Desidrogenase Lática (DHL/L),Bilirrubinas Tota...</td>\n",
       "      <td>2130.0</td>\n",
       "      <td>40</td>\n",
       "    </tr>\n",
       "    <tr>\n",
       "      <th>4</th>\n",
       "      <td>10</td>\n",
       "      <td>F115058FEF0C6CE66E32EF72AB785F48</td>\n",
       "      <td>Internado</td>\n",
       "      <td>O</td>\n",
       "      <td>1</td>\n",
       "      <td>27</td>\n",
       "      <td>M</td>\n",
       "      <td>81.0</td>\n",
       "      <td>Desidrogenase Lática (DHL/L),Bilirrubinas Tota...</td>\n",
       "      <td>Desidrogenase Lática (DHL/L),Bilirrubinas Tota...</td>\n",
       "      <td>2481.0</td>\n",
       "      <td>37</td>\n",
       "    </tr>\n",
       "    <tr>\n",
       "      <th>5</th>\n",
       "      <td>11</td>\n",
       "      <td>169D64E25EC7AB52CEB15CC850D8814D</td>\n",
       "      <td>Internado</td>\n",
       "      <td>O</td>\n",
       "      <td>1</td>\n",
       "      <td>60</td>\n",
       "      <td>M</td>\n",
       "      <td>86.0</td>\n",
       "      <td>Desidrogenase Lática (DHL/L),Bilirrubinas Tota...</td>\n",
       "      <td>Desidrogenase Lática (DHL/L),Bilirrubinas Tota...</td>\n",
       "      <td>4023.0</td>\n",
       "      <td>47</td>\n",
       "    </tr>\n",
       "    <tr>\n",
       "      <th>6</th>\n",
       "      <td>12</td>\n",
       "      <td>BBCF1340150A86E7F6C4505EEA23F168</td>\n",
       "      <td>Internado</td>\n",
       "      <td>O</td>\n",
       "      <td>1</td>\n",
       "      <td>5</td>\n",
       "      <td>F</td>\n",
       "      <td>62.0</td>\n",
       "      <td>Desidrogenase Lática (DHL/L),Bilirrubinas Tota...</td>\n",
       "      <td>Desidrogenase Lática (DHL/L),Bilirrubinas Tota...</td>\n",
       "      <td>366.0</td>\n",
       "      <td>40</td>\n",
       "    </tr>\n",
       "    <tr>\n",
       "      <th>7</th>\n",
       "      <td>13</td>\n",
       "      <td>B36EE73FD954C998537979EE316F51D9</td>\n",
       "      <td>Internado</td>\n",
       "      <td>O</td>\n",
       "      <td>8</td>\n",
       "      <td>54</td>\n",
       "      <td>M</td>\n",
       "      <td>77.0</td>\n",
       "      <td>Desidrogenase Lática (DHL/L),Bilirrubinas Tota...</td>\n",
       "      <td>Bilirrubinas Total E Fracoes,Creatinina,Fósfor...</td>\n",
       "      <td>1319.0</td>\n",
       "      <td>42</td>\n",
       "    </tr>\n",
       "    <tr>\n",
       "      <th>8</th>\n",
       "      <td>15</td>\n",
       "      <td>A8D97425B65357AC228B9E2015DF4E3A</td>\n",
       "      <td>Internado</td>\n",
       "      <td>O</td>\n",
       "      <td>1</td>\n",
       "      <td>112</td>\n",
       "      <td>F</td>\n",
       "      <td>87.0</td>\n",
       "      <td>Desidrogenase Lática (DHL/L),Bilirrubinas Tota...</td>\n",
       "      <td>Desidrogenase Lática (DHL/L),Bilirrubinas Tota...</td>\n",
       "      <td>3172.0</td>\n",
       "      <td>34</td>\n",
       "    </tr>\n",
       "    <tr>\n",
       "      <th>9</th>\n",
       "      <td>16</td>\n",
       "      <td>E7720D72394F5FAA58A9782566269412</td>\n",
       "      <td>Internado</td>\n",
       "      <td>O</td>\n",
       "      <td>1</td>\n",
       "      <td>16</td>\n",
       "      <td>M</td>\n",
       "      <td>80.0</td>\n",
       "      <td>Desidrogenase Lática (DHL/L),Bilirrubinas Tota...</td>\n",
       "      <td>Desidrogenase Lática (DHL/L),Bilirrubinas Tota...</td>\n",
       "      <td>1256.0</td>\n",
       "      <td>34</td>\n",
       "    </tr>\n",
       "    <tr>\n",
       "      <th>10</th>\n",
       "      <td>17</td>\n",
       "      <td>ECD46F0C15A16C827E8792BAC80B71EB</td>\n",
       "      <td>Internado</td>\n",
       "      <td>O</td>\n",
       "      <td>1</td>\n",
       "      <td>5</td>\n",
       "      <td>M</td>\n",
       "      <td>87.0</td>\n",
       "      <td>Desidrogenase Lática (DHL/L),Peptideo Natriure...</td>\n",
       "      <td>Desidrogenase Lática (DHL/L),Peptideo Natriure...</td>\n",
       "      <td>173.0</td>\n",
       "      <td>21</td>\n",
       "    </tr>\n",
       "    <tr>\n",
       "      <th>11</th>\n",
       "      <td>18</td>\n",
       "      <td>D1CFB8DFAAFAA11CC2D6A1B187616206</td>\n",
       "      <td>Internado</td>\n",
       "      <td>O</td>\n",
       "      <td>40</td>\n",
       "      <td>117</td>\n",
       "      <td>M</td>\n",
       "      <td>82.0</td>\n",
       "      <td>Bilirrubinas Total E Fracoes,Magnésio (Mg),Pep...</td>\n",
       "      <td>Bilirrubinas Total E Fracoes,Magnésio (Mg),Uré...</td>\n",
       "      <td>217.0</td>\n",
       "      <td>27</td>\n",
       "    </tr>\n",
       "    <tr>\n",
       "      <th>12</th>\n",
       "      <td>19</td>\n",
       "      <td>6975D0EDFCDFE2120B72CCE3C5F7D3D1</td>\n",
       "      <td>Internado</td>\n",
       "      <td>O</td>\n",
       "      <td>6</td>\n",
       "      <td>22</td>\n",
       "      <td>M</td>\n",
       "      <td>69.0</td>\n",
       "      <td>Desidrogenase Lática (DHL/L),Bilirrubinas Tota...</td>\n",
       "      <td>Desidrogenase Lática (DHL/L),Bilirrubinas Tota...</td>\n",
       "      <td>975.0</td>\n",
       "      <td>42</td>\n",
       "    </tr>\n",
       "    <tr>\n",
       "      <th>13</th>\n",
       "      <td>22</td>\n",
       "      <td>A294A5A6D37A95390302F9CF0D845B42</td>\n",
       "      <td>Internado</td>\n",
       "      <td>O</td>\n",
       "      <td>15</td>\n",
       "      <td>100</td>\n",
       "      <td>F</td>\n",
       "      <td>75.0</td>\n",
       "      <td>Desidrogenase Lática (DHL/L),Bilirrubinas Tota...</td>\n",
       "      <td>Desidrogenase Lática (DHL/L),Bilirrubinas Tota...</td>\n",
       "      <td>1419.0</td>\n",
       "      <td>40</td>\n",
       "    </tr>\n",
       "    <tr>\n",
       "      <th>14</th>\n",
       "      <td>23</td>\n",
       "      <td>4C091376171C687316EE48307C2ECB9D</td>\n",
       "      <td>Internado</td>\n",
       "      <td>O</td>\n",
       "      <td>16</td>\n",
       "      <td>51</td>\n",
       "      <td>F</td>\n",
       "      <td>57.0</td>\n",
       "      <td>Desidrogenase Lática (DHL/L),Bilirrubinas Tota...</td>\n",
       "      <td>Desidrogenase Lática (DHL/L),Bilirrubinas Tota...</td>\n",
       "      <td>267.0</td>\n",
       "      <td>21</td>\n",
       "    </tr>\n",
       "    <tr>\n",
       "      <th>15</th>\n",
       "      <td>24</td>\n",
       "      <td>32579A7124F2312EFE43FEEF38A0B97B</td>\n",
       "      <td>Internado</td>\n",
       "      <td>O</td>\n",
       "      <td>1</td>\n",
       "      <td>9</td>\n",
       "      <td>F</td>\n",
       "      <td>79.0</td>\n",
       "      <td>Desidrogenase Lática (DHL/L),Creatinina,Potáss...</td>\n",
       "      <td>Urina,Calculo da Estimativa da Taxa de Filtrac...</td>\n",
       "      <td>75.0</td>\n",
       "      <td>17</td>\n",
       "    </tr>\n",
       "    <tr>\n",
       "      <th>16</th>\n",
       "      <td>25</td>\n",
       "      <td>FC04F0761C827D828E34F1E67CBE2A64</td>\n",
       "      <td>Internado</td>\n",
       "      <td>O</td>\n",
       "      <td>2</td>\n",
       "      <td>57</td>\n",
       "      <td>M</td>\n",
       "      <td>66.0</td>\n",
       "      <td>Desidrogenase Lática (DHL/L),Bilirrubinas Tota...</td>\n",
       "      <td>Desidrogenase Lática (DHL/L),Bilirrubinas Tota...</td>\n",
       "      <td>2562.0</td>\n",
       "      <td>40</td>\n",
       "    </tr>\n",
       "    <tr>\n",
       "      <th>17</th>\n",
       "      <td>26</td>\n",
       "      <td>9C99CBDC695DC2E7746B7B44071FAE84</td>\n",
       "      <td>Internado</td>\n",
       "      <td>O</td>\n",
       "      <td>5</td>\n",
       "      <td>23</td>\n",
       "      <td>F</td>\n",
       "      <td>89.0</td>\n",
       "      <td>Desidrogenase Lática (DHL/L),Bilirrubinas Tota...</td>\n",
       "      <td>Desidrogenase Lática (DHL/L),Bilirrubinas Tota...</td>\n",
       "      <td>123.0</td>\n",
       "      <td>21</td>\n",
       "    </tr>\n",
       "    <tr>\n",
       "      <th>18</th>\n",
       "      <td>28</td>\n",
       "      <td>0C9FA1C19238E8C3277910D80623F68D</td>\n",
       "      <td>Internado</td>\n",
       "      <td>O</td>\n",
       "      <td>5</td>\n",
       "      <td>19</td>\n",
       "      <td>F</td>\n",
       "      <td>84.0</td>\n",
       "      <td>Desidrogenase Lática (DHL/L),Bilirrubinas Tota...</td>\n",
       "      <td>Desidrogenase Lática (DHL/L),Bilirrubinas Tota...</td>\n",
       "      <td>511.0</td>\n",
       "      <td>25</td>\n",
       "    </tr>\n",
       "    <tr>\n",
       "      <th>19</th>\n",
       "      <td>29</td>\n",
       "      <td>8560A2C373BE3DCE263A4F0BD7A1CC9C</td>\n",
       "      <td>Internado</td>\n",
       "      <td>O</td>\n",
       "      <td>1</td>\n",
       "      <td>14</td>\n",
       "      <td>M</td>\n",
       "      <td>86.0</td>\n",
       "      <td>Desidrogenase Lática (DHL/L),Bilirrubinas Tota...</td>\n",
       "      <td>Desidrogenase Lática (DHL/L),Bilirrubinas Tota...</td>\n",
       "      <td>1114.0</td>\n",
       "      <td>36</td>\n",
       "    </tr>\n",
       "    <tr>\n",
       "      <th>20</th>\n",
       "      <td>32</td>\n",
       "      <td>E6CAF70D235747A639F9AAE3A3F8B6F5</td>\n",
       "      <td>Internado</td>\n",
       "      <td>O</td>\n",
       "      <td>1</td>\n",
       "      <td>40</td>\n",
       "      <td>M</td>\n",
       "      <td>75.0</td>\n",
       "      <td>Desidrogenase Lática (DHL/L),Bilirrubinas Tota...</td>\n",
       "      <td>Desidrogenase Lática (DHL/L),Bilirrubinas Tota...</td>\n",
       "      <td>3068.0</td>\n",
       "      <td>62</td>\n",
       "    </tr>\n",
       "    <tr>\n",
       "      <th>21</th>\n",
       "      <td>34</td>\n",
       "      <td>CCE2A8CF75977BC69E7E3915BFC45755</td>\n",
       "      <td>Pronto Atendimento</td>\n",
       "      <td>O</td>\n",
       "      <td>1</td>\n",
       "      <td>5</td>\n",
       "      <td>M</td>\n",
       "      <td>66.0</td>\n",
       "      <td>Desidrogenase Lática (DHL/L),Bilirrubinas Tota...</td>\n",
       "      <td>Desidrogenase Lática (DHL/L),Bilirrubinas Tota...</td>\n",
       "      <td>525.0</td>\n",
       "      <td>27</td>\n",
       "    </tr>\n",
       "    <tr>\n",
       "      <th>22</th>\n",
       "      <td>35</td>\n",
       "      <td>B77B46DF41CDB9383BEF901B807D6FF3</td>\n",
       "      <td>Internado</td>\n",
       "      <td>O</td>\n",
       "      <td>15</td>\n",
       "      <td>88</td>\n",
       "      <td>M</td>\n",
       "      <td>83.0</td>\n",
       "      <td>Creatinina,Ferritina Dosagem,Hepatite C Anti-H...</td>\n",
       "      <td>Creatinina,Ferritina Dosagem,Cloro urgente san...</td>\n",
       "      <td>204.0</td>\n",
       "      <td>21</td>\n",
       "    </tr>\n",
       "    <tr>\n",
       "      <th>23</th>\n",
       "      <td>37</td>\n",
       "      <td>E19BC67DD82AD81CB0663909059C1225</td>\n",
       "      <td>Internado</td>\n",
       "      <td>O</td>\n",
       "      <td>1</td>\n",
       "      <td>70</td>\n",
       "      <td>F</td>\n",
       "      <td>74.0</td>\n",
       "      <td>Desidrogenase Lática (DHL/L),Bilirrubinas Tota...</td>\n",
       "      <td>Desidrogenase Lática (DHL/L),Bilirrubinas Tota...</td>\n",
       "      <td>1764.0</td>\n",
       "      <td>38</td>\n",
       "    </tr>\n",
       "    <tr>\n",
       "      <th>24</th>\n",
       "      <td>38</td>\n",
       "      <td>6532AD672B061E76A6C03986C79612E5</td>\n",
       "      <td>Internado</td>\n",
       "      <td>O</td>\n",
       "      <td>5</td>\n",
       "      <td>27</td>\n",
       "      <td>M</td>\n",
       "      <td>83.0</td>\n",
       "      <td>Desidrogenase Lática (DHL/L),Bilirrubinas Tota...</td>\n",
       "      <td>Bilirrubinas Total E Fracoes,Peptideo Natriure...</td>\n",
       "      <td>518.0</td>\n",
       "      <td>26</td>\n",
       "    </tr>\n",
       "    <tr>\n",
       "      <th>25</th>\n",
       "      <td>39</td>\n",
       "      <td>05221029190B109C8BAC4474F9D639BC</td>\n",
       "      <td>Internado</td>\n",
       "      <td>O</td>\n",
       "      <td>24</td>\n",
       "      <td>74</td>\n",
       "      <td>F</td>\n",
       "      <td>48.0</td>\n",
       "      <td>Desidrogenase Lática (DHL/L),Bilirrubinas Tota...</td>\n",
       "      <td>Desidrogenase Lática (DHL/L),Bilirrubinas Tota...</td>\n",
       "      <td>649.0</td>\n",
       "      <td>29</td>\n",
       "    </tr>\n",
       "    <tr>\n",
       "      <th>26</th>\n",
       "      <td>41</td>\n",
       "      <td>0D10F8927E9D35C54291F14C852717A4</td>\n",
       "      <td>Internado</td>\n",
       "      <td>O</td>\n",
       "      <td>5</td>\n",
       "      <td>109</td>\n",
       "      <td>F</td>\n",
       "      <td>86.0</td>\n",
       "      <td>Tireostimulante (Tsh) Hormônio (Rie),Desidroge...</td>\n",
       "      <td>SSA/RO Anticorpos,Desidrogenase Lática (DHL/L)...</td>\n",
       "      <td>4479.0</td>\n",
       "      <td>59</td>\n",
       "    </tr>\n",
       "    <tr>\n",
       "      <th>27</th>\n",
       "      <td>43</td>\n",
       "      <td>7F77E63185A4DFDD8FB419BFC6FD1210</td>\n",
       "      <td>Internado</td>\n",
       "      <td>O</td>\n",
       "      <td>1</td>\n",
       "      <td>26</td>\n",
       "      <td>M</td>\n",
       "      <td>82.0</td>\n",
       "      <td>Desidrogenase Lática (DHL/L),Bilirrubinas Tota...</td>\n",
       "      <td>Desidrogenase Lática (DHL/L),Bilirrubinas Tota...</td>\n",
       "      <td>926.0</td>\n",
       "      <td>52</td>\n",
       "    </tr>\n",
       "    <tr>\n",
       "      <th>28</th>\n",
       "      <td>44</td>\n",
       "      <td>EAA22FE5D48F7EDAA883E9087F2C73E2</td>\n",
       "      <td>Internado</td>\n",
       "      <td>O</td>\n",
       "      <td>11</td>\n",
       "      <td>20</td>\n",
       "      <td>F</td>\n",
       "      <td>59.0</td>\n",
       "      <td>Desidrogenase Lática (DHL/L),Bilirrubinas Tota...</td>\n",
       "      <td>Desidrogenase Lática (DHL/L),Bilirrubinas Tota...</td>\n",
       "      <td>329.0</td>\n",
       "      <td>29</td>\n",
       "    </tr>\n",
       "  </tbody>\n",
       "</table>\n",
       "</div>"
      ],
      "text/plain": [
       "    Unnamed: 0                       ID_PACIENTE  ... total_exames total_problemas\n",
       "0            2  7B03A278AD0026D4E34D0D84453A3548  ...       1123.0              40\n",
       "1            3  DE791245DF4FD631AD71B2B307F7835D  ...        318.0              21\n",
       "2            7  BB7523C235A6582C309BB3E4F8C93698  ...        552.0              35\n",
       "3            8  D831A012023DCACDE4E8B9483AD5A438  ...       2130.0              40\n",
       "4           10  F115058FEF0C6CE66E32EF72AB785F48  ...       2481.0              37\n",
       "5           11  169D64E25EC7AB52CEB15CC850D8814D  ...       4023.0              47\n",
       "6           12  BBCF1340150A86E7F6C4505EEA23F168  ...        366.0              40\n",
       "7           13  B36EE73FD954C998537979EE316F51D9  ...       1319.0              42\n",
       "8           15  A8D97425B65357AC228B9E2015DF4E3A  ...       3172.0              34\n",
       "9           16  E7720D72394F5FAA58A9782566269412  ...       1256.0              34\n",
       "10          17  ECD46F0C15A16C827E8792BAC80B71EB  ...        173.0              21\n",
       "11          18  D1CFB8DFAAFAA11CC2D6A1B187616206  ...        217.0              27\n",
       "12          19  6975D0EDFCDFE2120B72CCE3C5F7D3D1  ...        975.0              42\n",
       "13          22  A294A5A6D37A95390302F9CF0D845B42  ...       1419.0              40\n",
       "14          23  4C091376171C687316EE48307C2ECB9D  ...        267.0              21\n",
       "15          24  32579A7124F2312EFE43FEEF38A0B97B  ...         75.0              17\n",
       "16          25  FC04F0761C827D828E34F1E67CBE2A64  ...       2562.0              40\n",
       "17          26  9C99CBDC695DC2E7746B7B44071FAE84  ...        123.0              21\n",
       "18          28  0C9FA1C19238E8C3277910D80623F68D  ...        511.0              25\n",
       "19          29  8560A2C373BE3DCE263A4F0BD7A1CC9C  ...       1114.0              36\n",
       "20          32  E6CAF70D235747A639F9AAE3A3F8B6F5  ...       3068.0              62\n",
       "21          34  CCE2A8CF75977BC69E7E3915BFC45755  ...        525.0              27\n",
       "22          35  B77B46DF41CDB9383BEF901B807D6FF3  ...        204.0              21\n",
       "23          37  E19BC67DD82AD81CB0663909059C1225  ...       1764.0              38\n",
       "24          38  6532AD672B061E76A6C03986C79612E5  ...        518.0              26\n",
       "25          39  05221029190B109C8BAC4474F9D639BC  ...        649.0              29\n",
       "26          41  0D10F8927E9D35C54291F14C852717A4  ...       4479.0              59\n",
       "27          43  7F77E63185A4DFDD8FB419BFC6FD1210  ...        926.0              52\n",
       "28          44  EAA22FE5D48F7EDAA883E9087F2C73E2  ...        329.0              29\n",
       "\n",
       "[29 rows x 12 columns]"
      ]
     },
     "execution_count": 13,
     "metadata": {
      "tags": []
     },
     "output_type": "execute_result"
    }
   ],
   "source": [
    "df[df['de_desfecho']=='O']"
   ]
  },
  {
   "cell_type": "markdown",
   "metadata": {
    "id": "mAU-rSmcSMGB"
   },
   "source": [
    "Criação dos clusters"
   ]
  },
  {
   "cell_type": "code",
   "execution_count": 243,
   "metadata": {
    "id": "XAsw8aj_SMGB"
   },
   "outputs": [],
   "source": [
    "#r_list = [1.0,0.75,0.5,0.25,0.1,0.075,0.05,0.025,0.01,0.0075,0.005,0.0025,0.001,0.0001]\n",
    "r_list = [1.0,0.8,0.6,0.4,0.2,0.1,0.08,0.06,0.04,0.02,0.01,0.008,0.006,0.004,0.002,0.001,0.0001]\n",
    "label_list = []\n",
    "labels = []\n",
    "for r in r_list:\n",
    "  dbscan = DBSCAN(eps=r, min_samples=150).fit(df_cluster)\n",
    "  labels.append(dbscan.labels_)\n",
    "  label_list.append(np.unique(dbscan.labels_))"
   ]
  },
  {
   "cell_type": "code",
   "execution_count": 244,
   "metadata": {
    "id": "-CoVefI5SMGJ"
   },
   "outputs": [],
   "source": [
    "df['cluster'] = dbscan.labels_"
   ]
  },
  {
   "cell_type": "code",
   "execution_count": 245,
   "metadata": {},
   "outputs": [
    {
     "data": {
      "text/plain": [
       "[1.0,\n",
       " 0.8,\n",
       " 0.6,\n",
       " 0.4,\n",
       " 0.2,\n",
       " 0.1,\n",
       " 0.08,\n",
       " 0.06,\n",
       " 0.04,\n",
       " 0.02,\n",
       " 0.01,\n",
       " 0.008,\n",
       " 0.006,\n",
       " 0.004,\n",
       " 0.002,\n",
       " 0.001,\n",
       " 0.0001]"
      ]
     },
     "execution_count": 245,
     "metadata": {},
     "output_type": "execute_result"
    }
   ],
   "source": [
    "r_list"
   ]
  },
  {
   "cell_type": "code",
   "execution_count": 246,
   "metadata": {
    "colab": {
     "base_uri": "https://localhost:8080/"
    },
    "executionInfo": {
     "elapsed": 440,
     "status": "ok",
     "timestamp": 1606019746313,
     "user": {
      "displayName": "Rodrigo Veloso",
      "photoUrl": "https://lh3.googleusercontent.com/a-/AOh14Gj_Ta1_WqpgFBbio5qhoHqovB6aWW3OfNb38JIWqw=s64",
      "userId": "05542034347069006538"
     },
     "user_tz": 180
    },
    "id": "LKjhgIo_PAfO",
    "outputId": "6cb671be-55bf-45f2-b0f1-0d1803e80c01"
   },
   "outputs": [
    {
     "data": {
      "text/plain": [
       "4015"
      ]
     },
     "execution_count": 246,
     "metadata": {},
     "output_type": "execute_result"
    }
   ],
   "source": [
    "len(dbscan.labels_)"
   ]
  },
  {
   "cell_type": "code",
   "execution_count": 247,
   "metadata": {
    "colab": {
     "base_uri": "https://localhost:8080/"
    },
    "executionInfo": {
     "elapsed": 511,
     "status": "ok",
     "timestamp": 1606068426605,
     "user": {
      "displayName": "Rodrigo Veloso",
      "photoUrl": "https://lh3.googleusercontent.com/a-/AOh14Gj_Ta1_WqpgFBbio5qhoHqovB6aWW3OfNb38JIWqw=s64",
      "userId": "05542034347069006538"
     },
     "user_tz": 180
    },
    "id": "PXlcQLFAI0sJ",
    "outputId": "22663b18-44b8-4b79-bd60-1f7f245a1b04"
   },
   "outputs": [
    {
     "data": {
      "text/plain": [
       "[array([0, 0, 0, ..., 0, 0, 0]),\n",
       " array([0, 0, 0, ..., 0, 0, 0]),\n",
       " array([0, 0, 0, ..., 0, 0, 0]),\n",
       " array([0, 0, 0, ..., 0, 0, 0]),\n",
       " array([-1,  0, -1, ...,  0,  0,  0]),\n",
       " array([-1, -1, -1, ...,  0,  0,  0]),\n",
       " array([-1, -1, -1, ...,  0,  0,  0]),\n",
       " array([-1, -1, -1, ...,  0,  0,  0]),\n",
       " array([-1, -1, -1, ...,  0,  0, -1]),\n",
       " array([-1, -1, -1, ..., -1, -1, -1]),\n",
       " array([-1, -1, -1, ..., -1, -1, -1]),\n",
       " array([-1, -1, -1, ..., -1, -1, -1]),\n",
       " array([-1, -1, -1, ..., -1, -1, -1]),\n",
       " array([-1, -1, -1, ..., -1, -1, -1]),\n",
       " array([-1, -1, -1, ..., -1, -1, -1]),\n",
       " array([-1, -1, -1, ..., -1, -1, -1]),\n",
       " array([-1, -1, -1, ..., -1, -1, -1])]"
      ]
     },
     "execution_count": 247,
     "metadata": {},
     "output_type": "execute_result"
    }
   ],
   "source": [
    "labels"
   ]
  },
  {
   "cell_type": "markdown",
   "metadata": {
    "id": "YIZE-uSjSMGM"
   },
   "source": [
    "Centróides"
   ]
  },
  {
   "cell_type": "code",
   "execution_count": 248,
   "metadata": {},
   "outputs": [
    {
     "data": {
      "text/plain": [
       "[array([0]),\n",
       " array([0]),\n",
       " array([-1,  0]),\n",
       " array([-1,  0]),\n",
       " array([-1,  0]),\n",
       " array([-1,  0]),\n",
       " array([-1,  0]),\n",
       " array([-1,  0]),\n",
       " array([-1,  0]),\n",
       " array([-1,  0]),\n",
       " array([-1]),\n",
       " array([-1]),\n",
       " array([-1]),\n",
       " array([-1]),\n",
       " array([-1]),\n",
       " array([-1]),\n",
       " array([-1])]"
      ]
     },
     "execution_count": 248,
     "metadata": {},
     "output_type": "execute_result"
    }
   ],
   "source": [
    "label_list"
   ]
  },
  {
   "cell_type": "code",
   "execution_count": 249,
   "metadata": {
    "id": "PEYa4K3Y0WY4"
   },
   "outputs": [],
   "source": [
    "\n",
    "number_clusters = []\n",
    "noise_list = []\n",
    "for label in label_list:\n",
    "    if -1 in label:\n",
    "        number_clusters.append(len(label)-1)\n",
    "    else:\n",
    "        number_clusters.append(len(label))\n",
    "for label in labels:\n",
    "    if -1 in label:\n",
    "        noise_list.append(len(label[label==-1]))\n",
    "    else:\n",
    "        noise_list.append(0)"
   ]
  },
  {
   "cell_type": "code",
   "execution_count": 250,
   "metadata": {
    "colab": {
     "base_uri": "https://localhost:8080/"
    },
    "executionInfo": {
     "elapsed": 614,
     "status": "ok",
     "timestamp": 1606068525547,
     "user": {
      "displayName": "Rodrigo Veloso",
      "photoUrl": "https://lh3.googleusercontent.com/a-/AOh14Gj_Ta1_WqpgFBbio5qhoHqovB6aWW3OfNb38JIWqw=s64",
      "userId": "05542034347069006538"
     },
     "user_tz": 180
    },
    "id": "_Sk6f3S9JMld",
    "outputId": "a2e8475e-63e4-4d95-974f-1497174339d0"
   },
   "outputs": [
    {
     "data": {
      "text/plain": [
       "[0,\n",
       " 0,\n",
       " 3,\n",
       " 20,\n",
       " 132,\n",
       " 563,\n",
       " 820,\n",
       " 1282,\n",
       " 2166,\n",
       " 3814,\n",
       " 4015,\n",
       " 4015,\n",
       " 4015,\n",
       " 4015,\n",
       " 4015,\n",
       " 4015,\n",
       " 4015]"
      ]
     },
     "execution_count": 250,
     "metadata": {},
     "output_type": "execute_result"
    }
   ],
   "source": [
    "noise_list"
   ]
  },
  {
   "cell_type": "code",
   "execution_count": 251,
   "metadata": {
    "colab": {
     "base_uri": "https://localhost:8080/"
    },
    "executionInfo": {
     "elapsed": 534,
     "status": "ok",
     "timestamp": 1606068781335,
     "user": {
      "displayName": "Rodrigo Veloso",
      "photoUrl": "https://lh3.googleusercontent.com/a-/AOh14Gj_Ta1_WqpgFBbio5qhoHqovB6aWW3OfNb38JIWqw=s64",
      "userId": "05542034347069006538"
     },
     "user_tz": 180
    },
    "id": "dG2t6Do8KJr6",
    "outputId": "9e3791ee-718f-45ee-ace2-4a2ce3ed83af"
   },
   "outputs": [
    {
     "data": {
      "text/plain": [
       "1"
      ]
     },
     "execution_count": 251,
     "metadata": {},
     "output_type": "execute_result"
    }
   ],
   "source": [
    "number_clusters[6]"
   ]
  },
  {
   "cell_type": "code",
   "execution_count": 252,
   "metadata": {
    "colab": {
     "base_uri": "https://localhost:8080/",
     "height": 472
    },
    "executionInfo": {
     "elapsed": 1549,
     "status": "ok",
     "timestamp": 1606070799896,
     "user": {
      "displayName": "Rodrigo Veloso",
      "photoUrl": "https://lh3.googleusercontent.com/a-/AOh14Gj_Ta1_WqpgFBbio5qhoHqovB6aWW3OfNb38JIWqw=s64",
      "userId": "05542034347069006538"
     },
     "user_tz": 180
    },
    "id": "n5s-5sBxKkrK",
    "outputId": "663c70bb-3165-4cbb-a56e-5b1155e0169d"
   },
   "outputs": [
    {
     "data": {
      "image/png": "[encoded data removed]",
      "text/plain": [
       "<Figure size 1440x720 with 2 Axes>"
      ]
     },
     "metadata": {
      "needs_background": "light"
     },
     "output_type": "display_data"
    }
   ],
   "source": [
    "f, ax = plt.subplots(1, 2, figsize=(20,10))\n",
    "\n",
    "ax[0].plot(r_list, noise_list)\n",
    "ax[0].set_xscale('log')\n",
    "ax[0].set_ylabel('ruído', size = 15)\n",
    "ax[0].set_xlabel('r', size = 15)\n",
    "ax[0].tick_params(axis=\"x\", labelsize=15)\n",
    "ax[0].tick_params(axis=\"y\", labelsize=15)\n",
    "#ax[0].set_xlim(-1, max(depth_list) + max(depth_list) * 0.02)\n",
    "#ax[0].set_ylim(0.70, 1)\n",
    "#ax[0].set_ylim(min(mean_scores) - min(mean_scores) * 0.02, max(mean_scores) + max(mean_scores) * 0.02)\n",
    "ax[1].plot(r_list, number_clusters)\n",
    "ax[1].set_xscale('log')\n",
    "ax[1].set_ylabel('clusters', size = 15)\n",
    "ax[1].set_xlabel('r', size = 15)\n",
    "ax[1].tick_params(axis=\"x\", labelsize=15)\n",
    "ax[1].tick_params(axis=\"y\", labelsize=15)\n",
    "\n",
    "plt.savefig(\"dbscan_150.png\")"
   ]
  },
  {
   "cell_type": "code",
   "execution_count": 171,
   "metadata": {},
   "outputs": [],
   "source": [
    "df['cluster'] = labels[9]"
   ]
  },
  {
   "cell_type": "code",
   "execution_count": 180,
   "metadata": {},
   "outputs": [
    {
     "data": {
      "text/plain": [
       "count    51.000000\n",
       "mean     55.960784\n",
       "std       0.773583\n",
       "min      55.000000\n",
       "25%      55.000000\n",
       "50%      56.000000\n",
       "75%      57.000000\n",
       "max      57.000000\n",
       "Name: idade, dtype: float64"
      ]
     },
     "execution_count": 180,
     "metadata": {},
     "output_type": "execute_result"
    }
   ],
   "source": [
    "#df[df['cluster']==0]['n_atendimentos'].describe()\n",
    "#df[df['cluster']==0]['t_atendimento'].describe()\n",
    "df[df['cluster']==1]['idade'].describe()\n",
    "#df[df['cluster']==1]['total_exames'].describe()\n",
    "#df[df['cluster']==1]['total_problemas'].describe()"
   ]
  },
  {
   "cell_type": "code",
   "execution_count": 59,
   "metadata": {},
   "outputs": [
    {
     "data": {
      "text/html": [
       "<div>\n",
       "<style scoped>\n",
       "    .dataframe tbody tr th:only-of-type {\n",
       "        vertical-align: middle;\n",
       "    }\n",
       "\n",
       "    .dataframe tbody tr th {\n",
       "        vertical-align: top;\n",
       "    }\n",
       "\n",
       "    .dataframe thead th {\n",
       "        text-align: right;\n",
       "    }\n",
       "</style>\n",
       "<table border=\"1\" class=\"dataframe\">\n",
       "  <thead>\n",
       "    <tr style=\"text-align: right;\">\n",
       "      <th></th>\n",
       "      <th>n_atendimentos</th>\n",
       "      <th>t_atendimento</th>\n",
       "      <th>idade</th>\n",
       "      <th>total_exames</th>\n",
       "      <th>total_problemas</th>\n",
       "    </tr>\n",
       "  </thead>\n",
       "  <tbody>\n",
       "    <tr>\n",
       "      <th>0</th>\n",
       "      <td>0.013333</td>\n",
       "      <td>0.138095</td>\n",
       "      <td>0.943182</td>\n",
       "      <td>0.233070</td>\n",
       "      <td>0.639344</td>\n",
       "    </tr>\n",
       "    <tr>\n",
       "      <th>1</th>\n",
       "      <td>0.013333</td>\n",
       "      <td>0.057143</td>\n",
       "      <td>0.875000</td>\n",
       "      <td>0.065850</td>\n",
       "      <td>0.327869</td>\n",
       "    </tr>\n",
       "    <tr>\n",
       "      <th>2</th>\n",
       "      <td>0.013333</td>\n",
       "      <td>0.090476</td>\n",
       "      <td>0.977273</td>\n",
       "      <td>0.114458</td>\n",
       "      <td>0.557377</td>\n",
       "    </tr>\n",
       "    <tr>\n",
       "      <th>3</th>\n",
       "      <td>0.186667</td>\n",
       "      <td>0.809524</td>\n",
       "      <td>0.886364</td>\n",
       "      <td>0.442252</td>\n",
       "      <td>0.639344</td>\n",
       "    </tr>\n",
       "    <tr>\n",
       "      <th>4</th>\n",
       "      <td>0.000000</td>\n",
       "      <td>0.123810</td>\n",
       "      <td>0.909091</td>\n",
       "      <td>0.515164</td>\n",
       "      <td>0.590164</td>\n",
       "    </tr>\n",
       "    <tr>\n",
       "      <th>...</th>\n",
       "      <td>...</td>\n",
       "      <td>...</td>\n",
       "      <td>...</td>\n",
       "      <td>...</td>\n",
       "      <td>...</td>\n",
       "    </tr>\n",
       "    <tr>\n",
       "      <th>4010</th>\n",
       "      <td>0.000000</td>\n",
       "      <td>0.019048</td>\n",
       "      <td>1.000000</td>\n",
       "      <td>0.015372</td>\n",
       "      <td>0.098361</td>\n",
       "    </tr>\n",
       "    <tr>\n",
       "      <th>4011</th>\n",
       "      <td>0.013333</td>\n",
       "      <td>0.004762</td>\n",
       "      <td>0.306818</td>\n",
       "      <td>0.000000</td>\n",
       "      <td>0.000000</td>\n",
       "    </tr>\n",
       "    <tr>\n",
       "      <th>4012</th>\n",
       "      <td>0.053333</td>\n",
       "      <td>0.019048</td>\n",
       "      <td>0.284091</td>\n",
       "      <td>0.000208</td>\n",
       "      <td>0.000000</td>\n",
       "    </tr>\n",
       "    <tr>\n",
       "      <th>4013</th>\n",
       "      <td>0.066667</td>\n",
       "      <td>0.023810</td>\n",
       "      <td>0.295455</td>\n",
       "      <td>0.000000</td>\n",
       "      <td>0.000000</td>\n",
       "    </tr>\n",
       "    <tr>\n",
       "      <th>4014</th>\n",
       "      <td>0.040000</td>\n",
       "      <td>0.014286</td>\n",
       "      <td>0.579545</td>\n",
       "      <td>0.008309</td>\n",
       "      <td>0.081967</td>\n",
       "    </tr>\n",
       "  </tbody>\n",
       "</table>\n",
       "<p>4015 rows × 5 columns</p>\n",
       "</div>"
      ],
      "text/plain": [
       "      n_atendimentos  t_atendimento     idade  total_exames  total_problemas\n",
       "0           0.013333       0.138095  0.943182      0.233070         0.639344\n",
       "1           0.013333       0.057143  0.875000      0.065850         0.327869\n",
       "2           0.013333       0.090476  0.977273      0.114458         0.557377\n",
       "3           0.186667       0.809524  0.886364      0.442252         0.639344\n",
       "4           0.000000       0.123810  0.909091      0.515164         0.590164\n",
       "...              ...            ...       ...           ...              ...\n",
       "4010        0.000000       0.019048  1.000000      0.015372         0.098361\n",
       "4011        0.013333       0.004762  0.306818      0.000000         0.000000\n",
       "4012        0.053333       0.019048  0.284091      0.000208         0.000000\n",
       "4013        0.066667       0.023810  0.295455      0.000000         0.000000\n",
       "4014        0.040000       0.014286  0.579545      0.008309         0.081967\n",
       "\n",
       "[4015 rows x 5 columns]"
      ]
     },
     "execution_count": 59,
     "metadata": {},
     "output_type": "execute_result"
    }
   ],
   "source": [
    "df_cluster"
   ]
  },
  {
   "cell_type": "code",
   "execution_count": null,
   "metadata": {
    "colab": {
     "base_uri": "https://localhost:8080/"
    },
    "executionInfo": {
     "elapsed": 608,
     "status": "ok",
     "timestamp": 1606020031952,
     "user": {
      "displayName": "Rodrigo Veloso",
      "photoUrl": "https://lh3.googleusercontent.com/a-/AOh14Gj_Ta1_WqpgFBbio5qhoHqovB6aWW3OfNb38JIWqw=s64",
      "userId": "05542034347069006538"
     },
     "user_tz": 180
    },
    "id": "BPk_nFxbSMGN",
    "outputId": "1d732fcc-1b67-423b-d7f3-22f856212c7a"
   },
   "outputs": [
    {
     "data": {
      "text/plain": [
       "array([0])"
      ]
     },
     "execution_count": 368,
     "metadata": {
      "tags": []
     },
     "output_type": "execute_result"
    }
   ],
   "source": [
    "np.unique(dbscan.labels_)"
   ]
  },
  {
   "cell_type": "markdown",
   "metadata": {
    "id": "xHgOqbUTSMGU"
   },
   "source": [
    "Centróides não normalizados"
   ]
  },
  {
   "cell_type": "code",
   "execution_count": null,
   "metadata": {
    "colab": {
     "base_uri": "https://localhost:8080/"
    },
    "executionInfo": {
     "elapsed": 446,
     "status": "ok",
     "timestamp": 1606019701294,
     "user": {
      "displayName": "Rodrigo Veloso",
      "photoUrl": "https://lh3.googleusercontent.com/a-/AOh14Gj_Ta1_WqpgFBbio5qhoHqovB6aWW3OfNb38JIWqw=s64",
      "userId": "05542034347069006538"
     },
     "user_tz": 180
    },
    "id": "M47L64QlYtaq",
    "outputId": "7d57bae0-cfec-4d48-954c-f9d3babf2988"
   },
   "outputs": [
    {
     "data": {
      "text/plain": [
       "array([-1])"
      ]
     },
     "execution_count": 344,
     "metadata": {
      "tags": []
     },
     "output_type": "execute_result"
    }
   ],
   "source": [
    "df['cluster'].unique()"
   ]
  },
  {
   "cell_type": "code",
   "execution_count": null,
   "metadata": {
    "colab": {
     "base_uri": "https://localhost:8080/",
     "height": 1000
    },
    "executionInfo": {
     "elapsed": 621,
     "status": "ok",
     "timestamp": 1604798050420,
     "user": {
      "displayName": "Rodrigo Veloso",
      "photoUrl": "https://lh3.googleusercontent.com/a-/AOh14Gj_Ta1_WqpgFBbio5qhoHqovB6aWW3OfNb38JIWqw=s64",
      "userId": "05542034347069006538"
     },
     "user_tz": 180
    },
    "id": "YccDUQESZbYa",
    "outputId": "72cd5feb-1ae7-46c6-b552-463bfe15edba"
   },
   "outputs": [
    {
     "data": {
      "text/html": [
       "<div>\n",
       "<style scoped>\n",
       "    .dataframe tbody tr th:only-of-type {\n",
       "        vertical-align: middle;\n",
       "    }\n",
       "\n",
       "    .dataframe tbody tr th {\n",
       "        vertical-align: top;\n",
       "    }\n",
       "\n",
       "    .dataframe thead th {\n",
       "        text-align: right;\n",
       "    }\n",
       "</style>\n",
       "<table border=\"1\" class=\"dataframe\">\n",
       "  <thead>\n",
       "    <tr style=\"text-align: right;\">\n",
       "      <th></th>\n",
       "      <th>Unnamed: 0</th>\n",
       "      <th>ID_PACIENTE</th>\n",
       "      <th>de_tipo_atendimento</th>\n",
       "      <th>de_desfecho</th>\n",
       "      <th>n_atendimentos</th>\n",
       "      <th>t_atendimento</th>\n",
       "      <th>IC_SEXO</th>\n",
       "      <th>idade</th>\n",
       "      <th>exames</th>\n",
       "      <th>problemas</th>\n",
       "      <th>total_exames</th>\n",
       "      <th>total_problemas</th>\n",
       "      <th>cluster</th>\n",
       "    </tr>\n",
       "  </thead>\n",
       "  <tbody>\n",
       "    <tr>\n",
       "      <th>0</th>\n",
       "      <td>0</td>\n",
       "      <td>BA74194B979B086198794D1470107709</td>\n",
       "      <td>Internado</td>\n",
       "      <td>O</td>\n",
       "      <td>1</td>\n",
       "      <td>11</td>\n",
       "      <td>M</td>\n",
       "      <td>70.0</td>\n",
       "      <td>Tempo E Ativid. Protrombina (Tp),Tsh - Hormoni...</td>\n",
       "      <td>Tempo E Ativid. Protrombina (Tp),Desidrogenase...</td>\n",
       "      <td>523.0</td>\n",
       "      <td>31</td>\n",
       "      <td>-1</td>\n",
       "    </tr>\n",
       "    <tr>\n",
       "      <th>1</th>\n",
       "      <td>2</td>\n",
       "      <td>7B03A278AD0026D4E34D0D84453A3548</td>\n",
       "      <td>Internado</td>\n",
       "      <td>O</td>\n",
       "      <td>2</td>\n",
       "      <td>30</td>\n",
       "      <td>M</td>\n",
       "      <td>84.0</td>\n",
       "      <td>Urina,Tempo E Ativid. Protrombina (Tp),Tsh - H...</td>\n",
       "      <td>Urina,Tempo E Ativid. Protrombina (Tp),Acido F...</td>\n",
       "      <td>1123.0</td>\n",
       "      <td>40</td>\n",
       "      <td>-1</td>\n",
       "    </tr>\n",
       "    <tr>\n",
       "      <th>2</th>\n",
       "      <td>3</td>\n",
       "      <td>DE791245DF4FD631AD71B2B307F7835D</td>\n",
       "      <td>Internado</td>\n",
       "      <td>O</td>\n",
       "      <td>2</td>\n",
       "      <td>13</td>\n",
       "      <td>M</td>\n",
       "      <td>78.0</td>\n",
       "      <td>Urina,Tempo E Ativid. Protrombina (Tp),Tsh - H...</td>\n",
       "      <td>Urina,Tempo E Ativid. Protrombina (Tp),Desidro...</td>\n",
       "      <td>318.0</td>\n",
       "      <td>21</td>\n",
       "      <td>-1</td>\n",
       "    </tr>\n",
       "    <tr>\n",
       "      <th>3</th>\n",
       "      <td>4</td>\n",
       "      <td>44DA670729D76F0264E6066E2E42CF45</td>\n",
       "      <td>Internado</td>\n",
       "      <td>O</td>\n",
       "      <td>2</td>\n",
       "      <td>66</td>\n",
       "      <td>M</td>\n",
       "      <td>85.0</td>\n",
       "      <td>Urina,Tempo E Ativid. Protrombina (Tp),Tsh - H...</td>\n",
       "      <td>Urina,Tempo E Ativid. Protrombina (Tp),Tsh - H...</td>\n",
       "      <td>3097.0</td>\n",
       "      <td>42</td>\n",
       "      <td>-1</td>\n",
       "    </tr>\n",
       "    <tr>\n",
       "      <th>4</th>\n",
       "      <td>5</td>\n",
       "      <td>A6567EA4CB76E002B7BEADD005279297</td>\n",
       "      <td>Internado</td>\n",
       "      <td>O</td>\n",
       "      <td>1</td>\n",
       "      <td>34</td>\n",
       "      <td>M</td>\n",
       "      <td>84.0</td>\n",
       "      <td>Urina,Tempo E Ativid. Protrombina (Tp),Tsh - H...</td>\n",
       "      <td>Urina,Tempo E Ativid. Protrombina (Tp),Desidro...</td>\n",
       "      <td>1431.0</td>\n",
       "      <td>27</td>\n",
       "      <td>-1</td>\n",
       "    </tr>\n",
       "    <tr>\n",
       "      <th>5</th>\n",
       "      <td>6</td>\n",
       "      <td>BA0E361A24C2CE6AC5582C3A0596EC16</td>\n",
       "      <td>Internado</td>\n",
       "      <td>O</td>\n",
       "      <td>9</td>\n",
       "      <td>30</td>\n",
       "      <td>M</td>\n",
       "      <td>75.0</td>\n",
       "      <td>Urina,Tempo E Ativid. Protrombina (Tp),Hemoglo...</td>\n",
       "      <td>Urina,Tempo E Ativid. Protrombina (Tp),Hemoglo...</td>\n",
       "      <td>695.0</td>\n",
       "      <td>28</td>\n",
       "      <td>-1</td>\n",
       "    </tr>\n",
       "    <tr>\n",
       "      <th>6</th>\n",
       "      <td>7</td>\n",
       "      <td>BB7523C235A6582C309BB3E4F8C93698</td>\n",
       "      <td>Internado</td>\n",
       "      <td>O</td>\n",
       "      <td>2</td>\n",
       "      <td>20</td>\n",
       "      <td>M</td>\n",
       "      <td>87.0</td>\n",
       "      <td>Urina,Tempo E Ativid. Protrombina (Tp),Tsh - H...</td>\n",
       "      <td>Urina,Tempo E Ativid. Protrombina (Tp),Desidro...</td>\n",
       "      <td>552.0</td>\n",
       "      <td>35</td>\n",
       "      <td>-1</td>\n",
       "    </tr>\n",
       "    <tr>\n",
       "      <th>7</th>\n",
       "      <td>8</td>\n",
       "      <td>D831A012023DCACDE4E8B9483AD5A438</td>\n",
       "      <td>Internado</td>\n",
       "      <td>O</td>\n",
       "      <td>15</td>\n",
       "      <td>171</td>\n",
       "      <td>M</td>\n",
       "      <td>79.0</td>\n",
       "      <td>Urina,Tempo E Ativid. Protrombina (Tp),Tsh - H...</td>\n",
       "      <td>Urina,Tempo E Ativid. Protrombina (Tp),Tsh - H...</td>\n",
       "      <td>2130.0</td>\n",
       "      <td>40</td>\n",
       "      <td>-1</td>\n",
       "    </tr>\n",
       "    <tr>\n",
       "      <th>8</th>\n",
       "      <td>9</td>\n",
       "      <td>21B87DA0B5E900224D034469833D5FE5</td>\n",
       "      <td>Internado</td>\n",
       "      <td>O</td>\n",
       "      <td>1</td>\n",
       "      <td>10</td>\n",
       "      <td>M</td>\n",
       "      <td>69.0</td>\n",
       "      <td>Urina,Tempo E Ativid. Protrombina (Tp),Desidro...</td>\n",
       "      <td>Calculo da Estimativa da Taxa de Filtracao Glo...</td>\n",
       "      <td>279.0</td>\n",
       "      <td>18</td>\n",
       "      <td>-1</td>\n",
       "    </tr>\n",
       "    <tr>\n",
       "      <th>9</th>\n",
       "      <td>10</td>\n",
       "      <td>F115058FEF0C6CE66E32EF72AB785F48</td>\n",
       "      <td>Internado</td>\n",
       "      <td>O</td>\n",
       "      <td>1</td>\n",
       "      <td>27</td>\n",
       "      <td>M</td>\n",
       "      <td>81.0</td>\n",
       "      <td>Urina,Tempo E Ativid. Protrombina (Tp),Tsh - H...</td>\n",
       "      <td>Urina,Tempo E Ativid. Protrombina (Tp),Desidro...</td>\n",
       "      <td>2481.0</td>\n",
       "      <td>37</td>\n",
       "      <td>-1</td>\n",
       "    </tr>\n",
       "    <tr>\n",
       "      <th>10</th>\n",
       "      <td>11</td>\n",
       "      <td>169D64E25EC7AB52CEB15CC850D8814D</td>\n",
       "      <td>Internado</td>\n",
       "      <td>O</td>\n",
       "      <td>1</td>\n",
       "      <td>60</td>\n",
       "      <td>M</td>\n",
       "      <td>86.0</td>\n",
       "      <td>Urina,Tempo E Ativid. Protrombina (Tp),Tsh - H...</td>\n",
       "      <td>Urina,Tempo E Ativid. Protrombina (Tp),Tsh - H...</td>\n",
       "      <td>4023.0</td>\n",
       "      <td>47</td>\n",
       "      <td>-1</td>\n",
       "    </tr>\n",
       "    <tr>\n",
       "      <th>11</th>\n",
       "      <td>12</td>\n",
       "      <td>BBCF1340150A86E7F6C4505EEA23F168</td>\n",
       "      <td>Internado</td>\n",
       "      <td>O</td>\n",
       "      <td>1</td>\n",
       "      <td>5</td>\n",
       "      <td>F</td>\n",
       "      <td>62.0</td>\n",
       "      <td>Fator de crescimento do endotélio vascular (VE...</td>\n",
       "      <td>Fator de crescimento do endotélio vascular (VE...</td>\n",
       "      <td>366.0</td>\n",
       "      <td>40</td>\n",
       "      <td>-1</td>\n",
       "    </tr>\n",
       "    <tr>\n",
       "      <th>12</th>\n",
       "      <td>13</td>\n",
       "      <td>B36EE73FD954C998537979EE316F51D9</td>\n",
       "      <td>Internado</td>\n",
       "      <td>O</td>\n",
       "      <td>8</td>\n",
       "      <td>54</td>\n",
       "      <td>M</td>\n",
       "      <td>77.0</td>\n",
       "      <td>Urina,Tempo E Ativid. Protrombina (Tp),Tsh - H...</td>\n",
       "      <td>Urina,Tempo E Ativid. Protrombina (Tp),Tsh - H...</td>\n",
       "      <td>1319.0</td>\n",
       "      <td>42</td>\n",
       "      <td>-1</td>\n",
       "    </tr>\n",
       "    <tr>\n",
       "      <th>13</th>\n",
       "      <td>14</td>\n",
       "      <td>5429FB8F50B636AD33A5CD2F6714A387</td>\n",
       "      <td>Internado</td>\n",
       "      <td>O</td>\n",
       "      <td>2</td>\n",
       "      <td>30</td>\n",
       "      <td>M</td>\n",
       "      <td>68.0</td>\n",
       "      <td>Urina,Tempo E Ativid. Protrombina (Tp),Tsh - H...</td>\n",
       "      <td>Urina,Tempo E Ativid. Protrombina (Tp),Tsh - H...</td>\n",
       "      <td>1273.0</td>\n",
       "      <td>32</td>\n",
       "      <td>-1</td>\n",
       "    </tr>\n",
       "    <tr>\n",
       "      <th>14</th>\n",
       "      <td>15</td>\n",
       "      <td>A8D97425B65357AC228B9E2015DF4E3A</td>\n",
       "      <td>Internado</td>\n",
       "      <td>O</td>\n",
       "      <td>1</td>\n",
       "      <td>112</td>\n",
       "      <td>F</td>\n",
       "      <td>87.0</td>\n",
       "      <td>Urina,Tempo E Ativid. Protrombina (Tp),Tsh - H...</td>\n",
       "      <td>Urina,Acido Fólico,Desidrogenase Lática (DHL/L...</td>\n",
       "      <td>3172.0</td>\n",
       "      <td>34</td>\n",
       "      <td>-1</td>\n",
       "    </tr>\n",
       "    <tr>\n",
       "      <th>15</th>\n",
       "      <td>16</td>\n",
       "      <td>E7720D72394F5FAA58A9782566269412</td>\n",
       "      <td>Internado</td>\n",
       "      <td>O</td>\n",
       "      <td>1</td>\n",
       "      <td>16</td>\n",
       "      <td>M</td>\n",
       "      <td>80.0</td>\n",
       "      <td>Urina,Tempo E Ativid. Protrombina (Tp),Hemoglo...</td>\n",
       "      <td>Urina,Tempo E Ativid. Protrombina (Tp),Hemoglo...</td>\n",
       "      <td>1256.0</td>\n",
       "      <td>34</td>\n",
       "      <td>-1</td>\n",
       "    </tr>\n",
       "    <tr>\n",
       "      <th>16</th>\n",
       "      <td>17</td>\n",
       "      <td>ECD46F0C15A16C827E8792BAC80B71EB</td>\n",
       "      <td>Internado</td>\n",
       "      <td>O</td>\n",
       "      <td>1</td>\n",
       "      <td>5</td>\n",
       "      <td>M</td>\n",
       "      <td>87.0</td>\n",
       "      <td>Urina,Tempo E Ativid. Protrombina (Tp),Desidro...</td>\n",
       "      <td>Urina,Tempo E Ativid. Protrombina (Tp),Desidro...</td>\n",
       "      <td>173.0</td>\n",
       "      <td>21</td>\n",
       "      <td>-1</td>\n",
       "    </tr>\n",
       "    <tr>\n",
       "      <th>17</th>\n",
       "      <td>18</td>\n",
       "      <td>D1CFB8DFAAFAA11CC2D6A1B187616206</td>\n",
       "      <td>Internado</td>\n",
       "      <td>O</td>\n",
       "      <td>40</td>\n",
       "      <td>117</td>\n",
       "      <td>M</td>\n",
       "      <td>82.0</td>\n",
       "      <td>Transaminase Pirúvica ( Tgp ),Urina,Tempo E At...</td>\n",
       "      <td>Urina,Tempo E Ativid. Protrombina (Tp),Hemoglo...</td>\n",
       "      <td>217.0</td>\n",
       "      <td>27</td>\n",
       "      <td>-1</td>\n",
       "    </tr>\n",
       "    <tr>\n",
       "      <th>18</th>\n",
       "      <td>19</td>\n",
       "      <td>6975D0EDFCDFE2120B72CCE3C5F7D3D1</td>\n",
       "      <td>Internado</td>\n",
       "      <td>O</td>\n",
       "      <td>6</td>\n",
       "      <td>22</td>\n",
       "      <td>M</td>\n",
       "      <td>69.0</td>\n",
       "      <td>Transaminase Pirúvica ( Tgp ),Urina,Tempo E At...</td>\n",
       "      <td>Transaminase Pirúvica ( Tgp ),Urina,Tempo E At...</td>\n",
       "      <td>975.0</td>\n",
       "      <td>42</td>\n",
       "      <td>-1</td>\n",
       "    </tr>\n",
       "    <tr>\n",
       "      <th>19</th>\n",
       "      <td>20</td>\n",
       "      <td>9B0F7463A5344256A9CB3BA011CD6AD5</td>\n",
       "      <td>Internado</td>\n",
       "      <td>O</td>\n",
       "      <td>3</td>\n",
       "      <td>18</td>\n",
       "      <td>F</td>\n",
       "      <td>84.0</td>\n",
       "      <td>Urina,Tempo E Ativid. Protrombina (Tp),Desidro...</td>\n",
       "      <td>Urina,Tempo E Ativid. Protrombina (Tp),Desidro...</td>\n",
       "      <td>506.0</td>\n",
       "      <td>29</td>\n",
       "      <td>-1</td>\n",
       "    </tr>\n",
       "    <tr>\n",
       "      <th>20</th>\n",
       "      <td>21</td>\n",
       "      <td>145F22E37C4C6D0965029B3FDC11A3B5</td>\n",
       "      <td>Internado</td>\n",
       "      <td>O</td>\n",
       "      <td>6</td>\n",
       "      <td>56</td>\n",
       "      <td>M</td>\n",
       "      <td>76.0</td>\n",
       "      <td>Urina,Tempo E Ativid. Protrombina (Tp),Tsh - H...</td>\n",
       "      <td>Urina,Tempo E Ativid. Protrombina (Tp),Tsh - H...</td>\n",
       "      <td>1052.0</td>\n",
       "      <td>23</td>\n",
       "      <td>-1</td>\n",
       "    </tr>\n",
       "    <tr>\n",
       "      <th>21</th>\n",
       "      <td>22</td>\n",
       "      <td>A294A5A6D37A95390302F9CF0D845B42</td>\n",
       "      <td>Internado</td>\n",
       "      <td>O</td>\n",
       "      <td>15</td>\n",
       "      <td>100</td>\n",
       "      <td>F</td>\n",
       "      <td>75.0</td>\n",
       "      <td>Tempo E Ativid. Protrombina (Tp),Tsh - Hormoni...</td>\n",
       "      <td>Tempo E Ativid. Protrombina (Tp),Tsh - Hormoni...</td>\n",
       "      <td>1419.0</td>\n",
       "      <td>40</td>\n",
       "      <td>-1</td>\n",
       "    </tr>\n",
       "    <tr>\n",
       "      <th>22</th>\n",
       "      <td>23</td>\n",
       "      <td>4C091376171C687316EE48307C2ECB9D</td>\n",
       "      <td>Internado</td>\n",
       "      <td>O</td>\n",
       "      <td>16</td>\n",
       "      <td>51</td>\n",
       "      <td>F</td>\n",
       "      <td>57.0</td>\n",
       "      <td>Urina,Hemoglobina - Kit Urg,Cloro - Kit Urg,De...</td>\n",
       "      <td>Urina,Desidrogenase Lática (DHL/L),Cloro - Kit...</td>\n",
       "      <td>267.0</td>\n",
       "      <td>21</td>\n",
       "      <td>-1</td>\n",
       "    </tr>\n",
       "    <tr>\n",
       "      <th>23</th>\n",
       "      <td>24</td>\n",
       "      <td>32579A7124F2312EFE43FEEF38A0B97B</td>\n",
       "      <td>Internado</td>\n",
       "      <td>O</td>\n",
       "      <td>1</td>\n",
       "      <td>9</td>\n",
       "      <td>F</td>\n",
       "      <td>79.0</td>\n",
       "      <td>Urina,Tempo E Ativid. Protrombina (Tp),Tsh - H...</td>\n",
       "      <td>Calculo da Estimativa da Taxa de Filtracao Glo...</td>\n",
       "      <td>75.0</td>\n",
       "      <td>17</td>\n",
       "      <td>-1</td>\n",
       "    </tr>\n",
       "    <tr>\n",
       "      <th>24</th>\n",
       "      <td>25</td>\n",
       "      <td>FC04F0761C827D828E34F1E67CBE2A64</td>\n",
       "      <td>Internado</td>\n",
       "      <td>O</td>\n",
       "      <td>2</td>\n",
       "      <td>57</td>\n",
       "      <td>M</td>\n",
       "      <td>66.0</td>\n",
       "      <td>Urina,Tempo E Ativid. Protrombina (Tp),Tsh - H...</td>\n",
       "      <td>Urina,Tempo E Ativid. Protrombina (Tp),Tsh - H...</td>\n",
       "      <td>2562.0</td>\n",
       "      <td>40</td>\n",
       "      <td>-1</td>\n",
       "    </tr>\n",
       "    <tr>\n",
       "      <th>25</th>\n",
       "      <td>26</td>\n",
       "      <td>9C99CBDC695DC2E7746B7B44071FAE84</td>\n",
       "      <td>Internado</td>\n",
       "      <td>O</td>\n",
       "      <td>5</td>\n",
       "      <td>23</td>\n",
       "      <td>F</td>\n",
       "      <td>89.0</td>\n",
       "      <td>Urina,Tempo E Ativid. Protrombina (Tp),Desidro...</td>\n",
       "      <td>Urina,Tempo E Ativid. Protrombina (Tp),Desidro...</td>\n",
       "      <td>123.0</td>\n",
       "      <td>21</td>\n",
       "      <td>-1</td>\n",
       "    </tr>\n",
       "    <tr>\n",
       "      <th>26</th>\n",
       "      <td>27</td>\n",
       "      <td>17F5C772CCF2A2EA598BFDFEEF586B93</td>\n",
       "      <td>Internado</td>\n",
       "      <td>O</td>\n",
       "      <td>2</td>\n",
       "      <td>11</td>\n",
       "      <td>M</td>\n",
       "      <td>59.0</td>\n",
       "      <td>Urina,Tempo E Ativid. Protrombina (Tp),Tgp,Pot...</td>\n",
       "      <td>Calculo da Estimativa da Taxa de Filtracao Glo...</td>\n",
       "      <td>467.0</td>\n",
       "      <td>19</td>\n",
       "      <td>-1</td>\n",
       "    </tr>\n",
       "    <tr>\n",
       "      <th>27</th>\n",
       "      <td>28</td>\n",
       "      <td>0C9FA1C19238E8C3277910D80623F68D</td>\n",
       "      <td>Internado</td>\n",
       "      <td>O</td>\n",
       "      <td>5</td>\n",
       "      <td>19</td>\n",
       "      <td>F</td>\n",
       "      <td>84.0</td>\n",
       "      <td>Tempo E Ativid. Protrombina (Tp),Desidrogenase...</td>\n",
       "      <td>Tempo E Ativid. Protrombina (Tp),Desidrogenase...</td>\n",
       "      <td>511.0</td>\n",
       "      <td>25</td>\n",
       "      <td>-1</td>\n",
       "    </tr>\n",
       "    <tr>\n",
       "      <th>28</th>\n",
       "      <td>29</td>\n",
       "      <td>8560A2C373BE3DCE263A4F0BD7A1CC9C</td>\n",
       "      <td>Internado</td>\n",
       "      <td>O</td>\n",
       "      <td>1</td>\n",
       "      <td>14</td>\n",
       "      <td>M</td>\n",
       "      <td>86.0</td>\n",
       "      <td>Urina,Tempo E Ativid. Protrombina (Tp),Desidro...</td>\n",
       "      <td>Urina,Tempo E Ativid. Protrombina (Tp),Desidro...</td>\n",
       "      <td>1114.0</td>\n",
       "      <td>36</td>\n",
       "      <td>-1</td>\n",
       "    </tr>\n",
       "    <tr>\n",
       "      <th>29</th>\n",
       "      <td>30</td>\n",
       "      <td>B8EDE5AC93B97F4CB5243679AA0F0C23</td>\n",
       "      <td>Internado</td>\n",
       "      <td>O</td>\n",
       "      <td>3</td>\n",
       "      <td>28</td>\n",
       "      <td>F</td>\n",
       "      <td>79.0</td>\n",
       "      <td>Urina,Tempo E Ativid. Protrombina (Tp),Desidro...</td>\n",
       "      <td>Urina,Tempo E Ativid. Protrombina (Tp),Trombop...</td>\n",
       "      <td>862.0</td>\n",
       "      <td>26</td>\n",
       "      <td>-1</td>\n",
       "    </tr>\n",
       "    <tr>\n",
       "      <th>30</th>\n",
       "      <td>31</td>\n",
       "      <td>D57DC1CF24BB44E05DA136C3CF96E54C</td>\n",
       "      <td>Internado</td>\n",
       "      <td>O</td>\n",
       "      <td>5</td>\n",
       "      <td>18</td>\n",
       "      <td>F</td>\n",
       "      <td>63.0</td>\n",
       "      <td>Urina,Tempo E Ativid. Protrombina (Tp),Tsh - H...</td>\n",
       "      <td>Cálcio,Urina,D. Dimeros(Dimeros De Fibrina),Fi...</td>\n",
       "      <td>224.0</td>\n",
       "      <td>20</td>\n",
       "      <td>-1</td>\n",
       "    </tr>\n",
       "    <tr>\n",
       "      <th>31</th>\n",
       "      <td>32</td>\n",
       "      <td>E6CAF70D235747A639F9AAE3A3F8B6F5</td>\n",
       "      <td>Internado</td>\n",
       "      <td>O</td>\n",
       "      <td>1</td>\n",
       "      <td>40</td>\n",
       "      <td>M</td>\n",
       "      <td>75.0</td>\n",
       "      <td>Urina,Tempo E Ativid. Protrombina (Tp),Tsh - H...</td>\n",
       "      <td>Urina,Tempo E Ativid. Protrombina (Tp),Tsh - H...</td>\n",
       "      <td>3068.0</td>\n",
       "      <td>62</td>\n",
       "      <td>-1</td>\n",
       "    </tr>\n",
       "    <tr>\n",
       "      <th>32</th>\n",
       "      <td>33</td>\n",
       "      <td>C4297270EA25E9790D1C856AA210A39B</td>\n",
       "      <td>Internado</td>\n",
       "      <td>O</td>\n",
       "      <td>2</td>\n",
       "      <td>20</td>\n",
       "      <td>F</td>\n",
       "      <td>68.0</td>\n",
       "      <td>Urina,Tempo E Ativid. Protrombina (Tp),Hemoglo...</td>\n",
       "      <td>Urina,Tempo E Ativid. Protrombina (Tp),Acido F...</td>\n",
       "      <td>908.0</td>\n",
       "      <td>29</td>\n",
       "      <td>-1</td>\n",
       "    </tr>\n",
       "    <tr>\n",
       "      <th>33</th>\n",
       "      <td>34</td>\n",
       "      <td>CCE2A8CF75977BC69E7E3915BFC45755</td>\n",
       "      <td>Pronto Atendimento</td>\n",
       "      <td>O</td>\n",
       "      <td>1</td>\n",
       "      <td>5</td>\n",
       "      <td>M</td>\n",
       "      <td>66.0</td>\n",
       "      <td>Urina,Tempo E Ativid. Protrombina (Tp),Desidro...</td>\n",
       "      <td>Urina,Tempo E Ativid. Protrombina (Tp),Desidro...</td>\n",
       "      <td>525.0</td>\n",
       "      <td>27</td>\n",
       "      <td>-1</td>\n",
       "    </tr>\n",
       "    <tr>\n",
       "      <th>34</th>\n",
       "      <td>35</td>\n",
       "      <td>B77B46DF41CDB9383BEF901B807D6FF3</td>\n",
       "      <td>Internado</td>\n",
       "      <td>O</td>\n",
       "      <td>15</td>\n",
       "      <td>88</td>\n",
       "      <td>M</td>\n",
       "      <td>83.0</td>\n",
       "      <td>Hemoglobina - Kit Urg,Cloro - Kit Urg,Tgp,Potá...</td>\n",
       "      <td>Hemoglobina - Kit Urg,Cloro - Kit Urg,Potássio...</td>\n",
       "      <td>204.0</td>\n",
       "      <td>21</td>\n",
       "      <td>-1</td>\n",
       "    </tr>\n",
       "    <tr>\n",
       "      <th>35</th>\n",
       "      <td>36</td>\n",
       "      <td>71E9630E4619222EDFA9309D26B06A80</td>\n",
       "      <td>Internado</td>\n",
       "      <td>O</td>\n",
       "      <td>1</td>\n",
       "      <td>48</td>\n",
       "      <td>F</td>\n",
       "      <td>87.0</td>\n",
       "      <td>Urina,Tempo E Ativid. Protrombina (Tp),Tsh - H...</td>\n",
       "      <td>Urina,Tempo E Ativid. Protrombina (Tp),Tsh - H...</td>\n",
       "      <td>1462.0</td>\n",
       "      <td>44</td>\n",
       "      <td>-1</td>\n",
       "    </tr>\n",
       "    <tr>\n",
       "      <th>36</th>\n",
       "      <td>37</td>\n",
       "      <td>E19BC67DD82AD81CB0663909059C1225</td>\n",
       "      <td>Internado</td>\n",
       "      <td>O</td>\n",
       "      <td>1</td>\n",
       "      <td>70</td>\n",
       "      <td>F</td>\n",
       "      <td>74.0</td>\n",
       "      <td>Urina,Tempo E Ativid. Protrombina (Tp),Tsh - H...</td>\n",
       "      <td>Urina,Tempo E Ativid. Protrombina (Tp),Desidro...</td>\n",
       "      <td>1764.0</td>\n",
       "      <td>38</td>\n",
       "      <td>-1</td>\n",
       "    </tr>\n",
       "    <tr>\n",
       "      <th>37</th>\n",
       "      <td>38</td>\n",
       "      <td>6532AD672B061E76A6C03986C79612E5</td>\n",
       "      <td>Internado</td>\n",
       "      <td>O</td>\n",
       "      <td>5</td>\n",
       "      <td>27</td>\n",
       "      <td>M</td>\n",
       "      <td>83.0</td>\n",
       "      <td>Urina,Tempo E Ativid. Protrombina (Tp),Tsh - H...</td>\n",
       "      <td>Tempo E Ativid. Protrombina (Tp),Bilirrubinas ...</td>\n",
       "      <td>518.0</td>\n",
       "      <td>26</td>\n",
       "      <td>-1</td>\n",
       "    </tr>\n",
       "    <tr>\n",
       "      <th>38</th>\n",
       "      <td>39</td>\n",
       "      <td>05221029190B109C8BAC4474F9D639BC</td>\n",
       "      <td>Internado</td>\n",
       "      <td>O</td>\n",
       "      <td>24</td>\n",
       "      <td>74</td>\n",
       "      <td>F</td>\n",
       "      <td>48.0</td>\n",
       "      <td>Transaminase Pirúvica ( Tgp ),Urina,Tempo E At...</td>\n",
       "      <td>Urina,Tempo E Ativid. Protrombina (Tp),Desidro...</td>\n",
       "      <td>649.0</td>\n",
       "      <td>29</td>\n",
       "      <td>-1</td>\n",
       "    </tr>\n",
       "    <tr>\n",
       "      <th>39</th>\n",
       "      <td>40</td>\n",
       "      <td>6C09DBC870CDE32E18D5001D2DBB8F01</td>\n",
       "      <td>Internado</td>\n",
       "      <td>O</td>\n",
       "      <td>2</td>\n",
       "      <td>18</td>\n",
       "      <td>F</td>\n",
       "      <td>81.0</td>\n",
       "      <td>Urina,Tempo E Ativid. Protrombina (Tp),Tsh - H...</td>\n",
       "      <td>Urina,Cloro - Kit Urg,Bilirrubinas Total E Fra...</td>\n",
       "      <td>676.0</td>\n",
       "      <td>21</td>\n",
       "      <td>-1</td>\n",
       "    </tr>\n",
       "    <tr>\n",
       "      <th>40</th>\n",
       "      <td>41</td>\n",
       "      <td>0D10F8927E9D35C54291F14C852717A4</td>\n",
       "      <td>Internado</td>\n",
       "      <td>O</td>\n",
       "      <td>5</td>\n",
       "      <td>109</td>\n",
       "      <td>F</td>\n",
       "      <td>86.0</td>\n",
       "      <td>Transaminase Pirúvica ( Tgp ),Acido Fólico,Clo...</td>\n",
       "      <td>Transaminase Pirúvica ( Tgp ),Urina,Tempo E At...</td>\n",
       "      <td>4479.0</td>\n",
       "      <td>59</td>\n",
       "      <td>-1</td>\n",
       "    </tr>\n",
       "    <tr>\n",
       "      <th>41</th>\n",
       "      <td>42</td>\n",
       "      <td>2417AF2D8A05E7DF5E8D917E0D363DEC</td>\n",
       "      <td>Internado</td>\n",
       "      <td>O</td>\n",
       "      <td>1</td>\n",
       "      <td>9</td>\n",
       "      <td>F</td>\n",
       "      <td>63.0</td>\n",
       "      <td>Urina,Tempo E Ativid. Protrombina (Tp),Tsh - H...</td>\n",
       "      <td>Urina,Tempo E Ativid. Protrombina (Tp),Hemoglo...</td>\n",
       "      <td>617.0</td>\n",
       "      <td>33</td>\n",
       "      <td>-1</td>\n",
       "    </tr>\n",
       "    <tr>\n",
       "      <th>42</th>\n",
       "      <td>43</td>\n",
       "      <td>7F77E63185A4DFDD8FB419BFC6FD1210</td>\n",
       "      <td>Internado</td>\n",
       "      <td>O</td>\n",
       "      <td>1</td>\n",
       "      <td>26</td>\n",
       "      <td>M</td>\n",
       "      <td>82.0</td>\n",
       "      <td>Urina,Tempo E Ativid. Protrombina (Tp),Tsh - H...</td>\n",
       "      <td>Urina,Tempo E Ativid. Protrombina (Tp),Tp Corr...</td>\n",
       "      <td>926.0</td>\n",
       "      <td>52</td>\n",
       "      <td>-1</td>\n",
       "    </tr>\n",
       "    <tr>\n",
       "      <th>43</th>\n",
       "      <td>44</td>\n",
       "      <td>EAA22FE5D48F7EDAA883E9087F2C73E2</td>\n",
       "      <td>Internado</td>\n",
       "      <td>O</td>\n",
       "      <td>11</td>\n",
       "      <td>20</td>\n",
       "      <td>F</td>\n",
       "      <td>59.0</td>\n",
       "      <td>Urina,Tempo E Ativid. Protrombina (Tp),Tsh - H...</td>\n",
       "      <td>Urina,Tempo E Ativid. Protrombina (Tp),Tsh - H...</td>\n",
       "      <td>329.0</td>\n",
       "      <td>29</td>\n",
       "      <td>-1</td>\n",
       "    </tr>\n",
       "  </tbody>\n",
       "</table>\n",
       "</div>"
      ],
      "text/plain": [
       "    Unnamed: 0                       ID_PACIENTE  ... total_problemas cluster\n",
       "0            0  BA74194B979B086198794D1470107709  ...              31      -1\n",
       "1            2  7B03A278AD0026D4E34D0D84453A3548  ...              40      -1\n",
       "2            3  DE791245DF4FD631AD71B2B307F7835D  ...              21      -1\n",
       "3            4  44DA670729D76F0264E6066E2E42CF45  ...              42      -1\n",
       "4            5  A6567EA4CB76E002B7BEADD005279297  ...              27      -1\n",
       "5            6  BA0E361A24C2CE6AC5582C3A0596EC16  ...              28      -1\n",
       "6            7  BB7523C235A6582C309BB3E4F8C93698  ...              35      -1\n",
       "7            8  D831A012023DCACDE4E8B9483AD5A438  ...              40      -1\n",
       "8            9  21B87DA0B5E900224D034469833D5FE5  ...              18      -1\n",
       "9           10  F115058FEF0C6CE66E32EF72AB785F48  ...              37      -1\n",
       "10          11  169D64E25EC7AB52CEB15CC850D8814D  ...              47      -1\n",
       "11          12  BBCF1340150A86E7F6C4505EEA23F168  ...              40      -1\n",
       "12          13  B36EE73FD954C998537979EE316F51D9  ...              42      -1\n",
       "13          14  5429FB8F50B636AD33A5CD2F6714A387  ...              32      -1\n",
       "14          15  A8D97425B65357AC228B9E2015DF4E3A  ...              34      -1\n",
       "15          16  E7720D72394F5FAA58A9782566269412  ...              34      -1\n",
       "16          17  ECD46F0C15A16C827E8792BAC80B71EB  ...              21      -1\n",
       "17          18  D1CFB8DFAAFAA11CC2D6A1B187616206  ...              27      -1\n",
       "18          19  6975D0EDFCDFE2120B72CCE3C5F7D3D1  ...              42      -1\n",
       "19          20  9B0F7463A5344256A9CB3BA011CD6AD5  ...              29      -1\n",
       "20          21  145F22E37C4C6D0965029B3FDC11A3B5  ...              23      -1\n",
       "21          22  A294A5A6D37A95390302F9CF0D845B42  ...              40      -1\n",
       "22          23  4C091376171C687316EE48307C2ECB9D  ...              21      -1\n",
       "23          24  32579A7124F2312EFE43FEEF38A0B97B  ...              17      -1\n",
       "24          25  FC04F0761C827D828E34F1E67CBE2A64  ...              40      -1\n",
       "25          26  9C99CBDC695DC2E7746B7B44071FAE84  ...              21      -1\n",
       "26          27  17F5C772CCF2A2EA598BFDFEEF586B93  ...              19      -1\n",
       "27          28  0C9FA1C19238E8C3277910D80623F68D  ...              25      -1\n",
       "28          29  8560A2C373BE3DCE263A4F0BD7A1CC9C  ...              36      -1\n",
       "29          30  B8EDE5AC93B97F4CB5243679AA0F0C23  ...              26      -1\n",
       "30          31  D57DC1CF24BB44E05DA136C3CF96E54C  ...              20      -1\n",
       "31          32  E6CAF70D235747A639F9AAE3A3F8B6F5  ...              62      -1\n",
       "32          33  C4297270EA25E9790D1C856AA210A39B  ...              29      -1\n",
       "33          34  CCE2A8CF75977BC69E7E3915BFC45755  ...              27      -1\n",
       "34          35  B77B46DF41CDB9383BEF901B807D6FF3  ...              21      -1\n",
       "35          36  71E9630E4619222EDFA9309D26B06A80  ...              44      -1\n",
       "36          37  E19BC67DD82AD81CB0663909059C1225  ...              38      -1\n",
       "37          38  6532AD672B061E76A6C03986C79612E5  ...              26      -1\n",
       "38          39  05221029190B109C8BAC4474F9D639BC  ...              29      -1\n",
       "39          40  6C09DBC870CDE32E18D5001D2DBB8F01  ...              21      -1\n",
       "40          41  0D10F8927E9D35C54291F14C852717A4  ...              59      -1\n",
       "41          42  2417AF2D8A05E7DF5E8D917E0D363DEC  ...              33      -1\n",
       "42          43  7F77E63185A4DFDD8FB419BFC6FD1210  ...              52      -1\n",
       "43          44  EAA22FE5D48F7EDAA883E9087F2C73E2  ...              29      -1\n",
       "\n",
       "[44 rows x 13 columns]"
      ]
     },
     "execution_count": 91,
     "metadata": {
      "tags": []
     },
     "output_type": "execute_result"
    }
   ],
   "source": [
    "a"
   ]
  },
  {
   "cell_type": "markdown",
   "metadata": {
    "id": "BfnUWIzy4SFD"
   },
   "source": [
    "#Classificação#"
   ]
  },
  {
   "cell_type": "code",
   "execution_count": 106,
   "metadata": {
    "executionInfo": {
     "elapsed": 1010,
     "status": "ok",
     "timestamp": 1606157192035,
     "user": {
      "displayName": "Leonardo Thurler",
      "photoUrl": "https://lh3.googleusercontent.com/a-/AOh14GhsXo-6tUwaShHAHh9mhAKCPxko9amceCKxJCpFkg=s64",
      "userId": "06725283277410010839"
     },
     "user_tz": 180
    },
    "id": "d6vmWyH54T3v"
   },
   "outputs": [],
   "source": [
    "from sklearn.neural_network import MLPClassifier\n",
    "from sklearn.neighbors import KNeighborsClassifier\n",
    "from sklearn.svm import SVC\n",
    "from sklearn.gaussian_process import GaussianProcessClassifier\n",
    "from sklearn.gaussian_process.kernels import RBF\n",
    "from sklearn.tree import DecisionTreeClassifier\n",
    "from sklearn.ensemble import RandomForestClassifier, AdaBoostClassifier\n",
    "from sklearn.naive_bayes import GaussianNB"
   ]
  },
  {
   "cell_type": "markdown",
   "metadata": {
    "id": "2Q4_6zNH7ZbR"
   },
   "source": [
    "Importando a base de dados"
   ]
  },
  {
   "cell_type": "code",
   "execution_count": 107,
   "metadata": {
    "executionInfo": {
     "elapsed": 1015,
     "status": "ok",
     "timestamp": 1606157195746,
     "user": {
      "displayName": "Leonardo Thurler",
      "photoUrl": "https://lh3.googleusercontent.com/a-/AOh14GhsXo-6tUwaShHAHh9mhAKCPxko9amceCKxJCpFkg=s64",
      "userId": "06725283277410010839"
     },
     "user_tz": 180
    },
    "id": "1zJz-0cL7iBB"
   },
   "outputs": [],
   "source": [
    "df=pd.read_csv('HSL_idade.csv',sep=',')"
   ]
  },
  {
   "cell_type": "code",
   "execution_count": 108,
   "metadata": {
    "executionInfo": {
     "elapsed": 1265,
     "status": "ok",
     "timestamp": 1606157198045,
     "user": {
      "displayName": "Leonardo Thurler",
      "photoUrl": "https://lh3.googleusercontent.com/a-/AOh14GhsXo-6tUwaShHAHh9mhAKCPxko9amceCKxJCpFkg=s64",
      "userId": "06725283277410010839"
     },
     "user_tz": 180
    },
    "id": "dDuBUDbe7ls5"
   },
   "outputs": [],
   "source": [
    "df = df.drop(['de_desfecho','ID_PACIENTE','Unnamed: 0','exames','problemas'],axis=1)"
   ]
  },
  {
   "cell_type": "code",
   "execution_count": null,
   "metadata": {
    "executionInfo": {
     "elapsed": 130744,
     "status": "aborted",
     "timestamp": 1606156827995,
     "user": {
      "displayName": "Leonardo Thurler",
      "photoUrl": "https://lh3.googleusercontent.com/a-/AOh14GhsXo-6tUwaShHAHh9mhAKCPxko9amceCKxJCpFkg=s64",
      "userId": "06725283277410010839"
     },
     "user_tz": 180
    },
    "id": "b4J_A6Yk7omp"
   },
   "outputs": [],
   "source": [
    "#df = df.drop(['IC_SEXO'],axis=1)"
   ]
  },
  {
   "cell_type": "code",
   "execution_count": 109,
   "metadata": {
    "colab": {
     "base_uri": "https://localhost:8080/",
     "height": 415
    },
    "executionInfo": {
     "elapsed": 900,
     "status": "ok",
     "timestamp": 1606157199523,
     "user": {
      "displayName": "Leonardo Thurler",
      "photoUrl": "https://lh3.googleusercontent.com/a-/AOh14GhsXo-6tUwaShHAHh9mhAKCPxko9amceCKxJCpFkg=s64",
      "userId": "06725283277410010839"
     },
     "user_tz": 180
    },
    "id": "aE_dOSby8KTr",
    "outputId": "2f0367b3-3a5a-4a63-9b31-e75b7149d5a8"
   },
   "outputs": [
    {
     "data": {
      "text/html": [
       "<div>\n",
       "<style scoped>\n",
       "    .dataframe tbody tr th:only-of-type {\n",
       "        vertical-align: middle;\n",
       "    }\n",
       "\n",
       "    .dataframe tbody tr th {\n",
       "        vertical-align: top;\n",
       "    }\n",
       "\n",
       "    .dataframe thead th {\n",
       "        text-align: right;\n",
       "    }\n",
       "</style>\n",
       "<table border=\"1\" class=\"dataframe\">\n",
       "  <thead>\n",
       "    <tr style=\"text-align: right;\">\n",
       "      <th></th>\n",
       "      <th>de_tipo_atendimento</th>\n",
       "      <th>n_atendimentos</th>\n",
       "      <th>t_atendimento</th>\n",
       "      <th>IC_SEXO</th>\n",
       "      <th>idade</th>\n",
       "      <th>total_exames</th>\n",
       "      <th>total_problemas</th>\n",
       "    </tr>\n",
       "  </thead>\n",
       "  <tbody>\n",
       "    <tr>\n",
       "      <th>0</th>\n",
       "      <td>Internado</td>\n",
       "      <td>1</td>\n",
       "      <td>11</td>\n",
       "      <td>M</td>\n",
       "      <td>70.0</td>\n",
       "      <td>523.0</td>\n",
       "      <td>31</td>\n",
       "    </tr>\n",
       "    <tr>\n",
       "      <th>1</th>\n",
       "      <td>Internado</td>\n",
       "      <td>2</td>\n",
       "      <td>30</td>\n",
       "      <td>M</td>\n",
       "      <td>84.0</td>\n",
       "      <td>1123.0</td>\n",
       "      <td>40</td>\n",
       "    </tr>\n",
       "    <tr>\n",
       "      <th>2</th>\n",
       "      <td>Internado</td>\n",
       "      <td>2</td>\n",
       "      <td>13</td>\n",
       "      <td>M</td>\n",
       "      <td>78.0</td>\n",
       "      <td>318.0</td>\n",
       "      <td>21</td>\n",
       "    </tr>\n",
       "    <tr>\n",
       "      <th>3</th>\n",
       "      <td>Internado</td>\n",
       "      <td>2</td>\n",
       "      <td>66</td>\n",
       "      <td>M</td>\n",
       "      <td>67.0</td>\n",
       "      <td>3097.0</td>\n",
       "      <td>42</td>\n",
       "    </tr>\n",
       "    <tr>\n",
       "      <th>4</th>\n",
       "      <td>Internado</td>\n",
       "      <td>1</td>\n",
       "      <td>34</td>\n",
       "      <td>M</td>\n",
       "      <td>70.0</td>\n",
       "      <td>1431.0</td>\n",
       "      <td>27</td>\n",
       "    </tr>\n",
       "    <tr>\n",
       "      <th>...</th>\n",
       "      <td>...</td>\n",
       "      <td>...</td>\n",
       "      <td>...</td>\n",
       "      <td>...</td>\n",
       "      <td>...</td>\n",
       "      <td>...</td>\n",
       "      <td>...</td>\n",
       "    </tr>\n",
       "    <tr>\n",
       "      <th>4025</th>\n",
       "      <td>Pronto Atendimento</td>\n",
       "      <td>1</td>\n",
       "      <td>5</td>\n",
       "      <td>F</td>\n",
       "      <td>89.0</td>\n",
       "      <td>75.0</td>\n",
       "      <td>7</td>\n",
       "    </tr>\n",
       "    <tr>\n",
       "      <th>4026</th>\n",
       "      <td>Externo</td>\n",
       "      <td>2</td>\n",
       "      <td>2</td>\n",
       "      <td>M</td>\n",
       "      <td>28.0</td>\n",
       "      <td>1.0</td>\n",
       "      <td>1</td>\n",
       "    </tr>\n",
       "    <tr>\n",
       "      <th>4027</th>\n",
       "      <td>Ambulatorial</td>\n",
       "      <td>5</td>\n",
       "      <td>5</td>\n",
       "      <td>F</td>\n",
       "      <td>26.0</td>\n",
       "      <td>2.0</td>\n",
       "      <td>1</td>\n",
       "    </tr>\n",
       "    <tr>\n",
       "      <th>4028</th>\n",
       "      <td>Pronto Atendimento</td>\n",
       "      <td>6</td>\n",
       "      <td>6</td>\n",
       "      <td>F</td>\n",
       "      <td>27.0</td>\n",
       "      <td>1.0</td>\n",
       "      <td>1</td>\n",
       "    </tr>\n",
       "    <tr>\n",
       "      <th>4029</th>\n",
       "      <td>Pronto Atendimento</td>\n",
       "      <td>4</td>\n",
       "      <td>4</td>\n",
       "      <td>M</td>\n",
       "      <td>52.0</td>\n",
       "      <td>41.0</td>\n",
       "      <td>6</td>\n",
       "    </tr>\n",
       "  </tbody>\n",
       "</table>\n",
       "<p>4030 rows × 7 columns</p>\n",
       "</div>"
      ],
      "text/plain": [
       "     de_tipo_atendimento  n_atendimentos  ...  total_exames total_problemas\n",
       "0              Internado               1  ...         523.0              31\n",
       "1              Internado               2  ...        1123.0              40\n",
       "2              Internado               2  ...         318.0              21\n",
       "3              Internado               2  ...        3097.0              42\n",
       "4              Internado               1  ...        1431.0              27\n",
       "...                  ...             ...  ...           ...             ...\n",
       "4025  Pronto Atendimento               1  ...          75.0               7\n",
       "4026             Externo               2  ...           1.0               1\n",
       "4027        Ambulatorial               5  ...           2.0               1\n",
       "4028  Pronto Atendimento               6  ...           1.0               1\n",
       "4029  Pronto Atendimento               4  ...          41.0               6\n",
       "\n",
       "[4030 rows x 7 columns]"
      ]
     },
     "execution_count": 109,
     "metadata": {
      "tags": []
     },
     "output_type": "execute_result"
    }
   ],
   "source": [
    "df"
   ]
  },
  {
   "cell_type": "code",
   "execution_count": 110,
   "metadata": {
    "colab": {
     "base_uri": "https://localhost:8080/"
    },
    "executionInfo": {
     "elapsed": 1068,
     "status": "ok",
     "timestamp": 1606157202374,
     "user": {
      "displayName": "Leonardo Thurler",
      "photoUrl": "https://lh3.googleusercontent.com/a-/AOh14GhsXo-6tUwaShHAHh9mhAKCPxko9amceCKxJCpFkg=s64",
      "userId": "06725283277410010839"
     },
     "user_tz": 180
    },
    "id": "8rjLjzBIJ9tj",
    "outputId": "1cb67039-b207-4a65-c40a-d44cd3c2bd75"
   },
   "outputs": [
    {
     "data": {
      "text/plain": [
       "count    4030.000000\n",
       "mean        9.634739\n",
       "std        16.812578\n",
       "min         1.000000\n",
       "25%         2.000000\n",
       "50%         4.000000\n",
       "75%        10.000000\n",
       "max       211.000000\n",
       "Name: t_atendimento, dtype: float64"
      ]
     },
     "execution_count": 110,
     "metadata": {
      "tags": []
     },
     "output_type": "execute_result"
    }
   ],
   "source": [
    "df['t_atendimento'].describe()"
   ]
  },
  {
   "cell_type": "code",
   "execution_count": 112,
   "metadata": {
    "executionInfo": {
     "elapsed": 1017,
     "status": "ok",
     "timestamp": 1606157207401,
     "user": {
      "displayName": "Leonardo Thurler",
      "photoUrl": "https://lh3.googleusercontent.com/a-/AOh14GhsXo-6tUwaShHAHh9mhAKCPxko9amceCKxJCpFkg=s64",
      "userId": "06725283277410010839"
     },
     "user_tz": 180
    },
    "id": "Iy2r4vCA8Vnz"
   },
   "outputs": [],
   "source": [
    "df['t_atendimento'] = df['t_atendimento'].apply(lambda x: 0 if x <= 2 else x)\n",
    "df['t_atendimento'] = df['t_atendimento'].apply(lambda x: 1 if x <= 4 and x > 2 else x)\n",
    "df['t_atendimento'] = df['t_atendimento'].apply(lambda x: 2 if x <= 10 and x > 4 else x)\n",
    "df['t_atendimento'] = df['t_atendimento'].apply(lambda x: 3 if x > 10 else x)"
   ]
  },
  {
   "cell_type": "code",
   "execution_count": 113,
   "metadata": {
    "executionInfo": {
     "elapsed": 1012,
     "status": "ok",
     "timestamp": 1606157209465,
     "user": {
      "displayName": "Leonardo Thurler",
      "photoUrl": "https://lh3.googleusercontent.com/a-/AOh14GhsXo-6tUwaShHAHh9mhAKCPxko9amceCKxJCpFkg=s64",
      "userId": "06725283277410010839"
     },
     "user_tz": 180
    },
    "id": "L9jUsoGDKepX"
   },
   "outputs": [],
   "source": [
    "df['de_tipo_atendimento'].unique()\n",
    "df['de_tipo_atendimento'] = df['de_tipo_atendimento'].apply(lambda x: 3 if x == 'Internado' else x)\n",
    "df['de_tipo_atendimento'] = df['de_tipo_atendimento'].apply(lambda x: 2 if x == 'Pronto Atendimento' else x)\n",
    "df['de_tipo_atendimento'] = df['de_tipo_atendimento'].apply(lambda x: 1 if x == 'Ambulatorial' else x)\n",
    "df['de_tipo_atendimento'] = df['de_tipo_atendimento'].apply(lambda x: 0 if x == 'Externo' else x)"
   ]
  },
  {
   "cell_type": "code",
   "execution_count": 114,
   "metadata": {
    "executionInfo": {
     "elapsed": 1149,
     "status": "ok",
     "timestamp": 1606157211618,
     "user": {
      "displayName": "Leonardo Thurler",
      "photoUrl": "https://lh3.googleusercontent.com/a-/AOh14GhsXo-6tUwaShHAHh9mhAKCPxko9amceCKxJCpFkg=s64",
      "userId": "06725283277410010839"
     },
     "user_tz": 180
    },
    "id": "nRi9cAx3YHyb"
   },
   "outputs": [],
   "source": [
    "df['IC_SEXO'] = df['IC_SEXO'].apply(lambda x: 1 if x == 'M' else 0)"
   ]
  },
  {
   "cell_type": "code",
   "execution_count": 115,
   "metadata": {
    "colab": {
     "base_uri": "https://localhost:8080/",
     "height": 202
    },
    "executionInfo": {
     "elapsed": 998,
     "status": "ok",
     "timestamp": 1606157213848,
     "user": {
      "displayName": "Leonardo Thurler",
      "photoUrl": "https://lh3.googleusercontent.com/a-/AOh14GhsXo-6tUwaShHAHh9mhAKCPxko9amceCKxJCpFkg=s64",
      "userId": "06725283277410010839"
     },
     "user_tz": 180
    },
    "id": "w1hMuJYlMQBF",
    "outputId": "3b66c52b-3931-422f-a5e5-a1bfc9409887"
   },
   "outputs": [
    {
     "data": {
      "text/html": [
       "<div>\n",
       "<style scoped>\n",
       "    .dataframe tbody tr th:only-of-type {\n",
       "        vertical-align: middle;\n",
       "    }\n",
       "\n",
       "    .dataframe tbody tr th {\n",
       "        vertical-align: top;\n",
       "    }\n",
       "\n",
       "    .dataframe thead th {\n",
       "        text-align: right;\n",
       "    }\n",
       "</style>\n",
       "<table border=\"1\" class=\"dataframe\">\n",
       "  <thead>\n",
       "    <tr style=\"text-align: right;\">\n",
       "      <th></th>\n",
       "      <th>de_tipo_atendimento</th>\n",
       "      <th>n_atendimentos</th>\n",
       "      <th>t_atendimento</th>\n",
       "      <th>IC_SEXO</th>\n",
       "      <th>idade</th>\n",
       "      <th>total_exames</th>\n",
       "      <th>total_problemas</th>\n",
       "    </tr>\n",
       "  </thead>\n",
       "  <tbody>\n",
       "    <tr>\n",
       "      <th>0</th>\n",
       "      <td>3</td>\n",
       "      <td>1</td>\n",
       "      <td>1</td>\n",
       "      <td>1</td>\n",
       "      <td>70.0</td>\n",
       "      <td>523.0</td>\n",
       "      <td>31</td>\n",
       "    </tr>\n",
       "    <tr>\n",
       "      <th>1</th>\n",
       "      <td>3</td>\n",
       "      <td>2</td>\n",
       "      <td>1</td>\n",
       "      <td>1</td>\n",
       "      <td>84.0</td>\n",
       "      <td>1123.0</td>\n",
       "      <td>40</td>\n",
       "    </tr>\n",
       "    <tr>\n",
       "      <th>2</th>\n",
       "      <td>3</td>\n",
       "      <td>2</td>\n",
       "      <td>1</td>\n",
       "      <td>1</td>\n",
       "      <td>78.0</td>\n",
       "      <td>318.0</td>\n",
       "      <td>21</td>\n",
       "    </tr>\n",
       "    <tr>\n",
       "      <th>3</th>\n",
       "      <td>3</td>\n",
       "      <td>2</td>\n",
       "      <td>1</td>\n",
       "      <td>1</td>\n",
       "      <td>67.0</td>\n",
       "      <td>3097.0</td>\n",
       "      <td>42</td>\n",
       "    </tr>\n",
       "    <tr>\n",
       "      <th>4</th>\n",
       "      <td>3</td>\n",
       "      <td>1</td>\n",
       "      <td>1</td>\n",
       "      <td>1</td>\n",
       "      <td>70.0</td>\n",
       "      <td>1431.0</td>\n",
       "      <td>27</td>\n",
       "    </tr>\n",
       "  </tbody>\n",
       "</table>\n",
       "</div>"
      ],
      "text/plain": [
       "   de_tipo_atendimento  n_atendimentos  ...  total_exames  total_problemas\n",
       "0                    3               1  ...         523.0               31\n",
       "1                    3               2  ...        1123.0               40\n",
       "2                    3               2  ...         318.0               21\n",
       "3                    3               2  ...        3097.0               42\n",
       "4                    3               1  ...        1431.0               27\n",
       "\n",
       "[5 rows x 7 columns]"
      ]
     },
     "execution_count": 115,
     "metadata": {
      "tags": []
     },
     "output_type": "execute_result"
    }
   ],
   "source": [
    "df.head()"
   ]
  },
  {
   "cell_type": "markdown",
   "metadata": {
    "id": "7YAOsi6c6u4Q"
   },
   "source": [
    "##Árvore de decisão##"
   ]
  },
  {
   "cell_type": "code",
   "execution_count": null,
   "metadata": {
    "executionInfo": {
     "elapsed": 130669,
     "status": "aborted",
     "timestamp": 1606156827999,
     "user": {
      "displayName": "Leonardo Thurler",
      "photoUrl": "https://lh3.googleusercontent.com/a-/AOh14GhsXo-6tUwaShHAHh9mhAKCPxko9amceCKxJCpFkg=s64",
      "userId": "06725283277410010839"
     },
     "user_tz": 180
    },
    "id": "QW946QRF60Mp"
   },
   "outputs": [],
   "source": [
    "from sklearn.tree import DecisionTreeClassifier\n",
    "import time\n",
    "from sklearn.model_selection import cross_val_score\n",
    "from sklearn.model_selection import cross_val_score, StratifiedKFold\n",
    "from sklearn.model_selection import train_test_split\n",
    "from sklearn import preprocessing\n",
    "\n",
    "X = df.drop(['t_atendimento'],axis=1)\n",
    "#y = df['t_atendimento']\n",
    "y = np.array(df['t_atendimento'])\n",
    "\n",
    "X_train, X_test, y_train, y_test = \\\n",
    "        train_test_split(X, y, test_size=.1, random_state=42, stratify=y)\n",
    "\n",
    "K_VALUE = 10\n",
    "seed = 7\n",
    "stratifiedKfold = StratifiedKFold(n_splits=K_VALUE, random_state=seed, shuffle=True)\n",
    "\n",
    "clf = DecisionTreeClassifier()\n",
    "clf_list = []\n",
    "depth_list = []\n",
    "\n",
    "for i in range(1,101):\n",
    "  clf = DecisionTreeClassifier(max_depth=i)\n",
    "  clf_list.append(clf)\n",
    "  depth_list.append(i)\n",
    "\n",
    "scores_list = []\n",
    "time_list = []\n",
    "for clf in clf_list:\n",
    "  inicio = time.time()\n",
    "  scores = cross_val_score(clf, X_train, y_train, cv=stratifiedKfold)\n",
    "  scores_list.append(scores)\n",
    "  fim = time.time()\n",
    "  time_list.append(fim - inicio)\n",
    "\n",
    "scores_list = np.array(scores_list)\n",
    "mean_scores = scores_list.mean(axis=1)\n",
    "\n",
    "best_depth = clf_list[0].max_depth\n",
    "best_score = mean_scores[0]\n",
    "best_score_std = mean_scores[0].std()\n",
    "\n",
    "for i in range(1,len(mean_scores)):\n",
    "  if best_score < mean_scores[i] or (best_score == mean_scores[i] and best_score_std < mean_scores[0].std()):\n",
    "    best_depth = clf_list[i].max_depth\n",
    "    best_score = mean_scores[i]\n",
    "    best_score_std = mean_scores[i].std()\n",
    "\n",
    "clf = DecisionTreeClassifier(max_depth=best_depth)\n",
    "clf.fit(X_train, y_train)\n",
    "score = clf.score(X_test, y_test)"
   ]
  },
  {
   "cell_type": "code",
   "execution_count": null,
   "metadata": {
    "executionInfo": {
     "elapsed": 130653,
     "status": "aborted",
     "timestamp": 1606156827999,
     "user": {
      "displayName": "Leonardo Thurler",
      "photoUrl": "https://lh3.googleusercontent.com/a-/AOh14GhsXo-6tUwaShHAHh9mhAKCPxko9amceCKxJCpFkg=s64",
      "userId": "06725283277410010839"
     },
     "user_tz": 180
    },
    "id": "VkLIksMBsVX6"
   },
   "outputs": [],
   "source": [
    "score"
   ]
  },
  {
   "cell_type": "code",
   "execution_count": null,
   "metadata": {
    "executionInfo": {
     "elapsed": 130638,
     "status": "aborted",
     "timestamp": 1606156828000,
     "user": {
      "displayName": "Leonardo Thurler",
      "photoUrl": "https://lh3.googleusercontent.com/a-/AOh14GhsXo-6tUwaShHAHh9mhAKCPxko9amceCKxJCpFkg=s64",
      "userId": "06725283277410010839"
     },
     "user_tz": 180
    },
    "id": "TjG3GpXzOYvQ"
   },
   "outputs": [],
   "source": [
    "f, ax = plt.subplots(1, 2, figsize=(14,10))\n",
    "\n",
    "ax[0].plot(depth_list,mean_scores)\n",
    "#ax[0].set_xlim(-1, max(depth_list) + max(depth_list) * 0.02)\n",
    "#ax[0].set_ylim(0.70, 1)\n",
    "#ax[0].set_ylim(min(mean_scores) - min(mean_scores) * 0.02, max(mean_scores) + max(mean_scores) * 0.02)\n",
    "ax[1].plot(depth_list,time_list)"
   ]
  },
  {
   "cell_type": "markdown",
   "metadata": {
    "id": "ETGXA6-178mj"
   },
   "source": [
    "### Métricas, Matriz de confusão e curva roc"
   ]
  },
  {
   "cell_type": "markdown",
   "metadata": {
    "id": "Rc0or77hqdF1"
   },
   "source": [
    "Acurácia, precision, recall e f1"
   ]
  },
  {
   "cell_type": "code",
   "execution_count": null,
   "metadata": {
    "executionInfo": {
     "elapsed": 130626,
     "status": "aborted",
     "timestamp": 1606156828000,
     "user": {
      "displayName": "Leonardo Thurler",
      "photoUrl": "https://lh3.googleusercontent.com/a-/AOh14GhsXo-6tUwaShHAHh9mhAKCPxko9amceCKxJCpFkg=s64",
      "userId": "06725283277410010839"
     },
     "user_tz": 180
    },
    "id": "s3iSgfYyNRR5"
   },
   "outputs": [],
   "source": [
    "from sklearn.metrics import accuracy_score, precision_score, recall_score, f1_score\n",
    "\n",
    "def create_pd_error_metrics(y_true, y_pred, label):\n",
    "  return pd.Series({'accuracy': accuracy_score(y_true, y_pred),\n",
    "                    'precision': precision_score(y_true, y_pred, average='micro'),\n",
    "                    'recall': recall_score(y_true, y_pred, average='micro'),\n",
    "                    'f1': f1_score(y_true, y_pred, average='micro')},\n",
    "                   name=label)\n",
    "\n",
    "y_train_pred = clf.predict(X_train)\n",
    "y_test_pred = clf.predict(X_test)\n",
    "\n",
    "pd_error_metrics = pd.concat([measure_erro(y_train, y_train_pred, 'Treinamento'),\n",
    "                              measure_erro(y_test, y_test_pred, 'Teste')],\n",
    "                              axis=1)\n",
    "\n",
    "pd_error_metrics"
   ]
  },
  {
   "cell_type": "markdown",
   "metadata": {
    "id": "UPkbGjoUqSSm"
   },
   "source": [
    "Matriz de confusão"
   ]
  },
  {
   "cell_type": "code",
   "execution_count": null,
   "metadata": {
    "executionInfo": {
     "elapsed": 130612,
     "status": "aborted",
     "timestamp": 1606156828001,
     "user": {
      "displayName": "Leonardo Thurler",
      "photoUrl": "https://lh3.googleusercontent.com/a-/AOh14GhsXo-6tUwaShHAHh9mhAKCPxko9amceCKxJCpFkg=s64",
      "userId": "06725283277410010839"
     },
     "user_tz": 180
    },
    "id": "-RBGBoV5lYR0"
   },
   "outputs": [],
   "source": [
    "from sklearn.metrics import confusion_matrix\n",
    "\n",
    "def create_conf_matrix_pd(conf_matrix):\n",
    "  conf_matrix = np.array(conf_matrix)\n",
    "  return pd.concat([conf_matrix_pd(conf_matrix[:,0], 'até 2 dias'),\n",
    "                    conf_matrix_pd(conf_matrix[:,1], '3 ou 4 dias'),\n",
    "                    conf_matrix_pd(conf_matrix[:,2], '5 a 10 dias'),\n",
    "                    conf_matrix_pd(conf_matrix[:,3], 'acima de 10 dias')],\n",
    "                    axis=1)\n",
    "\n",
    "def conf_matrix_pd(conf_matrix_class_result, label):\n",
    "  return pd.Series({'até 2 dias': conf_matrix_class_result[0],\n",
    "                    '3 ou 4 dias': conf_matrix_class_result[1],\n",
    "                    '5 a 10 dias': conf_matrix_class_result[2],\n",
    "                    'acima de 10 dias':conf_matrix_class_result[3]},\n",
    "                    name=label)\n",
    "\n",
    "pd_conf_matrix = create_conf_matrix_pd(confusion_matrix(y_test, y_test_pred))\n",
    "\n",
    "pd_conf_matrix"
   ]
  },
  {
   "cell_type": "markdown",
   "metadata": {
    "id": "uq6dvLERpNsx"
   },
   "source": [
    "Curva ROC"
   ]
  },
  {
   "cell_type": "code",
   "execution_count": null,
   "metadata": {
    "executionInfo": {
     "elapsed": 130600,
     "status": "aborted",
     "timestamp": 1606156828002,
     "user": {
      "displayName": "Leonardo Thurler",
      "photoUrl": "https://lh3.googleusercontent.com/a-/AOh14GhsXo-6tUwaShHAHh9mhAKCPxko9amceCKxJCpFkg=s64",
      "userId": "06725283277410010839"
     },
     "user_tz": 180
    },
    "id": "y9rAimkusuAq"
   },
   "outputs": [],
   "source": [
    "import matplotlib.pyplot as plt\n",
    "from sklearn.metrics import roc_curve, auc\n",
    "\n",
    "#y_score = clf.decision_function(X_test)\n",
    "y_score = clf.predict_proba(X_test)\n",
    "\n",
    "y_test_binarize = label_binarize(y_test, classes=[0, 1, 2, 3])\n",
    "n_classes = y_test_binarize.shape[1]\n",
    "\n",
    "# Compute ROC curve and ROC area for each class\n",
    "fpr = dict()\n",
    "tpr = dict()\n",
    "roc_auc = dict()\n",
    "for i in range(n_classes):\n",
    "    fpr[i], tpr[i], _ = roc_curve(y_test_binarize[:, i], y_score[:, i])\n",
    "    roc_auc[i] = auc(fpr[i], tpr[i])\n",
    "\n",
    "# Compute micro-average ROC curve and ROC area\n",
    "fpr[\"micro\"], tpr[\"micro\"], _ = roc_curve(y_test_binarize.ravel(), y_score.ravel())\n",
    "roc_auc[\"micro\"] = auc(fpr[\"micro\"], tpr[\"micro\"])\n",
    "\n",
    "plt.figure()\n",
    "lw = 2\n",
    "plt.plot(fpr[2], tpr[2], color='darkorange',\n",
    "         lw=lw, label='ROC curve (area = %0.2f)' % roc_auc[2])\n",
    "#plt.plot([0, 1], [0, 1], color='navy', lw=lw, linestyle='--')\n",
    "plt.xlim([-0.05, 1.05])\n",
    "plt.ylim([-0.05, 1.05])\n",
    "plt.xlabel('False Positive Rate')\n",
    "plt.ylabel('True Positive Rate')\n",
    "plt.title('Curva ROC - Árvore de Decisão - Max Depth = %0.0f' % clf.max_depth)\n",
    "plt.legend(loc=\"lower right\")\n",
    "plt.show()"
   ]
  },
  {
   "cell_type": "markdown",
   "metadata": {
    "id": "zDIFQj2Q61ER"
   },
   "source": [
    "##Naive Bayes##"
   ]
  },
  {
   "cell_type": "code",
   "execution_count": null,
   "metadata": {
    "executionInfo": {
     "elapsed": 130596,
     "status": "aborted",
     "timestamp": 1606156828003,
     "user": {
      "displayName": "Leonardo Thurler",
      "photoUrl": "https://lh3.googleusercontent.com/a-/AOh14GhsXo-6tUwaShHAHh9mhAKCPxko9amceCKxJCpFkg=s64",
      "userId": "06725283277410010839"
     },
     "user_tz": 180
    },
    "id": "jCz9zJDM685q"
   },
   "outputs": [],
   "source": [
    "import time\n",
    "from sklearn.model_selection import cross_val_score\n",
    "from sklearn.model_selection import cross_val_score, StratifiedKFold\n",
    "from sklearn import preprocessing\n",
    "from sklearn.naive_bayes import GaussianNB\n",
    "\n",
    "X = df.drop(['t_atendimento'],axis=1)\n",
    "#y = df['t_atendimento']\n",
    "y = np.array(df['t_atendimento'])\n",
    "\n",
    "X_train, X_test, y_train, y_test = \\\n",
    "        train_test_split(X, y, test_size=.1, random_state=42, stratify=y)\n",
    "\n",
    "K_VALUE = 10\n",
    "seed = 7\n",
    "stratifiedKfold = StratifiedKFold(n_splits=K_VALUE, random_state=seed, shuffle=True)\n",
    "\n",
    "clf = GaussianNB()\n",
    "clf_list = []\n",
    "\n",
    "for i in range(1,101):\n",
    "  clf = GaussianNB()\n",
    "  clf_list.append(clf)\n",
    "\n",
    "scores_list = []\n",
    "time_list = []\n",
    "for clf in clf_list:\n",
    "  inicio = time.time()\n",
    "  scores = cross_val_score(clf, X, y, cv=stratifiedKfold)\n",
    "  scores_list.append(scores)\n",
    "  fim = time.time()\n",
    "  time_list.append(fim - inicio)\n",
    "\n",
    "scores_list = np.array(scores_list)\n",
    "mean_scores = scores_list.mean(axis=1)\n",
    "\n",
    "clf = GaussianNB()\n",
    "clf.fit(X_train, y_train)\n",
    "score = clf.score(X_test, y_test)"
   ]
  },
  {
   "cell_type": "code",
   "execution_count": null,
   "metadata": {
    "executionInfo": {
     "elapsed": 130585,
     "status": "aborted",
     "timestamp": 1606156828003,
     "user": {
      "displayName": "Leonardo Thurler",
      "photoUrl": "https://lh3.googleusercontent.com/a-/AOh14GhsXo-6tUwaShHAHh9mhAKCPxko9amceCKxJCpFkg=s64",
      "userId": "06725283277410010839"
     },
     "user_tz": 180
    },
    "id": "IcCWLAGfAex4"
   },
   "outputs": [],
   "source": [
    "score"
   ]
  },
  {
   "cell_type": "code",
   "execution_count": null,
   "metadata": {
    "executionInfo": {
     "elapsed": 130574,
     "status": "aborted",
     "timestamp": 1606156828004,
     "user": {
      "displayName": "Leonardo Thurler",
      "photoUrl": "https://lh3.googleusercontent.com/a-/AOh14GhsXo-6tUwaShHAHh9mhAKCPxko9amceCKxJCpFkg=s64",
      "userId": "06725283277410010839"
     },
     "user_tz": 180
    },
    "id": "h9IFJ37MPfl9"
   },
   "outputs": [],
   "source": [
    "f, ax = plt.subplots(1, 2, figsize=(14,10))\n",
    "\n",
    "ax[0].plot(depth_list,mean_scores)\n",
    "#ax[0].set_xlim(-1, max(depth_list) + max(depth_list) * 0.02)\n",
    "#ax[0].set_ylim(0.70, 1)\n",
    "#ax[0].set_ylim(min(mean_scores) - min(mean_scores) * 0.02, max(mean_scores) + max(mean_scores) * 0.02)\n",
    "ax[1].plot(depth_list,time_list)"
   ]
  },
  {
   "cell_type": "markdown",
   "metadata": {
    "id": "QvzFz0Vo8Kf4"
   },
   "source": [
    "### Métricas, Matriz de confusão e curva roc"
   ]
  },
  {
   "cell_type": "markdown",
   "metadata": {
    "id": "KWP35a0b8Kf4"
   },
   "source": [
    "Acurácia, precision, recall e f1"
   ]
  },
  {
   "cell_type": "code",
   "execution_count": null,
   "metadata": {
    "executionInfo": {
     "elapsed": 130540,
     "status": "aborted",
     "timestamp": 1606156828004,
     "user": {
      "displayName": "Leonardo Thurler",
      "photoUrl": "https://lh3.googleusercontent.com/a-/AOh14GhsXo-6tUwaShHAHh9mhAKCPxko9amceCKxJCpFkg=s64",
      "userId": "06725283277410010839"
     },
     "user_tz": 180
    },
    "id": "B7bO90vW8Kf4"
   },
   "outputs": [],
   "source": [
    "from sklearn.metrics import accuracy_score, precision_score, recall_score, f1_score\n",
    "\n",
    "def create_pd_error_metrics(y_true, y_pred, label):\n",
    "  return pd.Series({'accuracy': accuracy_score(y_true, y_pred),\n",
    "                    'precision': precision_score(y_true, y_pred, average='micro'),\n",
    "                    'recall': recall_score(y_true, y_pred, average='micro'),\n",
    "                    'f1': f1_score(y_true, y_pred, average='micro')},\n",
    "                   name=label)\n",
    "\n",
    "y_train_pred = clf.predict(X_train)\n",
    "y_test_pred = clf.predict(X_test)\n",
    "\n",
    "pd_error_metrics = pd.concat([measure_erro(y_train, y_train_pred, 'Treinamento'),\n",
    "                              measure_erro(y_test, y_test_pred, 'Teste')],\n",
    "                              axis=1)\n",
    "\n",
    "pd_error_metrics"
   ]
  },
  {
   "cell_type": "markdown",
   "metadata": {
    "id": "Im6F6fii8Kf5"
   },
   "source": [
    "Matriz de confusão"
   ]
  },
  {
   "cell_type": "code",
   "execution_count": null,
   "metadata": {
    "executionInfo": {
     "elapsed": 130527,
     "status": "aborted",
     "timestamp": 1606156828005,
     "user": {
      "displayName": "Leonardo Thurler",
      "photoUrl": "https://lh3.googleusercontent.com/a-/AOh14GhsXo-6tUwaShHAHh9mhAKCPxko9amceCKxJCpFkg=s64",
      "userId": "06725283277410010839"
     },
     "user_tz": 180
    },
    "id": "hQsawZyK8Kf5"
   },
   "outputs": [],
   "source": [
    "from sklearn.metrics import confusion_matrix\n",
    "\n",
    "def create_conf_matrix_pd(conf_matrix):\n",
    "  conf_matrix = np.array(conf_matrix)\n",
    "  return pd.concat([conf_matrix_pd(conf_matrix[:,0], 'até 2 dias'),\n",
    "                    conf_matrix_pd(conf_matrix[:,1], '3 ou 4 dias'),\n",
    "                    conf_matrix_pd(conf_matrix[:,2], '5 a 10 dias'),\n",
    "                    conf_matrix_pd(conf_matrix[:,3], 'acima de 10 dias')],\n",
    "                    axis=1)\n",
    "\n",
    "def conf_matrix_pd(conf_matrix_class_result, label):\n",
    "  return pd.Series({'até 2 dias': conf_matrix_class_result[0],\n",
    "                    '3 ou 4 dias': conf_matrix_class_result[1],\n",
    "                    '5 a 10 dias': conf_matrix_class_result[2],\n",
    "                    'acima de 10 dias':conf_matrix_class_result[3]},\n",
    "                    name=label)\n",
    "\n",
    "pd_conf_matrix = create_conf_matrix_pd(confusion_matrix(y_test, y_test_pred))\n",
    "\n",
    "pd_conf_matrix"
   ]
  },
  {
   "cell_type": "markdown",
   "metadata": {
    "id": "tUAyYvQI8Kf5"
   },
   "source": [
    "Curva ROC"
   ]
  },
  {
   "cell_type": "code",
   "execution_count": null,
   "metadata": {
    "executionInfo": {
     "elapsed": 130514,
     "status": "aborted",
     "timestamp": 1606156828005,
     "user": {
      "displayName": "Leonardo Thurler",
      "photoUrl": "https://lh3.googleusercontent.com/a-/AOh14GhsXo-6tUwaShHAHh9mhAKCPxko9amceCKxJCpFkg=s64",
      "userId": "06725283277410010839"
     },
     "user_tz": 180
    },
    "id": "Z5TOQgKE8Kf5"
   },
   "outputs": [],
   "source": [
    "import matplotlib.pyplot as plt\n",
    "from sklearn.metrics import roc_curve, auc\n",
    "\n",
    "#y_score = clf.decision_function(X_test)\n",
    "y_score = clf.predict_proba(X_test)\n",
    "\n",
    "y_test_binarize = label_binarize(y_test, classes=[0, 1, 2, 3])\n",
    "n_classes = y_test_binarize.shape[1]\n",
    "\n",
    "# Compute ROC curve and ROC area for each class\n",
    "fpr = dict()\n",
    "tpr = dict()\n",
    "roc_auc = dict()\n",
    "for i in range(n_classes):\n",
    "    fpr[i], tpr[i], _ = roc_curve(y_test_binarize[:, i], y_score[:, i])\n",
    "    roc_auc[i] = auc(fpr[i], tpr[i])\n",
    "\n",
    "# Compute micro-average ROC curve and ROC area\n",
    "fpr[\"micro\"], tpr[\"micro\"], _ = roc_curve(y_test_binarize.ravel(), y_score.ravel())\n",
    "roc_auc[\"micro\"] = auc(fpr[\"micro\"], tpr[\"micro\"])\n",
    "\n",
    "plt.figure()\n",
    "lw = 2\n",
    "plt.plot(fpr[2], tpr[2], color='darkorange',\n",
    "         lw=lw, label='ROC curve (area = %0.2f)' % roc_auc[2])\n",
    "#plt.plot([0, 1], [0, 1], color='navy', lw=lw, linestyle='--')\n",
    "plt.xlim([-0.05, 1.05])\n",
    "plt.ylim([-0.05, 1.05])\n",
    "plt.xlabel('False Positive Rate')\n",
    "plt.ylabel('True Positive Rate')\n",
    "plt.title('Curva ROC - Naive Bayes - Modificar Depois %0.0f' % 0)\n",
    "plt.legend(loc=\"lower right\")\n",
    "plt.show()"
   ]
  },
  {
   "cell_type": "markdown",
   "metadata": {
    "id": "fcadKeOE69WZ"
   },
   "source": [
    "##kNN##"
   ]
  },
  {
   "cell_type": "code",
   "execution_count": null,
   "metadata": {
    "executionInfo": {
     "elapsed": 130512,
     "status": "aborted",
     "timestamp": 1606156828006,
     "user": {
      "displayName": "Leonardo Thurler",
      "photoUrl": "https://lh3.googleusercontent.com/a-/AOh14GhsXo-6tUwaShHAHh9mhAKCPxko9amceCKxJCpFkg=s64",
      "userId": "06725283277410010839"
     },
     "user_tz": 180
    },
    "id": "V-lBgvRx7Wu6"
   },
   "outputs": [],
   "source": [
    "from sklearn.neighbors import KNeighborsClassifier\n",
    "import time\n",
    "from sklearn.model_selection import cross_val_score\n",
    "from sklearn.model_selection import cross_val_score, StratifiedKFold\n",
    "from sklearn import preprocessing\n",
    "\n",
    "X = df.drop(['t_atendimento'],axis=1)\n",
    "#y = df['t_atendimento']\n",
    "y = np.array(df['t_atendimento'])\n",
    "\n",
    "X_train, X_test, y_train, y_test = \\\n",
    "        train_test_split(X, y, test_size=.1, random_state=42, stratify=y)\n",
    "\n",
    "K_VALUE = 10\n",
    "seed = 7\n",
    "stratifiedKfold = StratifiedKFold(n_splits=K_VALUE, random_state=seed, shuffle=True)\n",
    "\n",
    "clf_list = []\n",
    "k_list = []\n",
    "\n",
    "for i in range(1,15):\n",
    "  clf = clf = KNeighborsClassifier(n_neighbors=i)\n",
    "  clf_list.append(clf)\n",
    "  k_list.append(i)\n",
    "\n",
    "scores_list = []\n",
    "time_list = []\n",
    "for clf in clf_list:\n",
    "  inicio = time.time()\n",
    "  scores = cross_val_score(clf, X_train, y_train, cv=stratifiedKfold)\n",
    "  scores_list.append(scores)\n",
    "  fim = time.time()\n",
    "  time_list.append(fim - inicio)\n",
    "\n",
    "best_k = clf_list[0].n_neighbors\n",
    "best_score = mean_scores[0]\n",
    "best_score_std = mean_scores[0].std()\n",
    "\n",
    "for i in range(1,len(mean_scores)):\n",
    "  if best_score < mean_scores[i] or (best_score == mean_scores[i] and best_score_std < mean_scores[0].std()):\n",
    "    best_k = clf_list[i].n_neighbors\n",
    "    best_score = mean_scores[i]\n",
    "    best_score_std = mean_scores[i].std()\n",
    "\n",
    "scores_list = np.array(scores_list)\n",
    "mean_scores = scores_list.mean(axis=1)\n",
    "\n",
    "clf = KNeighborsClassifier(n_neighbors=best_k)\n",
    "clf.fit(X_train, y_train)\n",
    "score = clf.score(X_test, y_test)"
   ]
  },
  {
   "cell_type": "code",
   "execution_count": null,
   "metadata": {
    "executionInfo": {
     "elapsed": 130502,
     "status": "aborted",
     "timestamp": 1606156828006,
     "user": {
      "displayName": "Leonardo Thurler",
      "photoUrl": "https://lh3.googleusercontent.com/a-/AOh14GhsXo-6tUwaShHAHh9mhAKCPxko9amceCKxJCpFkg=s64",
      "userId": "06725283277410010839"
     },
     "user_tz": 180
    },
    "id": "hudMtDhX9Xd8"
   },
   "outputs": [],
   "source": [
    "score"
   ]
  },
  {
   "cell_type": "code",
   "execution_count": null,
   "metadata": {
    "executionInfo": {
     "elapsed": 130488,
     "status": "aborted",
     "timestamp": 1606156828008,
     "user": {
      "displayName": "Leonardo Thurler",
      "photoUrl": "https://lh3.googleusercontent.com/a-/AOh14GhsXo-6tUwaShHAHh9mhAKCPxko9amceCKxJCpFkg=s64",
      "userId": "06725283277410010839"
     },
     "user_tz": 180
    },
    "id": "s874UJNMQa37"
   },
   "outputs": [],
   "source": [
    "f, ax = plt.subplots(1, 2, figsize=(14,10))\n",
    "\n",
    "ax[0].plot(k_list,mean_scores)\n",
    "#ax[0].set_xlim(-1, max(k_list) + max(k_list) * 0.02)\n",
    "#ax[0].set_ylim(0.70, 1)\n",
    "#ax[0].set_ylim(min(mean_scores) - min(mean_scores) * 0.02, max(mean_scores) + max(mean_scores) * 0.02)\n",
    "ax[1].plot(k_list,time_list)"
   ]
  },
  {
   "cell_type": "markdown",
   "metadata": {
    "id": "Fm2fUQob8NEo"
   },
   "source": [
    "### Métricas, Matriz de confusão e curva roc"
   ]
  },
  {
   "cell_type": "markdown",
   "metadata": {
    "id": "IMAScvuq8NEp"
   },
   "source": [
    "Acurácia, precision, recall e f1"
   ]
  },
  {
   "cell_type": "code",
   "execution_count": null,
   "metadata": {
    "executionInfo": {
     "elapsed": 130478,
     "status": "aborted",
     "timestamp": 1606156828009,
     "user": {
      "displayName": "Leonardo Thurler",
      "photoUrl": "https://lh3.googleusercontent.com/a-/AOh14GhsXo-6tUwaShHAHh9mhAKCPxko9amceCKxJCpFkg=s64",
      "userId": "06725283277410010839"
     },
     "user_tz": 180
    },
    "id": "97YMkkxh8NEp"
   },
   "outputs": [],
   "source": [
    "from sklearn.metrics import accuracy_score, precision_score, recall_score, f1_score\n",
    "\n",
    "def create_pd_error_metrics(y_true, y_pred, label):\n",
    "  return pd.Series({'accuracy': accuracy_score(y_true, y_pred),\n",
    "                    'precision': precision_score(y_true, y_pred, average='micro'),\n",
    "                    'recall': recall_score(y_true, y_pred, average='micro'),\n",
    "                    'f1': f1_score(y_true, y_pred, average='micro')},\n",
    "                   name=label)\n",
    "\n",
    "y_train_pred = clf.predict(X_train)\n",
    "y_test_pred = clf.predict(X_test)\n",
    "\n",
    "pd_error_metrics = pd.concat([measure_erro(y_train, y_train_pred, 'Treinamento'),\n",
    "                              measure_erro(y_test, y_test_pred, 'Teste')],\n",
    "                              axis=1)\n",
    "\n",
    "pd_error_metrics"
   ]
  },
  {
   "cell_type": "markdown",
   "metadata": {
    "id": "YUNF3q278NEp"
   },
   "source": [
    "Matriz de confusão"
   ]
  },
  {
   "cell_type": "code",
   "execution_count": null,
   "metadata": {
    "executionInfo": {
     "elapsed": 130454,
     "status": "aborted",
     "timestamp": 1606156828009,
     "user": {
      "displayName": "Leonardo Thurler",
      "photoUrl": "https://lh3.googleusercontent.com/a-/AOh14GhsXo-6tUwaShHAHh9mhAKCPxko9amceCKxJCpFkg=s64",
      "userId": "06725283277410010839"
     },
     "user_tz": 180
    },
    "id": "e6sNi79h8NEp"
   },
   "outputs": [],
   "source": [
    "from sklearn.metrics import confusion_matrix\n",
    "\n",
    "def create_conf_matrix_pd(conf_matrix):\n",
    "  conf_matrix = np.array(conf_matrix)\n",
    "  return pd.concat([conf_matrix_pd(conf_matrix[:,0], 'até 2 dias'),\n",
    "                    conf_matrix_pd(conf_matrix[:,1], '3 ou 4 dias'),\n",
    "                    conf_matrix_pd(conf_matrix[:,2], '5 a 10 dias'),\n",
    "                    conf_matrix_pd(conf_matrix[:,3], 'acima de 10 dias')],\n",
    "                    axis=1)\n",
    "\n",
    "def conf_matrix_pd(conf_matrix_class_result, label):\n",
    "  return pd.Series({'até 2 dias': conf_matrix_class_result[0],\n",
    "                    '3 ou 4 dias': conf_matrix_class_result[1],\n",
    "                    '5 a 10 dias': conf_matrix_class_result[2],\n",
    "                    'acima de 10 dias':conf_matrix_class_result[3]},\n",
    "                    name=label)\n",
    "\n",
    "pd_conf_matrix = create_conf_matrix_pd(confusion_matrix(y_test, y_test_pred))\n",
    "\n",
    "pd_conf_matrix"
   ]
  },
  {
   "cell_type": "markdown",
   "metadata": {
    "id": "hDG0QUzH8NEp"
   },
   "source": [
    "Curva ROC"
   ]
  },
  {
   "cell_type": "code",
   "execution_count": null,
   "metadata": {
    "executionInfo": {
     "elapsed": 130440,
     "status": "aborted",
     "timestamp": 1606156828010,
     "user": {
      "displayName": "Leonardo Thurler",
      "photoUrl": "https://lh3.googleusercontent.com/a-/AOh14GhsXo-6tUwaShHAHh9mhAKCPxko9amceCKxJCpFkg=s64",
      "userId": "06725283277410010839"
     },
     "user_tz": 180
    },
    "id": "yyysIQYB8NEp"
   },
   "outputs": [],
   "source": [
    "import matplotlib.pyplot as plt\n",
    "from sklearn.metrics import roc_curve, auc\n",
    "\n",
    "#y_score = clf.decision_function(X_test)\n",
    "y_score = clf.predict_proba(X_test)\n",
    "\n",
    "y_test_binarize = label_binarize(y_test, classes=[0, 1, 2, 3])\n",
    "n_classes = y_test_binarize.shape[1]\n",
    "\n",
    "# Compute ROC curve and ROC area for each class\n",
    "fpr = dict()\n",
    "tpr = dict()\n",
    "roc_auc = dict()\n",
    "for i in range(n_classes):\n",
    "    fpr[i], tpr[i], _ = roc_curve(y_test_binarize[:, i], y_score[:, i])\n",
    "    roc_auc[i] = auc(fpr[i], tpr[i])\n",
    "\n",
    "# Compute micro-average ROC curve and ROC area\n",
    "fpr[\"micro\"], tpr[\"micro\"], _ = roc_curve(y_test_binarize.ravel(), y_score.ravel())\n",
    "roc_auc[\"micro\"] = auc(fpr[\"micro\"], tpr[\"micro\"])\n",
    "\n",
    "plt.figure()\n",
    "lw = 2\n",
    "plt.plot(fpr[2], tpr[2], color='darkorange',\n",
    "         lw=lw, label='ROC curve (area = %0.2f)' % roc_auc[2])\n",
    "#plt.plot([0, 1], [0, 1], color='navy', lw=lw, linestyle='--')\n",
    "plt.xlim([-0.05, 1.05])\n",
    "plt.ylim([-0.05, 1.05])\n",
    "plt.xlabel('False Positive Rate')\n",
    "plt.ylabel('True Positive Rate')\n",
    "plt.title('Curva ROC - KNN - K = %0.0f' % clf.n_neighbors)\n",
    "plt.legend(loc=\"lower right\")\n",
    "plt.show()"
   ]
  },
  {
   "cell_type": "markdown",
   "metadata": {
    "id": "dHB2efKp6mPT"
   },
   "source": [
    "##Auto Learner##"
   ]
  },
  {
   "cell_type": "markdown",
   "metadata": {
    "id": "aR1Xf9gVCKoH"
   },
   "source": [
    "### Install"
   ]
  },
  {
   "cell_type": "code",
   "execution_count": null,
   "metadata": {
    "executionInfo": {
     "elapsed": 130430,
     "status": "aborted",
     "timestamp": 1606156828011,
     "user": {
      "displayName": "Leonardo Thurler",
      "photoUrl": "https://lh3.googleusercontent.com/a-/AOh14GhsXo-6tUwaShHAHh9mhAKCPxko9amceCKxJCpFkg=s64",
      "userId": "06725283277410010839"
     },
     "user_tz": 180
    },
    "id": "7p9Rbp6ZCOd7"
   },
   "outputs": [],
   "source": [
    "!apt-get install swig -y\n",
    "!pip install Cython numpy\n",
    "\n",
    "# sometimes you have to run the next command twice on colab\n",
    "# I haven't figured out why\n",
    "!pip install auto-sklearn"
   ]
  },
  {
   "cell_type": "code",
   "execution_count": null,
   "metadata": {
    "executionInfo": {
     "elapsed": 130418,
     "status": "aborted",
     "timestamp": 1606156828011,
     "user": {
      "displayName": "Leonardo Thurler",
      "photoUrl": "https://lh3.googleusercontent.com/a-/AOh14GhsXo-6tUwaShHAHh9mhAKCPxko9amceCKxJCpFkg=s64",
      "userId": "06725283277410010839"
     },
     "user_tz": 180
    },
    "id": "eA0IPGQ_CwZA"
   },
   "outputs": [],
   "source": [
    "!curl https://raw.githubusercontent.com/automl/auto-sklearn/master/requirements.txt | xargs -n 1 -L 1 pip3 install\n",
    "!pip3 install auto-sklearn"
   ]
  },
  {
   "cell_type": "code",
   "execution_count": null,
   "metadata": {
    "executionInfo": {
     "elapsed": 130410,
     "status": "aborted",
     "timestamp": 1606156828013,
     "user": {
      "displayName": "Leonardo Thurler",
      "photoUrl": "https://lh3.googleusercontent.com/a-/AOh14GhsXo-6tUwaShHAHh9mhAKCPxko9amceCKxJCpFkg=s64",
      "userId": "06725283277410010839"
     },
     "user_tz": 180
    },
    "id": "7dfOR7IqDVKu"
   },
   "outputs": [],
   "source": [
    "!pip install auto-sklearn -U\n",
    "!pip install Cython -U\n",
    "!pip install numpy -U"
   ]
  },
  {
   "cell_type": "markdown",
   "metadata": {
    "id": "OI1Ej37ACSEe"
   },
   "source": [
    "### Use Auto Learn"
   ]
  },
  {
   "cell_type": "code",
   "execution_count": 155,
   "metadata": {
    "colab": {
     "base_uri": "https://localhost:8080/"
    },
    "executionInfo": {
     "elapsed": 125417,
     "status": "ok",
     "timestamp": 1606159556698,
     "user": {
      "displayName": "Leonardo Thurler",
      "photoUrl": "https://lh3.googleusercontent.com/a-/AOh14GhsXo-6tUwaShHAHh9mhAKCPxko9amceCKxJCpFkg=s64",
      "userId": "06725283277410010839"
     },
     "user_tz": 180
    },
    "id": "HQaP7_AK6lxb",
    "outputId": "c32c0ded-cee4-426d-ba1e-71c1303c46eb"
   },
   "outputs": [
    {
     "name": "stderr",
     "output_type": "stream",
     "text": [
      "/usr/local/lib/python3.6/dist-packages/distributed/node.py:155: UserWarning: Port 8787 is already in use.\n",
      "Perhaps you already have a cluster running?\n",
      "Hosting the HTTP server on port 38971 instead\n",
      "  http_address[\"port\"], self.http_server.port\n"
     ]
    },
    {
     "name": "stdout",
     "output_type": "stream",
     "text": [
      "[WARNING] [2020-11-23 19:23:54,993:AutoML(1):HSL Idade] Capping the per_run_time_limit to 59.0 to have time for a least 2 models in each process.\n"
     ]
    }
   ],
   "source": [
    "import autosklearn.classification\n",
    "import sklearn.model_selection\n",
    "import sklearn.datasets\n",
    "import sklearn.metrics\n",
    "\n",
    "X = df.drop(['t_atendimento'],axis=1)\n",
    "#y = df['t_atendimento']\n",
    "y = np.array(df['t_atendimento'])\n",
    "\n",
    "!rm -rf '/content/autosklearn_tmp_result'\n",
    "\n",
    "X_train, X_test, y_train, y_test = \\\n",
    "        sklearn.model_selection.train_test_split(X, y, random_state=1)\n",
    "\n",
    "automl = autosklearn.classification.AutoSklearnClassifier(\n",
    "          time_left_for_this_task=5*60, #segundos\n",
    "          #per_run_time_limit=30, #Parece ser o tempo máximo para uma chamada de machine learning, se passar desse tempo ele abrota e parte pra outra.\n",
    "          tmp_folder= '/content/autosklearn_tmp_result/autosklearn_classification_example_tmp',\n",
    "          output_folder='/content/autosklearn_tmp_result/autosklearn_classification_example_out',\n",
    "          n_jobs= 8, # não sei se o collab suporta 8, mas aqui colcoariamos quantos jobs o PC suporta\n",
    "          #ensemble_size=1, initial_configurations_via_metalearning=0 #Usar esses parâmetros se quisermos que o autolearning use apenas 1 classificador.\n",
    "          ) \n",
    "\n",
    "    \n",
    "automl.fit(X_train, y_train, dataset_name=\"HSL Idade\")\n",
    "y_hat = automl.predict(X_test)"
   ]
  },
  {
   "cell_type": "code",
   "execution_count": 156,
   "metadata": {
    "colab": {
     "base_uri": "https://localhost:8080/"
    },
    "executionInfo": {
     "elapsed": 1088,
     "status": "ok",
     "timestamp": 1606159576426,
     "user": {
      "displayName": "Leonardo Thurler",
      "photoUrl": "https://lh3.googleusercontent.com/a-/AOh14GhsXo-6tUwaShHAHh9mhAKCPxko9amceCKxJCpFkg=s64",
      "userId": "06725283277410010839"
     },
     "user_tz": 180
    },
    "id": "ESK4-B2ZZB3V",
    "outputId": "c0d37215-22f6-42e6-c693-f389c8e44763"
   },
   "outputs": [
    {
     "name": "stdout",
     "output_type": "stream",
     "text": [
      "Accuracy score 0.9057539682539683\n"
     ]
    }
   ],
   "source": [
    "print(\"Accuracy score\", sklearn.metrics.accuracy_score(y_test, y_hat))"
   ]
  },
  {
   "cell_type": "code",
   "execution_count": 157,
   "metadata": {
    "colab": {
     "base_uri": "https://localhost:8080/"
    },
    "executionInfo": {
     "elapsed": 917,
     "status": "ok",
     "timestamp": 1606159577904,
     "user": {
      "displayName": "Leonardo Thurler",
      "photoUrl": "https://lh3.googleusercontent.com/a-/AOh14GhsXo-6tUwaShHAHh9mhAKCPxko9amceCKxJCpFkg=s64",
      "userId": "06725283277410010839"
     },
     "user_tz": 180
    },
    "id": "QwUP5B_8fWdx",
    "outputId": "b1051537-51be-4afc-9dae-8af5738609f7"
   },
   "outputs": [
    {
     "name": "stdout",
     "output_type": "stream",
     "text": [
      "auto-sklearn results:\n",
      "  Dataset name: HSL Idade\n",
      "  Metric: accuracy\n",
      "  Best validation score: 0.907816\n",
      "  Number of target algorithm runs: 17\n",
      "  Number of successful target algorithm runs: 16\n",
      "  Number of crashed target algorithm runs: 0\n",
      "  Number of target algorithms that exceeded the time limit: 1\n",
      "  Number of target algorithms that exceeded the memory limit: 0\n",
      "\n"
     ]
    }
   ],
   "source": [
    "print(automl.sprint_statistics())"
   ]
  },
  {
   "cell_type": "code",
   "execution_count": 176,
   "metadata": {
    "colab": {
     "base_uri": "https://localhost:8080/"
    },
    "executionInfo": {
     "elapsed": 1213,
     "status": "ok",
     "timestamp": 1606161336291,
     "user": {
      "displayName": "Leonardo Thurler",
      "photoUrl": "https://lh3.googleusercontent.com/a-/AOh14GhsXo-6tUwaShHAHh9mhAKCPxko9amceCKxJCpFkg=s64",
      "userId": "06725283277410010839"
     },
     "user_tz": 180
    },
    "id": "wBCX28SDZBJO",
    "outputId": "129055ec-8201-4406-d274-5438f4095d4b"
   },
   "outputs": [
    {
     "name": "stdout",
     "output_type": "stream",
     "text": [
      "[(1.000000, SimpleClassificationPipeline({'balancing:strategy': 'none', 'classifier:__choice__': 'random_forest', 'data_preprocessing:categorical_transformer:categorical_encoding:__choice__': 'one_hot_encoding', 'data_preprocessing:categorical_transformer:category_coalescence:__choice__': 'minority_coalescer', 'data_preprocessing:numerical_transformer:imputation:strategy': 'mean', 'data_preprocessing:numerical_transformer:rescaling:__choice__': 'standardize', 'feature_preprocessor:__choice__': 'no_preprocessing', 'classifier:random_forest:bootstrap': 'True', 'classifier:random_forest:criterion': 'gini', 'classifier:random_forest:max_depth': 'None', 'classifier:random_forest:max_features': 0.5, 'classifier:random_forest:max_leaf_nodes': 'None', 'classifier:random_forest:min_impurity_decrease': 0.0, 'classifier:random_forest:min_samples_leaf': 1, 'classifier:random_forest:min_samples_split': 2, 'classifier:random_forest:min_weight_fraction_leaf': 0.0, 'data_preprocessing:categorical_transformer:category_coalescence:minority_coalescer:minimum_fraction': 0.01},\n",
      "dataset_properties={\n",
      "  'task': 1,\n",
      "  'sparse': False,\n",
      "  'multilabel': False,\n",
      "  'multiclass': False,\n",
      "  'target_type': 'classification',\n",
      "  'signed': False})),\n",
      "]\n"
     ]
    }
   ],
   "source": [
    "print(automl.show_models())"
   ]
  },
  {
   "cell_type": "code",
   "execution_count": 190,
   "metadata": {
    "colab": {
     "base_uri": "https://localhost:8080/"
    },
    "executionInfo": {
     "elapsed": 1567,
     "status": "ok",
     "timestamp": 1606162657163,
     "user": {
      "displayName": "Leonardo Thurler",
      "photoUrl": "https://lh3.googleusercontent.com/a-/AOh14GhsXo-6tUwaShHAHh9mhAKCPxko9amceCKxJCpFkg=s64",
      "userId": "06725283277410010839"
     },
     "user_tz": 180
    },
    "id": "_PgVSwa6eI_q",
    "outputId": "91af1b9e-b77d-4703-b6d6-1ec3268aa4da"
   },
   "outputs": [
    {
     "data": {
      "text/plain": [
       "[(1.0,\n",
       "  SimpleClassificationPipeline({'balancing:strategy': 'none', 'classifier:__choice__': 'random_forest', 'data_preprocessing:categorical_transformer:categorical_encoding:__choice__': 'one_hot_encoding', 'data_preprocessing:categorical_transformer:category_coalescence:__choice__': 'minority_coalescer', 'data_preprocessing:numerical_transformer:imputation:strategy': 'mean', 'data_preprocessing:numerical_transformer:rescaling:__choice__': 'standardize', 'feature_preprocessor:__choice__': 'no_preprocessing', 'classifier:random_forest:bootstrap': 'True', 'classifier:random_forest:criterion': 'gini', 'classifier:random_forest:max_depth': 'None', 'classifier:random_forest:max_features': 0.5, 'classifier:random_forest:max_leaf_nodes': 'None', 'classifier:random_forest:min_impurity_decrease': 0.0, 'classifier:random_forest:min_samples_leaf': 1, 'classifier:random_forest:min_samples_split': 2, 'classifier:random_forest:min_weight_fraction_leaf': 0.0, 'data_preprocessing:categorical_transformer:category_coalescence:minority_coalescer:minimum_fraction': 0.01},\n",
       "  dataset_properties={\n",
       "    'task': 1,\n",
       "    'sparse': False,\n",
       "    'multilabel': False,\n",
       "    'multiclass': False,\n",
       "    'target_type': 'classification',\n",
       "    'signed': False}))]"
      ]
     },
     "execution_count": 190,
     "metadata": {
      "tags": []
     },
     "output_type": "execute_result"
    }
   ],
   "source": [
    "automl.get_models_with_weights()"
   ]
  },
  {
   "cell_type": "code",
   "execution_count": 192,
   "metadata": {
    "colab": {
     "base_uri": "https://localhost:8080/"
    },
    "executionInfo": {
     "elapsed": 1004,
     "status": "ok",
     "timestamp": 1606162676045,
     "user": {
      "displayName": "Leonardo Thurler",
      "photoUrl": "https://lh3.googleusercontent.com/a-/AOh14GhsXo-6tUwaShHAHh9mhAKCPxko9amceCKxJCpFkg=s64",
      "userId": "06725283277410010839"
     },
     "user_tz": 180
    },
    "id": "Okmb8AJWmoBl",
    "outputId": "73963963-c40b-48ed-f657-06e2d3fe63a8"
   },
   "outputs": [
    {
     "name": "stdout",
     "output_type": "stream",
     "text": [
      "17\n",
      "1\n"
     ]
    }
   ],
   "source": [
    "print(len(automl.automl_.runhistory_.data))\n",
    "print(len(automl.get_models_with_weights()))"
   ]
  },
  {
   "cell_type": "code",
   "execution_count": 193,
   "metadata": {
    "colab": {
     "base_uri": "https://localhost:8080/"
    },
    "executionInfo": {
     "elapsed": 1615,
     "status": "ok",
     "timestamp": 1606162811018,
     "user": {
      "displayName": "Leonardo Thurler",
      "photoUrl": "https://lh3.googleusercontent.com/a-/AOh14GhsXo-6tUwaShHAHh9mhAKCPxko9amceCKxJCpFkg=s64",
      "userId": "06725283277410010839"
     },
     "user_tz": 180
    },
    "id": "f4ebQRgWwflh",
    "outputId": "eb0bb89f-0b9c-4d37-a827-4314efffd8b1"
   },
   "outputs": [
    {
     "data": {
      "text/plain": [
       "[(1.0,\n",
       "  SimpleClassificationPipeline({'balancing:strategy': 'none', 'classifier:__choice__': 'random_forest', 'data_preprocessing:categorical_transformer:categorical_encoding:__choice__': 'one_hot_encoding', 'data_preprocessing:categorical_transformer:category_coalescence:__choice__': 'minority_coalescer', 'data_preprocessing:numerical_transformer:imputation:strategy': 'mean', 'data_preprocessing:numerical_transformer:rescaling:__choice__': 'standardize', 'feature_preprocessor:__choice__': 'no_preprocessing', 'classifier:random_forest:bootstrap': 'True', 'classifier:random_forest:criterion': 'gini', 'classifier:random_forest:max_depth': 'None', 'classifier:random_forest:max_features': 0.5, 'classifier:random_forest:max_leaf_nodes': 'None', 'classifier:random_forest:min_impurity_decrease': 0.0, 'classifier:random_forest:min_samples_leaf': 1, 'classifier:random_forest:min_samples_split': 2, 'classifier:random_forest:min_weight_fraction_leaf': 0.0, 'data_preprocessing:categorical_transformer:category_coalescence:minority_coalescer:minimum_fraction': 0.01},\n",
       "  dataset_properties={\n",
       "    'task': 1,\n",
       "    'sparse': False,\n",
       "    'multilabel': False,\n",
       "    'multiclass': False,\n",
       "    'target_type': 'classification',\n",
       "    'signed': False}))]"
      ]
     },
     "execution_count": 193,
     "metadata": {
      "tags": []
     },
     "output_type": "execute_result"
    }
   ],
   "source": [
    "def create_conf_matrix_pd(conf_matrix, model_name):\n",
    "  conf_matrix = np.array(conf_matrix)\n",
    "  return pd.concat([conf_matrix_pd(conf_matrix[:,0], model_name),\n",
    "                    conf_matrix_pd(conf_matrix[:,1], model_name),\n",
    "                    conf_matrix_pd(conf_matrix[:,2], model_name),\n",
    "                    conf_matrix_pd(conf_matrix[:,3], model_name)],\n",
    "                    axis=1)\n",
    "\n",
    "def conf_matrix_pd(conf_matrix_class_result, label):\n",
    "  return pd.Series({'Acurácia': conf_matrix_class_result[0],\n",
    "                    'Tempo de Treinamento': conf_matrix_class_result[1],\n",
    "                    '5 a 10 dias': conf_matrix_class_result[2],\n",
    "                    'acima de 10 dias':conf_matrix_class_result[3]},\n",
    "                    name=label)\n",
    "\n",
    "model_count = len(automl.get_models_with_weights()\n",
    "\n",
    "params\n",
    "for i in range(0, model_count):\n",
    "\n",
    "\n",
    "\n",
    "print(len(automl.cv_results_['mean_test_score']))"
   ]
  },
  {
   "cell_type": "code",
   "execution_count": null,
   "metadata": {
    "id": "xQLJgajNwfjf"
   },
   "outputs": [],
   "source": []
  },
  {
   "cell_type": "markdown",
   "metadata": {
    "id": "A2f47GIZwgPd"
   },
   "source": [
    "####  Outras informações importantes"
   ]
  },
  {
   "cell_type": "code",
   "execution_count": null,
   "metadata": {
    "id": "49n6YwSjqwr7"
   },
   "outputs": [],
   "source": [
    "for run_key in automl.automl_.runhistory_.data:\n",
    "    print('#########')\n",
    "    print(\"Run Key\")\n",
    "    print(\"  Configuration ID:\", run_key.config_id)\n",
    "    print(\"  Instance:\", run_key.instance_id)\n",
    "    print(\"  Seed:\", run_key.seed)\n",
    "    print(\"  Budget:\", run_key.budget)\n",
    "    run_value = automl.automl_.runhistory_.data[run_key]\n",
    "    print(\"Run Value\")\n",
    "    print(\"  Cost:\", run_value.cost)\n",
    "    print(\"  Time:\", run_value.time)\n",
    "    print(\"  Status:\", run_value.status)\n",
    "    print(\"  Additional information:\", run_value.additional_info)\n",
    "    print(\"  Start time:\", run_value.starttime)\n",
    "    print(\"  End time\", run_value.endtime)\n",
    "    print(automl.automl_.runhistory_.ids_config[run_key.config_id])"
   ]
  },
  {
   "cell_type": "code",
   "execution_count": null,
   "metadata": {
    "id": "3kw0MtcBpZ1h"
   },
   "outputs": [],
   "source": [
    " losses_and_configurations = [\n",
    "    (run_value.cost, run_key.config_id)\n",
    "    for run_key, run_value in automl.automl_.runhistory_.data.items()\n",
    "]\n",
    "losses_and_configurations.sort()\n",
    "print(\"Lowest loss:\", losses_and_configurations[0][0])\n",
    "print(\n",
    "    \"Best configuration:\",\n",
    "    automl.automl_.runhistory_.ids_config[losses_and_configurations[0][1]]\n",
    ")\n",
    "\n",
    "print(\n",
    "    \"Second Best configuration:\",\n",
    "    automl.automl_.runhistory_.ids_config[losses_and_configurations[1][1]]\n",
    ")"
   ]
  },
  {
   "cell_type": "code",
   "execution_count": 210,
   "metadata": {
    "colab": {
     "base_uri": "https://localhost:8080/"
    },
    "executionInfo": {
     "elapsed": 1262,
     "status": "ok",
     "timestamp": 1606163883282,
     "user": {
      "displayName": "Leonardo Thurler",
      "photoUrl": "https://lh3.googleusercontent.com/a-/AOh14GhsXo-6tUwaShHAHh9mhAKCPxko9amceCKxJCpFkg=s64",
      "userId": "06725283277410010839"
     },
     "user_tz": 180
    },
    "id": "yceJKh6dzQJi",
    "outputId": "1bb53968-ae96-45d6-d297-87a8bc41bd53"
   },
   "outputs": [
    {
     "data": {
      "text/plain": [
       "Configuration:\n",
       "  balancing:strategy, Value: 'none'\n",
       "  classifier:__choice__, Value: 'random_forest'\n",
       "  classifier:random_forest:bootstrap, Value: 'True'\n",
       "  classifier:random_forest:criterion, Value: 'gini'\n",
       "  classifier:random_forest:max_depth, Constant: 'None'\n",
       "  classifier:random_forest:max_features, Value: 0.5\n",
       "  classifier:random_forest:max_leaf_nodes, Constant: 'None'\n",
       "  classifier:random_forest:min_impurity_decrease, Constant: 0.0\n",
       "  classifier:random_forest:min_samples_leaf, Value: 1\n",
       "  classifier:random_forest:min_samples_split, Value: 2\n",
       "  classifier:random_forest:min_weight_fraction_leaf, Constant: 0.0\n",
       "  data_preprocessing:categorical_transformer:categorical_encoding:__choice__, Value: 'one_hot_encoding'\n",
       "  data_preprocessing:categorical_transformer:category_coalescence:__choice__, Value: 'minority_coalescer'\n",
       "  data_preprocessing:categorical_transformer:category_coalescence:minority_coalescer:minimum_fraction, Value: 0.01\n",
       "  data_preprocessing:numerical_transformer:imputation:strategy, Value: 'mean'\n",
       "  data_preprocessing:numerical_transformer:rescaling:__choice__, Value: 'standardize'\n",
       "  feature_preprocessor:__choice__, Value: 'no_preprocessing'"
      ]
     },
     "execution_count": 210,
     "metadata": {
      "tags": []
     },
     "output_type": "execute_result"
    }
   ],
   "source": [
    "automl.automl_.runhistory_.ids_config[losses_and_configurations[0][1]]\n"
   ]
  },
  {
   "cell_type": "code",
   "execution_count": null,
   "metadata": {
    "id": "XftmicbXsr0d"
   },
   "outputs": [],
   "source": [
    "losses_and_configurations"
   ]
  },
  {
   "cell_type": "code",
   "execution_count": 195,
   "metadata": {
    "colab": {
     "base_uri": "https://localhost:8080/"
    },
    "executionInfo": {
     "elapsed": 1152,
     "status": "ok",
     "timestamp": 1606163358871,
     "user": {
      "displayName": "Leonardo Thurler",
      "photoUrl": "https://lh3.googleusercontent.com/a-/AOh14GhsXo-6tUwaShHAHh9mhAKCPxko9amceCKxJCpFkg=s64",
      "userId": "06725283277410010839"
     },
     "user_tz": 180
    },
    "id": "G9Hx8D49qGPh",
    "outputId": "6a64534a-4ed4-43d6-eef0-ec3d980bf7cd"
   },
   "outputs": [
    {
     "name": "stdout",
     "output_type": "stream",
     "text": [
      "17\n",
      "{'mean_test_score': array([0.90781563, 0.85771543, 0.85671343, 0.8507014 , 0.8747495 ,\n",
      "       0.81863727, 0.81963928, 0.88376754, 0.8246493 , 0.63226453,\n",
      "       0.85871743, 0.61523046, 0.67935872, 0.90280561, 0.84769539,\n",
      "       0.86673347, 0.        ]), 'mean_fit_time': array([33.19072676, 14.6823132 , 37.17400956, 27.36511493, 16.52602124,\n",
      "       15.2402246 , 32.03987384, 29.99838948, 25.88125873, 13.1432333 ,\n",
      "        6.14832616,  5.85154462,  6.24873614,  6.45644546, 10.23396134,\n",
      "        7.1605556 , 11.79589248]), 'params': [{'balancing:strategy': 'none', 'classifier:__choice__': 'random_forest', 'data_preprocessing:categorical_transformer:categorical_encoding:__choice__': 'one_hot_encoding', 'data_preprocessing:categorical_transformer:category_coalescence:__choice__': 'minority_coalescer', 'data_preprocessing:numerical_transformer:imputation:strategy': 'mean', 'data_preprocessing:numerical_transformer:rescaling:__choice__': 'standardize', 'feature_preprocessor:__choice__': 'no_preprocessing', 'classifier:random_forest:bootstrap': 'True', 'classifier:random_forest:criterion': 'gini', 'classifier:random_forest:max_depth': 'None', 'classifier:random_forest:max_features': 0.5, 'classifier:random_forest:max_leaf_nodes': 'None', 'classifier:random_forest:min_impurity_decrease': 0.0, 'classifier:random_forest:min_samples_leaf': 1, 'classifier:random_forest:min_samples_split': 2, 'classifier:random_forest:min_weight_fraction_leaf': 0.0, 'data_preprocessing:categorical_transformer:category_coalescence:minority_coalescer:minimum_fraction': 0.01}, {'balancing:strategy': 'none', 'classifier:__choice__': 'qda', 'data_preprocessing:categorical_transformer:categorical_encoding:__choice__': 'no_encoding', 'data_preprocessing:categorical_transformer:category_coalescence:__choice__': 'minority_coalescer', 'data_preprocessing:numerical_transformer:imputation:strategy': 'most_frequent', 'data_preprocessing:numerical_transformer:rescaling:__choice__': 'none', 'feature_preprocessor:__choice__': 'no_preprocessing', 'classifier:qda:reg_param': 0.563056219822946, 'data_preprocessing:categorical_transformer:category_coalescence:minority_coalescer:minimum_fraction': 0.32793677336996485}, {'balancing:strategy': 'none', 'classifier:__choice__': 'adaboost', 'data_preprocessing:categorical_transformer:categorical_encoding:__choice__': 'no_encoding', 'data_preprocessing:categorical_transformer:category_coalescence:__choice__': 'minority_coalescer', 'data_preprocessing:numerical_transformer:imputation:strategy': 'mean', 'data_preprocessing:numerical_transformer:rescaling:__choice__': 'standardize', 'feature_preprocessor:__choice__': 'pca', 'classifier:adaboost:algorithm': 'SAMME', 'classifier:adaboost:learning_rate': 0.011233995624432622, 'classifier:adaboost:max_depth': 9, 'classifier:adaboost:n_estimators': 477, 'data_preprocessing:categorical_transformer:category_coalescence:minority_coalescer:minimum_fraction': 0.018370622484682127, 'feature_preprocessor:pca:keep_variance': 0.6039710338898471, 'feature_preprocessor:pca:whiten': 'False'}, {'balancing:strategy': 'weighting', 'classifier:__choice__': 'extra_trees', 'data_preprocessing:categorical_transformer:categorical_encoding:__choice__': 'no_encoding', 'data_preprocessing:categorical_transformer:category_coalescence:__choice__': 'minority_coalescer', 'data_preprocessing:numerical_transformer:imputation:strategy': 'most_frequent', 'data_preprocessing:numerical_transformer:rescaling:__choice__': 'robust_scaler', 'feature_preprocessor:__choice__': 'select_percentile_classification', 'classifier:extra_trees:bootstrap': 'True', 'classifier:extra_trees:criterion': 'gini', 'classifier:extra_trees:max_depth': 'None', 'classifier:extra_trees:max_features': 0.0024973654342370644, 'classifier:extra_trees:max_leaf_nodes': 'None', 'classifier:extra_trees:min_impurity_decrease': 0.0, 'classifier:extra_trees:min_samples_leaf': 8, 'classifier:extra_trees:min_samples_split': 17, 'classifier:extra_trees:min_weight_fraction_leaf': 0.0, 'data_preprocessing:categorical_transformer:category_coalescence:minority_coalescer:minimum_fraction': 0.0005369564422140658, 'data_preprocessing:numerical_transformer:rescaling:robust_scaler:q_max': 0.7035080427408148, 'data_preprocessing:numerical_transformer:rescaling:robust_scaler:q_min': 0.14004557827630734, 'feature_preprocessor:select_percentile_classification:percentile': 46.88926055749217, 'feature_preprocessor:select_percentile_classification:score_func': 'f_classif'}, {'balancing:strategy': 'weighting', 'classifier:__choice__': 'lda', 'data_preprocessing:categorical_transformer:categorical_encoding:__choice__': 'one_hot_encoding', 'data_preprocessing:categorical_transformer:category_coalescence:__choice__': 'minority_coalescer', 'data_preprocessing:numerical_transformer:imputation:strategy': 'most_frequent', 'data_preprocessing:numerical_transformer:rescaling:__choice__': 'quantile_transformer', 'feature_preprocessor:__choice__': 'select_rates_classification', 'classifier:lda:n_components': 36, 'classifier:lda:shrinkage': 'None', 'classifier:lda:tol': 2.3710114338481657e-05, 'data_preprocessing:categorical_transformer:category_coalescence:minority_coalescer:minimum_fraction': 0.09714797870026229, 'data_preprocessing:numerical_transformer:rescaling:quantile_transformer:n_quantiles': 507, 'data_preprocessing:numerical_transformer:rescaling:quantile_transformer:output_distribution': 'normal', 'feature_preprocessor:select_rates_classification:alpha': 0.05939339489050012, 'feature_preprocessor:select_rates_classification:score_func': 'chi2', 'feature_preprocessor:select_rates_classification:mode': 'fwe'}, {'balancing:strategy': 'weighting', 'classifier:__choice__': 'decision_tree', 'data_preprocessing:categorical_transformer:categorical_encoding:__choice__': 'no_encoding', 'data_preprocessing:categorical_transformer:category_coalescence:__choice__': 'minority_coalescer', 'data_preprocessing:numerical_transformer:imputation:strategy': 'most_frequent', 'data_preprocessing:numerical_transformer:rescaling:__choice__': 'minmax', 'feature_preprocessor:__choice__': 'select_rates_classification', 'classifier:decision_tree:criterion': 'gini', 'classifier:decision_tree:max_depth_factor': 0.5967167783656537, 'classifier:decision_tree:max_features': 1.0, 'classifier:decision_tree:max_leaf_nodes': 'None', 'classifier:decision_tree:min_impurity_decrease': 0.0, 'classifier:decision_tree:min_samples_leaf': 14, 'classifier:decision_tree:min_samples_split': 7, 'classifier:decision_tree:min_weight_fraction_leaf': 0.0, 'data_preprocessing:categorical_transformer:category_coalescence:minority_coalescer:minimum_fraction': 0.049532726032678734, 'feature_preprocessor:select_rates_classification:alpha': 0.24931757724702427, 'feature_preprocessor:select_rates_classification:score_func': 'chi2', 'feature_preprocessor:select_rates_classification:mode': 'fpr'}, {'balancing:strategy': 'none', 'classifier:__choice__': 'random_forest', 'data_preprocessing:categorical_transformer:categorical_encoding:__choice__': 'one_hot_encoding', 'data_preprocessing:categorical_transformer:category_coalescence:__choice__': 'no_coalescense', 'data_preprocessing:numerical_transformer:imputation:strategy': 'median', 'data_preprocessing:numerical_transformer:rescaling:__choice__': 'normalize', 'feature_preprocessor:__choice__': 'select_rates_classification', 'classifier:random_forest:bootstrap': 'False', 'classifier:random_forest:criterion': 'gini', 'classifier:random_forest:max_depth': 'None', 'classifier:random_forest:max_features': 0.6863684793773653, 'classifier:random_forest:max_leaf_nodes': 'None', 'classifier:random_forest:min_impurity_decrease': 0.0, 'classifier:random_forest:min_samples_leaf': 17, 'classifier:random_forest:min_samples_split': 9, 'classifier:random_forest:min_weight_fraction_leaf': 0.0, 'feature_preprocessor:select_rates_classification:alpha': 0.33248403770519114, 'feature_preprocessor:select_rates_classification:score_func': 'mutual_info_classif'}, {'balancing:strategy': 'none', 'classifier:__choice__': 'random_forest', 'data_preprocessing:categorical_transformer:categorical_encoding:__choice__': 'one_hot_encoding', 'data_preprocessing:categorical_transformer:category_coalescence:__choice__': 'minority_coalescer', 'data_preprocessing:numerical_transformer:imputation:strategy': 'mean', 'data_preprocessing:numerical_transformer:rescaling:__choice__': 'quantile_transformer', 'feature_preprocessor:__choice__': 'select_rates_classification', 'classifier:random_forest:bootstrap': 'False', 'classifier:random_forest:criterion': 'gini', 'classifier:random_forest:max_depth': 'None', 'classifier:random_forest:max_features': 0.49962915089088544, 'classifier:random_forest:max_leaf_nodes': 'None', 'classifier:random_forest:min_impurity_decrease': 0.0, 'classifier:random_forest:min_samples_leaf': 13, 'classifier:random_forest:min_samples_split': 6, 'classifier:random_forest:min_weight_fraction_leaf': 0.0, 'data_preprocessing:categorical_transformer:category_coalescence:minority_coalescer:minimum_fraction': 0.07120745279358993, 'data_preprocessing:numerical_transformer:rescaling:quantile_transformer:n_quantiles': 873, 'data_preprocessing:numerical_transformer:rescaling:quantile_transformer:output_distribution': 'normal', 'feature_preprocessor:select_rates_classification:alpha': 0.46152960880442023, 'feature_preprocessor:select_rates_classification:score_func': 'f_classif', 'feature_preprocessor:select_rates_classification:mode': 'fdr'}, {'balancing:strategy': 'none', 'classifier:__choice__': 'random_forest', 'data_preprocessing:categorical_transformer:categorical_encoding:__choice__': 'no_encoding', 'data_preprocessing:categorical_transformer:category_coalescence:__choice__': 'minority_coalescer', 'data_preprocessing:numerical_transformer:imputation:strategy': 'mean', 'data_preprocessing:numerical_transformer:rescaling:__choice__': 'normalize', 'feature_preprocessor:__choice__': 'liblinear_svc_preprocessor', 'classifier:random_forest:bootstrap': 'False', 'classifier:random_forest:criterion': 'gini', 'classifier:random_forest:max_depth': 'None', 'classifier:random_forest:max_features': 0.8922281110541623, 'classifier:random_forest:max_leaf_nodes': 'None', 'classifier:random_forest:min_impurity_decrease': 0.0, 'classifier:random_forest:min_samples_leaf': 1, 'classifier:random_forest:min_samples_split': 2, 'classifier:random_forest:min_weight_fraction_leaf': 0.0, 'data_preprocessing:categorical_transformer:category_coalescence:minority_coalescer:minimum_fraction': 0.12041549352468073, 'feature_preprocessor:liblinear_svc_preprocessor:C': 54.18874690759593, 'feature_preprocessor:liblinear_svc_preprocessor:dual': 'False', 'feature_preprocessor:liblinear_svc_preprocessor:fit_intercept': 'True', 'feature_preprocessor:liblinear_svc_preprocessor:intercept_scaling': 1, 'feature_preprocessor:liblinear_svc_preprocessor:loss': 'squared_hinge', 'feature_preprocessor:liblinear_svc_preprocessor:multi_class': 'ovr', 'feature_preprocessor:liblinear_svc_preprocessor:penalty': 'l1', 'feature_preprocessor:liblinear_svc_preprocessor:tol': 2.4751957388330944e-05}, {'balancing:strategy': 'weighting', 'classifier:__choice__': 'passive_aggressive', 'data_preprocessing:categorical_transformer:categorical_encoding:__choice__': 'no_encoding', 'data_preprocessing:categorical_transformer:category_coalescence:__choice__': 'no_coalescense', 'data_preprocessing:numerical_transformer:imputation:strategy': 'most_frequent', 'data_preprocessing:numerical_transformer:rescaling:__choice__': 'quantile_transformer', 'feature_preprocessor:__choice__': 'kernel_pca', 'classifier:passive_aggressive:C': 0.5256016455455816, 'classifier:passive_aggressive:average': 'False', 'classifier:passive_aggressive:fit_intercept': 'True', 'classifier:passive_aggressive:loss': 'squared_hinge', 'classifier:passive_aggressive:tol': 0.00017189238503181187, 'data_preprocessing:numerical_transformer:rescaling:quantile_transformer:n_quantiles': 238, 'data_preprocessing:numerical_transformer:rescaling:quantile_transformer:output_distribution': 'normal', 'feature_preprocessor:kernel_pca:kernel': 'sigmoid', 'feature_preprocessor:kernel_pca:n_components': 319, 'feature_preprocessor:kernel_pca:coef0': 0.11069328023465297}, {'balancing:strategy': 'none', 'classifier:__choice__': 'k_nearest_neighbors', 'data_preprocessing:categorical_transformer:categorical_encoding:__choice__': 'one_hot_encoding', 'data_preprocessing:categorical_transformer:category_coalescence:__choice__': 'no_coalescense', 'data_preprocessing:numerical_transformer:imputation:strategy': 'median', 'data_preprocessing:numerical_transformer:rescaling:__choice__': 'robust_scaler', 'feature_preprocessor:__choice__': 'no_preprocessing', 'classifier:k_nearest_neighbors:n_neighbors': 1, 'classifier:k_nearest_neighbors:p': 1, 'classifier:k_nearest_neighbors:weights': 'uniform', 'data_preprocessing:numerical_transformer:rescaling:robust_scaler:q_max': 0.895766008886671, 'data_preprocessing:numerical_transformer:rescaling:robust_scaler:q_min': 0.1846463255110784}, {'balancing:strategy': 'weighting', 'classifier:__choice__': 'passive_aggressive', 'data_preprocessing:categorical_transformer:categorical_encoding:__choice__': 'no_encoding', 'data_preprocessing:categorical_transformer:category_coalescence:__choice__': 'minority_coalescer', 'data_preprocessing:numerical_transformer:imputation:strategy': 'most_frequent', 'data_preprocessing:numerical_transformer:rescaling:__choice__': 'quantile_transformer', 'feature_preprocessor:__choice__': 'extra_trees_preproc_for_classification', 'classifier:passive_aggressive:C': 0.0007919706548631837, 'classifier:passive_aggressive:average': 'False', 'classifier:passive_aggressive:fit_intercept': 'True', 'classifier:passive_aggressive:loss': 'hinge', 'classifier:passive_aggressive:tol': 0.002818482044070504, 'data_preprocessing:categorical_transformer:category_coalescence:minority_coalescer:minimum_fraction': 0.026160003338691788, 'data_preprocessing:numerical_transformer:rescaling:quantile_transformer:n_quantiles': 47, 'data_preprocessing:numerical_transformer:rescaling:quantile_transformer:output_distribution': 'normal', 'feature_preprocessor:extra_trees_preproc_for_classification:bootstrap': 'False', 'feature_preprocessor:extra_trees_preproc_for_classification:criterion': 'entropy', 'feature_preprocessor:extra_trees_preproc_for_classification:max_depth': 'None', 'feature_preprocessor:extra_trees_preproc_for_classification:max_features': 0.6350244133152473, 'feature_preprocessor:extra_trees_preproc_for_classification:max_leaf_nodes': 'None', 'feature_preprocessor:extra_trees_preproc_for_classification:min_impurity_decrease': 0.0, 'feature_preprocessor:extra_trees_preproc_for_classification:min_samples_leaf': 4, 'feature_preprocessor:extra_trees_preproc_for_classification:min_samples_split': 4, 'feature_preprocessor:extra_trees_preproc_for_classification:min_weight_fraction_leaf': 0.0, 'feature_preprocessor:extra_trees_preproc_for_classification:n_estimators': 100}, {'balancing:strategy': 'weighting', 'classifier:__choice__': 'libsvm_svc', 'data_preprocessing:categorical_transformer:categorical_encoding:__choice__': 'no_encoding', 'data_preprocessing:categorical_transformer:category_coalescence:__choice__': 'minority_coalescer', 'data_preprocessing:numerical_transformer:imputation:strategy': 'most_frequent', 'data_preprocessing:numerical_transformer:rescaling:__choice__': 'quantile_transformer', 'feature_preprocessor:__choice__': 'liblinear_svc_preprocessor', 'classifier:libsvm_svc:C': 0.2888944010135817, 'classifier:libsvm_svc:gamma': 0.0007054394169202689, 'classifier:libsvm_svc:kernel': 'sigmoid', 'classifier:libsvm_svc:max_iter': -1, 'classifier:libsvm_svc:shrinking': 'False', 'classifier:libsvm_svc:tol': 0.0014089323453045227, 'data_preprocessing:categorical_transformer:category_coalescence:minority_coalescer:minimum_fraction': 0.0014822200123276448, 'data_preprocessing:numerical_transformer:rescaling:quantile_transformer:n_quantiles': 248, 'data_preprocessing:numerical_transformer:rescaling:quantile_transformer:output_distribution': 'normal', 'feature_preprocessor:liblinear_svc_preprocessor:C': 0.6470347493323446, 'feature_preprocessor:liblinear_svc_preprocessor:dual': 'False', 'feature_preprocessor:liblinear_svc_preprocessor:fit_intercept': 'True', 'feature_preprocessor:liblinear_svc_preprocessor:intercept_scaling': 1, 'feature_preprocessor:liblinear_svc_preprocessor:loss': 'squared_hinge', 'feature_preprocessor:liblinear_svc_preprocessor:multi_class': 'ovr', 'feature_preprocessor:liblinear_svc_preprocessor:penalty': 'l1', 'feature_preprocessor:liblinear_svc_preprocessor:tol': 0.09481510408825908, 'classifier:libsvm_svc:coef0': -0.8030586466182505}, {'balancing:strategy': 'none', 'classifier:__choice__': 'liblinear_svc', 'data_preprocessing:categorical_transformer:categorical_encoding:__choice__': 'one_hot_encoding', 'data_preprocessing:categorical_transformer:category_coalescence:__choice__': 'no_coalescense', 'data_preprocessing:numerical_transformer:imputation:strategy': 'median', 'data_preprocessing:numerical_transformer:rescaling:__choice__': 'standardize', 'feature_preprocessor:__choice__': 'polynomial', 'classifier:liblinear_svc:C': 2412.425219502801, 'classifier:liblinear_svc:dual': 'False', 'classifier:liblinear_svc:fit_intercept': 'True', 'classifier:liblinear_svc:intercept_scaling': 1, 'classifier:liblinear_svc:loss': 'squared_hinge', 'classifier:liblinear_svc:multi_class': 'ovr', 'classifier:liblinear_svc:penalty': 'l2', 'classifier:liblinear_svc:tol': 0.00031775022226773227, 'feature_preprocessor:polynomial:degree': 2, 'feature_preprocessor:polynomial:include_bias': 'False', 'feature_preprocessor:polynomial:interaction_only': 'True'}, {'balancing:strategy': 'weighting', 'classifier:__choice__': 'extra_trees', 'data_preprocessing:categorical_transformer:categorical_encoding:__choice__': 'one_hot_encoding', 'data_preprocessing:categorical_transformer:category_coalescence:__choice__': 'no_coalescense', 'data_preprocessing:numerical_transformer:imputation:strategy': 'median', 'data_preprocessing:numerical_transformer:rescaling:__choice__': 'normalize', 'feature_preprocessor:__choice__': 'extra_trees_preproc_for_classification', 'classifier:extra_trees:bootstrap': 'False', 'classifier:extra_trees:criterion': 'gini', 'classifier:extra_trees:max_depth': 'None', 'classifier:extra_trees:max_features': 0.6680194786271751, 'classifier:extra_trees:max_leaf_nodes': 'None', 'classifier:extra_trees:min_impurity_decrease': 0.0, 'classifier:extra_trees:min_samples_leaf': 1, 'classifier:extra_trees:min_samples_split': 13, 'classifier:extra_trees:min_weight_fraction_leaf': 0.0, 'feature_preprocessor:extra_trees_preproc_for_classification:bootstrap': 'True', 'feature_preprocessor:extra_trees_preproc_for_classification:criterion': 'entropy', 'feature_preprocessor:extra_trees_preproc_for_classification:max_depth': 'None', 'feature_preprocessor:extra_trees_preproc_for_classification:max_features': 0.33460702708301115, 'feature_preprocessor:extra_trees_preproc_for_classification:max_leaf_nodes': 'None', 'feature_preprocessor:extra_trees_preproc_for_classification:min_impurity_decrease': 0.0, 'feature_preprocessor:extra_trees_preproc_for_classification:min_samples_leaf': 9, 'feature_preprocessor:extra_trees_preproc_for_classification:min_samples_split': 20, 'feature_preprocessor:extra_trees_preproc_for_classification:min_weight_fraction_leaf': 0.0, 'feature_preprocessor:extra_trees_preproc_for_classification:n_estimators': 100}, {'balancing:strategy': 'weighting', 'classifier:__choice__': 'k_nearest_neighbors', 'data_preprocessing:categorical_transformer:categorical_encoding:__choice__': 'no_encoding', 'data_preprocessing:categorical_transformer:category_coalescence:__choice__': 'no_coalescense', 'data_preprocessing:numerical_transformer:imputation:strategy': 'median', 'data_preprocessing:numerical_transformer:rescaling:__choice__': 'quantile_transformer', 'feature_preprocessor:__choice__': 'feature_agglomeration', 'classifier:k_nearest_neighbors:n_neighbors': 4, 'classifier:k_nearest_neighbors:p': 1, 'classifier:k_nearest_neighbors:weights': 'uniform', 'data_preprocessing:numerical_transformer:rescaling:quantile_transformer:n_quantiles': 333, 'data_preprocessing:numerical_transformer:rescaling:quantile_transformer:output_distribution': 'uniform', 'feature_preprocessor:feature_agglomeration:affinity': 'euclidean', 'feature_preprocessor:feature_agglomeration:linkage': 'average', 'feature_preprocessor:feature_agglomeration:n_clusters': 311, 'feature_preprocessor:feature_agglomeration:pooling_func': 'max'}, {'balancing:strategy': 'none', 'classifier:__choice__': 'gradient_boosting', 'data_preprocessing:categorical_transformer:categorical_encoding:__choice__': 'no_encoding', 'data_preprocessing:categorical_transformer:category_coalescence:__choice__': 'no_coalescense', 'data_preprocessing:numerical_transformer:imputation:strategy': 'most_frequent', 'data_preprocessing:numerical_transformer:rescaling:__choice__': 'minmax', 'feature_preprocessor:__choice__': 'no_preprocessing', 'classifier:gradient_boosting:early_stop': 'off', 'classifier:gradient_boosting:l2_regularization': 7.5491217926152955e-06, 'classifier:gradient_boosting:learning_rate': 0.07530458433022891, 'classifier:gradient_boosting:loss': 'auto', 'classifier:gradient_boosting:max_bins': 255, 'classifier:gradient_boosting:max_depth': 'None', 'classifier:gradient_boosting:max_leaf_nodes': 607, 'classifier:gradient_boosting:min_samples_leaf': 32, 'classifier:gradient_boosting:scoring': 'loss', 'classifier:gradient_boosting:tol': 1e-07}], 'rank_test_scores': array([ 1,  7,  8,  9,  4, 13, 12,  3, 11, 15,  6, 16, 14,  2, 10,  5, 17]), 'status': ['Success', 'Success', 'Success', 'Success', 'Success', 'Success', 'Success', 'Success', 'Success', 'Success', 'Success', 'Success', 'Success', 'Success', 'Success', 'Success', 'Timeout'], 'budgets': [0.0, 0.0, 0.0, 0.0, 0.0, 0.0, 0.0, 0.0, 0.0, 0.0, 0.0, 0.0, 0.0, 0.0, 0.0, 0.0, 0.0], 'param_balancing:strategy': masked_array(data=['none', 'none', 'none', 'weighting', 'weighting',\n",
      "                   'weighting', 'none', 'none', 'none', 'weighting',\n",
      "                   'none', 'weighting', 'weighting', 'none', 'weighting',\n",
      "                   'weighting', 'none'],\n",
      "             mask=[False, False, False, False, False, False, False, False,\n",
      "                   False, False, False, False, False, False, False, False,\n",
      "                   False],\n",
      "       fill_value='N/A',\n",
      "            dtype='<U9'), 'param_classifier:__choice__': masked_array(data=['random_forest', 'qda', 'adaboost', 'extra_trees',\n",
      "                   'lda', 'decision_tree', 'random_forest',\n",
      "                   'random_forest', 'random_forest', 'passive_aggressive',\n",
      "                   'k_nearest_neighbors', 'passive_aggressive',\n",
      "                   'libsvm_svc', 'liblinear_svc', 'extra_trees',\n",
      "                   'k_nearest_neighbors', 'gradient_boosting'],\n",
      "             mask=[False, False, False, False, False, False, False, False,\n",
      "                   False, False, False, False, False, False, False, False,\n",
      "                   False],\n",
      "       fill_value='N/A',\n",
      "            dtype='<U19'), 'param_data_preprocessing:categorical_transformer:categorical_encoding:__choice__': masked_array(data=['one_hot_encoding', 'no_encoding', 'no_encoding',\n",
      "                   'no_encoding', 'one_hot_encoding', 'no_encoding',\n",
      "                   'one_hot_encoding', 'one_hot_encoding', 'no_encoding',\n",
      "                   'no_encoding', 'one_hot_encoding', 'no_encoding',\n",
      "                   'no_encoding', 'one_hot_encoding', 'one_hot_encoding',\n",
      "                   'no_encoding', 'no_encoding'],\n",
      "             mask=[False, False, False, False, False, False, False, False,\n",
      "                   False, False, False, False, False, False, False, False,\n",
      "                   False],\n",
      "       fill_value='N/A',\n",
      "            dtype='<U16'), 'param_data_preprocessing:categorical_transformer:category_coalescence:__choice__': masked_array(data=['minority_coalescer', 'minority_coalescer',\n",
      "                   'minority_coalescer', 'minority_coalescer',\n",
      "                   'minority_coalescer', 'minority_coalescer',\n",
      "                   'no_coalescense', 'minority_coalescer',\n",
      "                   'minority_coalescer', 'no_coalescense',\n",
      "                   'no_coalescense', 'minority_coalescer',\n",
      "                   'minority_coalescer', 'no_coalescense',\n",
      "                   'no_coalescense', 'no_coalescense', 'no_coalescense'],\n",
      "             mask=[False, False, False, False, False, False, False, False,\n",
      "                   False, False, False, False, False, False, False, False,\n",
      "                   False],\n",
      "       fill_value='N/A',\n",
      "            dtype='<U18'), 'param_data_preprocessing:numerical_transformer:imputation:strategy': masked_array(data=['mean', 'most_frequent', 'mean', 'most_frequent',\n",
      "                   'most_frequent', 'most_frequent', 'median', 'mean',\n",
      "                   'mean', 'most_frequent', 'median', 'most_frequent',\n",
      "                   'most_frequent', 'median', 'median', 'median',\n",
      "                   'most_frequent'],\n",
      "             mask=[False, False, False, False, False, False, False, False,\n",
      "                   False, False, False, False, False, False, False, False,\n",
      "                   False],\n",
      "       fill_value='N/A',\n",
      "            dtype='<U13'), 'param_data_preprocessing:numerical_transformer:rescaling:__choice__': masked_array(data=['standardize', 'none', 'standardize', 'robust_scaler',\n",
      "                   'quantile_transformer', 'minmax', 'normalize',\n",
      "                   'quantile_transformer', 'normalize',\n",
      "                   'quantile_transformer', 'robust_scaler',\n",
      "                   'quantile_transformer', 'quantile_transformer',\n",
      "                   'standardize', 'normalize', 'quantile_transformer',\n",
      "                   'minmax'],\n",
      "             mask=[False, False, False, False, False, False, False, False,\n",
      "                   False, False, False, False, False, False, False, False,\n",
      "                   False],\n",
      "       fill_value='N/A',\n",
      "            dtype='<U20'), 'param_feature_preprocessor:__choice__': masked_array(data=['no_preprocessing', 'no_preprocessing', 'pca',\n",
      "                   'select_percentile_classification',\n",
      "                   'select_rates_classification',\n",
      "                   'select_rates_classification',\n",
      "                   'select_rates_classification',\n",
      "                   'select_rates_classification',\n",
      "                   'liblinear_svc_preprocessor', 'kernel_pca',\n",
      "                   'no_preprocessing',\n",
      "                   'extra_trees_preproc_for_classification',\n",
      "                   'liblinear_svc_preprocessor', 'polynomial',\n",
      "                   'extra_trees_preproc_for_classification',\n",
      "                   'feature_agglomeration', 'no_preprocessing'],\n",
      "             mask=[False, False, False, False, False, False, False, False,\n",
      "                   False, False, False, False, False, False, False, False,\n",
      "                   False],\n",
      "       fill_value='N/A',\n",
      "            dtype='<U38'), 'param_classifier:adaboost:algorithm': masked_array(data=[--, --, 'SAMME', --, --, --, --, --, --, --, --, --,\n",
      "                   --, --, --, --, --],\n",
      "             mask=[ True,  True, False,  True,  True,  True,  True,  True,\n",
      "                    True,  True,  True,  True,  True,  True,  True,  True,\n",
      "                    True],\n",
      "       fill_value='N/A',\n",
      "            dtype='<U32'), 'param_classifier:adaboost:learning_rate': masked_array(data=[--, --, 0.011233995624432622, --, --, --, --, --, --,\n",
      "                   --, --, --, --, --, --, --, --],\n",
      "             mask=[ True,  True, False,  True,  True,  True,  True,  True,\n",
      "                    True,  True,  True,  True,  True,  True,  True,  True,\n",
      "                    True],\n",
      "       fill_value=1e+20), 'param_classifier:adaboost:max_depth': masked_array(data=[--, --, 9.0, --, --, --, --, --, --, --, --, --, --,\n",
      "                   --, --, --, --],\n",
      "             mask=[ True,  True, False,  True,  True,  True,  True,  True,\n",
      "                    True,  True,  True,  True,  True,  True,  True,  True,\n",
      "                    True],\n",
      "       fill_value=1e+20), 'param_classifier:adaboost:n_estimators': masked_array(data=[--, --, 477.0, --, --, --, --, --, --, --, --, --, --,\n",
      "                   --, --, --, --],\n",
      "             mask=[ True,  True, False,  True,  True,  True,  True,  True,\n",
      "                    True,  True,  True,  True,  True,  True,  True,  True,\n",
      "                    True],\n",
      "       fill_value=1e+20), 'param_classifier:bernoulli_nb:alpha': masked_array(data=[--, --, --, --, --, --, --, --, --, --, --, --, --, --,\n",
      "                   --, --, --],\n",
      "             mask=[ True,  True,  True,  True,  True,  True,  True,  True,\n",
      "                    True,  True,  True,  True,  True,  True,  True,  True,\n",
      "                    True],\n",
      "       fill_value=1e+20,\n",
      "            dtype=float64), 'param_classifier:bernoulli_nb:fit_prior': masked_array(data=[--, --, --, --, --, --, --, --, --, --, --, --, --, --,\n",
      "                   --, --, --],\n",
      "             mask=[ True,  True,  True,  True,  True,  True,  True,  True,\n",
      "                    True,  True,  True,  True,  True,  True,  True,  True,\n",
      "                    True],\n",
      "       fill_value=1e+20,\n",
      "            dtype=float64), 'param_classifier:decision_tree:criterion': masked_array(data=[--, --, --, --, --, 'gini', --, --, --, --, --, --, --,\n",
      "                   --, --, --, --],\n",
      "             mask=[ True,  True,  True,  True,  True, False,  True,  True,\n",
      "                    True,  True,  True,  True,  True,  True,  True,  True,\n",
      "                    True],\n",
      "       fill_value='N/A',\n",
      "            dtype='<U32'), 'param_classifier:decision_tree:max_depth_factor': masked_array(data=[--, --, --, --, --, 0.5967167783656537, --, --, --, --,\n",
      "                   --, --, --, --, --, --, --],\n",
      "             mask=[ True,  True,  True,  True,  True, False,  True,  True,\n",
      "                    True,  True,  True,  True,  True,  True,  True,  True,\n",
      "                    True],\n",
      "       fill_value=1e+20), 'param_classifier:decision_tree:max_features': masked_array(data=[--, --, --, --, --, 1.0, --, --, --, --, --, --, --,\n",
      "                   --, --, --, --],\n",
      "             mask=[ True,  True,  True,  True,  True, False,  True,  True,\n",
      "                    True,  True,  True,  True,  True,  True,  True,  True,\n",
      "                    True],\n",
      "       fill_value=1e+20), 'param_classifier:decision_tree:max_leaf_nodes': masked_array(data=[--, --, --, --, --, 'None', --, --, --, --, --, --, --,\n",
      "                   --, --, --, --],\n",
      "             mask=[ True,  True,  True,  True,  True, False,  True,  True,\n",
      "                    True,  True,  True,  True,  True,  True,  True,  True,\n",
      "                    True],\n",
      "       fill_value='N/A',\n",
      "            dtype='<U32'), 'param_classifier:decision_tree:min_impurity_decrease': masked_array(data=[--, --, --, --, --, 0.0, --, --, --, --, --, --, --,\n",
      "                   --, --, --, --],\n",
      "             mask=[ True,  True,  True,  True,  True, False,  True,  True,\n",
      "                    True,  True,  True,  True,  True,  True,  True,  True,\n",
      "                    True],\n",
      "       fill_value=1e+20), 'param_classifier:decision_tree:min_samples_leaf': masked_array(data=[--, --, --, --, --, 14.0, --, --, --, --, --, --, --,\n",
      "                   --, --, --, --],\n",
      "             mask=[ True,  True,  True,  True,  True, False,  True,  True,\n",
      "                    True,  True,  True,  True,  True,  True,  True,  True,\n",
      "                    True],\n",
      "       fill_value=1e+20), 'param_classifier:decision_tree:min_samples_split': masked_array(data=[--, --, --, --, --, 7.0, --, --, --, --, --, --, --,\n",
      "                   --, --, --, --],\n",
      "             mask=[ True,  True,  True,  True,  True, False,  True,  True,\n",
      "                    True,  True,  True,  True,  True,  True,  True,  True,\n",
      "                    True],\n",
      "       fill_value=1e+20), 'param_classifier:decision_tree:min_weight_fraction_leaf': masked_array(data=[--, --, --, --, --, 0.0, --, --, --, --, --, --, --,\n",
      "                   --, --, --, --],\n",
      "             mask=[ True,  True,  True,  True,  True, False,  True,  True,\n",
      "                    True,  True,  True,  True,  True,  True,  True,  True,\n",
      "                    True],\n",
      "       fill_value=1e+20), 'param_classifier:extra_trees:bootstrap': masked_array(data=[--, --, --, 'True', --, --, --, --, --, --, --, --, --,\n",
      "                   --, 'False', --, --],\n",
      "             mask=[ True,  True,  True, False,  True,  True,  True,  True,\n",
      "                    True,  True,  True,  True,  True,  True, False,  True,\n",
      "                    True],\n",
      "       fill_value='N/A',\n",
      "            dtype='<U32'), 'param_classifier:extra_trees:criterion': masked_array(data=[--, --, --, 'gini', --, --, --, --, --, --, --, --, --,\n",
      "                   --, 'gini', --, --],\n",
      "             mask=[ True,  True,  True, False,  True,  True,  True,  True,\n",
      "                    True,  True,  True,  True,  True,  True, False,  True,\n",
      "                    True],\n",
      "       fill_value='N/A',\n",
      "            dtype='<U32'), 'param_classifier:extra_trees:max_depth': masked_array(data=[--, --, --, 'None', --, --, --, --, --, --, --, --, --,\n",
      "                   --, 'None', --, --],\n",
      "             mask=[ True,  True,  True, False,  True,  True,  True,  True,\n",
      "                    True,  True,  True,  True,  True,  True, False,  True,\n",
      "                    True],\n",
      "       fill_value='N/A',\n",
      "            dtype='<U32'), 'param_classifier:extra_trees:max_features': masked_array(data=[--, --, --, 0.0024973654342370644, --, --, --, --, --,\n",
      "                   --, --, --, --, --, 0.6680194786271751, --, --],\n",
      "             mask=[ True,  True,  True, False,  True,  True,  True,  True,\n",
      "                    True,  True,  True,  True,  True,  True, False,  True,\n",
      "                    True],\n",
      "       fill_value=1e+20), 'param_classifier:extra_trees:max_leaf_nodes': masked_array(data=[--, --, --, 'None', --, --, --, --, --, --, --, --, --,\n",
      "                   --, 'None', --, --],\n",
      "             mask=[ True,  True,  True, False,  True,  True,  True,  True,\n",
      "                    True,  True,  True,  True,  True,  True, False,  True,\n",
      "                    True],\n",
      "       fill_value='N/A',\n",
      "            dtype='<U32'), 'param_classifier:extra_trees:min_impurity_decrease': masked_array(data=[--, --, --, 0.0, --, --, --, --, --, --, --, --, --,\n",
      "                   --, 0.0, --, --],\n",
      "             mask=[ True,  True,  True, False,  True,  True,  True,  True,\n",
      "                    True,  True,  True,  True,  True,  True, False,  True,\n",
      "                    True],\n",
      "       fill_value=1e+20), 'param_classifier:extra_trees:min_samples_leaf': masked_array(data=[--, --, --, 8.0, --, --, --, --, --, --, --, --, --,\n",
      "                   --, 1.0, --, --],\n",
      "             mask=[ True,  True,  True, False,  True,  True,  True,  True,\n",
      "                    True,  True,  True,  True,  True,  True, False,  True,\n",
      "                    True],\n",
      "       fill_value=1e+20), 'param_classifier:extra_trees:min_samples_split': masked_array(data=[--, --, --, 17.0, --, --, --, --, --, --, --, --, --,\n",
      "                   --, 13.0, --, --],\n",
      "             mask=[ True,  True,  True, False,  True,  True,  True,  True,\n",
      "                    True,  True,  True,  True,  True,  True, False,  True,\n",
      "                    True],\n",
      "       fill_value=1e+20), 'param_classifier:extra_trees:min_weight_fraction_leaf': masked_array(data=[--, --, --, 0.0, --, --, --, --, --, --, --, --, --,\n",
      "                   --, 0.0, --, --],\n",
      "             mask=[ True,  True,  True, False,  True,  True,  True,  True,\n",
      "                    True,  True,  True,  True,  True,  True, False,  True,\n",
      "                    True],\n",
      "       fill_value=1e+20), 'param_classifier:gradient_boosting:early_stop': masked_array(data=[--, --, --, --, --, --, --, --, --, --, --, --, --, --,\n",
      "                   --, --, 'off'],\n",
      "             mask=[ True,  True,  True,  True,  True,  True,  True,  True,\n",
      "                    True,  True,  True,  True,  True,  True,  True,  True,\n",
      "                   False],\n",
      "       fill_value='N/A',\n",
      "            dtype='<U32'), 'param_classifier:gradient_boosting:l2_regularization': masked_array(data=[--, --, --, --, --, --, --, --, --, --, --, --, --, --,\n",
      "                   --, --, 7.5491217926152955e-06],\n",
      "             mask=[ True,  True,  True,  True,  True,  True,  True,  True,\n",
      "                    True,  True,  True,  True,  True,  True,  True,  True,\n",
      "                   False],\n",
      "       fill_value=1e+20), 'param_classifier:gradient_boosting:learning_rate': masked_array(data=[--, --, --, --, --, --, --, --, --, --, --, --, --, --,\n",
      "                   --, --, 0.07530458433022891],\n",
      "             mask=[ True,  True,  True,  True,  True,  True,  True,  True,\n",
      "                    True,  True,  True,  True,  True,  True,  True,  True,\n",
      "                   False],\n",
      "       fill_value=1e+20), 'param_classifier:gradient_boosting:loss': masked_array(data=[--, --, --, --, --, --, --, --, --, --, --, --, --, --,\n",
      "                   --, --, 'auto'],\n",
      "             mask=[ True,  True,  True,  True,  True,  True,  True,  True,\n",
      "                    True,  True,  True,  True,  True,  True,  True,  True,\n",
      "                   False],\n",
      "       fill_value='N/A',\n",
      "            dtype='<U32'), 'param_classifier:gradient_boosting:max_bins': masked_array(data=[--, --, --, --, --, --, --, --, --, --, --, --, --, --,\n",
      "                   --, --, 255.0],\n",
      "             mask=[ True,  True,  True,  True,  True,  True,  True,  True,\n",
      "                    True,  True,  True,  True,  True,  True,  True,  True,\n",
      "                   False],\n",
      "       fill_value=1e+20), 'param_classifier:gradient_boosting:max_depth': masked_array(data=[--, --, --, --, --, --, --, --, --, --, --, --, --, --,\n",
      "                   --, --, 'None'],\n",
      "             mask=[ True,  True,  True,  True,  True,  True,  True,  True,\n",
      "                    True,  True,  True,  True,  True,  True,  True,  True,\n",
      "                   False],\n",
      "       fill_value='N/A',\n",
      "            dtype='<U32'), 'param_classifier:gradient_boosting:max_leaf_nodes': masked_array(data=[--, --, --, --, --, --, --, --, --, --, --, --, --, --,\n",
      "                   --, --, 607.0],\n",
      "             mask=[ True,  True,  True,  True,  True,  True,  True,  True,\n",
      "                    True,  True,  True,  True,  True,  True,  True,  True,\n",
      "                   False],\n",
      "       fill_value=1e+20), 'param_classifier:gradient_boosting:min_samples_leaf': masked_array(data=[--, --, --, --, --, --, --, --, --, --, --, --, --, --,\n",
      "                   --, --, 32.0],\n",
      "             mask=[ True,  True,  True,  True,  True,  True,  True,  True,\n",
      "                    True,  True,  True,  True,  True,  True,  True,  True,\n",
      "                   False],\n",
      "       fill_value=1e+20), 'param_classifier:gradient_boosting:scoring': masked_array(data=[--, --, --, --, --, --, --, --, --, --, --, --, --, --,\n",
      "                   --, --, 'loss'],\n",
      "             mask=[ True,  True,  True,  True,  True,  True,  True,  True,\n",
      "                    True,  True,  True,  True,  True,  True,  True,  True,\n",
      "                   False],\n",
      "       fill_value='N/A',\n",
      "            dtype='<U32'), 'param_classifier:gradient_boosting:tol': masked_array(data=[--, --, --, --, --, --, --, --, --, --, --, --, --, --,\n",
      "                   --, --, 1e-07],\n",
      "             mask=[ True,  True,  True,  True,  True,  True,  True,  True,\n",
      "                    True,  True,  True,  True,  True,  True,  True,  True,\n",
      "                   False],\n",
      "       fill_value=1e+20), 'param_classifier:k_nearest_neighbors:n_neighbors': masked_array(data=[--, --, --, --, --, --, --, --, --, --, 1.0, --, --,\n",
      "                   --, --, 4.0, --],\n",
      "             mask=[ True,  True,  True,  True,  True,  True,  True,  True,\n",
      "                    True,  True, False,  True,  True,  True,  True, False,\n",
      "                    True],\n",
      "       fill_value=1e+20), 'param_classifier:k_nearest_neighbors:p': masked_array(data=[--, --, --, --, --, --, --, --, --, --, 1.0, --, --,\n",
      "                   --, --, 1.0, --],\n",
      "             mask=[ True,  True,  True,  True,  True,  True,  True,  True,\n",
      "                    True,  True, False,  True,  True,  True,  True, False,\n",
      "                    True],\n",
      "       fill_value=1e+20), 'param_classifier:k_nearest_neighbors:weights': masked_array(data=[--, --, --, --, --, --, --, --, --, --, 'uniform', --,\n",
      "                   --, --, --, 'uniform', --],\n",
      "             mask=[ True,  True,  True,  True,  True,  True,  True,  True,\n",
      "                    True,  True, False,  True,  True,  True,  True, False,\n",
      "                    True],\n",
      "       fill_value='N/A',\n",
      "            dtype='<U32'), 'param_classifier:lda:n_components': masked_array(data=[--, --, --, --, 36.0, --, --, --, --, --, --, --, --,\n",
      "                   --, --, --, --],\n",
      "             mask=[ True,  True,  True,  True, False,  True,  True,  True,\n",
      "                    True,  True,  True,  True,  True,  True,  True,  True,\n",
      "                    True],\n",
      "       fill_value=1e+20), 'param_classifier:lda:shrinkage': masked_array(data=[--, --, --, --, 'None', --, --, --, --, --, --, --, --,\n",
      "                   --, --, --, --],\n",
      "             mask=[ True,  True,  True,  True, False,  True,  True,  True,\n",
      "                    True,  True,  True,  True,  True,  True,  True,  True,\n",
      "                    True],\n",
      "       fill_value='N/A',\n",
      "            dtype='<U32'), 'param_classifier:lda:tol': masked_array(data=[--, --, --, --, 2.3710114338481657e-05, --, --, --, --,\n",
      "                   --, --, --, --, --, --, --, --],\n",
      "             mask=[ True,  True,  True,  True, False,  True,  True,  True,\n",
      "                    True,  True,  True,  True,  True,  True,  True,  True,\n",
      "                    True],\n",
      "       fill_value=1e+20), 'param_classifier:liblinear_svc:C': masked_array(data=[--, --, --, --, --, --, --, --, --, --, --, --, --,\n",
      "                   2412.425219502801, --, --, --],\n",
      "             mask=[ True,  True,  True,  True,  True,  True,  True,  True,\n",
      "                    True,  True,  True,  True,  True, False,  True,  True,\n",
      "                    True],\n",
      "       fill_value=1e+20), 'param_classifier:liblinear_svc:dual': masked_array(data=[--, --, --, --, --, --, --, --, --, --, --, --, --,\n",
      "                   'False', --, --, --],\n",
      "             mask=[ True,  True,  True,  True,  True,  True,  True,  True,\n",
      "                    True,  True,  True,  True,  True, False,  True,  True,\n",
      "                    True],\n",
      "       fill_value='N/A',\n",
      "            dtype='<U32'), 'param_classifier:liblinear_svc:fit_intercept': masked_array(data=[--, --, --, --, --, --, --, --, --, --, --, --, --,\n",
      "                   'True', --, --, --],\n",
      "             mask=[ True,  True,  True,  True,  True,  True,  True,  True,\n",
      "                    True,  True,  True,  True,  True, False,  True,  True,\n",
      "                    True],\n",
      "       fill_value='N/A',\n",
      "            dtype='<U32'), 'param_classifier:liblinear_svc:intercept_scaling': masked_array(data=[--, --, --, --, --, --, --, --, --, --, --, --, --,\n",
      "                   1.0, --, --, --],\n",
      "             mask=[ True,  True,  True,  True,  True,  True,  True,  True,\n",
      "                    True,  True,  True,  True,  True, False,  True,  True,\n",
      "                    True],\n",
      "       fill_value=1e+20), 'param_classifier:liblinear_svc:loss': masked_array(data=[--, --, --, --, --, --, --, --, --, --, --, --, --,\n",
      "                   'squared_hinge', --, --, --],\n",
      "             mask=[ True,  True,  True,  True,  True,  True,  True,  True,\n",
      "                    True,  True,  True,  True,  True, False,  True,  True,\n",
      "                    True],\n",
      "       fill_value='N/A',\n",
      "            dtype='<U32'), 'param_classifier:liblinear_svc:multi_class': masked_array(data=[--, --, --, --, --, --, --, --, --, --, --, --, --,\n",
      "                   'ovr', --, --, --],\n",
      "             mask=[ True,  True,  True,  True,  True,  True,  True,  True,\n",
      "                    True,  True,  True,  True,  True, False,  True,  True,\n",
      "                    True],\n",
      "       fill_value='N/A',\n",
      "            dtype='<U32'), 'param_classifier:liblinear_svc:penalty': masked_array(data=[--, --, --, --, --, --, --, --, --, --, --, --, --,\n",
      "                   'l2', --, --, --],\n",
      "             mask=[ True,  True,  True,  True,  True,  True,  True,  True,\n",
      "                    True,  True,  True,  True,  True, False,  True,  True,\n",
      "                    True],\n",
      "       fill_value='N/A',\n",
      "            dtype='<U32'), 'param_classifier:liblinear_svc:tol': masked_array(data=[--, --, --, --, --, --, --, --, --, --, --, --, --,\n",
      "                   0.00031775022226773227, --, --, --],\n",
      "             mask=[ True,  True,  True,  True,  True,  True,  True,  True,\n",
      "                    True,  True,  True,  True,  True, False,  True,  True,\n",
      "                    True],\n",
      "       fill_value=1e+20), 'param_classifier:libsvm_svc:C': masked_array(data=[--, --, --, --, --, --, --, --, --, --, --, --,\n",
      "                   0.2888944010135817, --, --, --, --],\n",
      "             mask=[ True,  True,  True,  True,  True,  True,  True,  True,\n",
      "                    True,  True,  True,  True, False,  True,  True,  True,\n",
      "                    True],\n",
      "       fill_value=1e+20), 'param_classifier:libsvm_svc:gamma': masked_array(data=[--, --, --, --, --, --, --, --, --, --, --, --,\n",
      "                   0.0007054394169202689, --, --, --, --],\n",
      "             mask=[ True,  True,  True,  True,  True,  True,  True,  True,\n",
      "                    True,  True,  True,  True, False,  True,  True,  True,\n",
      "                    True],\n",
      "       fill_value=1e+20), 'param_classifier:libsvm_svc:kernel': masked_array(data=[--, --, --, --, --, --, --, --, --, --, --, --,\n",
      "                   'sigmoid', --, --, --, --],\n",
      "             mask=[ True,  True,  True,  True,  True,  True,  True,  True,\n",
      "                    True,  True,  True,  True, False,  True,  True,  True,\n",
      "                    True],\n",
      "       fill_value='N/A',\n",
      "            dtype='<U32'), 'param_classifier:libsvm_svc:max_iter': masked_array(data=[--, --, --, --, --, --, --, --, --, --, --, --, -1.0,\n",
      "                   --, --, --, --],\n",
      "             mask=[ True,  True,  True,  True,  True,  True,  True,  True,\n",
      "                    True,  True,  True,  True, False,  True,  True,  True,\n",
      "                    True],\n",
      "       fill_value=1e+20), 'param_classifier:libsvm_svc:shrinking': masked_array(data=[--, --, --, --, --, --, --, --, --, --, --, --,\n",
      "                   'False', --, --, --, --],\n",
      "             mask=[ True,  True,  True,  True,  True,  True,  True,  True,\n",
      "                    True,  True,  True,  True, False,  True,  True,  True,\n",
      "                    True],\n",
      "       fill_value='N/A',\n",
      "            dtype='<U32'), 'param_classifier:libsvm_svc:tol': masked_array(data=[--, --, --, --, --, --, --, --, --, --, --, --,\n",
      "                   0.0014089323453045227, --, --, --, --],\n",
      "             mask=[ True,  True,  True,  True,  True,  True,  True,  True,\n",
      "                    True,  True,  True,  True, False,  True,  True,  True,\n",
      "                    True],\n",
      "       fill_value=1e+20), 'param_classifier:multinomial_nb:alpha': masked_array(data=[--, --, --, --, --, --, --, --, --, --, --, --, --, --,\n",
      "                   --, --, --],\n",
      "             mask=[ True,  True,  True,  True,  True,  True,  True,  True,\n",
      "                    True,  True,  True,  True,  True,  True,  True,  True,\n",
      "                    True],\n",
      "       fill_value=1e+20,\n",
      "            dtype=float64), 'param_classifier:multinomial_nb:fit_prior': masked_array(data=[--, --, --, --, --, --, --, --, --, --, --, --, --, --,\n",
      "                   --, --, --],\n",
      "             mask=[ True,  True,  True,  True,  True,  True,  True,  True,\n",
      "                    True,  True,  True,  True,  True,  True,  True,  True,\n",
      "                    True],\n",
      "       fill_value=1e+20,\n",
      "            dtype=float64), 'param_classifier:passive_aggressive:C': masked_array(data=[--, --, --, --, --, --, --, --, --, 0.5256016455455816,\n",
      "                   --, 0.0007919706548631837, --, --, --, --, --],\n",
      "             mask=[ True,  True,  True,  True,  True,  True,  True,  True,\n",
      "                    True, False,  True, False,  True,  True,  True,  True,\n",
      "                    True],\n",
      "       fill_value=1e+20), 'param_classifier:passive_aggressive:average': masked_array(data=[--, --, --, --, --, --, --, --, --, 'False', --,\n",
      "                   'False', --, --, --, --, --],\n",
      "             mask=[ True,  True,  True,  True,  True,  True,  True,  True,\n",
      "                    True, False,  True, False,  True,  True,  True,  True,\n",
      "                    True],\n",
      "       fill_value='N/A',\n",
      "            dtype='<U32'), 'param_classifier:passive_aggressive:fit_intercept': masked_array(data=[--, --, --, --, --, --, --, --, --, 'True', --, 'True',\n",
      "                   --, --, --, --, --],\n",
      "             mask=[ True,  True,  True,  True,  True,  True,  True,  True,\n",
      "                    True, False,  True, False,  True,  True,  True,  True,\n",
      "                    True],\n",
      "       fill_value='N/A',\n",
      "            dtype='<U32'), 'param_classifier:passive_aggressive:loss': masked_array(data=[--, --, --, --, --, --, --, --, --, 'squared_hinge',\n",
      "                   --, 'hinge', --, --, --, --, --],\n",
      "             mask=[ True,  True,  True,  True,  True,  True,  True,  True,\n",
      "                    True, False,  True, False,  True,  True,  True,  True,\n",
      "                    True],\n",
      "       fill_value='N/A',\n",
      "            dtype='<U32'), 'param_classifier:passive_aggressive:tol': masked_array(data=[--, --, --, --, --, --, --, --, --,\n",
      "                   0.00017189238503181187, --, 0.002818482044070504, --,\n",
      "                   --, --, --, --],\n",
      "             mask=[ True,  True,  True,  True,  True,  True,  True,  True,\n",
      "                    True, False,  True, False,  True,  True,  True,  True,\n",
      "                    True],\n",
      "       fill_value=1e+20), 'param_classifier:qda:reg_param': masked_array(data=[--, 0.563056219822946, --, --, --, --, --, --, --, --,\n",
      "                   --, --, --, --, --, --, --],\n",
      "             mask=[ True, False,  True,  True,  True,  True,  True,  True,\n",
      "                    True,  True,  True,  True,  True,  True,  True,  True,\n",
      "                    True],\n",
      "       fill_value=1e+20), 'param_classifier:random_forest:bootstrap': masked_array(data=['True', --, --, --, --, --, 'False', 'False', 'False',\n",
      "                   --, --, --, --, --, --, --, --],\n",
      "             mask=[False,  True,  True,  True,  True,  True, False, False,\n",
      "                   False,  True,  True,  True,  True,  True,  True,  True,\n",
      "                    True],\n",
      "       fill_value='N/A',\n",
      "            dtype='<U5'), 'param_classifier:random_forest:criterion': masked_array(data=['gini', --, --, --, --, --, 'gini', 'gini', 'gini', --,\n",
      "                   --, --, --, --, --, --, --],\n",
      "             mask=[False,  True,  True,  True,  True,  True, False, False,\n",
      "                   False,  True,  True,  True,  True,  True,  True,  True,\n",
      "                    True],\n",
      "       fill_value='N/A',\n",
      "            dtype='<U4'), 'param_classifier:random_forest:max_depth': masked_array(data=['None', --, --, --, --, --, 'None', 'None', 'None', --,\n",
      "                   --, --, --, --, --, --, --],\n",
      "             mask=[False,  True,  True,  True,  True,  True, False, False,\n",
      "                   False,  True,  True,  True,  True,  True,  True,  True,\n",
      "                    True],\n",
      "       fill_value='N/A',\n",
      "            dtype='<U4'), 'param_classifier:random_forest:max_features': masked_array(data=[0.5, --, --, --, --, --, 0.6863684793773653,\n",
      "                   0.49962915089088544, 0.8922281110541623, --, --, --,\n",
      "                   --, --, --, --, --],\n",
      "             mask=[False,  True,  True,  True,  True,  True, False, False,\n",
      "                   False,  True,  True,  True,  True,  True,  True,  True,\n",
      "                    True],\n",
      "       fill_value=1e+20), 'param_classifier:random_forest:max_leaf_nodes': masked_array(data=['None', --, --, --, --, --, 'None', 'None', 'None', --,\n",
      "                   --, --, --, --, --, --, --],\n",
      "             mask=[False,  True,  True,  True,  True,  True, False, False,\n",
      "                   False,  True,  True,  True,  True,  True,  True,  True,\n",
      "                    True],\n",
      "       fill_value='N/A',\n",
      "            dtype='<U4'), 'param_classifier:random_forest:min_impurity_decrease': masked_array(data=[0.0, --, --, --, --, --, 0.0, 0.0, 0.0, --, --, --, --,\n",
      "                   --, --, --, --],\n",
      "             mask=[False,  True,  True,  True,  True,  True, False, False,\n",
      "                   False,  True,  True,  True,  True,  True,  True,  True,\n",
      "                    True],\n",
      "       fill_value=1e+20), 'param_classifier:random_forest:min_samples_leaf': masked_array(data=[1.0, --, --, --, --, --, 17.0, 13.0, 1.0, --, --, --,\n",
      "                   --, --, --, --, --],\n",
      "             mask=[False,  True,  True,  True,  True,  True, False, False,\n",
      "                   False,  True,  True,  True,  True,  True,  True,  True,\n",
      "                    True],\n",
      "       fill_value=1e+20), 'param_classifier:random_forest:min_samples_split': masked_array(data=[2.0, --, --, --, --, --, 9.0, 6.0, 2.0, --, --, --, --,\n",
      "                   --, --, --, --],\n",
      "             mask=[False,  True,  True,  True,  True,  True, False, False,\n",
      "                   False,  True,  True,  True,  True,  True,  True,  True,\n",
      "                    True],\n",
      "       fill_value=1e+20), 'param_classifier:random_forest:min_weight_fraction_leaf': masked_array(data=[0.0, --, --, --, --, --, 0.0, 0.0, 0.0, --, --, --, --,\n",
      "                   --, --, --, --],\n",
      "             mask=[False,  True,  True,  True,  True,  True, False, False,\n",
      "                   False,  True,  True,  True,  True,  True,  True,  True,\n",
      "                    True],\n",
      "       fill_value=1e+20), 'param_classifier:sgd:alpha': masked_array(data=[--, --, --, --, --, --, --, --, --, --, --, --, --, --,\n",
      "                   --, --, --],\n",
      "             mask=[ True,  True,  True,  True,  True,  True,  True,  True,\n",
      "                    True,  True,  True,  True,  True,  True,  True,  True,\n",
      "                    True],\n",
      "       fill_value=1e+20,\n",
      "            dtype=float64), 'param_classifier:sgd:average': masked_array(data=[--, --, --, --, --, --, --, --, --, --, --, --, --, --,\n",
      "                   --, --, --],\n",
      "             mask=[ True,  True,  True,  True,  True,  True,  True,  True,\n",
      "                    True,  True,  True,  True,  True,  True,  True,  True,\n",
      "                    True],\n",
      "       fill_value=1e+20,\n",
      "            dtype=float64), 'param_classifier:sgd:fit_intercept': masked_array(data=[--, --, --, --, --, --, --, --, --, --, --, --, --, --,\n",
      "                   --, --, --],\n",
      "             mask=[ True,  True,  True,  True,  True,  True,  True,  True,\n",
      "                    True,  True,  True,  True,  True,  True,  True,  True,\n",
      "                    True],\n",
      "       fill_value=1e+20,\n",
      "            dtype=float64), 'param_classifier:sgd:learning_rate': masked_array(data=[--, --, --, --, --, --, --, --, --, --, --, --, --, --,\n",
      "                   --, --, --],\n",
      "             mask=[ True,  True,  True,  True,  True,  True,  True,  True,\n",
      "                    True,  True,  True,  True,  True,  True,  True,  True,\n",
      "                    True],\n",
      "       fill_value=1e+20,\n",
      "            dtype=float64), 'param_classifier:sgd:loss': masked_array(data=[--, --, --, --, --, --, --, --, --, --, --, --, --, --,\n",
      "                   --, --, --],\n",
      "             mask=[ True,  True,  True,  True,  True,  True,  True,  True,\n",
      "                    True,  True,  True,  True,  True,  True,  True,  True,\n",
      "                    True],\n",
      "       fill_value=1e+20,\n",
      "            dtype=float64), 'param_classifier:sgd:penalty': masked_array(data=[--, --, --, --, --, --, --, --, --, --, --, --, --, --,\n",
      "                   --, --, --],\n",
      "             mask=[ True,  True,  True,  True,  True,  True,  True,  True,\n",
      "                    True,  True,  True,  True,  True,  True,  True,  True,\n",
      "                    True],\n",
      "       fill_value=1e+20,\n",
      "            dtype=float64), 'param_classifier:sgd:tol': masked_array(data=[--, --, --, --, --, --, --, --, --, --, --, --, --, --,\n",
      "                   --, --, --],\n",
      "             mask=[ True,  True,  True,  True,  True,  True,  True,  True,\n",
      "                    True,  True,  True,  True,  True,  True,  True,  True,\n",
      "                    True],\n",
      "       fill_value=1e+20,\n",
      "            dtype=float64), 'param_data_preprocessing:categorical_transformer:category_coalescence:minority_coalescer:minimum_fraction': masked_array(data=[0.01, 0.32793677336996485, 0.018370622484682127,\n",
      "                   0.0005369564422140658, 0.09714797870026229,\n",
      "                   0.049532726032678734, --, 0.07120745279358993,\n",
      "                   0.12041549352468073, --, --, 0.026160003338691788,\n",
      "                   0.0014822200123276448, --, --, --, --],\n",
      "             mask=[False, False, False, False, False, False,  True, False,\n",
      "                   False,  True,  True, False, False,  True,  True,  True,\n",
      "                    True],\n",
      "       fill_value=1e+20), 'param_data_preprocessing:numerical_transformer:rescaling:quantile_transformer:n_quantiles': masked_array(data=[--, --, --, --, 507.0, --, --, 873.0, --, 238.0, --,\n",
      "                   47.0, 248.0, --, --, 333.0, --],\n",
      "             mask=[ True,  True,  True,  True, False,  True,  True, False,\n",
      "                    True, False,  True, False, False,  True,  True, False,\n",
      "                    True],\n",
      "       fill_value=1e+20), 'param_data_preprocessing:numerical_transformer:rescaling:quantile_transformer:output_distribution': masked_array(data=[--, --, --, --, 'normal', --, --, 'normal', --,\n",
      "                   'normal', --, 'normal', 'normal', --, --, 'uniform',\n",
      "                   --],\n",
      "             mask=[ True,  True,  True,  True, False,  True,  True, False,\n",
      "                    True, False,  True, False, False,  True,  True, False,\n",
      "                    True],\n",
      "       fill_value='N/A',\n",
      "            dtype='<U32'), 'param_data_preprocessing:numerical_transformer:rescaling:robust_scaler:q_max': masked_array(data=[--, --, --, 0.7035080427408148, --, --, --, --, --, --,\n",
      "                   0.895766008886671, --, --, --, --, --, --],\n",
      "             mask=[ True,  True,  True, False,  True,  True,  True,  True,\n",
      "                    True,  True, False,  True,  True,  True,  True,  True,\n",
      "                    True],\n",
      "       fill_value=1e+20), 'param_data_preprocessing:numerical_transformer:rescaling:robust_scaler:q_min': masked_array(data=[--, --, --, 0.14004557827630734, --, --, --, --, --,\n",
      "                   --, 0.1846463255110784, --, --, --, --, --, --],\n",
      "             mask=[ True,  True,  True, False,  True,  True,  True,  True,\n",
      "                    True,  True, False,  True,  True,  True,  True,  True,\n",
      "                    True],\n",
      "       fill_value=1e+20), 'param_feature_preprocessor:extra_trees_preproc_for_classification:bootstrap': masked_array(data=[--, --, --, --, --, --, --, --, --, --, --, 'False',\n",
      "                   --, --, 'True', --, --],\n",
      "             mask=[ True,  True,  True,  True,  True,  True,  True,  True,\n",
      "                    True,  True,  True, False,  True,  True, False,  True,\n",
      "                    True],\n",
      "       fill_value='N/A',\n",
      "            dtype='<U32'), 'param_feature_preprocessor:extra_trees_preproc_for_classification:criterion': masked_array(data=[--, --, --, --, --, --, --, --, --, --, --, 'entropy',\n",
      "                   --, --, 'entropy', --, --],\n",
      "             mask=[ True,  True,  True,  True,  True,  True,  True,  True,\n",
      "                    True,  True,  True, False,  True,  True, False,  True,\n",
      "                    True],\n",
      "       fill_value='N/A',\n",
      "            dtype='<U32'), 'param_feature_preprocessor:extra_trees_preproc_for_classification:max_depth': masked_array(data=[--, --, --, --, --, --, --, --, --, --, --, 'None', --,\n",
      "                   --, 'None', --, --],\n",
      "             mask=[ True,  True,  True,  True,  True,  True,  True,  True,\n",
      "                    True,  True,  True, False,  True,  True, False,  True,\n",
      "                    True],\n",
      "       fill_value='N/A',\n",
      "            dtype='<U32'), 'param_feature_preprocessor:extra_trees_preproc_for_classification:max_features': masked_array(data=[--, --, --, --, --, --, --, --, --, --, --,\n",
      "                   0.6350244133152473, --, --, 0.33460702708301115, --,\n",
      "                   --],\n",
      "             mask=[ True,  True,  True,  True,  True,  True,  True,  True,\n",
      "                    True,  True,  True, False,  True,  True, False,  True,\n",
      "                    True],\n",
      "       fill_value=1e+20), 'param_feature_preprocessor:extra_trees_preproc_for_classification:max_leaf_nodes': masked_array(data=[--, --, --, --, --, --, --, --, --, --, --, 'None', --,\n",
      "                   --, 'None', --, --],\n",
      "             mask=[ True,  True,  True,  True,  True,  True,  True,  True,\n",
      "                    True,  True,  True, False,  True,  True, False,  True,\n",
      "                    True],\n",
      "       fill_value='N/A',\n",
      "            dtype='<U32'), 'param_feature_preprocessor:extra_trees_preproc_for_classification:min_impurity_decrease': masked_array(data=[--, --, --, --, --, --, --, --, --, --, --, 0.0, --,\n",
      "                   --, 0.0, --, --],\n",
      "             mask=[ True,  True,  True,  True,  True,  True,  True,  True,\n",
      "                    True,  True,  True, False,  True,  True, False,  True,\n",
      "                    True],\n",
      "       fill_value=1e+20), 'param_feature_preprocessor:extra_trees_preproc_for_classification:min_samples_leaf': masked_array(data=[--, --, --, --, --, --, --, --, --, --, --, 4.0, --,\n",
      "                   --, 9.0, --, --],\n",
      "             mask=[ True,  True,  True,  True,  True,  True,  True,  True,\n",
      "                    True,  True,  True, False,  True,  True, False,  True,\n",
      "                    True],\n",
      "       fill_value=1e+20), 'param_feature_preprocessor:extra_trees_preproc_for_classification:min_samples_split': masked_array(data=[--, --, --, --, --, --, --, --, --, --, --, 4.0, --,\n",
      "                   --, 20.0, --, --],\n",
      "             mask=[ True,  True,  True,  True,  True,  True,  True,  True,\n",
      "                    True,  True,  True, False,  True,  True, False,  True,\n",
      "                    True],\n",
      "       fill_value=1e+20), 'param_feature_preprocessor:extra_trees_preproc_for_classification:min_weight_fraction_leaf': masked_array(data=[--, --, --, --, --, --, --, --, --, --, --, 0.0, --,\n",
      "                   --, 0.0, --, --],\n",
      "             mask=[ True,  True,  True,  True,  True,  True,  True,  True,\n",
      "                    True,  True,  True, False,  True,  True, False,  True,\n",
      "                    True],\n",
      "       fill_value=1e+20), 'param_feature_preprocessor:extra_trees_preproc_for_classification:n_estimators': masked_array(data=[--, --, --, --, --, --, --, --, --, --, --, 100.0, --,\n",
      "                   --, 100.0, --, --],\n",
      "             mask=[ True,  True,  True,  True,  True,  True,  True,  True,\n",
      "                    True,  True,  True, False,  True,  True, False,  True,\n",
      "                    True],\n",
      "       fill_value=1e+20), 'param_feature_preprocessor:fast_ica:algorithm': masked_array(data=[--, --, --, --, --, --, --, --, --, --, --, --, --, --,\n",
      "                   --, --, --],\n",
      "             mask=[ True,  True,  True,  True,  True,  True,  True,  True,\n",
      "                    True,  True,  True,  True,  True,  True,  True,  True,\n",
      "                    True],\n",
      "       fill_value=1e+20,\n",
      "            dtype=float64), 'param_feature_preprocessor:fast_ica:fun': masked_array(data=[--, --, --, --, --, --, --, --, --, --, --, --, --, --,\n",
      "                   --, --, --],\n",
      "             mask=[ True,  True,  True,  True,  True,  True,  True,  True,\n",
      "                    True,  True,  True,  True,  True,  True,  True,  True,\n",
      "                    True],\n",
      "       fill_value=1e+20,\n",
      "            dtype=float64), 'param_feature_preprocessor:fast_ica:whiten': masked_array(data=[--, --, --, --, --, --, --, --, --, --, --, --, --, --,\n",
      "                   --, --, --],\n",
      "             mask=[ True,  True,  True,  True,  True,  True,  True,  True,\n",
      "                    True,  True,  True,  True,  True,  True,  True,  True,\n",
      "                    True],\n",
      "       fill_value=1e+20,\n",
      "            dtype=float64), 'param_feature_preprocessor:feature_agglomeration:affinity': masked_array(data=[--, --, --, --, --, --, --, --, --, --, --, --, --, --,\n",
      "                   --, 'euclidean', --],\n",
      "             mask=[ True,  True,  True,  True,  True,  True,  True,  True,\n",
      "                    True,  True,  True,  True,  True,  True,  True, False,\n",
      "                    True],\n",
      "       fill_value='N/A',\n",
      "            dtype='<U32'), 'param_feature_preprocessor:feature_agglomeration:linkage': masked_array(data=[--, --, --, --, --, --, --, --, --, --, --, --, --, --,\n",
      "                   --, 'average', --],\n",
      "             mask=[ True,  True,  True,  True,  True,  True,  True,  True,\n",
      "                    True,  True,  True,  True,  True,  True,  True, False,\n",
      "                    True],\n",
      "       fill_value='N/A',\n",
      "            dtype='<U32'), 'param_feature_preprocessor:feature_agglomeration:n_clusters': masked_array(data=[--, --, --, --, --, --, --, --, --, --, --, --, --, --,\n",
      "                   --, 311.0, --],\n",
      "             mask=[ True,  True,  True,  True,  True,  True,  True,  True,\n",
      "                    True,  True,  True,  True,  True,  True,  True, False,\n",
      "                    True],\n",
      "       fill_value=1e+20), 'param_feature_preprocessor:feature_agglomeration:pooling_func': masked_array(data=[--, --, --, --, --, --, --, --, --, --, --, --, --, --,\n",
      "                   --, 'max', --],\n",
      "             mask=[ True,  True,  True,  True,  True,  True,  True,  True,\n",
      "                    True,  True,  True,  True,  True,  True,  True, False,\n",
      "                    True],\n",
      "       fill_value='N/A',\n",
      "            dtype='<U32'), 'param_feature_preprocessor:kernel_pca:kernel': masked_array(data=[--, --, --, --, --, --, --, --, --, 'sigmoid', --, --,\n",
      "                   --, --, --, --, --],\n",
      "             mask=[ True,  True,  True,  True,  True,  True,  True,  True,\n",
      "                    True, False,  True,  True,  True,  True,  True,  True,\n",
      "                    True],\n",
      "       fill_value='N/A',\n",
      "            dtype='<U32'), 'param_feature_preprocessor:kernel_pca:n_components': masked_array(data=[--, --, --, --, --, --, --, --, --, 319.0, --, --, --,\n",
      "                   --, --, --, --],\n",
      "             mask=[ True,  True,  True,  True,  True,  True,  True,  True,\n",
      "                    True, False,  True,  True,  True,  True,  True,  True,\n",
      "                    True],\n",
      "       fill_value=1e+20), 'param_feature_preprocessor:kitchen_sinks:gamma': masked_array(data=[--, --, --, --, --, --, --, --, --, --, --, --, --, --,\n",
      "                   --, --, --],\n",
      "             mask=[ True,  True,  True,  True,  True,  True,  True,  True,\n",
      "                    True,  True,  True,  True,  True,  True,  True,  True,\n",
      "                    True],\n",
      "       fill_value=1e+20,\n",
      "            dtype=float64), 'param_feature_preprocessor:kitchen_sinks:n_components': masked_array(data=[--, --, --, --, --, --, --, --, --, --, --, --, --, --,\n",
      "                   --, --, --],\n",
      "             mask=[ True,  True,  True,  True,  True,  True,  True,  True,\n",
      "                    True,  True,  True,  True,  True,  True,  True,  True,\n",
      "                    True],\n",
      "       fill_value=1e+20,\n",
      "            dtype=float64), 'param_feature_preprocessor:liblinear_svc_preprocessor:C': masked_array(data=[--, --, --, --, --, --, --, --, 54.18874690759593, --,\n",
      "                   --, --, 0.6470347493323446, --, --, --, --],\n",
      "             mask=[ True,  True,  True,  True,  True,  True,  True,  True,\n",
      "                   False,  True,  True,  True, False,  True,  True,  True,\n",
      "                    True],\n",
      "       fill_value=1e+20), 'param_feature_preprocessor:liblinear_svc_preprocessor:dual': masked_array(data=[--, --, --, --, --, --, --, --, 'False', --, --, --,\n",
      "                   'False', --, --, --, --],\n",
      "             mask=[ True,  True,  True,  True,  True,  True,  True,  True,\n",
      "                   False,  True,  True,  True, False,  True,  True,  True,\n",
      "                    True],\n",
      "       fill_value='N/A',\n",
      "            dtype='<U32'), 'param_feature_preprocessor:liblinear_svc_preprocessor:fit_intercept': masked_array(data=[--, --, --, --, --, --, --, --, 'True', --, --, --,\n",
      "                   'True', --, --, --, --],\n",
      "             mask=[ True,  True,  True,  True,  True,  True,  True,  True,\n",
      "                   False,  True,  True,  True, False,  True,  True,  True,\n",
      "                    True],\n",
      "       fill_value='N/A',\n",
      "            dtype='<U32'), 'param_feature_preprocessor:liblinear_svc_preprocessor:intercept_scaling': masked_array(data=[--, --, --, --, --, --, --, --, 1.0, --, --, --, 1.0,\n",
      "                   --, --, --, --],\n",
      "             mask=[ True,  True,  True,  True,  True,  True,  True,  True,\n",
      "                   False,  True,  True,  True, False,  True,  True,  True,\n",
      "                    True],\n",
      "       fill_value=1e+20), 'param_feature_preprocessor:liblinear_svc_preprocessor:loss': masked_array(data=[--, --, --, --, --, --, --, --, 'squared_hinge', --,\n",
      "                   --, --, 'squared_hinge', --, --, --, --],\n",
      "             mask=[ True,  True,  True,  True,  True,  True,  True,  True,\n",
      "                   False,  True,  True,  True, False,  True,  True,  True,\n",
      "                    True],\n",
      "       fill_value='N/A',\n",
      "            dtype='<U32'), 'param_feature_preprocessor:liblinear_svc_preprocessor:multi_class': masked_array(data=[--, --, --, --, --, --, --, --, 'ovr', --, --, --,\n",
      "                   'ovr', --, --, --, --],\n",
      "             mask=[ True,  True,  True,  True,  True,  True,  True,  True,\n",
      "                   False,  True,  True,  True, False,  True,  True,  True,\n",
      "                    True],\n",
      "       fill_value='N/A',\n",
      "            dtype='<U32'), 'param_feature_preprocessor:liblinear_svc_preprocessor:penalty': masked_array(data=[--, --, --, --, --, --, --, --, 'l1', --, --, --, 'l1',\n",
      "                   --, --, --, --],\n",
      "             mask=[ True,  True,  True,  True,  True,  True,  True,  True,\n",
      "                   False,  True,  True,  True, False,  True,  True,  True,\n",
      "                    True],\n",
      "       fill_value='N/A',\n",
      "            dtype='<U32'), 'param_feature_preprocessor:liblinear_svc_preprocessor:tol': masked_array(data=[--, --, --, --, --, --, --, --, 2.4751957388330944e-05,\n",
      "                   --, --, --, 0.09481510408825908, --, --, --, --],\n",
      "             mask=[ True,  True,  True,  True,  True,  True,  True,  True,\n",
      "                   False,  True,  True,  True, False,  True,  True,  True,\n",
      "                    True],\n",
      "       fill_value=1e+20), 'param_feature_preprocessor:nystroem_sampler:kernel': masked_array(data=[--, --, --, --, --, --, --, --, --, --, --, --, --, --,\n",
      "                   --, --, --],\n",
      "             mask=[ True,  True,  True,  True,  True,  True,  True,  True,\n",
      "                    True,  True,  True,  True,  True,  True,  True,  True,\n",
      "                    True],\n",
      "       fill_value=1e+20,\n",
      "            dtype=float64), 'param_feature_preprocessor:nystroem_sampler:n_components': masked_array(data=[--, --, --, --, --, --, --, --, --, --, --, --, --, --,\n",
      "                   --, --, --],\n",
      "             mask=[ True,  True,  True,  True,  True,  True,  True,  True,\n",
      "                    True,  True,  True,  True,  True,  True,  True,  True,\n",
      "                    True],\n",
      "       fill_value=1e+20,\n",
      "            dtype=float64), 'param_feature_preprocessor:pca:keep_variance': masked_array(data=[--, --, 0.6039710338898471, --, --, --, --, --, --, --,\n",
      "                   --, --, --, --, --, --, --],\n",
      "             mask=[ True,  True, False,  True,  True,  True,  True,  True,\n",
      "                    True,  True,  True,  True,  True,  True,  True,  True,\n",
      "                    True],\n",
      "       fill_value=1e+20), 'param_feature_preprocessor:pca:whiten': masked_array(data=[--, --, 'False', --, --, --, --, --, --, --, --, --,\n",
      "                   --, --, --, --, --],\n",
      "             mask=[ True,  True, False,  True,  True,  True,  True,  True,\n",
      "                    True,  True,  True,  True,  True,  True,  True,  True,\n",
      "                    True],\n",
      "       fill_value='N/A',\n",
      "            dtype='<U32'), 'param_feature_preprocessor:polynomial:degree': masked_array(data=[--, --, --, --, --, --, --, --, --, --, --, --, --,\n",
      "                   2.0, --, --, --],\n",
      "             mask=[ True,  True,  True,  True,  True,  True,  True,  True,\n",
      "                    True,  True,  True,  True,  True, False,  True,  True,\n",
      "                    True],\n",
      "       fill_value=1e+20), 'param_feature_preprocessor:polynomial:include_bias': masked_array(data=[--, --, --, --, --, --, --, --, --, --, --, --, --,\n",
      "                   'False', --, --, --],\n",
      "             mask=[ True,  True,  True,  True,  True,  True,  True,  True,\n",
      "                    True,  True,  True,  True,  True, False,  True,  True,\n",
      "                    True],\n",
      "       fill_value='N/A',\n",
      "            dtype='<U32'), 'param_feature_preprocessor:polynomial:interaction_only': masked_array(data=[--, --, --, --, --, --, --, --, --, --, --, --, --,\n",
      "                   'True', --, --, --],\n",
      "             mask=[ True,  True,  True,  True,  True,  True,  True,  True,\n",
      "                    True,  True,  True,  True,  True, False,  True,  True,\n",
      "                    True],\n",
      "       fill_value='N/A',\n",
      "            dtype='<U32'), 'param_feature_preprocessor:random_trees_embedding:bootstrap': masked_array(data=[--, --, --, --, --, --, --, --, --, --, --, --, --, --,\n",
      "                   --, --, --],\n",
      "             mask=[ True,  True,  True,  True,  True,  True,  True,  True,\n",
      "                    True,  True,  True,  True,  True,  True,  True,  True,\n",
      "                    True],\n",
      "       fill_value=1e+20,\n",
      "            dtype=float64), 'param_feature_preprocessor:random_trees_embedding:max_depth': masked_array(data=[--, --, --, --, --, --, --, --, --, --, --, --, --, --,\n",
      "                   --, --, --],\n",
      "             mask=[ True,  True,  True,  True,  True,  True,  True,  True,\n",
      "                    True,  True,  True,  True,  True,  True,  True,  True,\n",
      "                    True],\n",
      "       fill_value=1e+20,\n",
      "            dtype=float64), 'param_feature_preprocessor:random_trees_embedding:max_leaf_nodes': masked_array(data=[--, --, --, --, --, --, --, --, --, --, --, --, --, --,\n",
      "                   --, --, --],\n",
      "             mask=[ True,  True,  True,  True,  True,  True,  True,  True,\n",
      "                    True,  True,  True,  True,  True,  True,  True,  True,\n",
      "                    True],\n",
      "       fill_value=1e+20,\n",
      "            dtype=float64), 'param_feature_preprocessor:random_trees_embedding:min_samples_leaf': masked_array(data=[--, --, --, --, --, --, --, --, --, --, --, --, --, --,\n",
      "                   --, --, --],\n",
      "             mask=[ True,  True,  True,  True,  True,  True,  True,  True,\n",
      "                    True,  True,  True,  True,  True,  True,  True,  True,\n",
      "                    True],\n",
      "       fill_value=1e+20,\n",
      "            dtype=float64), 'param_feature_preprocessor:random_trees_embedding:min_samples_split': masked_array(data=[--, --, --, --, --, --, --, --, --, --, --, --, --, --,\n",
      "                   --, --, --],\n",
      "             mask=[ True,  True,  True,  True,  True,  True,  True,  True,\n",
      "                    True,  True,  True,  True,  True,  True,  True,  True,\n",
      "                    True],\n",
      "       fill_value=1e+20,\n",
      "            dtype=float64), 'param_feature_preprocessor:random_trees_embedding:min_weight_fraction_leaf': masked_array(data=[--, --, --, --, --, --, --, --, --, --, --, --, --, --,\n",
      "                   --, --, --],\n",
      "             mask=[ True,  True,  True,  True,  True,  True,  True,  True,\n",
      "                    True,  True,  True,  True,  True,  True,  True,  True,\n",
      "                    True],\n",
      "       fill_value=1e+20,\n",
      "            dtype=float64), 'param_feature_preprocessor:random_trees_embedding:n_estimators': masked_array(data=[--, --, --, --, --, --, --, --, --, --, --, --, --, --,\n",
      "                   --, --, --],\n",
      "             mask=[ True,  True,  True,  True,  True,  True,  True,  True,\n",
      "                    True,  True,  True,  True,  True,  True,  True,  True,\n",
      "                    True],\n",
      "       fill_value=1e+20,\n",
      "            dtype=float64), 'param_feature_preprocessor:select_percentile_classification:percentile': masked_array(data=[--, --, --, 46.88926055749217, --, --, --, --, --, --,\n",
      "                   --, --, --, --, --, --, --],\n",
      "             mask=[ True,  True,  True, False,  True,  True,  True,  True,\n",
      "                    True,  True,  True,  True,  True,  True,  True,  True,\n",
      "                    True],\n",
      "       fill_value=1e+20), 'param_feature_preprocessor:select_percentile_classification:score_func': masked_array(data=[--, --, --, 'f_classif', --, --, --, --, --, --, --,\n",
      "                   --, --, --, --, --, --],\n",
      "             mask=[ True,  True,  True, False,  True,  True,  True,  True,\n",
      "                    True,  True,  True,  True,  True,  True,  True,  True,\n",
      "                    True],\n",
      "       fill_value='N/A',\n",
      "            dtype='<U32'), 'param_feature_preprocessor:select_rates_classification:alpha': masked_array(data=[--, --, --, --, 0.05939339489050012,\n",
      "                   0.24931757724702427, 0.33248403770519114,\n",
      "                   0.46152960880442023, --, --, --, --, --, --, --, --,\n",
      "                   --],\n",
      "             mask=[ True,  True,  True,  True, False, False, False, False,\n",
      "                    True,  True,  True,  True,  True,  True,  True,  True,\n",
      "                    True],\n",
      "       fill_value=1e+20), 'param_feature_preprocessor:select_rates_classification:score_func': masked_array(data=[--, --, --, --, 'chi2', 'chi2', 'mutual_info_classif',\n",
      "                   'f_classif', --, --, --, --, --, --, --, --, --],\n",
      "             mask=[ True,  True,  True,  True, False, False, False, False,\n",
      "                    True,  True,  True,  True,  True,  True,  True,  True,\n",
      "                    True],\n",
      "       fill_value='N/A',\n",
      "            dtype='<U32'), 'param_classifier:gradient_boosting:n_iter_no_change': masked_array(data=[--, --, --, --, --, --, --, --, --, --, --, --, --, --,\n",
      "                   --, --, --],\n",
      "             mask=[ True,  True,  True,  True,  True,  True,  True,  True,\n",
      "                    True,  True,  True,  True,  True,  True,  True,  True,\n",
      "                    True],\n",
      "       fill_value=1e+20,\n",
      "            dtype=float64), 'param_classifier:gradient_boosting:validation_fraction': masked_array(data=[--, --, --, --, --, --, --, --, --, --, --, --, --, --,\n",
      "                   --, --, --],\n",
      "             mask=[ True,  True,  True,  True,  True,  True,  True,  True,\n",
      "                    True,  True,  True,  True,  True,  True,  True,  True,\n",
      "                    True],\n",
      "       fill_value=1e+20,\n",
      "            dtype=float64), 'param_classifier:lda:shrinkage_factor': masked_array(data=[--, --, --, --, --, --, --, --, --, --, --, --, --, --,\n",
      "                   --, --, --],\n",
      "             mask=[ True,  True,  True,  True,  True,  True,  True,  True,\n",
      "                    True,  True,  True,  True,  True,  True,  True,  True,\n",
      "                    True],\n",
      "       fill_value=1e+20,\n",
      "            dtype=float64), 'param_classifier:libsvm_svc:coef0': masked_array(data=[--, --, --, --, --, --, --, --, --, --, --, --,\n",
      "                   -0.8030586466182505, --, --, --, --],\n",
      "             mask=[ True,  True,  True,  True,  True,  True,  True,  True,\n",
      "                    True,  True,  True,  True, False,  True,  True,  True,\n",
      "                    True],\n",
      "       fill_value=1e+20), 'param_classifier:libsvm_svc:degree': masked_array(data=[--, --, --, --, --, --, --, --, --, --, --, --, --, --,\n",
      "                   --, --, --],\n",
      "             mask=[ True,  True,  True,  True,  True,  True,  True,  True,\n",
      "                    True,  True,  True,  True,  True,  True,  True,  True,\n",
      "                    True],\n",
      "       fill_value=1e+20,\n",
      "            dtype=float64), 'param_classifier:sgd:epsilon': masked_array(data=[--, --, --, --, --, --, --, --, --, --, --, --, --, --,\n",
      "                   --, --, --],\n",
      "             mask=[ True,  True,  True,  True,  True,  True,  True,  True,\n",
      "                    True,  True,  True,  True,  True,  True,  True,  True,\n",
      "                    True],\n",
      "       fill_value=1e+20,\n",
      "            dtype=float64), 'param_classifier:sgd:eta0': masked_array(data=[--, --, --, --, --, --, --, --, --, --, --, --, --, --,\n",
      "                   --, --, --],\n",
      "             mask=[ True,  True,  True,  True,  True,  True,  True,  True,\n",
      "                    True,  True,  True,  True,  True,  True,  True,  True,\n",
      "                    True],\n",
      "       fill_value=1e+20,\n",
      "            dtype=float64), 'param_classifier:sgd:l1_ratio': masked_array(data=[--, --, --, --, --, --, --, --, --, --, --, --, --, --,\n",
      "                   --, --, --],\n",
      "             mask=[ True,  True,  True,  True,  True,  True,  True,  True,\n",
      "                    True,  True,  True,  True,  True,  True,  True,  True,\n",
      "                    True],\n",
      "       fill_value=1e+20,\n",
      "            dtype=float64), 'param_classifier:sgd:power_t': masked_array(data=[--, --, --, --, --, --, --, --, --, --, --, --, --, --,\n",
      "                   --, --, --],\n",
      "             mask=[ True,  True,  True,  True,  True,  True,  True,  True,\n",
      "                    True,  True,  True,  True,  True,  True,  True,  True,\n",
      "                    True],\n",
      "       fill_value=1e+20,\n",
      "            dtype=float64), 'param_feature_preprocessor:fast_ica:n_components': masked_array(data=[--, --, --, --, --, --, --, --, --, --, --, --, --, --,\n",
      "                   --, --, --],\n",
      "             mask=[ True,  True,  True,  True,  True,  True,  True,  True,\n",
      "                    True,  True,  True,  True,  True,  True,  True,  True,\n",
      "                    True],\n",
      "       fill_value=1e+20,\n",
      "            dtype=float64), 'param_feature_preprocessor:kernel_pca:coef0': masked_array(data=[--, --, --, --, --, --, --, --, --,\n",
      "                   0.11069328023465297, --, --, --, --, --, --, --],\n",
      "             mask=[ True,  True,  True,  True,  True,  True,  True,  True,\n",
      "                    True, False,  True,  True,  True,  True,  True,  True,\n",
      "                    True],\n",
      "       fill_value=1e+20), 'param_feature_preprocessor:kernel_pca:degree': masked_array(data=[--, --, --, --, --, --, --, --, --, --, --, --, --, --,\n",
      "                   --, --, --],\n",
      "             mask=[ True,  True,  True,  True,  True,  True,  True,  True,\n",
      "                    True,  True,  True,  True,  True,  True,  True,  True,\n",
      "                    True],\n",
      "       fill_value=1e+20,\n",
      "            dtype=float64), 'param_feature_preprocessor:kernel_pca:gamma': masked_array(data=[--, --, --, --, --, --, --, --, --, --, --, --, --, --,\n",
      "                   --, --, --],\n",
      "             mask=[ True,  True,  True,  True,  True,  True,  True,  True,\n",
      "                    True,  True,  True,  True,  True,  True,  True,  True,\n",
      "                    True],\n",
      "       fill_value=1e+20,\n",
      "            dtype=float64), 'param_feature_preprocessor:nystroem_sampler:coef0': masked_array(data=[--, --, --, --, --, --, --, --, --, --, --, --, --, --,\n",
      "                   --, --, --],\n",
      "             mask=[ True,  True,  True,  True,  True,  True,  True,  True,\n",
      "                    True,  True,  True,  True,  True,  True,  True,  True,\n",
      "                    True],\n",
      "       fill_value=1e+20,\n",
      "            dtype=float64), 'param_feature_preprocessor:nystroem_sampler:degree': masked_array(data=[--, --, --, --, --, --, --, --, --, --, --, --, --, --,\n",
      "                   --, --, --],\n",
      "             mask=[ True,  True,  True,  True,  True,  True,  True,  True,\n",
      "                    True,  True,  True,  True,  True,  True,  True,  True,\n",
      "                    True],\n",
      "       fill_value=1e+20,\n",
      "            dtype=float64), 'param_feature_preprocessor:nystroem_sampler:gamma': masked_array(data=[--, --, --, --, --, --, --, --, --, --, --, --, --, --,\n",
      "                   --, --, --],\n",
      "             mask=[ True,  True,  True,  True,  True,  True,  True,  True,\n",
      "                    True,  True,  True,  True,  True,  True,  True,  True,\n",
      "                    True],\n",
      "       fill_value=1e+20,\n",
      "            dtype=float64), 'param_feature_preprocessor:select_rates_classification:mode': masked_array(data=[--, --, --, --, 'fwe', 'fpr', --, 'fdr', --, --, --,\n",
      "                   --, --, --, --, --, --],\n",
      "             mask=[ True,  True,  True,  True, False, False,  True, False,\n",
      "                    True,  True,  True,  True,  True,  True,  True,  True,\n",
      "                    True],\n",
      "       fill_value='N/A',\n",
      "            dtype='<U32')}\n"
     ]
    }
   ],
   "source": [
    "print(len(automl.cv_results_['mean_test_score']))\n",
    "\n",
    "print(automl.cv_results_)"
   ]
  }
 ],
 "metadata": {
  "colab": {
   "name": "MD - FAPESP COVID-19.ipynb",
   "provenance": [
    {
     "file_id": "1KWGWN4szYXC8lOmb2bWNIgR_L-2Drf0f",
     "timestamp": 1604484284479
    }
   ]
  },
  "kernelspec": {
   "display_name": "Python 3",
   "language": "python",
   "name": "python3"
  },
  "language_info": {
   "codemirror_mode": {
    "name": "ipython",
    "version": 3
   },
   "file_extension": ".py",
   "mimetype": "text/x-python",
   "name": "python",
   "nbconvert_exporter": "python",
   "pygments_lexer": "ipython3",
   "version": "3.8.5"
  }
 },
 "nbformat": 4,
 "nbformat_minor": 1
}
